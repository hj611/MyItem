{
 "cells": [
  {
   "cell_type": "code",
   "execution_count": null,
   "metadata": {},
   "outputs": [],
   "source": [
    "import pandas as pd \n",
    "import numpy as np \n",
    "import torch\n",
    "import random\n",
    "\n",
    "def data_iter_random(corpus_indices, batch_size, num_steps, device=None):\n",
    "    pos = 0\n",
    "    indexofserial_number = 0\n",
    "    def _dataX(pos):\n",
    "        return corpus_indices.iloc[pos: pos + num_steps, 5: -1] \n",
    "    def _dataY(pos):\n",
    "        return corpus_indices['label'][pos: pos + num_steps]\n",
    "\n",
    "    if device is None:\n",
    "        device = torch.device('cuda' if torch.cuda.is_available() else 'cpu')\n",
    "\n",
    "    serial_number = corpus_indices['serial_number'].value_counts() \n",
    "    for numberOfSerial_number in serial_number:\n",
    "        print('numberOfSerial_number', numberOfSerial_number)\n",
    "        corpus_indices = corpus_indices[corpus_indices.serial_number == serial_number.index[indexofserial_number]]\n",
    "        print('len', len(corpus_indices))\n",
    "        indexofserial_number = indexofserial_number + 1\n",
    "        num_examples = numberOfSerial_number // num_steps\n",
    "        epoch_size = num_examples // batch_size\n",
    "        example_indices = list(range(epoch_size))\n",
    "        random.shuffle(example_indices)\n",
    "        for i in range(epoch_size):\n",
    "            i = i * batch_size\n",
    "            batch_indices = example_indices[i: i + batch_size]\n",
    "            X = []\n",
    "            Y = []\n",
    "            for j in batch_indices:\n",
    "                pos = pos + j * num_steps\n",
    "                X.append(_dataX(pos))\n",
    "                Y.append(_dataY(pos))\n",
    "            pos = pos + serial_number\n",
    "            yield X, Y\n",
    "\n",
    "train_2018_2_model_2 = pd.read_csv('train_2018_2_model_2.csv')\n",
    "\n",
    "for X, Y in data_iter_random(train_2018_2_model_2, 2, 7):\n",
    "    print(X)\n",
    "    print(Y)"
   ]
  },
  {
   "cell_type": "code",
   "execution_count": null,
   "metadata": {},
   "outputs": [],
   "source": []
  }
 ],
 "metadata": {
  "language_info": {
   "codemirror_mode": {
    "name": "ipython",
    "version": 3
   },
   "file_extension": ".py",
   "mimetype": "text/x-python",
   "name": "python",
   "nbconvert_exporter": "python",
   "pygments_lexer": "ipython3",
   "version": 3
  },
  "orig_nbformat": 2
 },
 "nbformat": 4,
 "nbformat_minor": 2
}