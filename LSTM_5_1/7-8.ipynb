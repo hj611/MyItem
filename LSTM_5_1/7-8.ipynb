{
 "cells": [
  {
   "cell_type": "code",
   "execution_count": 1,
   "metadata": {},
   "outputs": [],
   "source": [
    "import collections\n",
    "import math\n",
    "import os\n",
    "import random\n",
    "import sys\n",
    "import tarfile\n",
    "import time\n",
    "import json\n",
    "from collections import namedtuple\n",
    "import torch\n",
    "from torch import nn\n",
    "import torch.nn.functional as F\n",
    "import torchvision\n",
    "import torchvision.transforms as transforms\n",
    "import torchtext\n",
    "import torchtext.vocab as Vocab\n",
    "import numpy as np\n",
    "import pandas as pd\n",
    "from torch.utils.data import DataLoader, Dataset, WeightedRandomSampler\n",
    "device = torch.device('cuda' if torch.cuda.is_available() else 'cpu')\n",
    "train = pd.read_csv('E:/LSTM_5_1/train_2018_1_model_2.csv')\n",
    "\n",
    "dt = train['dt'].values\n",
    "\n",
    "class MyData(Dataset):\n",
    "    def __init__(self, traindata, numstep, length):\n",
    "        self.serial_number = traindata['serial_number'].value_counts()\n",
    "        self.value = traindata.iloc[:, length:-1].values\n",
    "        max = np.max(self.value)\n",
    "        min = np.min(self.value)\n",
    "        scalar = max - min \n",
    "        self.datas = list(map(lambda x: x / scalar, self.value))\n",
    "        self.input = []\n",
    "        self.label = []\n",
    "        for diskname in self.serial_number.index.sort_values():\n",
    "            traindata_name = traindata[traindata.serial_number == diskname]\n",
    "            self.datalabel = traindata_name.loc[:, 'label'].values.tolist()\n",
    "            j = 0\n",
    "            while(j + numstep <= len(traindata_name)):\n",
    "                self.input.append(torch.Tensor(self.datas[j:j + numstep]))\n",
    "                if(torch.Tensor(self.datalabel[j:j + numstep]).sum() != 0):\n",
    "                    self.label.append(torch.ones(1))\n",
    "                else:\n",
    "                    self.label.append(torch.zeros(1))\n",
    "                j = j + 7  \n",
    "    def __len__(self):\n",
    "        return len(self.input)\n",
    "    def __getitem__(self, idx):\n",
    "        #data = self.datas[idx].reshape(1, -1)\n",
    "        return self.input[idx], self.label[idx]\n",
    "train_data = pd.read_csv('E:/LSTM_5_1/train_2018_1_model_2.csv')\n",
    "train_set = MyData(train_data, 7, 6)\n",
    "train_iter = DataLoader(MyData(train_data, 7, 6), batch_size = 10)\n"
   ]
  },
  {
   "cell_type": "code",
   "execution_count": 34,
   "metadata": {},
   "outputs": [],
   "source": [
    "num = 0\n",
    "for X, y in train_set:\n",
    "    num = num + y\n",
    "total = len(train_set)"
   ]
  },
  {
   "cell_type": "code",
   "execution_count": 35,
   "metadata": {},
   "outputs": [
    {
     "output_type": "execute_result",
     "data": {
      "text/plain": "1243"
     },
     "metadata": {},
     "execution_count": 35
    }
   ],
   "source": [
    "total"
   ]
  },
  {
   "cell_type": "code",
   "execution_count": 9,
   "metadata": {},
   "outputs": [
    {
     "output_type": "execute_result",
     "data": {
      "text/plain": "array([974., 269.], dtype=float32)"
     },
     "metadata": {},
     "execution_count": 9
    }
   ],
   "source": [
    "class_sample_count = np.array([total - num, num])\n",
    "class_sample_count"
   ]
  },
  {
   "cell_type": "code",
   "execution_count": 11,
   "metadata": {},
   "outputs": [
    {
     "output_type": "execute_result",
     "data": {
      "text/plain": "array([0.00102669, 0.00371747], dtype=float32)"
     },
     "metadata": {},
     "execution_count": 11
    }
   ],
   "source": [
    "weight = 1. / class_sample_count\n",
    "weight"
   ]
  },
  {
   "cell_type": "code",
   "execution_count": 29,
   "metadata": {
    "tags": []
   },
   "outputs": [],
   "source": [
    "sample_list = []\n",
    "for x, y in train_set:\n",
    "    sample_list.append(weight[int(y)])\n"
   ]
  },
  {
   "cell_type": "code",
   "execution_count": 33,
   "metadata": {},
   "outputs": [
    {
     "output_type": "execute_result",
     "data": {
      "text/plain": "torch.Size([1243])"
     },
     "metadata": {},
     "execution_count": 33
    }
   ],
   "source": [
    "sample_weight = torch.FloatTensor(sample_list)\n",
    "sample_weight.shape"
   ]
  },
  {
   "cell_type": "code",
   "execution_count": 37,
   "metadata": {},
   "outputs": [
    {
     "output_type": "execute_result",
     "data": {
      "text/plain": "<torch.utils.data.sampler.WeightedRandomSampler at 0x1b28d144e50>"
     },
     "metadata": {},
     "execution_count": 37
    }
   ],
   "source": [
    "sampler = WeightedRandomSampler(sample_weight, total)\n",
    "sampler"
   ]
  },
  {
   "cell_type": "code",
   "execution_count": 38,
   "metadata": {},
   "outputs": [],
   "source": [
    "train_iter = DataLoader(train_set, batch_size=10)  "
   ]
  },
  {
   "cell_type": "code",
   "execution_count": null,
   "metadata": {},
   "outputs": [],
   "source": []
  }
 ],
 "metadata": {
  "language_info": {
   "codemirror_mode": {
    "name": "ipython",
    "version": 3
   },
   "file_extension": ".py",
   "mimetype": "text/x-python",
   "name": "python",
   "nbconvert_exporter": "python",
   "pygments_lexer": "ipython3",
   "version": "3.8.3-final"
  },
  "orig_nbformat": 2,
  "kernelspec": {
   "name": "python38364bitpytorchconda2fbdfbc796624a3f9e5f3a1ef21132b8",
   "display_name": "Python 3.8.3 64-bit ('pytorch': conda)"
  }
 },
 "nbformat": 4,
 "nbformat_minor": 2
}