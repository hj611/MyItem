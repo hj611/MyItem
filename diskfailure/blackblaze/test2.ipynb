{
 "metadata": {
  "language_info": {
   "codemirror_mode": {
    "name": "ipython",
    "version": 3
   },
   "file_extension": ".py",
   "mimetype": "text/x-python",
   "name": "python",
   "nbconvert_exporter": "python",
   "pygments_lexer": "ipython3",
   "version": "3.7.9-final"
  },
  "orig_nbformat": 2,
  "kernelspec": {
   "name": "Python 3.7.9 64-bit ('pytorch': conda)",
   "display_name": "Python 3.7.9 64-bit ('pytorch': conda)",
   "metadata": {
    "interpreter": {
     "hash": "be203ce0b3afc4f5c37fbac412025d7ed1d67cabe9dd00b1fc8774c6d6d19d70"
    }
   }
  }
 },
 "nbformat": 4,
 "nbformat_minor": 2,
 "cells": [
  {
   "cell_type": "code",
   "execution_count": 1,
   "metadata": {},
   "outputs": [],
   "source": [
    "import os\n",
    "import pandas as pd \n",
    "import numpy as np \n",
    "\n",
    "dataOfBlack_2020_Q1 = []\n",
    "data = []\n",
    "dirs = os.listdir('E:/data/data_Q1_2018')\n",
    "for i in dirs:\n",
    "    data.append(pd.read_csv('E:/data/data_Q1_2018/' + i))"
   ]
  },
  {
   "cell_type": "code",
   "execution_count": 2,
   "metadata": {},
   "outputs": [],
   "source": [
    "listOfnegativeSample = []"
   ]
  },
  {
   "cell_type": "code",
   "execution_count": 3,
   "metadata": {},
   "outputs": [],
   "source": [
    "for i in range(5, len(dataOfBlack_2020_Q1)):\n",
    "    dataOferrordisk = dataOfBlack_2020_Q1[i][dataOfBlack_2020_Q1[i].failure == 1]\n",
    "    k = 5\n",
    "    while(k >= 0):\n",
    "        serial_number = list(dataOfBlack_2020_Q1[i - k].serial_number)\n",
    "        serial_number = list(set(serial_number))\n",
    "        for j in dataOferrordisk.serial_number.values:\n",
    "            serial_number.remove(j)\n",
    "        listOfnegativeSample.append(dataOfBlack_2020_Q1[i - k][dataOfBlack_2020_Q1[i - k].serial_number.isin(serial_number)])\n",
    "        k = k - 1"
   ]
  },
  {
   "cell_type": "code",
   "execution_count": 12,
   "metadata": {},
   "outputs": [],
   "source": [
    "data = []\n",
    "data.append(pd.read_csv('E:/data/data_Q1_2018/2018-01-01.csv'))\n",
    "data.append(pd.read_csv('E:/data/data_Q1_2018/2018-01-02.csv'))\n",
    "data.append(pd.read_csv('E:/data/data_Q1_2018/2018-01-03.csv'))\n",
    "data.append(pd.read_csv('E:/data/data_Q1_2018/2018-01-04.csv'))\n",
    "data.append(pd.read_csv('E:/data/data_Q1_2018/2018-01-05.csv'))\n",
    "data.append(pd.read_csv('E:/data/data_Q1_2018/2018-01-06.csv'))"
   ]
  },
  {
   "cell_type": "code",
   "execution_count": 15,
   "metadata": {},
   "outputs": [],
   "source": [
    "error = data[5][data[5].failure == 1]"
   ]
  },
  {
   "cell_type": "code",
   "execution_count": 18,
   "metadata": {},
   "outputs": [
    {
     "output_type": "execute_result",
     "data": {
      "text/plain": "             date serial_number        model  capacity_bytes  failure  \\\n7532   2018-01-06      W3004X68  ST4000DM000   4000787030016        1   \n10206  2018-01-06      ZA11X9N2  ST8000DM002   8001563222016        1   \n10357  2018-01-06      Z300ZV9B  ST4000DM000   4000787030016        1   \n78363  2018-01-06      Z3025WBW  ST4000DM000   4000787030016        1   \n\n       smart_1_normalized  smart_1_raw  smart_2_normalized  smart_2_raw  \\\n7532                  109     23657640                 NaN          NaN   \n10206                  53     20740760                 NaN          NaN   \n10357                 118    201270208                 NaN          NaN   \n78363                 108    165729075                 NaN          NaN   \n\n       smart_3_normalized  ...  smart_250_normalized  smart_250_raw  \\\n7532                   91  ...                   NaN            NaN   \n10206                  94  ...                   NaN            NaN   \n10357                  91  ...                   NaN            NaN   \n78363                  92  ...                   NaN            NaN   \n\n       smart_251_normalized  smart_251_raw  smart_252_normalized  \\\n7532                    NaN            NaN                   NaN   \n10206                   NaN            NaN                   NaN   \n10357                   NaN            NaN                   NaN   \n78363                   NaN            NaN                   NaN   \n\n       smart_252_raw  smart_254_normalized  smart_254_raw  \\\n7532             NaN                   NaN            NaN   \n10206            NaN                   NaN            NaN   \n10357            NaN                   NaN            NaN   \n78363            NaN                   NaN            NaN   \n\n       smart_255_normalized  smart_255_raw  \n7532                    NaN            NaN  \n10206                   NaN            NaN  \n10357                   NaN            NaN  \n78363                   NaN            NaN  \n\n[4 rows x 105 columns]",
      "text/html": "<div>\n<style scoped>\n    .dataframe tbody tr th:only-of-type {\n        vertical-align: middle;\n    }\n\n    .dataframe tbody tr th {\n        vertical-align: top;\n    }\n\n    .dataframe thead th {\n        text-align: right;\n    }\n</style>\n<table border=\"1\" class=\"dataframe\">\n  <thead>\n    <tr style=\"text-align: right;\">\n      <th></th>\n      <th>date</th>\n      <th>serial_number</th>\n      <th>model</th>\n      <th>capacity_bytes</th>\n      <th>failure</th>\n      <th>smart_1_normalized</th>\n      <th>smart_1_raw</th>\n      <th>smart_2_normalized</th>\n      <th>smart_2_raw</th>\n      <th>smart_3_normalized</th>\n      <th>...</th>\n      <th>smart_250_normalized</th>\n      <th>smart_250_raw</th>\n      <th>smart_251_normalized</th>\n      <th>smart_251_raw</th>\n      <th>smart_252_normalized</th>\n      <th>smart_252_raw</th>\n      <th>smart_254_normalized</th>\n      <th>smart_254_raw</th>\n      <th>smart_255_normalized</th>\n      <th>smart_255_raw</th>\n    </tr>\n  </thead>\n  <tbody>\n    <tr>\n      <th>7532</th>\n      <td>2018-01-06</td>\n      <td>W3004X68</td>\n      <td>ST4000DM000</td>\n      <td>4000787030016</td>\n      <td>1</td>\n      <td>109</td>\n      <td>23657640</td>\n      <td>NaN</td>\n      <td>NaN</td>\n      <td>91</td>\n      <td>...</td>\n      <td>NaN</td>\n      <td>NaN</td>\n      <td>NaN</td>\n      <td>NaN</td>\n      <td>NaN</td>\n      <td>NaN</td>\n      <td>NaN</td>\n      <td>NaN</td>\n      <td>NaN</td>\n      <td>NaN</td>\n    </tr>\n    <tr>\n      <th>10206</th>\n      <td>2018-01-06</td>\n      <td>ZA11X9N2</td>\n      <td>ST8000DM002</td>\n      <td>8001563222016</td>\n      <td>1</td>\n      <td>53</td>\n      <td>20740760</td>\n      <td>NaN</td>\n      <td>NaN</td>\n      <td>94</td>\n      <td>...</td>\n      <td>NaN</td>\n      <td>NaN</td>\n      <td>NaN</td>\n      <td>NaN</td>\n      <td>NaN</td>\n      <td>NaN</td>\n      <td>NaN</td>\n      <td>NaN</td>\n      <td>NaN</td>\n      <td>NaN</td>\n    </tr>\n    <tr>\n      <th>10357</th>\n      <td>2018-01-06</td>\n      <td>Z300ZV9B</td>\n      <td>ST4000DM000</td>\n      <td>4000787030016</td>\n      <td>1</td>\n      <td>118</td>\n      <td>201270208</td>\n      <td>NaN</td>\n      <td>NaN</td>\n      <td>91</td>\n      <td>...</td>\n      <td>NaN</td>\n      <td>NaN</td>\n      <td>NaN</td>\n      <td>NaN</td>\n      <td>NaN</td>\n      <td>NaN</td>\n      <td>NaN</td>\n      <td>NaN</td>\n      <td>NaN</td>\n      <td>NaN</td>\n    </tr>\n    <tr>\n      <th>78363</th>\n      <td>2018-01-06</td>\n      <td>Z3025WBW</td>\n      <td>ST4000DM000</td>\n      <td>4000787030016</td>\n      <td>1</td>\n      <td>108</td>\n      <td>165729075</td>\n      <td>NaN</td>\n      <td>NaN</td>\n      <td>92</td>\n      <td>...</td>\n      <td>NaN</td>\n      <td>NaN</td>\n      <td>NaN</td>\n      <td>NaN</td>\n      <td>NaN</td>\n      <td>NaN</td>\n      <td>NaN</td>\n      <td>NaN</td>\n      <td>NaN</td>\n      <td>NaN</td>\n    </tr>\n  </tbody>\n</table>\n<p>4 rows × 105 columns</p>\n</div>"
     },
     "metadata": {},
     "execution_count": 18
    }
   ],
   "source": [
    "error"
   ]
  },
  {
   "cell_type": "code",
   "execution_count": 22,
   "metadata": {},
   "outputs": [],
   "source": [
    "serial_number = list(set(list(data[0].serial_number)))"
   ]
  },
  {
   "cell_type": "code",
   "execution_count": 23,
   "metadata": {},
   "outputs": [],
   "source": [
    "for j in error.serial_number.values:\n",
    "    serial_number.remove(j)\n"
   ]
  },
  {
   "cell_type": "code",
   "execution_count": 4,
   "metadata": {},
   "outputs": [],
   "source": [
    "sample = []"
   ]
  },
  {
   "cell_type": "code",
   "execution_count": 6,
   "metadata": {},
   "outputs": [
    {
     "output_type": "error",
     "ename": "MemoryError",
     "evalue": "Unable to allocate 58.1 MiB for an array with shape (76, 100248) and data type float64",
     "traceback": [
      "\u001b[1;31m---------------------------------------------------------------------------\u001b[0m",
      "\u001b[1;31mMemoryError\u001b[0m                               Traceback (most recent call last)",
      "\u001b[1;32m<ipython-input-6-e705ee8ba79a>\u001b[0m in \u001b[0;36m<module>\u001b[1;34m\u001b[0m\n\u001b[0;32m      8\u001b[0m             \u001b[1;32mif\u001b[0m \u001b[0mj\u001b[0m \u001b[1;32min\u001b[0m \u001b[0mserial_number\u001b[0m\u001b[1;33m:\u001b[0m\u001b[1;33m\u001b[0m\u001b[1;33m\u001b[0m\u001b[0m\n\u001b[0;32m      9\u001b[0m                 \u001b[0mserial_number\u001b[0m\u001b[1;33m.\u001b[0m\u001b[0mremove\u001b[0m\u001b[1;33m(\u001b[0m\u001b[0mj\u001b[0m\u001b[1;33m)\u001b[0m\u001b[1;33m\u001b[0m\u001b[1;33m\u001b[0m\u001b[0m\n\u001b[1;32m---> 10\u001b[1;33m         \u001b[0msample\u001b[0m\u001b[1;33m.\u001b[0m\u001b[0mappend\u001b[0m\u001b[1;33m(\u001b[0m\u001b[0mdata\u001b[0m\u001b[1;33m[\u001b[0m\u001b[0mi\u001b[0m \u001b[1;33m-\u001b[0m \u001b[0mk\u001b[0m\u001b[1;33m]\u001b[0m\u001b[1;33m[\u001b[0m\u001b[0mdata\u001b[0m\u001b[1;33m[\u001b[0m\u001b[0mi\u001b[0m \u001b[1;33m-\u001b[0m \u001b[0mk\u001b[0m\u001b[1;33m]\u001b[0m\u001b[1;33m.\u001b[0m\u001b[0mserial_number\u001b[0m\u001b[1;33m.\u001b[0m\u001b[0misin\u001b[0m\u001b[1;33m(\u001b[0m\u001b[0mserial_number\u001b[0m\u001b[1;33m)\u001b[0m\u001b[1;33m]\u001b[0m\u001b[1;33m)\u001b[0m\u001b[1;33m\u001b[0m\u001b[1;33m\u001b[0m\u001b[0m\n\u001b[0m\u001b[0;32m     11\u001b[0m         \u001b[0mk\u001b[0m \u001b[1;33m=\u001b[0m \u001b[0mk\u001b[0m \u001b[1;33m-\u001b[0m \u001b[1;36m1\u001b[0m\u001b[1;33m\u001b[0m\u001b[1;33m\u001b[0m\u001b[0m\n",
      "\u001b[1;32mD:\\Anaconda3\\envs\\pytorch-gpu\\lib\\site-packages\\pandas\\core\\frame.py\u001b[0m in \u001b[0;36m__getitem__\u001b[1;34m(self, key)\u001b[0m\n\u001b[0;32m   2891\u001b[0m         \u001b[1;31m# Do we have a (boolean) 1d indexer?\u001b[0m\u001b[1;33m\u001b[0m\u001b[1;33m\u001b[0m\u001b[1;33m\u001b[0m\u001b[0m\n\u001b[0;32m   2892\u001b[0m         \u001b[1;32mif\u001b[0m \u001b[0mcom\u001b[0m\u001b[1;33m.\u001b[0m\u001b[0mis_bool_indexer\u001b[0m\u001b[1;33m(\u001b[0m\u001b[0mkey\u001b[0m\u001b[1;33m)\u001b[0m\u001b[1;33m:\u001b[0m\u001b[1;33m\u001b[0m\u001b[1;33m\u001b[0m\u001b[0m\n\u001b[1;32m-> 2893\u001b[1;33m             \u001b[1;32mreturn\u001b[0m \u001b[0mself\u001b[0m\u001b[1;33m.\u001b[0m\u001b[0m_getitem_bool_array\u001b[0m\u001b[1;33m(\u001b[0m\u001b[0mkey\u001b[0m\u001b[1;33m)\u001b[0m\u001b[1;33m\u001b[0m\u001b[1;33m\u001b[0m\u001b[0m\n\u001b[0m\u001b[0;32m   2894\u001b[0m \u001b[1;33m\u001b[0m\u001b[0m\n\u001b[0;32m   2895\u001b[0m         \u001b[1;31m# We are left with two options: a single key, and a collection of keys,\u001b[0m\u001b[1;33m\u001b[0m\u001b[1;33m\u001b[0m\u001b[1;33m\u001b[0m\u001b[0m\n",
      "\u001b[1;32mD:\\Anaconda3\\envs\\pytorch-gpu\\lib\\site-packages\\pandas\\core\\frame.py\u001b[0m in \u001b[0;36m_getitem_bool_array\u001b[1;34m(self, key)\u001b[0m\n\u001b[0;32m   2945\u001b[0m         \u001b[0mkey\u001b[0m \u001b[1;33m=\u001b[0m \u001b[0mcheck_bool_indexer\u001b[0m\u001b[1;33m(\u001b[0m\u001b[0mself\u001b[0m\u001b[1;33m.\u001b[0m\u001b[0mindex\u001b[0m\u001b[1;33m,\u001b[0m \u001b[0mkey\u001b[0m\u001b[1;33m)\u001b[0m\u001b[1;33m\u001b[0m\u001b[1;33m\u001b[0m\u001b[0m\n\u001b[0;32m   2946\u001b[0m         \u001b[0mindexer\u001b[0m \u001b[1;33m=\u001b[0m \u001b[0mkey\u001b[0m\u001b[1;33m.\u001b[0m\u001b[0mnonzero\u001b[0m\u001b[1;33m(\u001b[0m\u001b[1;33m)\u001b[0m\u001b[1;33m[\u001b[0m\u001b[1;36m0\u001b[0m\u001b[1;33m]\u001b[0m\u001b[1;33m\u001b[0m\u001b[1;33m\u001b[0m\u001b[0m\n\u001b[1;32m-> 2947\u001b[1;33m         \u001b[1;32mreturn\u001b[0m \u001b[0mself\u001b[0m\u001b[1;33m.\u001b[0m\u001b[0m_take_with_is_copy\u001b[0m\u001b[1;33m(\u001b[0m\u001b[0mindexer\u001b[0m\u001b[1;33m,\u001b[0m \u001b[0maxis\u001b[0m\u001b[1;33m=\u001b[0m\u001b[1;36m0\u001b[0m\u001b[1;33m)\u001b[0m\u001b[1;33m\u001b[0m\u001b[1;33m\u001b[0m\u001b[0m\n\u001b[0m\u001b[0;32m   2948\u001b[0m \u001b[1;33m\u001b[0m\u001b[0m\n\u001b[0;32m   2949\u001b[0m     \u001b[1;32mdef\u001b[0m \u001b[0m_getitem_multilevel\u001b[0m\u001b[1;33m(\u001b[0m\u001b[0mself\u001b[0m\u001b[1;33m,\u001b[0m \u001b[0mkey\u001b[0m\u001b[1;33m)\u001b[0m\u001b[1;33m:\u001b[0m\u001b[1;33m\u001b[0m\u001b[1;33m\u001b[0m\u001b[0m\n",
      "\u001b[1;32mD:\\Anaconda3\\envs\\pytorch-gpu\\lib\\site-packages\\pandas\\core\\generic.py\u001b[0m in \u001b[0;36m_take_with_is_copy\u001b[1;34m(self, indices, axis)\u001b[0m\n\u001b[0;32m   3352\u001b[0m         \u001b[0mSee\u001b[0m \u001b[0mthe\u001b[0m \u001b[0mdocstring\u001b[0m \u001b[0mof\u001b[0m\u001b[0;31m \u001b[0m\u001b[0;31m`\u001b[0m\u001b[0mtake\u001b[0m\u001b[0;31m`\u001b[0m \u001b[1;32mfor\u001b[0m \u001b[0mfull\u001b[0m \u001b[0mexplanation\u001b[0m \u001b[0mof\u001b[0m \u001b[0mthe\u001b[0m \u001b[0mparameters\u001b[0m\u001b[1;33m.\u001b[0m\u001b[1;33m\u001b[0m\u001b[1;33m\u001b[0m\u001b[0m\n\u001b[0;32m   3353\u001b[0m         \"\"\"\n\u001b[1;32m-> 3354\u001b[1;33m         \u001b[0mresult\u001b[0m \u001b[1;33m=\u001b[0m \u001b[0mself\u001b[0m\u001b[1;33m.\u001b[0m\u001b[0mtake\u001b[0m\u001b[1;33m(\u001b[0m\u001b[0mindices\u001b[0m\u001b[1;33m=\u001b[0m\u001b[0mindices\u001b[0m\u001b[1;33m,\u001b[0m \u001b[0maxis\u001b[0m\u001b[1;33m=\u001b[0m\u001b[0maxis\u001b[0m\u001b[1;33m)\u001b[0m\u001b[1;33m\u001b[0m\u001b[1;33m\u001b[0m\u001b[0m\n\u001b[0m\u001b[0;32m   3355\u001b[0m         \u001b[1;31m# Maybe set copy if we didn't actually change the index.\u001b[0m\u001b[1;33m\u001b[0m\u001b[1;33m\u001b[0m\u001b[1;33m\u001b[0m\u001b[0m\n\u001b[0;32m   3356\u001b[0m         \u001b[1;32mif\u001b[0m \u001b[1;32mnot\u001b[0m \u001b[0mresult\u001b[0m\u001b[1;33m.\u001b[0m\u001b[0m_get_axis\u001b[0m\u001b[1;33m(\u001b[0m\u001b[0maxis\u001b[0m\u001b[1;33m)\u001b[0m\u001b[1;33m.\u001b[0m\u001b[0mequals\u001b[0m\u001b[1;33m(\u001b[0m\u001b[0mself\u001b[0m\u001b[1;33m.\u001b[0m\u001b[0m_get_axis\u001b[0m\u001b[1;33m(\u001b[0m\u001b[0maxis\u001b[0m\u001b[1;33m)\u001b[0m\u001b[1;33m)\u001b[0m\u001b[1;33m:\u001b[0m\u001b[1;33m\u001b[0m\u001b[1;33m\u001b[0m\u001b[0m\n",
      "\u001b[1;32mD:\\Anaconda3\\envs\\pytorch-gpu\\lib\\site-packages\\pandas\\core\\generic.py\u001b[0m in \u001b[0;36mtake\u001b[1;34m(self, indices, axis, is_copy, **kwargs)\u001b[0m\n\u001b[0;32m   3340\u001b[0m \u001b[1;33m\u001b[0m\u001b[0m\n\u001b[0;32m   3341\u001b[0m         new_data = self._mgr.take(\n\u001b[1;32m-> 3342\u001b[1;33m             \u001b[0mindices\u001b[0m\u001b[1;33m,\u001b[0m \u001b[0maxis\u001b[0m\u001b[1;33m=\u001b[0m\u001b[0mself\u001b[0m\u001b[1;33m.\u001b[0m\u001b[0m_get_block_manager_axis\u001b[0m\u001b[1;33m(\u001b[0m\u001b[0maxis\u001b[0m\u001b[1;33m)\u001b[0m\u001b[1;33m,\u001b[0m \u001b[0mverify\u001b[0m\u001b[1;33m=\u001b[0m\u001b[1;32mTrue\u001b[0m\u001b[1;33m\u001b[0m\u001b[1;33m\u001b[0m\u001b[0m\n\u001b[0m\u001b[0;32m   3343\u001b[0m         )\n\u001b[0;32m   3344\u001b[0m         \u001b[1;32mreturn\u001b[0m \u001b[0mself\u001b[0m\u001b[1;33m.\u001b[0m\u001b[0m_constructor\u001b[0m\u001b[1;33m(\u001b[0m\u001b[0mnew_data\u001b[0m\u001b[1;33m)\u001b[0m\u001b[1;33m.\u001b[0m\u001b[0m__finalize__\u001b[0m\u001b[1;33m(\u001b[0m\u001b[0mself\u001b[0m\u001b[1;33m,\u001b[0m \u001b[0mmethod\u001b[0m\u001b[1;33m=\u001b[0m\u001b[1;34m\"take\"\u001b[0m\u001b[1;33m)\u001b[0m\u001b[1;33m\u001b[0m\u001b[1;33m\u001b[0m\u001b[0m\n",
      "\u001b[1;32mD:\\Anaconda3\\envs\\pytorch-gpu\\lib\\site-packages\\pandas\\core\\internals\\managers.py\u001b[0m in \u001b[0;36mtake\u001b[1;34m(self, indexer, axis, verify, convert)\u001b[0m\n\u001b[0;32m   1446\u001b[0m         \u001b[0mnew_labels\u001b[0m \u001b[1;33m=\u001b[0m \u001b[0mself\u001b[0m\u001b[1;33m.\u001b[0m\u001b[0maxes\u001b[0m\u001b[1;33m[\u001b[0m\u001b[0maxis\u001b[0m\u001b[1;33m]\u001b[0m\u001b[1;33m.\u001b[0m\u001b[0mtake\u001b[0m\u001b[1;33m(\u001b[0m\u001b[0mindexer\u001b[0m\u001b[1;33m)\u001b[0m\u001b[1;33m\u001b[0m\u001b[1;33m\u001b[0m\u001b[0m\n\u001b[0;32m   1447\u001b[0m         return self.reindex_indexer(\n\u001b[1;32m-> 1448\u001b[1;33m             \u001b[0mnew_axis\u001b[0m\u001b[1;33m=\u001b[0m\u001b[0mnew_labels\u001b[0m\u001b[1;33m,\u001b[0m \u001b[0mindexer\u001b[0m\u001b[1;33m=\u001b[0m\u001b[0mindexer\u001b[0m\u001b[1;33m,\u001b[0m \u001b[0maxis\u001b[0m\u001b[1;33m=\u001b[0m\u001b[0maxis\u001b[0m\u001b[1;33m,\u001b[0m \u001b[0mallow_dups\u001b[0m\u001b[1;33m=\u001b[0m\u001b[1;32mTrue\u001b[0m\u001b[1;33m\u001b[0m\u001b[1;33m\u001b[0m\u001b[0m\n\u001b[0m\u001b[0;32m   1449\u001b[0m         )\n\u001b[0;32m   1450\u001b[0m \u001b[1;33m\u001b[0m\u001b[0m\n",
      "\u001b[1;32mD:\\Anaconda3\\envs\\pytorch-gpu\\lib\\site-packages\\pandas\\core\\internals\\managers.py\u001b[0m in \u001b[0;36mreindex_indexer\u001b[1;34m(self, new_axis, indexer, axis, fill_value, allow_dups, copy, consolidate)\u001b[0m\n\u001b[0;32m   1290\u001b[0m                     ),\n\u001b[0;32m   1291\u001b[0m                 )\n\u001b[1;32m-> 1292\u001b[1;33m                 \u001b[1;32mfor\u001b[0m \u001b[0mblk\u001b[0m \u001b[1;32min\u001b[0m \u001b[0mself\u001b[0m\u001b[1;33m.\u001b[0m\u001b[0mblocks\u001b[0m\u001b[1;33m\u001b[0m\u001b[1;33m\u001b[0m\u001b[0m\n\u001b[0m\u001b[0;32m   1293\u001b[0m             ]\n\u001b[0;32m   1294\u001b[0m \u001b[1;33m\u001b[0m\u001b[0m\n",
      "\u001b[1;32mD:\\Anaconda3\\envs\\pytorch-gpu\\lib\\site-packages\\pandas\\core\\internals\\managers.py\u001b[0m in \u001b[0;36m<listcomp>\u001b[1;34m(.0)\u001b[0m\n\u001b[0;32m   1290\u001b[0m                     ),\n\u001b[0;32m   1291\u001b[0m                 )\n\u001b[1;32m-> 1292\u001b[1;33m                 \u001b[1;32mfor\u001b[0m \u001b[0mblk\u001b[0m \u001b[1;32min\u001b[0m \u001b[0mself\u001b[0m\u001b[1;33m.\u001b[0m\u001b[0mblocks\u001b[0m\u001b[1;33m\u001b[0m\u001b[1;33m\u001b[0m\u001b[0m\n\u001b[0m\u001b[0;32m   1293\u001b[0m             ]\n\u001b[0;32m   1294\u001b[0m \u001b[1;33m\u001b[0m\u001b[0m\n",
      "\u001b[1;32mD:\\Anaconda3\\envs\\pytorch-gpu\\lib\\site-packages\\pandas\\core\\internals\\blocks.py\u001b[0m in \u001b[0;36mtake_nd\u001b[1;34m(self, indexer, axis, new_mgr_locs, fill_value)\u001b[0m\n\u001b[0;32m   1248\u001b[0m \u001b[1;33m\u001b[0m\u001b[0m\n\u001b[0;32m   1249\u001b[0m         new_values = algos.take_nd(\n\u001b[1;32m-> 1250\u001b[1;33m             \u001b[0mvalues\u001b[0m\u001b[1;33m,\u001b[0m \u001b[0mindexer\u001b[0m\u001b[1;33m,\u001b[0m \u001b[0maxis\u001b[0m\u001b[1;33m=\u001b[0m\u001b[0maxis\u001b[0m\u001b[1;33m,\u001b[0m \u001b[0mallow_fill\u001b[0m\u001b[1;33m=\u001b[0m\u001b[0mallow_fill\u001b[0m\u001b[1;33m,\u001b[0m \u001b[0mfill_value\u001b[0m\u001b[1;33m=\u001b[0m\u001b[0mfill_value\u001b[0m\u001b[1;33m\u001b[0m\u001b[1;33m\u001b[0m\u001b[0m\n\u001b[0m\u001b[0;32m   1251\u001b[0m         )\n\u001b[0;32m   1252\u001b[0m \u001b[1;33m\u001b[0m\u001b[0m\n",
      "\u001b[1;32mD:\\Anaconda3\\envs\\pytorch-gpu\\lib\\site-packages\\pandas\\core\\algorithms.py\u001b[0m in \u001b[0;36mtake_nd\u001b[1;34m(arr, indexer, axis, out, fill_value, allow_fill)\u001b[0m\n\u001b[0;32m   1676\u001b[0m             \u001b[0mout\u001b[0m \u001b[1;33m=\u001b[0m \u001b[0mnp\u001b[0m\u001b[1;33m.\u001b[0m\u001b[0mempty\u001b[0m\u001b[1;33m(\u001b[0m\u001b[0mout_shape\u001b[0m\u001b[1;33m,\u001b[0m \u001b[0mdtype\u001b[0m\u001b[1;33m=\u001b[0m\u001b[0mdtype\u001b[0m\u001b[1;33m,\u001b[0m \u001b[0morder\u001b[0m\u001b[1;33m=\u001b[0m\u001b[1;34m\"F\"\u001b[0m\u001b[1;33m)\u001b[0m\u001b[1;33m\u001b[0m\u001b[1;33m\u001b[0m\u001b[0m\n\u001b[0;32m   1677\u001b[0m         \u001b[1;32melse\u001b[0m\u001b[1;33m:\u001b[0m\u001b[1;33m\u001b[0m\u001b[1;33m\u001b[0m\u001b[0m\n\u001b[1;32m-> 1678\u001b[1;33m             \u001b[0mout\u001b[0m \u001b[1;33m=\u001b[0m \u001b[0mnp\u001b[0m\u001b[1;33m.\u001b[0m\u001b[0mempty\u001b[0m\u001b[1;33m(\u001b[0m\u001b[0mout_shape\u001b[0m\u001b[1;33m,\u001b[0m \u001b[0mdtype\u001b[0m\u001b[1;33m=\u001b[0m\u001b[0mdtype\u001b[0m\u001b[1;33m)\u001b[0m\u001b[1;33m\u001b[0m\u001b[1;33m\u001b[0m\u001b[0m\n\u001b[0m\u001b[0;32m   1679\u001b[0m \u001b[1;33m\u001b[0m\u001b[0m\n\u001b[0;32m   1680\u001b[0m     func = _get_take_nd_function(\n",
      "\u001b[1;31mMemoryError\u001b[0m: Unable to allocate 58.1 MiB for an array with shape (76, 100248) and data type float64"
     ]
    }
   ],
   "source": [
    "for i in range(5, len(data)):\n",
    "    error = data[i][data[i].failure == 1]\n",
    "    k = 5\n",
    "    while(k >= 0):\n",
    "        serial_number = list(data[i - k].serial_number)\n",
    "        serial_number = list(set(serial_number))\n",
    "        for j in error.serial_number.values:\n",
    "            if j in serial_number:\n",
    "                serial_number.remove(j)\n",
    "        sample.append(data[i - k][data[i - k].serial_number.isin(serial_number)])\n",
    "        k = k - 1"
   ]
  },
  {
   "cell_type": "code",
   "execution_count": 2,
   "metadata": {},
   "outputs": [],
   "source": [
    "import pandas as pd \n",
    "import numpy as np"
   ]
  },
  {
   "cell_type": "code",
   "execution_count": 3,
   "metadata": {},
   "outputs": [],
   "source": [
    "Q1 = pd.read_csv('E:/data/data_Q1_2018/2018-01-01.csv')"
   ]
  },
  {
   "cell_type": "code",
   "execution_count": 4,
   "metadata": {},
   "outputs": [
    {
     "output_type": "execute_result",
     "data": {
      "text/plain": "Index(['date', 'serial_number', 'model', 'capacity_bytes', 'failure',\n       'smart_1_normalized', 'smart_1_raw', 'smart_2_normalized',\n       'smart_2_raw', 'smart_3_normalized',\n       ...\n       'smart_250_normalized', 'smart_250_raw', 'smart_251_normalized',\n       'smart_251_raw', 'smart_252_normalized', 'smart_252_raw',\n       'smart_254_normalized', 'smart_254_raw', 'smart_255_normalized',\n       'smart_255_raw'],\n      dtype='object', length=105)"
     },
     "metadata": {},
     "execution_count": 4
    }
   ],
   "source": [
    "Q1.columns"
   ]
  },
  {
   "cell_type": "code",
   "execution_count": 2,
   "metadata": {},
   "outputs": [],
   "source": [
    "data = []\n",
    "data.append(pd.read_csv('E:/data/data_Q1_2018/2018-01-01.csv'))\n",
    "data.append(pd.read_csv('E:/data/data_Q1_2018/2018-01-02.csv'))\n",
    "data.append(pd.read_csv('E:/data/data_Q1_2018/2018-01-03.csv'))\n",
    "data.append(pd.read_csv('E:/data/data_Q1_2018/2018-01-04.csv'))\n",
    "data.append(pd.read_csv('E:/data/data_Q1_2018/2018-01-05.csv'))\n",
    "data.append(pd.read_csv('E:/data/data_Q1_2018/2018-01-06.csv'))"
   ]
  },
  {
   "cell_type": "code",
   "execution_count": 11,
   "metadata": {},
   "outputs": [
    {
     "output_type": "execute_result",
     "data": {
      "text/plain": "             date   serial_number                 model  capacity_bytes  \\\n0      2018-01-01        Z305B2QN           ST4000DM000   4000787030016   \n1      2018-01-01  PL1331LAHG1S4H  HGST HMS5C4040ALE640   4000787030016   \n2      2018-01-01        ZA16NQJR          ST8000NM0055   8001563222016   \n3      2018-01-01        ZA18CEBT          ST8000NM0055   8001563222016   \n4      2018-01-01        ZA18CEBS          ST8000NM0055   8001563222016   \n...           ...             ...                   ...             ...   \n94181  2018-01-01  PL1331LAHD1AWH  HGST HMS5C4040BLE640   4000787030016   \n94182  2018-01-01        Z3016V0V           ST4000DM000   4000787030016   \n94183  2018-01-01  PL1331LAHD0AHH  HGST HMS5C4040BLE640   4000787030016   \n94184  2018-01-01  PL1331LAHD1T5H  HGST HMS5C4040BLE640   4000787030016   \n94185  2018-01-01        Z30271GD           ST4000DM000   4000787030016   \n\n       failure  smart_1_normalized  smart_1_raw  smart_2_normalized  \\\n0            0                 120      2346048                 NaN   \n1            0                 100            0               134.0   \n2            0                  81    119386608                 NaN   \n3            0                  83    194649096                 NaN   \n4            0                  83    187404648                 NaN   \n...        ...                 ...          ...                 ...   \n94181        0                 100            0               134.0   \n94182        0                 117    124839040                 NaN   \n94183        0                 100            0               134.0   \n94184        0                 100            0               134.0   \n94185        0                 118    174174344                 NaN   \n\n       smart_2_raw  smart_3_normalized  ...  smart_250_normalized  \\\n0              NaN                  91  ...                   NaN   \n1            101.0                 100  ...                   NaN   \n2              NaN                  94  ...                   NaN   \n3              NaN                  96  ...                   NaN   \n4              NaN                  97  ...                   NaN   \n...            ...                 ...  ...                   ...   \n94181        100.0                 100  ...                   NaN   \n94182          NaN                  91  ...                   NaN   \n94183        100.0                 100  ...                   NaN   \n94184        101.0                 148  ...                   NaN   \n94185          NaN                  91  ...                   NaN   \n\n       smart_250_raw  smart_251_normalized  smart_251_raw  \\\n0                NaN                   NaN            NaN   \n1                NaN                   NaN            NaN   \n2                NaN                   NaN            NaN   \n3                NaN                   NaN            NaN   \n4                NaN                   NaN            NaN   \n...              ...                   ...            ...   \n94181            NaN                   NaN            NaN   \n94182            NaN                   NaN            NaN   \n94183            NaN                   NaN            NaN   \n94184            NaN                   NaN            NaN   \n94185            NaN                   NaN            NaN   \n\n       smart_252_normalized  smart_252_raw  smart_254_normalized  \\\n0                       NaN            NaN                   NaN   \n1                       NaN            NaN                   NaN   \n2                       NaN            NaN                   NaN   \n3                       NaN            NaN                   NaN   \n4                       NaN            NaN                   NaN   \n...                     ...            ...                   ...   \n94181                   NaN            NaN                   NaN   \n94182                   NaN            NaN                   NaN   \n94183                   NaN            NaN                   NaN   \n94184                   NaN            NaN                   NaN   \n94185                   NaN            NaN                   NaN   \n\n       smart_254_raw  smart_255_normalized  smart_255_raw  \n0                NaN                   NaN            NaN  \n1                NaN                   NaN            NaN  \n2                NaN                   NaN            NaN  \n3                NaN                   NaN            NaN  \n4                NaN                   NaN            NaN  \n...              ...                   ...            ...  \n94181            NaN                   NaN            NaN  \n94182            NaN                   NaN            NaN  \n94183            NaN                   NaN            NaN  \n94184            NaN                   NaN            NaN  \n94185            NaN                   NaN            NaN  \n\n[94186 rows x 105 columns]",
      "text/html": "<div>\n<style scoped>\n    .dataframe tbody tr th:only-of-type {\n        vertical-align: middle;\n    }\n\n    .dataframe tbody tr th {\n        vertical-align: top;\n    }\n\n    .dataframe thead th {\n        text-align: right;\n    }\n</style>\n<table border=\"1\" class=\"dataframe\">\n  <thead>\n    <tr style=\"text-align: right;\">\n      <th></th>\n      <th>date</th>\n      <th>serial_number</th>\n      <th>model</th>\n      <th>capacity_bytes</th>\n      <th>failure</th>\n      <th>smart_1_normalized</th>\n      <th>smart_1_raw</th>\n      <th>smart_2_normalized</th>\n      <th>smart_2_raw</th>\n      <th>smart_3_normalized</th>\n      <th>...</th>\n      <th>smart_250_normalized</th>\n      <th>smart_250_raw</th>\n      <th>smart_251_normalized</th>\n      <th>smart_251_raw</th>\n      <th>smart_252_normalized</th>\n      <th>smart_252_raw</th>\n      <th>smart_254_normalized</th>\n      <th>smart_254_raw</th>\n      <th>smart_255_normalized</th>\n      <th>smart_255_raw</th>\n    </tr>\n  </thead>\n  <tbody>\n    <tr>\n      <th>0</th>\n      <td>2018-01-01</td>\n      <td>Z305B2QN</td>\n      <td>ST4000DM000</td>\n      <td>4000787030016</td>\n      <td>0</td>\n      <td>120</td>\n      <td>2346048</td>\n      <td>NaN</td>\n      <td>NaN</td>\n      <td>91</td>\n      <td>...</td>\n      <td>NaN</td>\n      <td>NaN</td>\n      <td>NaN</td>\n      <td>NaN</td>\n      <td>NaN</td>\n      <td>NaN</td>\n      <td>NaN</td>\n      <td>NaN</td>\n      <td>NaN</td>\n      <td>NaN</td>\n    </tr>\n    <tr>\n      <th>1</th>\n      <td>2018-01-01</td>\n      <td>PL1331LAHG1S4H</td>\n      <td>HGST HMS5C4040ALE640</td>\n      <td>4000787030016</td>\n      <td>0</td>\n      <td>100</td>\n      <td>0</td>\n      <td>134.0</td>\n      <td>101.0</td>\n      <td>100</td>\n      <td>...</td>\n      <td>NaN</td>\n      <td>NaN</td>\n      <td>NaN</td>\n      <td>NaN</td>\n      <td>NaN</td>\n      <td>NaN</td>\n      <td>NaN</td>\n      <td>NaN</td>\n      <td>NaN</td>\n      <td>NaN</td>\n    </tr>\n    <tr>\n      <th>2</th>\n      <td>2018-01-01</td>\n      <td>ZA16NQJR</td>\n      <td>ST8000NM0055</td>\n      <td>8001563222016</td>\n      <td>0</td>\n      <td>81</td>\n      <td>119386608</td>\n      <td>NaN</td>\n      <td>NaN</td>\n      <td>94</td>\n      <td>...</td>\n      <td>NaN</td>\n      <td>NaN</td>\n      <td>NaN</td>\n      <td>NaN</td>\n      <td>NaN</td>\n      <td>NaN</td>\n      <td>NaN</td>\n      <td>NaN</td>\n      <td>NaN</td>\n      <td>NaN</td>\n    </tr>\n    <tr>\n      <th>3</th>\n      <td>2018-01-01</td>\n      <td>ZA18CEBT</td>\n      <td>ST8000NM0055</td>\n      <td>8001563222016</td>\n      <td>0</td>\n      <td>83</td>\n      <td>194649096</td>\n      <td>NaN</td>\n      <td>NaN</td>\n      <td>96</td>\n      <td>...</td>\n      <td>NaN</td>\n      <td>NaN</td>\n      <td>NaN</td>\n      <td>NaN</td>\n      <td>NaN</td>\n      <td>NaN</td>\n      <td>NaN</td>\n      <td>NaN</td>\n      <td>NaN</td>\n      <td>NaN</td>\n    </tr>\n    <tr>\n      <th>4</th>\n      <td>2018-01-01</td>\n      <td>ZA18CEBS</td>\n      <td>ST8000NM0055</td>\n      <td>8001563222016</td>\n      <td>0</td>\n      <td>83</td>\n      <td>187404648</td>\n      <td>NaN</td>\n      <td>NaN</td>\n      <td>97</td>\n      <td>...</td>\n      <td>NaN</td>\n      <td>NaN</td>\n      <td>NaN</td>\n      <td>NaN</td>\n      <td>NaN</td>\n      <td>NaN</td>\n      <td>NaN</td>\n      <td>NaN</td>\n      <td>NaN</td>\n      <td>NaN</td>\n    </tr>\n    <tr>\n      <th>...</th>\n      <td>...</td>\n      <td>...</td>\n      <td>...</td>\n      <td>...</td>\n      <td>...</td>\n      <td>...</td>\n      <td>...</td>\n      <td>...</td>\n      <td>...</td>\n      <td>...</td>\n      <td>...</td>\n      <td>...</td>\n      <td>...</td>\n      <td>...</td>\n      <td>...</td>\n      <td>...</td>\n      <td>...</td>\n      <td>...</td>\n      <td>...</td>\n      <td>...</td>\n      <td>...</td>\n    </tr>\n    <tr>\n      <th>94181</th>\n      <td>2018-01-01</td>\n      <td>PL1331LAHD1AWH</td>\n      <td>HGST HMS5C4040BLE640</td>\n      <td>4000787030016</td>\n      <td>0</td>\n      <td>100</td>\n      <td>0</td>\n      <td>134.0</td>\n      <td>100.0</td>\n      <td>100</td>\n      <td>...</td>\n      <td>NaN</td>\n      <td>NaN</td>\n      <td>NaN</td>\n      <td>NaN</td>\n      <td>NaN</td>\n      <td>NaN</td>\n      <td>NaN</td>\n      <td>NaN</td>\n      <td>NaN</td>\n      <td>NaN</td>\n    </tr>\n    <tr>\n      <th>94182</th>\n      <td>2018-01-01</td>\n      <td>Z3016V0V</td>\n      <td>ST4000DM000</td>\n      <td>4000787030016</td>\n      <td>0</td>\n      <td>117</td>\n      <td>124839040</td>\n      <td>NaN</td>\n      <td>NaN</td>\n      <td>91</td>\n      <td>...</td>\n      <td>NaN</td>\n      <td>NaN</td>\n      <td>NaN</td>\n      <td>NaN</td>\n      <td>NaN</td>\n      <td>NaN</td>\n      <td>NaN</td>\n      <td>NaN</td>\n      <td>NaN</td>\n      <td>NaN</td>\n    </tr>\n    <tr>\n      <th>94183</th>\n      <td>2018-01-01</td>\n      <td>PL1331LAHD0AHH</td>\n      <td>HGST HMS5C4040BLE640</td>\n      <td>4000787030016</td>\n      <td>0</td>\n      <td>100</td>\n      <td>0</td>\n      <td>134.0</td>\n      <td>100.0</td>\n      <td>100</td>\n      <td>...</td>\n      <td>NaN</td>\n      <td>NaN</td>\n      <td>NaN</td>\n      <td>NaN</td>\n      <td>NaN</td>\n      <td>NaN</td>\n      <td>NaN</td>\n      <td>NaN</td>\n      <td>NaN</td>\n      <td>NaN</td>\n    </tr>\n    <tr>\n      <th>94184</th>\n      <td>2018-01-01</td>\n      <td>PL1331LAHD1T5H</td>\n      <td>HGST HMS5C4040BLE640</td>\n      <td>4000787030016</td>\n      <td>0</td>\n      <td>100</td>\n      <td>0</td>\n      <td>134.0</td>\n      <td>101.0</td>\n      <td>148</td>\n      <td>...</td>\n      <td>NaN</td>\n      <td>NaN</td>\n      <td>NaN</td>\n      <td>NaN</td>\n      <td>NaN</td>\n      <td>NaN</td>\n      <td>NaN</td>\n      <td>NaN</td>\n      <td>NaN</td>\n      <td>NaN</td>\n    </tr>\n    <tr>\n      <th>94185</th>\n      <td>2018-01-01</td>\n      <td>Z30271GD</td>\n      <td>ST4000DM000</td>\n      <td>4000787030016</td>\n      <td>0</td>\n      <td>118</td>\n      <td>174174344</td>\n      <td>NaN</td>\n      <td>NaN</td>\n      <td>91</td>\n      <td>...</td>\n      <td>NaN</td>\n      <td>NaN</td>\n      <td>NaN</td>\n      <td>NaN</td>\n      <td>NaN</td>\n      <td>NaN</td>\n      <td>NaN</td>\n      <td>NaN</td>\n      <td>NaN</td>\n      <td>NaN</td>\n    </tr>\n  </tbody>\n</table>\n<p>94186 rows × 105 columns</p>\n</div>"
     },
     "metadata": {},
     "execution_count": 11
    }
   ],
   "source": [
    "Q1"
   ]
  },
  {
   "cell_type": "code",
   "execution_count": 12,
   "metadata": {},
   "outputs": [
    {
     "output_type": "execute_result",
     "data": {
      "text/plain": "             date   serial_number                 model  capacity_bytes  \\\n1      2018-01-01  PL1331LAHG1S4H  HGST HMS5C4040ALE640   4000787030016   \n2      2018-01-01        ZA16NQJR          ST8000NM0055   8001563222016   \n3      2018-01-01        ZA18CEBT          ST8000NM0055   8001563222016   \n4      2018-01-01        ZA18CEBS          ST8000NM0055   8001563222016   \n5      2018-01-01        Z305DEMG           ST4000DM000   4000787030016   \n...           ...             ...                   ...             ...   \n94181  2018-01-01  PL1331LAHD1AWH  HGST HMS5C4040BLE640   4000787030016   \n94182  2018-01-01        Z3016V0V           ST4000DM000   4000787030016   \n94183  2018-01-01  PL1331LAHD0AHH  HGST HMS5C4040BLE640   4000787030016   \n94184  2018-01-01  PL1331LAHD1T5H  HGST HMS5C4040BLE640   4000787030016   \n94185  2018-01-01        Z30271GD           ST4000DM000   4000787030016   \n\n       failure  smart_1_normalized  smart_1_raw  smart_2_normalized  \\\n1            0                 100            0               134.0   \n2            0                  81    119386608                 NaN   \n3            0                  83    194649096                 NaN   \n4            0                  83    187404648                 NaN   \n5            0                 116    115775056                 NaN   \n...        ...                 ...          ...                 ...   \n94181        0                 100            0               134.0   \n94182        0                 117    124839040                 NaN   \n94183        0                 100            0               134.0   \n94184        0                 100            0               134.0   \n94185        0                 118    174174344                 NaN   \n\n       smart_2_raw  smart_3_normalized  ...  smart_250_normalized  \\\n1            101.0                 100  ...                   NaN   \n2              NaN                  94  ...                   NaN   \n3              NaN                  96  ...                   NaN   \n4              NaN                  97  ...                   NaN   \n5              NaN                  97  ...                   NaN   \n...            ...                 ...  ...                   ...   \n94181        100.0                 100  ...                   NaN   \n94182          NaN                  91  ...                   NaN   \n94183        100.0                 100  ...                   NaN   \n94184        101.0                 148  ...                   NaN   \n94185          NaN                  91  ...                   NaN   \n\n       smart_250_raw  smart_251_normalized  smart_251_raw  \\\n1                NaN                   NaN            NaN   \n2                NaN                   NaN            NaN   \n3                NaN                   NaN            NaN   \n4                NaN                   NaN            NaN   \n5                NaN                   NaN            NaN   \n...              ...                   ...            ...   \n94181            NaN                   NaN            NaN   \n94182            NaN                   NaN            NaN   \n94183            NaN                   NaN            NaN   \n94184            NaN                   NaN            NaN   \n94185            NaN                   NaN            NaN   \n\n       smart_252_normalized  smart_252_raw  smart_254_normalized  \\\n1                       NaN            NaN                   NaN   \n2                       NaN            NaN                   NaN   \n3                       NaN            NaN                   NaN   \n4                       NaN            NaN                   NaN   \n5                       NaN            NaN                   NaN   \n...                     ...            ...                   ...   \n94181                   NaN            NaN                   NaN   \n94182                   NaN            NaN                   NaN   \n94183                   NaN            NaN                   NaN   \n94184                   NaN            NaN                   NaN   \n94185                   NaN            NaN                   NaN   \n\n       smart_254_raw  smart_255_normalized  smart_255_raw  \n1                NaN                   NaN            NaN  \n2                NaN                   NaN            NaN  \n3                NaN                   NaN            NaN  \n4                NaN                   NaN            NaN  \n5                NaN                   NaN            NaN  \n...              ...                   ...            ...  \n94181            NaN                   NaN            NaN  \n94182            NaN                   NaN            NaN  \n94183            NaN                   NaN            NaN  \n94184            NaN                   NaN            NaN  \n94185            NaN                   NaN            NaN  \n\n[94185 rows x 105 columns]",
      "text/html": "<div>\n<style scoped>\n    .dataframe tbody tr th:only-of-type {\n        vertical-align: middle;\n    }\n\n    .dataframe tbody tr th {\n        vertical-align: top;\n    }\n\n    .dataframe thead th {\n        text-align: right;\n    }\n</style>\n<table border=\"1\" class=\"dataframe\">\n  <thead>\n    <tr style=\"text-align: right;\">\n      <th></th>\n      <th>date</th>\n      <th>serial_number</th>\n      <th>model</th>\n      <th>capacity_bytes</th>\n      <th>failure</th>\n      <th>smart_1_normalized</th>\n      <th>smart_1_raw</th>\n      <th>smart_2_normalized</th>\n      <th>smart_2_raw</th>\n      <th>smart_3_normalized</th>\n      <th>...</th>\n      <th>smart_250_normalized</th>\n      <th>smart_250_raw</th>\n      <th>smart_251_normalized</th>\n      <th>smart_251_raw</th>\n      <th>smart_252_normalized</th>\n      <th>smart_252_raw</th>\n      <th>smart_254_normalized</th>\n      <th>smart_254_raw</th>\n      <th>smart_255_normalized</th>\n      <th>smart_255_raw</th>\n    </tr>\n  </thead>\n  <tbody>\n    <tr>\n      <th>1</th>\n      <td>2018-01-01</td>\n      <td>PL1331LAHG1S4H</td>\n      <td>HGST HMS5C4040ALE640</td>\n      <td>4000787030016</td>\n      <td>0</td>\n      <td>100</td>\n      <td>0</td>\n      <td>134.0</td>\n      <td>101.0</td>\n      <td>100</td>\n      <td>...</td>\n      <td>NaN</td>\n      <td>NaN</td>\n      <td>NaN</td>\n      <td>NaN</td>\n      <td>NaN</td>\n      <td>NaN</td>\n      <td>NaN</td>\n      <td>NaN</td>\n      <td>NaN</td>\n      <td>NaN</td>\n    </tr>\n    <tr>\n      <th>2</th>\n      <td>2018-01-01</td>\n      <td>ZA16NQJR</td>\n      <td>ST8000NM0055</td>\n      <td>8001563222016</td>\n      <td>0</td>\n      <td>81</td>\n      <td>119386608</td>\n      <td>NaN</td>\n      <td>NaN</td>\n      <td>94</td>\n      <td>...</td>\n      <td>NaN</td>\n      <td>NaN</td>\n      <td>NaN</td>\n      <td>NaN</td>\n      <td>NaN</td>\n      <td>NaN</td>\n      <td>NaN</td>\n      <td>NaN</td>\n      <td>NaN</td>\n      <td>NaN</td>\n    </tr>\n    <tr>\n      <th>3</th>\n      <td>2018-01-01</td>\n      <td>ZA18CEBT</td>\n      <td>ST8000NM0055</td>\n      <td>8001563222016</td>\n      <td>0</td>\n      <td>83</td>\n      <td>194649096</td>\n      <td>NaN</td>\n      <td>NaN</td>\n      <td>96</td>\n      <td>...</td>\n      <td>NaN</td>\n      <td>NaN</td>\n      <td>NaN</td>\n      <td>NaN</td>\n      <td>NaN</td>\n      <td>NaN</td>\n      <td>NaN</td>\n      <td>NaN</td>\n      <td>NaN</td>\n      <td>NaN</td>\n    </tr>\n    <tr>\n      <th>4</th>\n      <td>2018-01-01</td>\n      <td>ZA18CEBS</td>\n      <td>ST8000NM0055</td>\n      <td>8001563222016</td>\n      <td>0</td>\n      <td>83</td>\n      <td>187404648</td>\n      <td>NaN</td>\n      <td>NaN</td>\n      <td>97</td>\n      <td>...</td>\n      <td>NaN</td>\n      <td>NaN</td>\n      <td>NaN</td>\n      <td>NaN</td>\n      <td>NaN</td>\n      <td>NaN</td>\n      <td>NaN</td>\n      <td>NaN</td>\n      <td>NaN</td>\n      <td>NaN</td>\n    </tr>\n    <tr>\n      <th>5</th>\n      <td>2018-01-01</td>\n      <td>Z305DEMG</td>\n      <td>ST4000DM000</td>\n      <td>4000787030016</td>\n      <td>0</td>\n      <td>116</td>\n      <td>115775056</td>\n      <td>NaN</td>\n      <td>NaN</td>\n      <td>97</td>\n      <td>...</td>\n      <td>NaN</td>\n      <td>NaN</td>\n      <td>NaN</td>\n      <td>NaN</td>\n      <td>NaN</td>\n      <td>NaN</td>\n      <td>NaN</td>\n      <td>NaN</td>\n      <td>NaN</td>\n      <td>NaN</td>\n    </tr>\n    <tr>\n      <th>...</th>\n      <td>...</td>\n      <td>...</td>\n      <td>...</td>\n      <td>...</td>\n      <td>...</td>\n      <td>...</td>\n      <td>...</td>\n      <td>...</td>\n      <td>...</td>\n      <td>...</td>\n      <td>...</td>\n      <td>...</td>\n      <td>...</td>\n      <td>...</td>\n      <td>...</td>\n      <td>...</td>\n      <td>...</td>\n      <td>...</td>\n      <td>...</td>\n      <td>...</td>\n      <td>...</td>\n    </tr>\n    <tr>\n      <th>94181</th>\n      <td>2018-01-01</td>\n      <td>PL1331LAHD1AWH</td>\n      <td>HGST HMS5C4040BLE640</td>\n      <td>4000787030016</td>\n      <td>0</td>\n      <td>100</td>\n      <td>0</td>\n      <td>134.0</td>\n      <td>100.0</td>\n      <td>100</td>\n      <td>...</td>\n      <td>NaN</td>\n      <td>NaN</td>\n      <td>NaN</td>\n      <td>NaN</td>\n      <td>NaN</td>\n      <td>NaN</td>\n      <td>NaN</td>\n      <td>NaN</td>\n      <td>NaN</td>\n      <td>NaN</td>\n    </tr>\n    <tr>\n      <th>94182</th>\n      <td>2018-01-01</td>\n      <td>Z3016V0V</td>\n      <td>ST4000DM000</td>\n      <td>4000787030016</td>\n      <td>0</td>\n      <td>117</td>\n      <td>124839040</td>\n      <td>NaN</td>\n      <td>NaN</td>\n      <td>91</td>\n      <td>...</td>\n      <td>NaN</td>\n      <td>NaN</td>\n      <td>NaN</td>\n      <td>NaN</td>\n      <td>NaN</td>\n      <td>NaN</td>\n      <td>NaN</td>\n      <td>NaN</td>\n      <td>NaN</td>\n      <td>NaN</td>\n    </tr>\n    <tr>\n      <th>94183</th>\n      <td>2018-01-01</td>\n      <td>PL1331LAHD0AHH</td>\n      <td>HGST HMS5C4040BLE640</td>\n      <td>4000787030016</td>\n      <td>0</td>\n      <td>100</td>\n      <td>0</td>\n      <td>134.0</td>\n      <td>100.0</td>\n      <td>100</td>\n      <td>...</td>\n      <td>NaN</td>\n      <td>NaN</td>\n      <td>NaN</td>\n      <td>NaN</td>\n      <td>NaN</td>\n      <td>NaN</td>\n      <td>NaN</td>\n      <td>NaN</td>\n      <td>NaN</td>\n      <td>NaN</td>\n    </tr>\n    <tr>\n      <th>94184</th>\n      <td>2018-01-01</td>\n      <td>PL1331LAHD1T5H</td>\n      <td>HGST HMS5C4040BLE640</td>\n      <td>4000787030016</td>\n      <td>0</td>\n      <td>100</td>\n      <td>0</td>\n      <td>134.0</td>\n      <td>101.0</td>\n      <td>148</td>\n      <td>...</td>\n      <td>NaN</td>\n      <td>NaN</td>\n      <td>NaN</td>\n      <td>NaN</td>\n      <td>NaN</td>\n      <td>NaN</td>\n      <td>NaN</td>\n      <td>NaN</td>\n      <td>NaN</td>\n      <td>NaN</td>\n    </tr>\n    <tr>\n      <th>94185</th>\n      <td>2018-01-01</td>\n      <td>Z30271GD</td>\n      <td>ST4000DM000</td>\n      <td>4000787030016</td>\n      <td>0</td>\n      <td>118</td>\n      <td>174174344</td>\n      <td>NaN</td>\n      <td>NaN</td>\n      <td>91</td>\n      <td>...</td>\n      <td>NaN</td>\n      <td>NaN</td>\n      <td>NaN</td>\n      <td>NaN</td>\n      <td>NaN</td>\n      <td>NaN</td>\n      <td>NaN</td>\n      <td>NaN</td>\n      <td>NaN</td>\n      <td>NaN</td>\n    </tr>\n  </tbody>\n</table>\n<p>94185 rows × 105 columns</p>\n</div>"
     },
     "metadata": {},
     "execution_count": 12
    }
   ],
   "source": [
    "Q1.drop(labels=0)"
   ]
  },
  {
   "cell_type": "code",
   "execution_count": 13,
   "metadata": {},
   "outputs": [],
   "source": [
    "index = Q1[Q1.failure == 1].index"
   ]
  },
  {
   "cell_type": "code",
   "execution_count": 16,
   "metadata": {},
   "outputs": [
    {
     "output_type": "execute_result",
     "data": {
      "text/plain": "[13720, 65393, 74156]"
     },
     "metadata": {},
     "execution_count": 16
    }
   ],
   "source": [
    "list(index)"
   ]
  },
  {
   "cell_type": "code",
   "execution_count": 21,
   "metadata": {},
   "outputs": [],
   "source": [
    "Q1 = Q1.drop(labels = list(index))"
   ]
  },
  {
   "cell_type": "code",
   "execution_count": 22,
   "metadata": {},
   "outputs": [
    {
     "output_type": "execute_result",
     "data": {
      "text/plain": "Empty DataFrame\nColumns: [date, serial_number, model, capacity_bytes, failure, smart_1_normalized, smart_1_raw, smart_2_normalized, smart_2_raw, smart_3_normalized, smart_3_raw, smart_4_normalized, smart_4_raw, smart_5_normalized, smart_5_raw, smart_7_normalized, smart_7_raw, smart_8_normalized, smart_8_raw, smart_9_normalized, smart_9_raw, smart_10_normalized, smart_10_raw, smart_11_normalized, smart_11_raw, smart_12_normalized, smart_12_raw, smart_13_normalized, smart_13_raw, smart_15_normalized, smart_15_raw, smart_22_normalized, smart_22_raw, smart_177_normalized, smart_177_raw, smart_179_normalized, smart_179_raw, smart_181_normalized, smart_181_raw, smart_182_normalized, smart_182_raw, smart_183_normalized, smart_183_raw, smart_184_normalized, smart_184_raw, smart_187_normalized, smart_187_raw, smart_188_normalized, smart_188_raw, smart_189_normalized, smart_189_raw, smart_190_normalized, smart_190_raw, smart_191_normalized, smart_191_raw, smart_192_normalized, smart_192_raw, smart_193_normalized, smart_193_raw, smart_194_normalized, smart_194_raw, smart_195_normalized, smart_195_raw, smart_196_normalized, smart_196_raw, smart_197_normalized, smart_197_raw, smart_198_normalized, smart_198_raw, smart_199_normalized, smart_199_raw, smart_200_normalized, smart_200_raw, smart_201_normalized, smart_201_raw, smart_220_normalized, smart_220_raw, smart_222_normalized, smart_222_raw, smart_223_normalized, smart_223_raw, smart_224_normalized, smart_224_raw, smart_225_normalized, smart_225_raw, smart_226_normalized, smart_226_raw, smart_235_normalized, smart_235_raw, smart_240_normalized, smart_240_raw, smart_241_normalized, smart_241_raw, smart_242_normalized, smart_242_raw, smart_250_normalized, smart_250_raw, smart_251_normalized, smart_251_raw, smart_252_normalized, ...]\nIndex: []\n\n[0 rows x 105 columns]",
      "text/html": "<div>\n<style scoped>\n    .dataframe tbody tr th:only-of-type {\n        vertical-align: middle;\n    }\n\n    .dataframe tbody tr th {\n        vertical-align: top;\n    }\n\n    .dataframe thead th {\n        text-align: right;\n    }\n</style>\n<table border=\"1\" class=\"dataframe\">\n  <thead>\n    <tr style=\"text-align: right;\">\n      <th></th>\n      <th>date</th>\n      <th>serial_number</th>\n      <th>model</th>\n      <th>capacity_bytes</th>\n      <th>failure</th>\n      <th>smart_1_normalized</th>\n      <th>smart_1_raw</th>\n      <th>smart_2_normalized</th>\n      <th>smart_2_raw</th>\n      <th>smart_3_normalized</th>\n      <th>...</th>\n      <th>smart_250_normalized</th>\n      <th>smart_250_raw</th>\n      <th>smart_251_normalized</th>\n      <th>smart_251_raw</th>\n      <th>smart_252_normalized</th>\n      <th>smart_252_raw</th>\n      <th>smart_254_normalized</th>\n      <th>smart_254_raw</th>\n      <th>smart_255_normalized</th>\n      <th>smart_255_raw</th>\n    </tr>\n  </thead>\n  <tbody>\n  </tbody>\n</table>\n<p>0 rows × 105 columns</p>\n</div>"
     },
     "metadata": {},
     "execution_count": 22
    }
   ],
   "source": [
    "Q1[Q1.failure == 1]"
   ]
  },
  {
   "cell_type": "code",
   "execution_count": 23,
   "metadata": {},
   "outputs": [
    {
     "output_type": "execute_result",
     "data": {
      "text/plain": "6"
     },
     "metadata": {},
     "execution_count": 23
    }
   ],
   "source": [
    "len(data)"
   ]
  },
  {
   "cell_type": "code",
   "execution_count": 24,
   "metadata": {},
   "outputs": [
    {
     "output_type": "execute_result",
     "data": {
      "text/plain": "             date   serial_number                 model  capacity_bytes  \\\n0      2018-01-01        Z305B2QN           ST4000DM000   4000787030016   \n1      2018-01-01  PL1331LAHG1S4H  HGST HMS5C4040ALE640   4000787030016   \n2      2018-01-01        ZA16NQJR          ST8000NM0055   8001563222016   \n3      2018-01-01        ZA18CEBT          ST8000NM0055   8001563222016   \n4      2018-01-01        ZA18CEBS          ST8000NM0055   8001563222016   \n...           ...             ...                   ...             ...   \n94181  2018-01-01  PL1331LAHD1AWH  HGST HMS5C4040BLE640   4000787030016   \n94182  2018-01-01        Z3016V0V           ST4000DM000   4000787030016   \n94183  2018-01-01  PL1331LAHD0AHH  HGST HMS5C4040BLE640   4000787030016   \n94184  2018-01-01  PL1331LAHD1T5H  HGST HMS5C4040BLE640   4000787030016   \n94185  2018-01-01        Z30271GD           ST4000DM000   4000787030016   \n\n       failure  smart_1_normalized  smart_1_raw  smart_2_normalized  \\\n0            0                 120      2346048                 NaN   \n1            0                 100            0               134.0   \n2            0                  81    119386608                 NaN   \n3            0                  83    194649096                 NaN   \n4            0                  83    187404648                 NaN   \n...        ...                 ...          ...                 ...   \n94181        0                 100            0               134.0   \n94182        0                 117    124839040                 NaN   \n94183        0                 100            0               134.0   \n94184        0                 100            0               134.0   \n94185        0                 118    174174344                 NaN   \n\n       smart_2_raw  smart_3_normalized  ...  smart_250_normalized  \\\n0              NaN                  91  ...                   NaN   \n1            101.0                 100  ...                   NaN   \n2              NaN                  94  ...                   NaN   \n3              NaN                  96  ...                   NaN   \n4              NaN                  97  ...                   NaN   \n...            ...                 ...  ...                   ...   \n94181        100.0                 100  ...                   NaN   \n94182          NaN                  91  ...                   NaN   \n94183        100.0                 100  ...                   NaN   \n94184        101.0                 148  ...                   NaN   \n94185          NaN                  91  ...                   NaN   \n\n       smart_250_raw  smart_251_normalized  smart_251_raw  \\\n0                NaN                   NaN            NaN   \n1                NaN                   NaN            NaN   \n2                NaN                   NaN            NaN   \n3                NaN                   NaN            NaN   \n4                NaN                   NaN            NaN   \n...              ...                   ...            ...   \n94181            NaN                   NaN            NaN   \n94182            NaN                   NaN            NaN   \n94183            NaN                   NaN            NaN   \n94184            NaN                   NaN            NaN   \n94185            NaN                   NaN            NaN   \n\n       smart_252_normalized  smart_252_raw  smart_254_normalized  \\\n0                       NaN            NaN                   NaN   \n1                       NaN            NaN                   NaN   \n2                       NaN            NaN                   NaN   \n3                       NaN            NaN                   NaN   \n4                       NaN            NaN                   NaN   \n...                     ...            ...                   ...   \n94181                   NaN            NaN                   NaN   \n94182                   NaN            NaN                   NaN   \n94183                   NaN            NaN                   NaN   \n94184                   NaN            NaN                   NaN   \n94185                   NaN            NaN                   NaN   \n\n       smart_254_raw  smart_255_normalized  smart_255_raw  \n0                NaN                   NaN            NaN  \n1                NaN                   NaN            NaN  \n2                NaN                   NaN            NaN  \n3                NaN                   NaN            NaN  \n4                NaN                   NaN            NaN  \n...              ...                   ...            ...  \n94181            NaN                   NaN            NaN  \n94182            NaN                   NaN            NaN  \n94183            NaN                   NaN            NaN  \n94184            NaN                   NaN            NaN  \n94185            NaN                   NaN            NaN  \n\n[94186 rows x 105 columns]",
      "text/html": "<div>\n<style scoped>\n    .dataframe tbody tr th:only-of-type {\n        vertical-align: middle;\n    }\n\n    .dataframe tbody tr th {\n        vertical-align: top;\n    }\n\n    .dataframe thead th {\n        text-align: right;\n    }\n</style>\n<table border=\"1\" class=\"dataframe\">\n  <thead>\n    <tr style=\"text-align: right;\">\n      <th></th>\n      <th>date</th>\n      <th>serial_number</th>\n      <th>model</th>\n      <th>capacity_bytes</th>\n      <th>failure</th>\n      <th>smart_1_normalized</th>\n      <th>smart_1_raw</th>\n      <th>smart_2_normalized</th>\n      <th>smart_2_raw</th>\n      <th>smart_3_normalized</th>\n      <th>...</th>\n      <th>smart_250_normalized</th>\n      <th>smart_250_raw</th>\n      <th>smart_251_normalized</th>\n      <th>smart_251_raw</th>\n      <th>smart_252_normalized</th>\n      <th>smart_252_raw</th>\n      <th>smart_254_normalized</th>\n      <th>smart_254_raw</th>\n      <th>smart_255_normalized</th>\n      <th>smart_255_raw</th>\n    </tr>\n  </thead>\n  <tbody>\n    <tr>\n      <th>0</th>\n      <td>2018-01-01</td>\n      <td>Z305B2QN</td>\n      <td>ST4000DM000</td>\n      <td>4000787030016</td>\n      <td>0</td>\n      <td>120</td>\n      <td>2346048</td>\n      <td>NaN</td>\n      <td>NaN</td>\n      <td>91</td>\n      <td>...</td>\n      <td>NaN</td>\n      <td>NaN</td>\n      <td>NaN</td>\n      <td>NaN</td>\n      <td>NaN</td>\n      <td>NaN</td>\n      <td>NaN</td>\n      <td>NaN</td>\n      <td>NaN</td>\n      <td>NaN</td>\n    </tr>\n    <tr>\n      <th>1</th>\n      <td>2018-01-01</td>\n      <td>PL1331LAHG1S4H</td>\n      <td>HGST HMS5C4040ALE640</td>\n      <td>4000787030016</td>\n      <td>0</td>\n      <td>100</td>\n      <td>0</td>\n      <td>134.0</td>\n      <td>101.0</td>\n      <td>100</td>\n      <td>...</td>\n      <td>NaN</td>\n      <td>NaN</td>\n      <td>NaN</td>\n      <td>NaN</td>\n      <td>NaN</td>\n      <td>NaN</td>\n      <td>NaN</td>\n      <td>NaN</td>\n      <td>NaN</td>\n      <td>NaN</td>\n    </tr>\n    <tr>\n      <th>2</th>\n      <td>2018-01-01</td>\n      <td>ZA16NQJR</td>\n      <td>ST8000NM0055</td>\n      <td>8001563222016</td>\n      <td>0</td>\n      <td>81</td>\n      <td>119386608</td>\n      <td>NaN</td>\n      <td>NaN</td>\n      <td>94</td>\n      <td>...</td>\n      <td>NaN</td>\n      <td>NaN</td>\n      <td>NaN</td>\n      <td>NaN</td>\n      <td>NaN</td>\n      <td>NaN</td>\n      <td>NaN</td>\n      <td>NaN</td>\n      <td>NaN</td>\n      <td>NaN</td>\n    </tr>\n    <tr>\n      <th>3</th>\n      <td>2018-01-01</td>\n      <td>ZA18CEBT</td>\n      <td>ST8000NM0055</td>\n      <td>8001563222016</td>\n      <td>0</td>\n      <td>83</td>\n      <td>194649096</td>\n      <td>NaN</td>\n      <td>NaN</td>\n      <td>96</td>\n      <td>...</td>\n      <td>NaN</td>\n      <td>NaN</td>\n      <td>NaN</td>\n      <td>NaN</td>\n      <td>NaN</td>\n      <td>NaN</td>\n      <td>NaN</td>\n      <td>NaN</td>\n      <td>NaN</td>\n      <td>NaN</td>\n    </tr>\n    <tr>\n      <th>4</th>\n      <td>2018-01-01</td>\n      <td>ZA18CEBS</td>\n      <td>ST8000NM0055</td>\n      <td>8001563222016</td>\n      <td>0</td>\n      <td>83</td>\n      <td>187404648</td>\n      <td>NaN</td>\n      <td>NaN</td>\n      <td>97</td>\n      <td>...</td>\n      <td>NaN</td>\n      <td>NaN</td>\n      <td>NaN</td>\n      <td>NaN</td>\n      <td>NaN</td>\n      <td>NaN</td>\n      <td>NaN</td>\n      <td>NaN</td>\n      <td>NaN</td>\n      <td>NaN</td>\n    </tr>\n    <tr>\n      <th>...</th>\n      <td>...</td>\n      <td>...</td>\n      <td>...</td>\n      <td>...</td>\n      <td>...</td>\n      <td>...</td>\n      <td>...</td>\n      <td>...</td>\n      <td>...</td>\n      <td>...</td>\n      <td>...</td>\n      <td>...</td>\n      <td>...</td>\n      <td>...</td>\n      <td>...</td>\n      <td>...</td>\n      <td>...</td>\n      <td>...</td>\n      <td>...</td>\n      <td>...</td>\n      <td>...</td>\n    </tr>\n    <tr>\n      <th>94181</th>\n      <td>2018-01-01</td>\n      <td>PL1331LAHD1AWH</td>\n      <td>HGST HMS5C4040BLE640</td>\n      <td>4000787030016</td>\n      <td>0</td>\n      <td>100</td>\n      <td>0</td>\n      <td>134.0</td>\n      <td>100.0</td>\n      <td>100</td>\n      <td>...</td>\n      <td>NaN</td>\n      <td>NaN</td>\n      <td>NaN</td>\n      <td>NaN</td>\n      <td>NaN</td>\n      <td>NaN</td>\n      <td>NaN</td>\n      <td>NaN</td>\n      <td>NaN</td>\n      <td>NaN</td>\n    </tr>\n    <tr>\n      <th>94182</th>\n      <td>2018-01-01</td>\n      <td>Z3016V0V</td>\n      <td>ST4000DM000</td>\n      <td>4000787030016</td>\n      <td>0</td>\n      <td>117</td>\n      <td>124839040</td>\n      <td>NaN</td>\n      <td>NaN</td>\n      <td>91</td>\n      <td>...</td>\n      <td>NaN</td>\n      <td>NaN</td>\n      <td>NaN</td>\n      <td>NaN</td>\n      <td>NaN</td>\n      <td>NaN</td>\n      <td>NaN</td>\n      <td>NaN</td>\n      <td>NaN</td>\n      <td>NaN</td>\n    </tr>\n    <tr>\n      <th>94183</th>\n      <td>2018-01-01</td>\n      <td>PL1331LAHD0AHH</td>\n      <td>HGST HMS5C4040BLE640</td>\n      <td>4000787030016</td>\n      <td>0</td>\n      <td>100</td>\n      <td>0</td>\n      <td>134.0</td>\n      <td>100.0</td>\n      <td>100</td>\n      <td>...</td>\n      <td>NaN</td>\n      <td>NaN</td>\n      <td>NaN</td>\n      <td>NaN</td>\n      <td>NaN</td>\n      <td>NaN</td>\n      <td>NaN</td>\n      <td>NaN</td>\n      <td>NaN</td>\n      <td>NaN</td>\n    </tr>\n    <tr>\n      <th>94184</th>\n      <td>2018-01-01</td>\n      <td>PL1331LAHD1T5H</td>\n      <td>HGST HMS5C4040BLE640</td>\n      <td>4000787030016</td>\n      <td>0</td>\n      <td>100</td>\n      <td>0</td>\n      <td>134.0</td>\n      <td>101.0</td>\n      <td>148</td>\n      <td>...</td>\n      <td>NaN</td>\n      <td>NaN</td>\n      <td>NaN</td>\n      <td>NaN</td>\n      <td>NaN</td>\n      <td>NaN</td>\n      <td>NaN</td>\n      <td>NaN</td>\n      <td>NaN</td>\n      <td>NaN</td>\n    </tr>\n    <tr>\n      <th>94185</th>\n      <td>2018-01-01</td>\n      <td>Z30271GD</td>\n      <td>ST4000DM000</td>\n      <td>4000787030016</td>\n      <td>0</td>\n      <td>118</td>\n      <td>174174344</td>\n      <td>NaN</td>\n      <td>NaN</td>\n      <td>91</td>\n      <td>...</td>\n      <td>NaN</td>\n      <td>NaN</td>\n      <td>NaN</td>\n      <td>NaN</td>\n      <td>NaN</td>\n      <td>NaN</td>\n      <td>NaN</td>\n      <td>NaN</td>\n      <td>NaN</td>\n      <td>NaN</td>\n    </tr>\n  </tbody>\n</table>\n<p>94186 rows × 105 columns</p>\n</div>"
     },
     "metadata": {},
     "execution_count": 24
    }
   ],
   "source": [
    "data.pop(0)"
   ]
  },
  {
   "cell_type": "code",
   "execution_count": 25,
   "metadata": {},
   "outputs": [
    {
     "output_type": "execute_result",
     "data": {
      "text/plain": "5"
     },
     "metadata": {},
     "execution_count": 25
    }
   ],
   "source": [
    "len(data)"
   ]
  },
  {
   "cell_type": "code",
   "execution_count": 27,
   "metadata": {},
   "outputs": [
    {
     "output_type": "execute_result",
     "data": {
      "text/plain": "             date   serial_number                 model  capacity_bytes  \\\n0      2018-01-06        Z305B2QN           ST4000DM000   4000787030016   \n1      2018-01-06  PL1331LAHG1S4H  HGST HMS5C4040ALE640   4000787030016   \n2      2018-01-06        ZA16NQJR          ST8000NM0055   8001563222016   \n3      2018-01-06        ZA18CEBT          ST8000NM0055   8001563222016   \n4      2018-01-06        ZA18CEBS          ST8000NM0055   8001563222016   \n...           ...             ...                   ...             ...   \n96621  2018-01-06  PL1331LAHD1AWH  HGST HMS5C4040BLE640   4000787030016   \n96622  2018-01-06        Z3016V0V           ST4000DM000   4000787030016   \n96623  2018-01-06  PL1331LAHD0AHH  HGST HMS5C4040BLE640   4000787030016   \n96624  2018-01-06  PL1331LAHD1T5H  HGST HMS5C4040BLE640   4000787030016   \n96625  2018-01-06        Z30271GD           ST4000DM000   4000787030016   \n\n       failure  smart_1_normalized  smart_1_raw  smart_2_normalized  \\\n0            0                 119    205150984                 NaN   \n1            0                 100            0               134.0   \n2            0                  82    170346744                 NaN   \n3            0                  83    215281136                 NaN   \n4            0                  82    177771168                 NaN   \n...        ...                 ...          ...                 ...   \n96621        0                 100            0               134.0   \n96622        0                 110     26939808                 NaN   \n96623        0                 100            0               134.0   \n96624        0                 100            0               134.0   \n96625        0                 112     42722488                 NaN   \n\n       smart_2_raw  smart_3_normalized  ...  smart_250_normalized  \\\n0              NaN                  91  ...                   NaN   \n1            103.0                 100  ...                   NaN   \n2              NaN                  94  ...                   NaN   \n3              NaN                  96  ...                   NaN   \n4              NaN                  97  ...                   NaN   \n...            ...                 ...  ...                   ...   \n96621        100.0                 100  ...                   NaN   \n96622          NaN                  91  ...                   NaN   \n96623        100.0                 100  ...                   NaN   \n96624        101.0                 148  ...                   NaN   \n96625          NaN                  91  ...                   NaN   \n\n       smart_250_raw  smart_251_normalized  smart_251_raw  \\\n0                NaN                   NaN            NaN   \n1                NaN                   NaN            NaN   \n2                NaN                   NaN            NaN   \n3                NaN                   NaN            NaN   \n4                NaN                   NaN            NaN   \n...              ...                   ...            ...   \n96621            NaN                   NaN            NaN   \n96622            NaN                   NaN            NaN   \n96623            NaN                   NaN            NaN   \n96624            NaN                   NaN            NaN   \n96625            NaN                   NaN            NaN   \n\n       smart_252_normalized  smart_252_raw  smart_254_normalized  \\\n0                       NaN            NaN                   NaN   \n1                       NaN            NaN                   NaN   \n2                       NaN            NaN                   NaN   \n3                       NaN            NaN                   NaN   \n4                       NaN            NaN                   NaN   \n...                     ...            ...                   ...   \n96621                   NaN            NaN                   NaN   \n96622                   NaN            NaN                   NaN   \n96623                   NaN            NaN                   NaN   \n96624                   NaN            NaN                   NaN   \n96625                   NaN            NaN                   NaN   \n\n       smart_254_raw  smart_255_normalized  smart_255_raw  \n0                NaN                   NaN            NaN  \n1                NaN                   NaN            NaN  \n2                NaN                   NaN            NaN  \n3                NaN                   NaN            NaN  \n4                NaN                   NaN            NaN  \n...              ...                   ...            ...  \n96621            NaN                   NaN            NaN  \n96622            NaN                   NaN            NaN  \n96623            NaN                   NaN            NaN  \n96624            NaN                   NaN            NaN  \n96625            NaN                   NaN            NaN  \n\n[96626 rows x 105 columns]",
      "text/html": "<div>\n<style scoped>\n    .dataframe tbody tr th:only-of-type {\n        vertical-align: middle;\n    }\n\n    .dataframe tbody tr th {\n        vertical-align: top;\n    }\n\n    .dataframe thead th {\n        text-align: right;\n    }\n</style>\n<table border=\"1\" class=\"dataframe\">\n  <thead>\n    <tr style=\"text-align: right;\">\n      <th></th>\n      <th>date</th>\n      <th>serial_number</th>\n      <th>model</th>\n      <th>capacity_bytes</th>\n      <th>failure</th>\n      <th>smart_1_normalized</th>\n      <th>smart_1_raw</th>\n      <th>smart_2_normalized</th>\n      <th>smart_2_raw</th>\n      <th>smart_3_normalized</th>\n      <th>...</th>\n      <th>smart_250_normalized</th>\n      <th>smart_250_raw</th>\n      <th>smart_251_normalized</th>\n      <th>smart_251_raw</th>\n      <th>smart_252_normalized</th>\n      <th>smart_252_raw</th>\n      <th>smart_254_normalized</th>\n      <th>smart_254_raw</th>\n      <th>smart_255_normalized</th>\n      <th>smart_255_raw</th>\n    </tr>\n  </thead>\n  <tbody>\n    <tr>\n      <th>0</th>\n      <td>2018-01-06</td>\n      <td>Z305B2QN</td>\n      <td>ST4000DM000</td>\n      <td>4000787030016</td>\n      <td>0</td>\n      <td>119</td>\n      <td>205150984</td>\n      <td>NaN</td>\n      <td>NaN</td>\n      <td>91</td>\n      <td>...</td>\n      <td>NaN</td>\n      <td>NaN</td>\n      <td>NaN</td>\n      <td>NaN</td>\n      <td>NaN</td>\n      <td>NaN</td>\n      <td>NaN</td>\n      <td>NaN</td>\n      <td>NaN</td>\n      <td>NaN</td>\n    </tr>\n    <tr>\n      <th>1</th>\n      <td>2018-01-06</td>\n      <td>PL1331LAHG1S4H</td>\n      <td>HGST HMS5C4040ALE640</td>\n      <td>4000787030016</td>\n      <td>0</td>\n      <td>100</td>\n      <td>0</td>\n      <td>134.0</td>\n      <td>103.0</td>\n      <td>100</td>\n      <td>...</td>\n      <td>NaN</td>\n      <td>NaN</td>\n      <td>NaN</td>\n      <td>NaN</td>\n      <td>NaN</td>\n      <td>NaN</td>\n      <td>NaN</td>\n      <td>NaN</td>\n      <td>NaN</td>\n      <td>NaN</td>\n    </tr>\n    <tr>\n      <th>2</th>\n      <td>2018-01-06</td>\n      <td>ZA16NQJR</td>\n      <td>ST8000NM0055</td>\n      <td>8001563222016</td>\n      <td>0</td>\n      <td>82</td>\n      <td>170346744</td>\n      <td>NaN</td>\n      <td>NaN</td>\n      <td>94</td>\n      <td>...</td>\n      <td>NaN</td>\n      <td>NaN</td>\n      <td>NaN</td>\n      <td>NaN</td>\n      <td>NaN</td>\n      <td>NaN</td>\n      <td>NaN</td>\n      <td>NaN</td>\n      <td>NaN</td>\n      <td>NaN</td>\n    </tr>\n    <tr>\n      <th>3</th>\n      <td>2018-01-06</td>\n      <td>ZA18CEBT</td>\n      <td>ST8000NM0055</td>\n      <td>8001563222016</td>\n      <td>0</td>\n      <td>83</td>\n      <td>215281136</td>\n      <td>NaN</td>\n      <td>NaN</td>\n      <td>96</td>\n      <td>...</td>\n      <td>NaN</td>\n      <td>NaN</td>\n      <td>NaN</td>\n      <td>NaN</td>\n      <td>NaN</td>\n      <td>NaN</td>\n      <td>NaN</td>\n      <td>NaN</td>\n      <td>NaN</td>\n      <td>NaN</td>\n    </tr>\n    <tr>\n      <th>4</th>\n      <td>2018-01-06</td>\n      <td>ZA18CEBS</td>\n      <td>ST8000NM0055</td>\n      <td>8001563222016</td>\n      <td>0</td>\n      <td>82</td>\n      <td>177771168</td>\n      <td>NaN</td>\n      <td>NaN</td>\n      <td>97</td>\n      <td>...</td>\n      <td>NaN</td>\n      <td>NaN</td>\n      <td>NaN</td>\n      <td>NaN</td>\n      <td>NaN</td>\n      <td>NaN</td>\n      <td>NaN</td>\n      <td>NaN</td>\n      <td>NaN</td>\n      <td>NaN</td>\n    </tr>\n    <tr>\n      <th>...</th>\n      <td>...</td>\n      <td>...</td>\n      <td>...</td>\n      <td>...</td>\n      <td>...</td>\n      <td>...</td>\n      <td>...</td>\n      <td>...</td>\n      <td>...</td>\n      <td>...</td>\n      <td>...</td>\n      <td>...</td>\n      <td>...</td>\n      <td>...</td>\n      <td>...</td>\n      <td>...</td>\n      <td>...</td>\n      <td>...</td>\n      <td>...</td>\n      <td>...</td>\n      <td>...</td>\n    </tr>\n    <tr>\n      <th>96621</th>\n      <td>2018-01-06</td>\n      <td>PL1331LAHD1AWH</td>\n      <td>HGST HMS5C4040BLE640</td>\n      <td>4000787030016</td>\n      <td>0</td>\n      <td>100</td>\n      <td>0</td>\n      <td>134.0</td>\n      <td>100.0</td>\n      <td>100</td>\n      <td>...</td>\n      <td>NaN</td>\n      <td>NaN</td>\n      <td>NaN</td>\n      <td>NaN</td>\n      <td>NaN</td>\n      <td>NaN</td>\n      <td>NaN</td>\n      <td>NaN</td>\n      <td>NaN</td>\n      <td>NaN</td>\n    </tr>\n    <tr>\n      <th>96622</th>\n      <td>2018-01-06</td>\n      <td>Z3016V0V</td>\n      <td>ST4000DM000</td>\n      <td>4000787030016</td>\n      <td>0</td>\n      <td>110</td>\n      <td>26939808</td>\n      <td>NaN</td>\n      <td>NaN</td>\n      <td>91</td>\n      <td>...</td>\n      <td>NaN</td>\n      <td>NaN</td>\n      <td>NaN</td>\n      <td>NaN</td>\n      <td>NaN</td>\n      <td>NaN</td>\n      <td>NaN</td>\n      <td>NaN</td>\n      <td>NaN</td>\n      <td>NaN</td>\n    </tr>\n    <tr>\n      <th>96623</th>\n      <td>2018-01-06</td>\n      <td>PL1331LAHD0AHH</td>\n      <td>HGST HMS5C4040BLE640</td>\n      <td>4000787030016</td>\n      <td>0</td>\n      <td>100</td>\n      <td>0</td>\n      <td>134.0</td>\n      <td>100.0</td>\n      <td>100</td>\n      <td>...</td>\n      <td>NaN</td>\n      <td>NaN</td>\n      <td>NaN</td>\n      <td>NaN</td>\n      <td>NaN</td>\n      <td>NaN</td>\n      <td>NaN</td>\n      <td>NaN</td>\n      <td>NaN</td>\n      <td>NaN</td>\n    </tr>\n    <tr>\n      <th>96624</th>\n      <td>2018-01-06</td>\n      <td>PL1331LAHD1T5H</td>\n      <td>HGST HMS5C4040BLE640</td>\n      <td>4000787030016</td>\n      <td>0</td>\n      <td>100</td>\n      <td>0</td>\n      <td>134.0</td>\n      <td>101.0</td>\n      <td>148</td>\n      <td>...</td>\n      <td>NaN</td>\n      <td>NaN</td>\n      <td>NaN</td>\n      <td>NaN</td>\n      <td>NaN</td>\n      <td>NaN</td>\n      <td>NaN</td>\n      <td>NaN</td>\n      <td>NaN</td>\n      <td>NaN</td>\n    </tr>\n    <tr>\n      <th>96625</th>\n      <td>2018-01-06</td>\n      <td>Z30271GD</td>\n      <td>ST4000DM000</td>\n      <td>4000787030016</td>\n      <td>0</td>\n      <td>112</td>\n      <td>42722488</td>\n      <td>NaN</td>\n      <td>NaN</td>\n      <td>91</td>\n      <td>...</td>\n      <td>NaN</td>\n      <td>NaN</td>\n      <td>NaN</td>\n      <td>NaN</td>\n      <td>NaN</td>\n      <td>NaN</td>\n      <td>NaN</td>\n      <td>NaN</td>\n      <td>NaN</td>\n      <td>NaN</td>\n    </tr>\n  </tbody>\n</table>\n<p>96626 rows × 105 columns</p>\n</div>"
     },
     "metadata": {},
     "execution_count": 27
    }
   ],
   "source": [
    "data.pop(5)"
   ]
  },
  {
   "cell_type": "code",
   "execution_count": 33,
   "metadata": {
    "tags": []
   },
   "outputs": [
    {
     "output_type": "stream",
     "name": "stdout",
     "text": "[13720, 65393, 74156]\n[4455, 13426, 16124, 22891, 23533, 52293, 71333, 76043]\n[680, 29469, 34292, 69502, 73536, 87991]\n[3042, 39646, 54046, 93640]\n[7422, 39730, 41546, 62477, 70911, 75940]\n"
    }
   ],
   "source": [
    "for i in range(len(data)):\n",
    "    index = list(data[i][data[i].failure == 1].index)\n",
    "    print(index)\n",
    "    data[i] = data[i].drop(labels = index)"
   ]
  },
  {
   "cell_type": "code",
   "execution_count": 32,
   "metadata": {
    "tags": []
   },
   "outputs": [
    {
     "output_type": "execute_result",
     "data": {
      "text/plain": "Empty DataFrame\nColumns: [date, serial_number, model, capacity_bytes, failure, smart_1_normalized, smart_1_raw, smart_2_normalized, smart_2_raw, smart_3_normalized, smart_3_raw, smart_4_normalized, smart_4_raw, smart_5_normalized, smart_5_raw, smart_7_normalized, smart_7_raw, smart_8_normalized, smart_8_raw, smart_9_normalized, smart_9_raw, smart_10_normalized, smart_10_raw, smart_11_normalized, smart_11_raw, smart_12_normalized, smart_12_raw, smart_13_normalized, smart_13_raw, smart_15_normalized, smart_15_raw, smart_22_normalized, smart_22_raw, smart_177_normalized, smart_177_raw, smart_179_normalized, smart_179_raw, smart_181_normalized, smart_181_raw, smart_182_normalized, smart_182_raw, smart_183_normalized, smart_183_raw, smart_184_normalized, smart_184_raw, smart_187_normalized, smart_187_raw, smart_188_normalized, smart_188_raw, smart_189_normalized, smart_189_raw, smart_190_normalized, smart_190_raw, smart_191_normalized, smart_191_raw, smart_192_normalized, smart_192_raw, smart_193_normalized, smart_193_raw, smart_194_normalized, smart_194_raw, smart_195_normalized, smart_195_raw, smart_196_normalized, smart_196_raw, smart_197_normalized, smart_197_raw, smart_198_normalized, smart_198_raw, smart_199_normalized, smart_199_raw, smart_200_normalized, smart_200_raw, smart_201_normalized, smart_201_raw, smart_220_normalized, smart_220_raw, smart_222_normalized, smart_222_raw, smart_223_normalized, smart_223_raw, smart_224_normalized, smart_224_raw, smart_225_normalized, smart_225_raw, smart_226_normalized, smart_226_raw, smart_235_normalized, smart_235_raw, smart_240_normalized, smart_240_raw, smart_241_normalized, smart_241_raw, smart_242_normalized, smart_242_raw, smart_250_normalized, smart_250_raw, smart_251_normalized, smart_251_raw, smart_252_normalized, ...]\nIndex: []\n\n[0 rows x 105 columns]",
      "text/html": "<div>\n<style scoped>\n    .dataframe tbody tr th:only-of-type {\n        vertical-align: middle;\n    }\n\n    .dataframe tbody tr th {\n        vertical-align: top;\n    }\n\n    .dataframe thead th {\n        text-align: right;\n    }\n</style>\n<table border=\"1\" class=\"dataframe\">\n  <thead>\n    <tr style=\"text-align: right;\">\n      <th></th>\n      <th>date</th>\n      <th>serial_number</th>\n      <th>model</th>\n      <th>capacity_bytes</th>\n      <th>failure</th>\n      <th>smart_1_normalized</th>\n      <th>smart_1_raw</th>\n      <th>smart_2_normalized</th>\n      <th>smart_2_raw</th>\n      <th>smart_3_normalized</th>\n      <th>...</th>\n      <th>smart_250_normalized</th>\n      <th>smart_250_raw</th>\n      <th>smart_251_normalized</th>\n      <th>smart_251_raw</th>\n      <th>smart_252_normalized</th>\n      <th>smart_252_raw</th>\n      <th>smart_254_normalized</th>\n      <th>smart_254_raw</th>\n      <th>smart_255_normalized</th>\n      <th>smart_255_raw</th>\n    </tr>\n  </thead>\n  <tbody>\n  </tbody>\n</table>\n<p>0 rows × 105 columns</p>\n</div>"
     },
     "metadata": {},
     "execution_count": 32
    }
   ],
   "source": [
    "data[0][data[0].serial_number == '13720']\n",
    "    "
   ]
  },
  {
   "cell_type": "code",
   "execution_count": 34,
   "metadata": {
    "tags": []
   },
   "outputs": [
    {
     "output_type": "stream",
     "name": "stdout",
     "text": "Empty DataFrame\nColumns: [date, serial_number, model, capacity_bytes, failure, smart_1_normalized, smart_1_raw, smart_2_normalized, smart_2_raw, smart_3_normalized, smart_3_raw, smart_4_normalized, smart_4_raw, smart_5_normalized, smart_5_raw, smart_7_normalized, smart_7_raw, smart_8_normalized, smart_8_raw, smart_9_normalized, smart_9_raw, smart_10_normalized, smart_10_raw, smart_11_normalized, smart_11_raw, smart_12_normalized, smart_12_raw, smart_13_normalized, smart_13_raw, smart_15_normalized, smart_15_raw, smart_22_normalized, smart_22_raw, smart_177_normalized, smart_177_raw, smart_179_normalized, smart_179_raw, smart_181_normalized, smart_181_raw, smart_182_normalized, smart_182_raw, smart_183_normalized, smart_183_raw, smart_184_normalized, smart_184_raw, smart_187_normalized, smart_187_raw, smart_188_normalized, smart_188_raw, smart_189_normalized, smart_189_raw, smart_190_normalized, smart_190_raw, smart_191_normalized, smart_191_raw, smart_192_normalized, smart_192_raw, smart_193_normalized, smart_193_raw, smart_194_normalized, smart_194_raw, smart_195_normalized, smart_195_raw, smart_196_normalized, smart_196_raw, smart_197_normalized, smart_197_raw, smart_198_normalized, smart_198_raw, smart_199_normalized, smart_199_raw, smart_200_normalized, smart_200_raw, smart_201_normalized, smart_201_raw, smart_220_normalized, smart_220_raw, smart_222_normalized, smart_222_raw, smart_223_normalized, smart_223_raw, smart_224_normalized, smart_224_raw, smart_225_normalized, smart_225_raw, smart_226_normalized, smart_226_raw, smart_235_normalized, smart_235_raw, smart_240_normalized, smart_240_raw, smart_241_normalized, smart_241_raw, smart_242_normalized, smart_242_raw, smart_250_normalized, smart_250_raw, smart_251_normalized, smart_251_raw, smart_252_normalized, ...]\nIndex: []\n\n[0 rows x 105 columns]\nEmpty DataFrame\nColumns: [date, serial_number, model, capacity_bytes, failure, smart_1_normalized, smart_1_raw, smart_2_normalized, smart_2_raw, smart_3_normalized, smart_3_raw, smart_4_normalized, smart_4_raw, smart_5_normalized, smart_5_raw, smart_7_normalized, smart_7_raw, smart_8_normalized, smart_8_raw, smart_9_normalized, smart_9_raw, smart_10_normalized, smart_10_raw, smart_11_normalized, smart_11_raw, smart_12_normalized, smart_12_raw, smart_13_normalized, smart_13_raw, smart_15_normalized, smart_15_raw, smart_22_normalized, smart_22_raw, smart_177_normalized, smart_177_raw, smart_179_normalized, smart_179_raw, smart_181_normalized, smart_181_raw, smart_182_normalized, smart_182_raw, smart_183_normalized, smart_183_raw, smart_184_normalized, smart_184_raw, smart_187_normalized, smart_187_raw, smart_188_normalized, smart_188_raw, smart_189_normalized, smart_189_raw, smart_190_normalized, smart_190_raw, smart_191_normalized, smart_191_raw, smart_192_normalized, smart_192_raw, smart_193_normalized, smart_193_raw, smart_194_normalized, smart_194_raw, smart_195_normalized, smart_195_raw, smart_196_normalized, smart_196_raw, smart_197_normalized, smart_197_raw, smart_198_normalized, smart_198_raw, smart_199_normalized, smart_199_raw, smart_200_normalized, smart_200_raw, smart_201_normalized, smart_201_raw, smart_220_normalized, smart_220_raw, smart_222_normalized, smart_222_raw, smart_223_normalized, smart_223_raw, smart_224_normalized, smart_224_raw, smart_225_normalized, smart_225_raw, smart_226_normalized, smart_226_raw, smart_235_normalized, smart_235_raw, smart_240_normalized, smart_240_raw, smart_241_normalized, smart_241_raw, smart_242_normalized, smart_242_raw, smart_250_normalized, smart_250_raw, smart_251_normalized, smart_251_raw, smart_252_normalized, ...]\nIndex: []\n\n[0 rows x 105 columns]\nEmpty DataFrame\nColumns: [date, serial_number, model, capacity_bytes, failure, smart_1_normalized, smart_1_raw, smart_2_normalized, smart_2_raw, smart_3_normalized, smart_3_raw, smart_4_normalized, smart_4_raw, smart_5_normalized, smart_5_raw, smart_7_normalized, smart_7_raw, smart_8_normalized, smart_8_raw, smart_9_normalized, smart_9_raw, smart_10_normalized, smart_10_raw, smart_11_normalized, smart_11_raw, smart_12_normalized, smart_12_raw, smart_13_normalized, smart_13_raw, smart_15_normalized, smart_15_raw, smart_22_normalized, smart_22_raw, smart_177_normalized, smart_177_raw, smart_179_normalized, smart_179_raw, smart_181_normalized, smart_181_raw, smart_182_normalized, smart_182_raw, smart_183_normalized, smart_183_raw, smart_184_normalized, smart_184_raw, smart_187_normalized, smart_187_raw, smart_188_normalized, smart_188_raw, smart_189_normalized, smart_189_raw, smart_190_normalized, smart_190_raw, smart_191_normalized, smart_191_raw, smart_192_normalized, smart_192_raw, smart_193_normalized, smart_193_raw, smart_194_normalized, smart_194_raw, smart_195_normalized, smart_195_raw, smart_196_normalized, smart_196_raw, smart_197_normalized, smart_197_raw, smart_198_normalized, smart_198_raw, smart_199_normalized, smart_199_raw, smart_200_normalized, smart_200_raw, smart_201_normalized, smart_201_raw, smart_220_normalized, smart_220_raw, smart_222_normalized, smart_222_raw, smart_223_normalized, smart_223_raw, smart_224_normalized, smart_224_raw, smart_225_normalized, smart_225_raw, smart_226_normalized, smart_226_raw, smart_235_normalized, smart_235_raw, smart_240_normalized, smart_240_raw, smart_241_normalized, smart_241_raw, smart_242_normalized, smart_242_raw, smart_250_normalized, smart_250_raw, smart_251_normalized, smart_251_raw, smart_252_normalized, ...]\nIndex: []\n\n[0 rows x 105 columns]\nEmpty DataFrame\nColumns: [date, serial_number, model, capacity_bytes, failure, smart_1_normalized, smart_1_raw, smart_2_normalized, smart_2_raw, smart_3_normalized, smart_3_raw, smart_4_normalized, smart_4_raw, smart_5_normalized, smart_5_raw, smart_7_normalized, smart_7_raw, smart_8_normalized, smart_8_raw, smart_9_normalized, smart_9_raw, smart_10_normalized, smart_10_raw, smart_11_normalized, smart_11_raw, smart_12_normalized, smart_12_raw, smart_13_normalized, smart_13_raw, smart_15_normalized, smart_15_raw, smart_22_normalized, smart_22_raw, smart_177_normalized, smart_177_raw, smart_179_normalized, smart_179_raw, smart_181_normalized, smart_181_raw, smart_182_normalized, smart_182_raw, smart_183_normalized, smart_183_raw, smart_184_normalized, smart_184_raw, smart_187_normalized, smart_187_raw, smart_188_normalized, smart_188_raw, smart_189_normalized, smart_189_raw, smart_190_normalized, smart_190_raw, smart_191_normalized, smart_191_raw, smart_192_normalized, smart_192_raw, smart_193_normalized, smart_193_raw, smart_194_normalized, smart_194_raw, smart_195_normalized, smart_195_raw, smart_196_normalized, smart_196_raw, smart_197_normalized, smart_197_raw, smart_198_normalized, smart_198_raw, smart_199_normalized, smart_199_raw, smart_200_normalized, smart_200_raw, smart_201_normalized, smart_201_raw, smart_220_normalized, smart_220_raw, smart_222_normalized, smart_222_raw, smart_223_normalized, smart_223_raw, smart_224_normalized, smart_224_raw, smart_225_normalized, smart_225_raw, smart_226_normalized, smart_226_raw, smart_235_normalized, smart_235_raw, smart_240_normalized, smart_240_raw, smart_241_normalized, smart_241_raw, smart_242_normalized, smart_242_raw, smart_250_normalized, smart_250_raw, smart_251_normalized, smart_251_raw, smart_252_normalized, ...]\nIndex: []\n\n[0 rows x 105 columns]\nEmpty DataFrame\nColumns: [date, serial_number, model, capacity_bytes, failure, smart_1_normalized, smart_1_raw, smart_2_normalized, smart_2_raw, smart_3_normalized, smart_3_raw, smart_4_normalized, smart_4_raw, smart_5_normalized, smart_5_raw, smart_7_normalized, smart_7_raw, smart_8_normalized, smart_8_raw, smart_9_normalized, smart_9_raw, smart_10_normalized, smart_10_raw, smart_11_normalized, smart_11_raw, smart_12_normalized, smart_12_raw, smart_13_normalized, smart_13_raw, smart_15_normalized, smart_15_raw, smart_22_normalized, smart_22_raw, smart_177_normalized, smart_177_raw, smart_179_normalized, smart_179_raw, smart_181_normalized, smart_181_raw, smart_182_normalized, smart_182_raw, smart_183_normalized, smart_183_raw, smart_184_normalized, smart_184_raw, smart_187_normalized, smart_187_raw, smart_188_normalized, smart_188_raw, smart_189_normalized, smart_189_raw, smart_190_normalized, smart_190_raw, smart_191_normalized, smart_191_raw, smart_192_normalized, smart_192_raw, smart_193_normalized, smart_193_raw, smart_194_normalized, smart_194_raw, smart_195_normalized, smart_195_raw, smart_196_normalized, smart_196_raw, smart_197_normalized, smart_197_raw, smart_198_normalized, smart_198_raw, smart_199_normalized, smart_199_raw, smart_200_normalized, smart_200_raw, smart_201_normalized, smart_201_raw, smart_220_normalized, smart_220_raw, smart_222_normalized, smart_222_raw, smart_223_normalized, smart_223_raw, smart_224_normalized, smart_224_raw, smart_225_normalized, smart_225_raw, smart_226_normalized, smart_226_raw, smart_235_normalized, smart_235_raw, smart_240_normalized, smart_240_raw, smart_241_normalized, smart_241_raw, smart_242_normalized, smart_242_raw, smart_250_normalized, smart_250_raw, smart_251_normalized, smart_251_raw, smart_252_normalized, ...]\nIndex: []\n\n[0 rows x 105 columns]\n"
    }
   ],
   "source": [
    "for i in range(len(data)):\n",
    "    print(data[i][data[i].failure == 1])\n"
   ]
  },
  {
   "cell_type": "code",
   "execution_count": 8,
   "metadata": {},
   "outputs": [],
   "source": [
    "data.pop(0).to_csv('E:/data/1.csv')"
   ]
  },
  {
   "cell_type": "code",
   "execution_count": 1,
   "metadata": {},
   "outputs": [],
   "source": [
    "import pandas "
   ]
  },
  {
   "cell_type": "code",
   "execution_count": 7,
   "metadata": {
    "tags": []
   },
   "outputs": [
    {
     "output_type": "stream",
     "name": "stdout",
     "text": "5\n5\n[23055, 62930, 85618, 85812]\n4\n[23055, 62930, 85618, 85812]\n3\n[23070, 62968, 85675, 85869]\n2\n[23071, 62965, 85671, 85865]\n1\n[22845, 62348, 84875, 85065]\n0\n[22845, 62346, 84873, 85063]\n6\n5\n[28024, 89104]\n4\n[28042, 89162]\n3\n[28042, 89158]\n2\n[27765, 88328]\n1\n[27765, 88326]\n0\n[27763, 88327]\n7\n5\n[]\n4\n[]\n3\n[]\n2\n[]\n1\n[]\n0\n[]\n8\n5\n[44444]\n4\n[44014]\n3\n[44013]\n2\n[44011]\n1\n[44012]\n0\n[44013]\n9\n5\n[27194, 36586, 50709, 63750, 91541]\n4\n[27194, 36585, 50708, 63748, 91539]\n3\n[27192, 36584, 50707, 63747, 91540]\n2\n[27192, 36585, 50708, 63748, 91540]\n1\n[27193, 36586, 50709, 63749, 91541]\n0\n[27194, 36587, 50709, 63749, 91541]\n10\n5\n[88271]\n4\n[88272]\n3\n[88273]\n2\n[88274]\n1\n[88274]\n0\n[88273]\n11\n5\n[71798]\n4\n[71799]\n3\n[71800]\n2\n[71800]\n1\n[71799]\n0\n[71672]\n12\n5\n[1805, 12879, 54873, 82020, 99061]\n4\n[1806, 12880, 54874, 82021, 99062]\n3\n[1806, 12880, 54874, 82021, 99062]\n2\n[1806, 12881, 54875, 82020, 99060]\n1\n[1805, 12858, 54776, 81872, 98876]\n0\n[1826, 13028, 55442, 82876, 100096]\n13\n5\n[2846, 21959, 22316, 28485, 35507]\n4\n[2846, 21960, 22317, 28486, 35508]\n3\n[2846, 21961, 22318, 28487, 35509]\n2\n[2842, 21907, 22264, 28421, 35429]\n1\n[2878, 22179, 22539, 28793, 35887]\n0\n[2871, 22153, 22512, 28761, 35851]\n14\n5\n[30277, 83927]\n4\n[30278, 83926]\n3\n[30209, 83774]\n2\n[30599, 84805]\n1\n[30567, 84725]\n0\n[30504, 84571]\n15\n5\n[17735, 59541]\n4\n[17691, 59435]\n3\n[17911, 60162]\n2\n[17889, 60101]\n1\n[17854, 59989]\n0\n[17854, 59989]\n16\n5\n[20598, 57502]\n4\n[20862, 58206]\n3\n[20836, 58147]\n2\n[20798, 58038]\n1\n[20798, 58037]\n0\n[20798, 58037]\n17\n5\n[27440, 35012, 64435, 67943]\n4\n[27411, 34977, 64370, 67874]\n3\n[27355, 34908, 64251, 67749]\n2\n[27355, 34907, 64251, 67750]\n1\n[27355, 34907, 64251, 67750]\n0\n[27336, 34879, 64200, 67693]\n18\n5\n[51082]\n4\n[50985]\n3\n[50984]\n2\n[50984]\n1\n[50946]\n0\n[50945]\n19\n5\n[16192, 28730, 44384, 72576, 75412]\n4\n[16192, 28730, 44383, 72577, 75412]\n3\n[16193, 28730, 44383, 72577, 75412]\n2\n[16180, 28708, 44349, 72518, 75349]\n1\n[16181, 28708, 44348, 72516, 75347]\n0\n[16138, 28647, 44258, 72362, 75189]\n20\n5\n[9330]\n4\n[9330]\n3\n[9326]\n2\n[9327]\n1\n[9297]\n0\n[9281]\n21\n5\n[5700]\n4\n[5694]\n3\n[5695]\n2\n[5675]\n1\n[5663]\n0\n[5658]\n22\n5\n[49598, 72075]\n4\n[49597, 72073]\n3\n[49501, 71919]\n2\n[49462, 71872]\n1\n[49391, 53947, 71762]\n0\n[49290, 53840, 71614]\n23\n5\n[]\n4\n[]\n3\n[]\n2\n[]\n1\n[]\n0\n[]\n24\n5\n[23238, 45838]\n4\n[23209, 45800]\n3\n[23180, 45734]\n2\n[23133, 45645]\n1\n[23133, 45646]\n0\n[23122, 45626]\n25\n5\n[2552, 25542, 27119, 59999]\n4\n[2550, 25511, 27087, 59907]\n3\n[2544, 25462, 27033, 59789]\n2\n[2545, 25462, 27033, 59789]\n1\n[2544, 25450, 27019, 59761]\n0\n[2542, 25439, 27008, 59739]\n26\n5\n[897, 35882, 48635]\n4\n[893, 35813, 48536]\n3\n[894, 35814, 48537]\n2\n[894, 35798, 48516]\n1\n[894, 35788, 48498]\n0\n[906, 36239, 49100]\n27\n5\n[30283, 98665]\n4\n[30283, 98663]\n3\n[30270, 98618]\n2\n[30258, 98571]\n1\n[30646, 99786]\n0\n[30538, 99466]\n28\n5\n[7725, 53738, 93276]\n4\n[7720, 53712, 93232]\n3\n[7717, 53693, 93188]\n2\n[7808, 54357, 94353]\n1\n[7782, 54161, 94044]\n0\n[7782, 54161, 94044]\n29\n5\n[1225, 23450, 40449, 72869]\n4\n[1225, 23440, 40434, 72837]\n3\n[1241, 23740, 40944, 73758]\n2\n[1236, 23661, 40799, 73504]\n1\n[1236, 23661, 40799, 73505]\n0\n[1236, 23661, 40800, 73506]\n30\n5\n[85775]\n4\n[86845]\n3\n[86565]\n2\n[86565]\n1\n[86565]\n0\n[86567]\n31\n5\n[5588, 62542]\n4\n[5569, 62319]\n3\n[5569, 62319]\n2\n[5569, 62320]\n1\n[5569, 62322]\n0\n[5569, 62302]\n32\n5\n[17382, 25118, 38652, 45550, 53387]\n4\n[17382, 25118, 38652, 45550, 53387]\n3\n[17382, 25118, 38653, 45552, 53389]\n2\n[17381, 25119, 38655, 45553, 53391]\n1\n[17368, 25102, 38637, 45540, 53377]\n0\n[17347, 25068, 38590, 45484, 53310]\n33\n5\n[42630, 67704, 79893, 87196]\n4\n[42631, 67705, 79893, 87196]\n3\n[42632, 67707, 79895, 87198]\n2\n[42615, 67679, 79857, 87148]\n1\n[42564, 67603, 79760, 87045]\n0\n[42535, 67565, 79719, 87003]\n34\n5\n[48843, 73689]\n4\n[48845, 73690]\n3\n[48834, 73659]\n2\n[48774, 73576]\n1\n[48743, 73538]\n0\n[48744, 73539]\n35\n5\n[90810]\n4\n[90758]\n3\n[90649]\n2\n[90604]\n1\n[90604]\n0\n[90656]\n36\n5\n[23910, 75188, 88510]\n4\n[23878, 75102, 88406]\n3\n[23864, 75063, 88363]\n2\n[23864, 75064, 88363]\n1\n[23880, 75104, 88412]\n0\n[23880, 75104, 88412]\n37\n5\n[26565, 48992, 69325, 85068, 97746]\n4\n[26550, 48961, 69287, 85025, 97702]\n3\n[26550, 48962, 69288, 85026, 97702]\n2\n[26570, 48987, 69325, 85075, 97761]\n1\n[26570, 48987, 69325, 85075, 97760]\n0\n[26571, 48987, 69326, 85075, 97761]\n38\n5\n[2216, 26471, 42695, 42732, 48421, 90161]\n4\n[2216, 26471, 42697, 42734, 48422, 90161]\n3\n[2218, 26491, 42719, 42756, 48448, 90213]\n2\n[2218, 26491, 42719, 42756, 48448, 90213]\n1\n[2218, 26492, 42720, 42757, 48448, 90212]\n0\n[2216, 26476, 42703, 42740, 48427, 90160]\n39\n5\n[7343, 14166, 89613]\n4\n[7351, 14178, 89665]\n3\n[7351, 14178, 89665]\n2\n[7351, 14179, 89664]\n1\n[7344, 14170, 89612]\n0\n[7349, 14179, 89652]\n40\n5\n[33228, 76134, 95772, 96102]\n4\n[33228, 76134, 95771, 96101]\n3\n[33229, 76134, 95771, 96101]\n2\n[33212, 76096, 95713, 96043]\n1\n[33227, 76126, 95755, 96085]\n0\n[33260, 76196, 95848, 96178]\n41\n5\n[20737, 33068, 33258, 55741, 78748]\n4\n[20738, 33069, 33259, 55742, 78748]\n3\n[20728, 33052, 33242, 55716, 78706]\n2\n[20739, 33067, 33257, 55734, 78738]\n1\n[20756, 33100, 33290, 55783, 78813]\n0\n[21010, 33491, 33682, 56447, 79747]\n42\n5\n[36132, 37017, 66097, 74523]\n4\n[36112, 36997, 66066, 74486]\n3\n[36128, 37013, 66093, 74514]\n2\n[36161, 37046, 66155, 74584]\n1\n[36590, 37482, 66929, 75461]\n0\n[36591, 37483, 66930, 75463]\n43\n5\n[43845, 88258]\n4\n[43862, 88295]\n3\n[43899, 88379]\n2\n[44418, 89425]\n1\n[44419, 89425]\n0\n[44399, 89386]\n44\n5\n[59571]\n4\n[59622]\n3\n[40354, 60308]\n2\n[40355, 60309]\n1\n[40337, 60285]\n0\n[40337, 60286]\n45\n5\n[]\n4\n[]\n3\n[]\n2\n[]\n1\n[]\n0\n[]\n46\n5\n[46455, 59313, 82376, 94553]\n4\n[46456, 59314, 82377, 94552]\n3\n[46436, 59290, 82342, 94509]\n2\n[46436, 59291, 82342, 94509]\n1\n[47003, 59996, 83325, 95649]\n0\n[46983, 59965, 83287, 95600]\n47\n5\n[1980, 27895, 37210, 52184, 57192, 65903, 95224]\n4\n[1980, 27881, 37194, 52162, 57170, 65873, 95181]\n3\n[1981, 27882, 37194, 52163, 57171, 65873, 95181]\n2\n[2008, 28229, 37649, 52799, 57848, 66654, 96328]\n1\n[2007, 28207, 37628, 52774, 57821, 66622, 96278]\n0\n[2005, 28178, 37590, 52728, 57769, 66559, 96189]\n48\n5\n[17034, 50536, 53220, 57064]\n4\n[17035, 50537, 53221, 57065]\n3\n[17238, 51150, 53867, 57741]\n2\n[17226, 51127, 53841, 57714]\n1\n[17206, 51081, 53793, 57663]\n0\n[17184, 51035, 53740, 57608]\n49\n5\n[26485, 31540]\n4\n[26818, 31933]\n3\n[26796, 31910]\n2\n[26769, 31881]\n1\n[26746, 31852]\n0\n[12220, 26749, 31855]\n50\n5\n[22587, 22983, 33959, 65288, 83054]\n4\n[22571, 22967, 33938, 65257, 83016]\n3\n[22546, 22942, 33907, 65193, 82936]\n2\n[22524, 22920, 33879, 65131, 82859]\n1\n[22527, 22923, 33882, 65130, 82858, 98397]\n0\n[22525, 22921, 33881, 65128, 82856, 98395]\n51\n5\n[6030, 9868, 22272, 60941, 82885, 93191]\n4\n[6022, 9855, 22247, 60883, 82805, 93105]\n3\n[6018, 9845, 22225, 60824, 82728, 93019]\n2\n[6018, 9846, 22228, 60824, 82727, 93018]\n1\n[6018, 9845, 22226, 60822, 82725, 93016]\n0\n[6019, 9847, 22227, 60826, 82729, 93019]\n52\n5\n[30883, 33532, 41769, 55309, 56102]\n4\n[30855, 33504, 41731, 55255, 56048]\n3\n[30858, 33507, 41734, 55257, 56050]\n2\n[30858, 33506, 41733, 55256, 56049]\n1\n[30859, 33508, 41734, 55260, 56053]\n0\n[30766, 33406, 41614, 55107, 55899]\n53\n5\n[8734, 16357]\n4\n[8734, 16360]\n3\n[8734, 16358]\n2\n[8735, 16359]\n1\n[8704, 16311]\n0\n[8704, 16311]\n54\n5\n[27239, 57112, 64621, 81810, 87126, 93245]\n4\n[27238, 57111, 64619, 81808, 87124, 93243]\n3\n[27238, 57115, 64625, 81812, 87127, 93246]\n2\n[27149, 56960, 64449, 81589, 86890, 92989]\n1\n[27148, 56958, 64447, 81588, 86889, 92989]\n0\n[27155, 56979, 64470, 81623, 86925, 93031]\n55\n5\n[23604, 83930, 94989]\n4\n[23604, 83934, 94993]\n3\n[23529, 83704, 94728]\n2\n[23529, 83703, 94728]\n1\n[23535, 83739, 94772]\n0\n[23538, 83740, 94772]\n56\n5\n[13882]\n4\n[13838]\n3\n[13838]\n2\n[13845]\n1\n[13847]\n0\n[13836]\n57\n5\n[2733]\n4\n[2733]\n3\n[2736]\n2\n[2736]\n1\n[2733]\n0\n[2734]\n58\n5\n[6072]\n4\n[6075]\n3\n[6076]\n2\n[6070, 93624]\n1\n[6071, 93624]\n0\n[6070, 93623]\n59\n5\n[1962]\n4\n[1962]\n3\n[1962]\n2\n[1962]\n1\n[1962]\n0\n[1962]\n60\n5\n[31488, 46953, 62925]\n4\n[31471, 46929, 62894]\n3\n[31472, 46929, 62894]\n2\n[31471, 46928, 62893]\n1\n[31471, 46928, 62893]\n0\n[31506, 46972, 62958]\n61\n5\n[346, 31852, 68997, 83698, 89221]\n4\n[346, 31853, 68997, 83698, 89221]\n3\n[346, 31852, 68996, 83697, 89220]\n2\n[346, 31852, 68996, 83698, 89221]\n1\n[31887, 69075, 83797, 89329]\n0\n[346, 31879, 69051, 83763, 89291]\n62\n5\n[1165, 12024, 32611]\n4\n[1165, 12023, 32610]\n3\n[1165, 12022, 32610]\n2\n[1165, 12037, 32647]\n1\n[1166, 12034, 32636]\n0\n[1164, 12029, 32620]\n63\n5\n[8025]\n4\n[8024]\n3\n[8034]\n2\n[8035]\n1\n[8031]\n0\n[8013]\n64\n5\n[90500, 98274, 98547, 100775]\n4\n[90608, 98393, 98666, 100896]\n3\n[90570, 98347, 98620, 100851]\n2\n[90526, 98303, 98576, 100806]\n1\n[90369, 98126, 98399, 100623]\n0\n[90272, 98021, 98294, 100517]\n65\n5\n[43504]\n4\n[43492]\n3\n[43472]\n2\n[43393]\n1\n[43353]\n0\n[43354]\n66\n5\n[10261, 21682, 49800, 84151]\n4\n[10256, 21671, 49779, 84113]\n3\n[10232, 21628, 49685, 83963]\n2\n[10220, 21602, 49640, 83873]\n1\n[10220, 21602, 49641, 83874]\n0\n[10151, 21447, 49268, 83251]\n67\n5\n[1928, 96614]\n4\n[1924, 96442]\n3\n[1919, 96338]\n2\n[1919, 96338]\n1\n[1897, 95638]\n0\n[1896, 95684]\n68\n5\n[21803, 26177, 46989, 64559]\n4\n[21777, 26150, 46945, 64493]\n3\n[21777, 26150, 46946, 64495]\n2\n[21620, 25941, 46596, 64008]\n1\n[21630, 25956, 46617, 64044]\n0\n[21621, 25943, 46592, 64003]\n69\n5\n[18515, 38965, 63824, 67339, 68798, 97883]\n4\n[18515, 38966, 63826, 67341, 68800, 97883]\n3\n[18382, 38670, 63346, 66839, 68289, 97175]\n2\n[18390, 38689, 63382, 66879, 68329, 97220]\n1\n[18384, 38672, 63342, 66838, 68287, 97161]\n0\n[18373, 38649, 63308, 66800, 68250, 97116]\n70\n5\n[78947]\n4\n[78359]\n3\n[78403]\n2\n[78351]\n1\n[78311]\n0\n[78142]\n71\n5\n[12432, 14498, 17015, 23429, 24319, 58509, 60429, 92585, 99908]\n4\n[12440, 14505, 17021, 23440, 24331, 58540, 60462, 92632, 99952]\n3\n[12432, 14500, 17016, 23430, 24320, 58507, 60424, 92575, 99893]\n2\n[12423, 14491, 17006, 23415, 24304, 58477, 60394, 92532, 99848]\n1\n[12401, 14467, 16977, 23366, 24254, 58348, 60262, 92328, 99622]\n0\n[12400, 14467, 16977, 23366, 24254, 58349, 60263, 92329, 99623]\n72\n5\n[413, 34676, 38295, 51975, 52572, 68612, 78467, 81025]\n4\n[413, 34659, 38276, 51951, 52546, 68569, 78415, 80970]\n3\n[413, 34636, 38253, 51922, 52517, 68532, 78375, 80929]\n2\n[412, 34563, 38168, 51813, 52407, 68377, 78206, 80754]\n1\n[412, 34564, 38169, 51814, 52408, 68379, 78207, 80755]\n0\n[412, 34563, 38168, 51813, 52407, 68375, 78204, 80752]\n73\n5\n[67995, 93505, 99887]\n4\n[67958, 93461, 99842]\n3\n[67807, 93252, 99616]\n2\n[67809, 93253, 99617]\n1\n[67805, 93251, 99615]\n0\n[67844, 93299, 99664]\n74\n5\n[13152, 23619, 37936, 41249, 46248, 65346]\n4\n[13130, 23570, 37851, 41154, 46148, 65200]\n3\n[13130, 23570, 37852, 41155, 46149, 65201]\n2\n[13132, 23570, 37851, 41154, 46148, 65198]\n1\n[13139, 23585, 37875, 41177, 46171, 65233]\n0\n[13131, 23574, 37860, 41162, 46152, 65207]\n75\n5\n[28085, 32715, 66882, 87911, 98984]\n4\n[28086, 32716, 66884, 87912, 98985]\n3\n[28085, 32714, 66880, 87910, 98983]\n2\n[28104, 32734, 66919, 87953, 99033]\n1\n[28092, 32722, 66890, 87912, 98988]\n0\n[28070, 32695, 66811, 87817, 98895]\n76\n5\n[20911, 26702, 44469]\n4\n[20912, 26701, 44468]\n3\n[20923, 26720, 44491, 76951]\n2\n[20911, 26709, 44473, 76916]\n1\n[20897, 26687, 44433, 76823]\n0\n[20882, 26661, 44379, 76737]\n77\n5\n[640, 43772, 99024]\n4\n[639, 43795, 99074]\n3\n[639, 43779, 99029]\n2\n[638, 43741, 98936]\n1\n[637, 43687, 98830]\n0\n[637, 43688, 98830]\n78\n5\n[22633, 32068, 39905, 57188, 59496, 71032, 72949, 76983, 90374, 91453]\n4\n[22621, 32056, 39890, 57164, 59469, 71000, 72916, 76948, 90331, 91410]\n3\n[22606, 32028, 39860, 57104, 59400, 70911, 72825, 76855, 90236, 91316]\n2\n[22588, 31998, 39809, 57028, 59327, 70829, 72742, 76769, 90134, 91213]\n1\n[22587, 31195, 31998, 39809, 57028, 59327, 70828, 72741, 76768, 90134, 91213]\n0\n[22586, 31195, 31998, 39810, 57029, 59329, 70830, 72743, 76770, 90135, 91214]\n79\n5\n[78193, 92693]\n4\n[78103, 92601]\n3\n[78016, 92499]\n2\n[78015, 92499]\n1\n[78017, 92500]\n0\n[1365, 30200, 78002, 92479]\n80\n5\n[92139]\n4\n[92036]\n3\n[92036]\n2\n[92037]\n1\n[92016]\n0\n[92017]\n81\n5\n[29740, 30235, 33755, 93102]\n4\n[29739, 30234, 33755, 93102]\n3\n[29738, 30234, 33756, 93103]\n2\n[29733, 30230, 33750, 93082]\n1\n[29732, 30228, 33748, 93082]\n0\n[29733, 30229, 33749, 93082]\n82\n5\n[69491, 87669, 95731]\n4\n[69493, 87670, 95732]\n3\n[69479, 87653, 95708]\n2\n[69480, 87654, 95708]\n1\n[69481, 87655, 95708]\n0\n[69519, 87702, 95754]\n83\n5\n[2010]\n4\n[2012]\n3\n[2011]\n2\n[2011]\n1\n[2013]\n0\n[2012]\n84\n5\n[13190, 50463, 90797]\n4\n[13189, 50462, 90798]\n3\n[13189, 50463, 90799]\n2\n[13193, 50492, 90845]\n1\n[13179, 50449]\n0\n[13178, 50449, 90753]\n85\n5\n[73766]\n4\n[73767]\n3\n[73809]\n2\n[73739]\n1\n[73738]\n0\n[73737]\n86\n5\n[12018, 49027, 56249, 63489, 83781, 92024]\n4\n[12022, 49055, 56281, 63527, 83825, 92070]\n3\n[12009, 49011, 56234, 63470, 83743, 91977]\n2\n[12008, 49011, 56234, 63469, 83742, 91977]\n1\n[12008, 49010, 56233, 63468, 83743, 91977]\n0\n[12014, 49026, 56249, 63487, 83770, 92008]\n87\n5\n[5902, 19446, 44344, 61497]\n4\n[5899, 19429, 44304, 61443]\n3\n[5898, 19428, 44304, 61443]\n2\n[5898, 19427, 44304, 61442]\n1\n[5899, 19434, 44319, 61460]\n0\n[5898, 19426, 44303, 61439]\n88\n5\n[99005]\n4\n[99005]\n3\n[99005]\n2\n[99037]\n1\n[99006]\n0\n[99006]\n89\n5\n[4443, 12911, 20410, 39444, 42896, 48306, 53526, 84630, 99230]\n4\n[4443, 12911, 20409, 39443, 42895, 48306, 53525, 84631, 99230]\n3\n[4443, 12917, 20417, 39456, 42910, 48322, 53543, 84658, 99262]\n2\n[4443, 12910, 20408, 23181, 39442, 42894, 48305, 53523, 84628, 99231]\n1\n[4443, 12909, 20406, 23179, 37931, 39442, 42894, 48304, 53522, 84628, 99231]\n0\n[4445, 12916, 20416, 23193, 37950, 39461, 42915, 48326, 53549, 84669, 99276]\n90\n5\n[]\n4\n[]\n3\n[]\n2\n[]\n1\n[]\n0\n[]\n"
    }
   ],
   "source": [
    "import os\n",
    "import pandas as pd\n",
    "import numpy as np\n",
    "\n",
    "dataOfBlack_2020_Q1 = []\n",
    "\n",
    "\n",
    "\n",
    "dirs = os.listdir('E:/data/data_Q2_2018')\n",
    "\n",
    "dataOfBlack_2020_Q1.append()\n",
    "\n",
    "for i in dirs:\n",
    "    dataOfBlack_2020_Q1.append(pd.read_csv('E:/data/data_Q2_2018/' + i))\n",
    "\n",
    "for i in range(5):\n",
    "    dataOfBlack_2020_Q1[i] = dataOfBlack_2020_Q1[i].drop(labels = list(dataOfBlack_2020_Q1[i][dataOfBlack_2020_Q1[i]['failure'] == 1].index))\n",
    "\n",
    "listOfnegativeSample = []\n",
    "for i in range(5, len(dataOfBlack_2020_Q1)):\n",
    "    dataOferrordisk = dataOfBlack_2020_Q1[i][dataOfBlack_2020_Q1[i].failure == 1]\n",
    "    serial = list(dataOferrordisk.serial_number.values)\n",
    "    k = 5\n",
    "    index = []\n",
    "    print(i)\n",
    "    while(k >= 0):\n",
    "        print(k)\n",
    "        for j in serial:\n",
    "            index = index + list(dataOfBlack_2020_Q1[i - k][dataOfBlack_2020_Q1[i - k].serial_number == j].index)\n",
    "        print(index)\n",
    "        dataOfBlack_2020_Q1[i - k] = dataOfBlack_2020_Q1[i - k].drop(labels = index)\n",
    "        index = []\n",
    "        k = k - 1\n",
    "      \n",
    "for i in range(len(dataOfBlack_2020_Q1)):\n",
    "    dataOfBlack_2020_Q1[i].to_csv('E:/data/data_Q2_2018_a/N' + dirs[i])"
   ]
  },
  {
   "cell_type": "code",
   "execution_count": 24,
   "metadata": {},
   "outputs": [
    {
     "output_type": "execute_result",
     "data": {
      "text/plain": "<bound method IndexOpsMixin.value_counts of 0                 ST4000DM000\n1        HGST HMS5C4040ALE640\n2                ST8000NM0055\n3                ST8000NM0055\n4                ST8000NM0055\n                 ...         \n94181    HGST HMS5C4040BLE640\n94182             ST4000DM000\n94183    HGST HMS5C4040BLE640\n94184    HGST HMS5C4040BLE640\n94185             ST4000DM000\nName: model, Length: 94186, dtype: object>"
     },
     "metadata": {},
     "execution_count": 24
    }
   ],
   "source": [
    "data['model'].value_counts"
   ]
  },
  {
   "cell_type": "code",
   "execution_count": 1,
   "metadata": {},
   "outputs": [],
   "source": [
    "import pandas as pd \n",
    "import numpy as np"
   ]
  },
  {
   "cell_type": "code",
   "execution_count": 25,
   "metadata": {},
   "outputs": [],
   "source": [
    "data = pd.read_csv('E:/data/data_Q1_2018/2018-01-01.csv')"
   ]
  },
  {
   "cell_type": "code",
   "execution_count": 27,
   "metadata": {
    "tags": []
   },
   "outputs": [],
   "source": [
    "a = list(set(data['model'].values))\n"
   ]
  },
  {
   "cell_type": "code",
   "execution_count": 28,
   "metadata": {},
   "outputs": [
    {
     "output_type": "execute_result",
     "data": {
      "text/plain": "['ST320LT007',\n 'ST4000DX002',\n 'HGST HUH728080ALE600',\n 'HGST HMS5C4040ALE640',\n 'WDC WD2500AAJS',\n 'HGST HDS724040ALE640',\n 'WDC WD3200AAJS',\n 'ST250LM004 HN',\n 'ST6000DM001',\n 'WDC WD40EFRX',\n 'ST6000DX000',\n 'WDC WD3200AAKS',\n 'ST12000NM0007',\n 'WDC WD1600AAJS',\n 'ST500LM012 HN',\n 'ST31500541AS',\n 'TOSHIBA MD04ABA400V',\n 'WDC WD5000BPKT',\n 'ST3160316AS',\n 'TOSHIBA HDWE160',\n 'WDC WD30EFRX',\n 'ST8000DM002',\n 'ST9250315AS',\n 'Hitachi HDS5C4040ALE630',\n 'WDC WD2500BPVT',\n 'HGST HUS726040ALE610',\n 'WDC WD5000LPCX',\n 'HGST HDS5C4040ALE630',\n 'ST10000NM0086',\n 'TOSHIBA MQ01ABF050',\n 'Hitachi HDS722020ALA330',\n 'ST4000DM005',\n 'ST4000DM001',\n 'ST9320325AS',\n 'Hitachi HDS724040ALE640',\n 'ST6000DM004',\n 'ST4000DM000',\n 'WDC WD5000LPVX',\n 'WDC WD3200LPVX',\n 'HGST HMS5C4040BLE640',\n 'TOSHIBA MQ01ABF050M',\n 'ST33000651AS',\n 'WDC WD60EFRX',\n 'ST8000NM0055',\n 'ST3160318AS',\n 'ST8000DM005',\n 'WDC WD1600BPVT',\n 'WDC WD3200BEKX',\n 'TOSHIBA MD04ABA500V']"
     },
     "metadata": {},
     "execution_count": 28
    }
   ],
   "source": [
    "a"
   ]
  },
  {
   "cell_type": "code",
   "execution_count": 30,
   "metadata": {
    "tags": []
   },
   "outputs": [],
   "source": [
    "for i in list(set(data['model'].values)):\n",
    "    if(not i.startswith('ST')):\n",
    "        a.remove(i)"
   ]
  },
  {
   "cell_type": "code",
   "execution_count": 31,
   "metadata": {},
   "outputs": [
    {
     "output_type": "execute_result",
     "data": {
      "text/plain": "['ST320LT007',\n 'ST4000DX002',\n 'ST250LM004 HN',\n 'ST6000DM001',\n 'ST6000DX000',\n 'ST12000NM0007',\n 'ST500LM012 HN',\n 'ST31500541AS',\n 'ST3160316AS',\n 'ST8000DM002',\n 'ST9250315AS',\n 'ST10000NM0086',\n 'ST4000DM005',\n 'ST4000DM001',\n 'ST9320325AS',\n 'ST6000DM004',\n 'ST4000DM000',\n 'ST33000651AS',\n 'ST8000NM0055',\n 'ST3160318AS',\n 'ST8000DM005']"
     },
     "metadata": {},
     "execution_count": 31
    }
   ],
   "source": [
    "a"
   ]
  },
  {
   "cell_type": "code",
   "execution_count": 33,
   "metadata": {},
   "outputs": [
    {
     "output_type": "execute_result",
     "data": {
      "text/plain": "             date serial_number         model  capacity_bytes  failure  \\\n0      2018-01-01      Z305B2QN   ST4000DM000   4000787030016        0   \n2      2018-01-01      ZA16NQJR  ST8000NM0055   8001563222016        0   \n3      2018-01-01      ZA18CEBT  ST8000NM0055   8001563222016        0   \n4      2018-01-01      ZA18CEBS  ST8000NM0055   8001563222016        0   \n5      2018-01-01      Z305DEMG   ST4000DM000   4000787030016        0   \n...           ...           ...           ...             ...      ...   \n94178  2018-01-01      ZA16DYDH  ST8000NM0055   8001563222016        0   \n94179  2018-01-01      ZA10MCEJ   ST8000DM002   8001563222016        0   \n94180  2018-01-01      ZA10MCEH   ST8000DM002   8001563222016        0   \n94182  2018-01-01      Z3016V0V   ST4000DM000   4000787030016        0   \n94185  2018-01-01      Z30271GD   ST4000DM000   4000787030016        0   \n\n       smart_1_normalized  smart_1_raw  smart_2_normalized  smart_2_raw  \\\n0                     120      2346048                 NaN          NaN   \n2                      81    119386608                 NaN          NaN   \n3                      83    194649096                 NaN          NaN   \n4                      83    187404648                 NaN          NaN   \n5                     116    115775056                 NaN          NaN   \n...                   ...          ...                 ...          ...   \n94178                  84    242893504                 NaN          NaN   \n94179                  80     89780736                 NaN          NaN   \n94180                  79     81408680                 NaN          NaN   \n94182                 117    124839040                 NaN          NaN   \n94185                 118    174174344                 NaN          NaN   \n\n       smart_3_normalized  ...  smart_250_normalized  smart_250_raw  \\\n0                      91  ...                   NaN            NaN   \n2                      94  ...                   NaN            NaN   \n3                      96  ...                   NaN            NaN   \n4                      97  ...                   NaN            NaN   \n5                      97  ...                   NaN            NaN   \n...                   ...  ...                   ...            ...   \n94178                  99  ...                   NaN            NaN   \n94179                  88  ...                   NaN            NaN   \n94180                  96  ...                   NaN            NaN   \n94182                  91  ...                   NaN            NaN   \n94185                  91  ...                   NaN            NaN   \n\n       smart_251_normalized  smart_251_raw  smart_252_normalized  \\\n0                       NaN            NaN                   NaN   \n2                       NaN            NaN                   NaN   \n3                       NaN            NaN                   NaN   \n4                       NaN            NaN                   NaN   \n5                       NaN            NaN                   NaN   \n...                     ...            ...                   ...   \n94178                   NaN            NaN                   NaN   \n94179                   NaN            NaN                   NaN   \n94180                   NaN            NaN                   NaN   \n94182                   NaN            NaN                   NaN   \n94185                   NaN            NaN                   NaN   \n\n       smart_252_raw  smart_254_normalized  smart_254_raw  \\\n0                NaN                   NaN            NaN   \n2                NaN                   NaN            NaN   \n3                NaN                   NaN            NaN   \n4                NaN                   NaN            NaN   \n5                NaN                   NaN            NaN   \n...              ...                   ...            ...   \n94178            NaN                   NaN            NaN   \n94179            NaN                   NaN            NaN   \n94180            NaN                   NaN            NaN   \n94182            NaN                   NaN            NaN   \n94185            NaN                   NaN            NaN   \n\n       smart_255_normalized  smart_255_raw  \n0                       NaN            NaN  \n2                       NaN            NaN  \n3                       NaN            NaN  \n4                       NaN            NaN  \n5                       NaN            NaN  \n...                     ...            ...  \n94178                   NaN            NaN  \n94179                   NaN            NaN  \n94180                   NaN            NaN  \n94182                   NaN            NaN  \n94185                   NaN            NaN  \n\n[67765 rows x 105 columns]",
      "text/html": "<div>\n<style scoped>\n    .dataframe tbody tr th:only-of-type {\n        vertical-align: middle;\n    }\n\n    .dataframe tbody tr th {\n        vertical-align: top;\n    }\n\n    .dataframe thead th {\n        text-align: right;\n    }\n</style>\n<table border=\"1\" class=\"dataframe\">\n  <thead>\n    <tr style=\"text-align: right;\">\n      <th></th>\n      <th>date</th>\n      <th>serial_number</th>\n      <th>model</th>\n      <th>capacity_bytes</th>\n      <th>failure</th>\n      <th>smart_1_normalized</th>\n      <th>smart_1_raw</th>\n      <th>smart_2_normalized</th>\n      <th>smart_2_raw</th>\n      <th>smart_3_normalized</th>\n      <th>...</th>\n      <th>smart_250_normalized</th>\n      <th>smart_250_raw</th>\n      <th>smart_251_normalized</th>\n      <th>smart_251_raw</th>\n      <th>smart_252_normalized</th>\n      <th>smart_252_raw</th>\n      <th>smart_254_normalized</th>\n      <th>smart_254_raw</th>\n      <th>smart_255_normalized</th>\n      <th>smart_255_raw</th>\n    </tr>\n  </thead>\n  <tbody>\n    <tr>\n      <th>0</th>\n      <td>2018-01-01</td>\n      <td>Z305B2QN</td>\n      <td>ST4000DM000</td>\n      <td>4000787030016</td>\n      <td>0</td>\n      <td>120</td>\n      <td>2346048</td>\n      <td>NaN</td>\n      <td>NaN</td>\n      <td>91</td>\n      <td>...</td>\n      <td>NaN</td>\n      <td>NaN</td>\n      <td>NaN</td>\n      <td>NaN</td>\n      <td>NaN</td>\n      <td>NaN</td>\n      <td>NaN</td>\n      <td>NaN</td>\n      <td>NaN</td>\n      <td>NaN</td>\n    </tr>\n    <tr>\n      <th>2</th>\n      <td>2018-01-01</td>\n      <td>ZA16NQJR</td>\n      <td>ST8000NM0055</td>\n      <td>8001563222016</td>\n      <td>0</td>\n      <td>81</td>\n      <td>119386608</td>\n      <td>NaN</td>\n      <td>NaN</td>\n      <td>94</td>\n      <td>...</td>\n      <td>NaN</td>\n      <td>NaN</td>\n      <td>NaN</td>\n      <td>NaN</td>\n      <td>NaN</td>\n      <td>NaN</td>\n      <td>NaN</td>\n      <td>NaN</td>\n      <td>NaN</td>\n      <td>NaN</td>\n    </tr>\n    <tr>\n      <th>3</th>\n      <td>2018-01-01</td>\n      <td>ZA18CEBT</td>\n      <td>ST8000NM0055</td>\n      <td>8001563222016</td>\n      <td>0</td>\n      <td>83</td>\n      <td>194649096</td>\n      <td>NaN</td>\n      <td>NaN</td>\n      <td>96</td>\n      <td>...</td>\n      <td>NaN</td>\n      <td>NaN</td>\n      <td>NaN</td>\n      <td>NaN</td>\n      <td>NaN</td>\n      <td>NaN</td>\n      <td>NaN</td>\n      <td>NaN</td>\n      <td>NaN</td>\n      <td>NaN</td>\n    </tr>\n    <tr>\n      <th>4</th>\n      <td>2018-01-01</td>\n      <td>ZA18CEBS</td>\n      <td>ST8000NM0055</td>\n      <td>8001563222016</td>\n      <td>0</td>\n      <td>83</td>\n      <td>187404648</td>\n      <td>NaN</td>\n      <td>NaN</td>\n      <td>97</td>\n      <td>...</td>\n      <td>NaN</td>\n      <td>NaN</td>\n      <td>NaN</td>\n      <td>NaN</td>\n      <td>NaN</td>\n      <td>NaN</td>\n      <td>NaN</td>\n      <td>NaN</td>\n      <td>NaN</td>\n      <td>NaN</td>\n    </tr>\n    <tr>\n      <th>5</th>\n      <td>2018-01-01</td>\n      <td>Z305DEMG</td>\n      <td>ST4000DM000</td>\n      <td>4000787030016</td>\n      <td>0</td>\n      <td>116</td>\n      <td>115775056</td>\n      <td>NaN</td>\n      <td>NaN</td>\n      <td>97</td>\n      <td>...</td>\n      <td>NaN</td>\n      <td>NaN</td>\n      <td>NaN</td>\n      <td>NaN</td>\n      <td>NaN</td>\n      <td>NaN</td>\n      <td>NaN</td>\n      <td>NaN</td>\n      <td>NaN</td>\n      <td>NaN</td>\n    </tr>\n    <tr>\n      <th>...</th>\n      <td>...</td>\n      <td>...</td>\n      <td>...</td>\n      <td>...</td>\n      <td>...</td>\n      <td>...</td>\n      <td>...</td>\n      <td>...</td>\n      <td>...</td>\n      <td>...</td>\n      <td>...</td>\n      <td>...</td>\n      <td>...</td>\n      <td>...</td>\n      <td>...</td>\n      <td>...</td>\n      <td>...</td>\n      <td>...</td>\n      <td>...</td>\n      <td>...</td>\n      <td>...</td>\n    </tr>\n    <tr>\n      <th>94178</th>\n      <td>2018-01-01</td>\n      <td>ZA16DYDH</td>\n      <td>ST8000NM0055</td>\n      <td>8001563222016</td>\n      <td>0</td>\n      <td>84</td>\n      <td>242893504</td>\n      <td>NaN</td>\n      <td>NaN</td>\n      <td>99</td>\n      <td>...</td>\n      <td>NaN</td>\n      <td>NaN</td>\n      <td>NaN</td>\n      <td>NaN</td>\n      <td>NaN</td>\n      <td>NaN</td>\n      <td>NaN</td>\n      <td>NaN</td>\n      <td>NaN</td>\n      <td>NaN</td>\n    </tr>\n    <tr>\n      <th>94179</th>\n      <td>2018-01-01</td>\n      <td>ZA10MCEJ</td>\n      <td>ST8000DM002</td>\n      <td>8001563222016</td>\n      <td>0</td>\n      <td>80</td>\n      <td>89780736</td>\n      <td>NaN</td>\n      <td>NaN</td>\n      <td>88</td>\n      <td>...</td>\n      <td>NaN</td>\n      <td>NaN</td>\n      <td>NaN</td>\n      <td>NaN</td>\n      <td>NaN</td>\n      <td>NaN</td>\n      <td>NaN</td>\n      <td>NaN</td>\n      <td>NaN</td>\n      <td>NaN</td>\n    </tr>\n    <tr>\n      <th>94180</th>\n      <td>2018-01-01</td>\n      <td>ZA10MCEH</td>\n      <td>ST8000DM002</td>\n      <td>8001563222016</td>\n      <td>0</td>\n      <td>79</td>\n      <td>81408680</td>\n      <td>NaN</td>\n      <td>NaN</td>\n      <td>96</td>\n      <td>...</td>\n      <td>NaN</td>\n      <td>NaN</td>\n      <td>NaN</td>\n      <td>NaN</td>\n      <td>NaN</td>\n      <td>NaN</td>\n      <td>NaN</td>\n      <td>NaN</td>\n      <td>NaN</td>\n      <td>NaN</td>\n    </tr>\n    <tr>\n      <th>94182</th>\n      <td>2018-01-01</td>\n      <td>Z3016V0V</td>\n      <td>ST4000DM000</td>\n      <td>4000787030016</td>\n      <td>0</td>\n      <td>117</td>\n      <td>124839040</td>\n      <td>NaN</td>\n      <td>NaN</td>\n      <td>91</td>\n      <td>...</td>\n      <td>NaN</td>\n      <td>NaN</td>\n      <td>NaN</td>\n      <td>NaN</td>\n      <td>NaN</td>\n      <td>NaN</td>\n      <td>NaN</td>\n      <td>NaN</td>\n      <td>NaN</td>\n      <td>NaN</td>\n    </tr>\n    <tr>\n      <th>94185</th>\n      <td>2018-01-01</td>\n      <td>Z30271GD</td>\n      <td>ST4000DM000</td>\n      <td>4000787030016</td>\n      <td>0</td>\n      <td>118</td>\n      <td>174174344</td>\n      <td>NaN</td>\n      <td>NaN</td>\n      <td>91</td>\n      <td>...</td>\n      <td>NaN</td>\n      <td>NaN</td>\n      <td>NaN</td>\n      <td>NaN</td>\n      <td>NaN</td>\n      <td>NaN</td>\n      <td>NaN</td>\n      <td>NaN</td>\n      <td>NaN</td>\n      <td>NaN</td>\n    </tr>\n  </tbody>\n</table>\n<p>67765 rows × 105 columns</p>\n</div>"
     },
     "metadata": {},
     "execution_count": 33
    }
   ],
   "source": [
    "data[data['model'].isin(a)]"
   ]
  },
  {
   "cell_type": "code",
   "execution_count": 35,
   "metadata": {},
   "outputs": [],
   "source": [
    "data1 = pd.read_csv('E:/data/data_Q1_2018/2018-01-02.csv')"
   ]
  },
  {
   "cell_type": "code",
   "execution_count": 36,
   "metadata": {},
   "outputs": [],
   "source": [
    "b = list(set(data1['model'].values))"
   ]
  },
  {
   "cell_type": "code",
   "execution_count": 37,
   "metadata": {},
   "outputs": [
    {
     "output_type": "execute_result",
     "data": {
      "text/plain": "['ST320LT007',\n 'ST4000DX002',\n 'ST250LM004 HN',\n 'ST6000DM001',\n 'ST6000DX000',\n 'ST12000NM0007',\n 'ST500LM012 HN',\n 'ST31500541AS',\n 'ST3160316AS',\n 'ST8000DM002',\n 'ST9250315AS',\n 'ST10000NM0086',\n 'ST4000DM005',\n 'ST4000DM001',\n 'ST9320325AS',\n 'ST6000DM004',\n 'ST4000DM000',\n 'ST33000651AS',\n 'ST8000NM0055',\n 'ST3160318AS',\n 'ST8000DM005']"
     },
     "metadata": {},
     "execution_count": 37
    }
   ],
   "source": [
    "a"
   ]
  },
  {
   "cell_type": "code",
   "execution_count": 39,
   "metadata": {},
   "outputs": [],
   "source": [
    "for i in list(set(data1['model'].values)):\n",
    "    if(not i.startswith('ST')):\n",
    "        b.remove(i)"
   ]
  },
  {
   "cell_type": "code",
   "execution_count": 40,
   "metadata": {},
   "outputs": [
    {
     "output_type": "execute_result",
     "data": {
      "text/plain": "['ST320LT007',\n 'ST4000DX002',\n 'ST250LM004 HN',\n 'ST6000DM001',\n 'ST6000DX000',\n 'ST12000NM0007',\n 'ST500LM012 HN',\n 'ST31500541AS',\n 'ST3160316AS',\n 'ST8000DM002',\n 'ST9250315AS',\n 'ST10000NM0086',\n 'ST4000DM005',\n 'ST4000DM001',\n 'ST9320325AS',\n 'ST6000DM004',\n 'ST4000DM000',\n 'ST33000651AS',\n 'ST8000NM0055',\n 'ST3160318AS',\n 'ST8000DM005']"
     },
     "metadata": {},
     "execution_count": 40
    }
   ],
   "source": [
    "b"
   ]
  },
  {
   "cell_type": "code",
   "execution_count": 41,
   "metadata": {},
   "outputs": [],
   "source": [
    "a = b"
   ]
  },
  {
   "cell_type": "code",
   "execution_count": 1,
   "metadata": {},
   "outputs": [],
   "source": [
    "import matplotlib.pyplot as plt"
   ]
  },
  {
   "cell_type": "code",
   "execution_count": 2,
   "metadata": {},
   "outputs": [],
   "source": [
    "import pandas as pd \n",
    "import numpy as np \n",
    "import os\n",
    "\n",
    "dataOfBlack_2020_Q1 = []\n",
    "dirs = os.listdir('E:/data/data_Q1_2018')\n",
    "\n",
    "for i in dirs:\n",
    "    dataOfBlack_2020_Q1.append(pd.read_csv('E:/data/data_Q1_2018/' + i))"
   ]
  },
  {
   "cell_type": "code",
   "execution_count": 3,
   "metadata": {
    "tags": []
   },
   "outputs": [
    {
     "output_type": "stream",
     "name": "stderr",
     "text": "ERROR:root:Internal Python error in the inspect module.\nBelow is the traceback from this internal error.\n\n"
    },
    {
     "output_type": "error",
     "ename": "KeyboardInterrupt",
     "evalue": "",
     "traceback": [
      "\u001b[1;31m---------------------------------------------------------------------------\u001b[0m",
      "\u001b[1;31mKeyboardInterrupt\u001b[0m                         Traceback (most recent call last)",
      "    \u001b[1;31m[... skipping hidden 1 frame]\u001b[0m\n",
      "\u001b[1;32m<ipython-input-3-febeaf7f8ad8>\u001b[0m in \u001b[0;36m<module>\u001b[1;34m\u001b[0m\n\u001b[1;32m----> 1\u001b[1;33m \u001b[0mnegativeSample\u001b[0m \u001b[1;33m=\u001b[0m \u001b[0mpd\u001b[0m\u001b[1;33m.\u001b[0m\u001b[0mconcat\u001b[0m\u001b[1;33m(\u001b[0m\u001b[0mdataOfBlack_2020_Q1\u001b[0m\u001b[1;33m,\u001b[0m \u001b[0mignore_index\u001b[0m\u001b[1;33m=\u001b[0m\u001b[1;32mTrue\u001b[0m\u001b[1;33m)\u001b[0m\u001b[1;33m\u001b[0m\u001b[1;33m\u001b[0m\u001b[0m\n\u001b[0m",
      "\u001b[1;32mD:\\Anaconda3\\envs\\pytorch-gpu\\lib\\site-packages\\pandas\\core\\reshape\\concat.py\u001b[0m in \u001b[0;36mconcat\u001b[1;34m(objs, axis, join, ignore_index, keys, levels, names, verify_integrity, sort, copy)\u001b[0m\n\u001b[0;32m    286\u001b[0m \u001b[1;33m\u001b[0m\u001b[0m\n\u001b[1;32m--> 287\u001b[1;33m     \u001b[1;32mreturn\u001b[0m \u001b[0mop\u001b[0m\u001b[1;33m.\u001b[0m\u001b[0mget_result\u001b[0m\u001b[1;33m(\u001b[0m\u001b[1;33m)\u001b[0m\u001b[1;33m\u001b[0m\u001b[1;33m\u001b[0m\u001b[0m\n\u001b[0m\u001b[0;32m    288\u001b[0m \u001b[1;33m\u001b[0m\u001b[0m\n",
      "\u001b[1;32mD:\\Anaconda3\\envs\\pytorch-gpu\\lib\\site-packages\\pandas\\core\\reshape\\concat.py\u001b[0m in \u001b[0;36mget_result\u001b[1;34m(self)\u001b[0m\n\u001b[0;32m    502\u001b[0m             new_data = concatenate_block_managers(\n\u001b[1;32m--> 503\u001b[1;33m                 \u001b[0mmgrs_indexers\u001b[0m\u001b[1;33m,\u001b[0m \u001b[0mself\u001b[0m\u001b[1;33m.\u001b[0m\u001b[0mnew_axes\u001b[0m\u001b[1;33m,\u001b[0m \u001b[0mconcat_axis\u001b[0m\u001b[1;33m=\u001b[0m\u001b[0mself\u001b[0m\u001b[1;33m.\u001b[0m\u001b[0mbm_axis\u001b[0m\u001b[1;33m,\u001b[0m \u001b[0mcopy\u001b[0m\u001b[1;33m=\u001b[0m\u001b[0mself\u001b[0m\u001b[1;33m.\u001b[0m\u001b[0mcopy\u001b[0m\u001b[1;33m,\u001b[0m\u001b[1;33m\u001b[0m\u001b[1;33m\u001b[0m\u001b[0m\n\u001b[0m\u001b[0;32m    504\u001b[0m             )\n",
      "\u001b[1;32mD:\\Anaconda3\\envs\\pytorch-gpu\\lib\\site-packages\\pandas\\core\\internals\\concat.py\u001b[0m in \u001b[0;36mconcatenate_block_managers\u001b[1;34m(mgrs_indexers, axes, concat_axis, copy)\u001b[0m\n\u001b[0;32m     78\u001b[0m             b = make_block(\n\u001b[1;32m---> 79\u001b[1;33m                 \u001b[0m_concatenate_join_units\u001b[0m\u001b[1;33m(\u001b[0m\u001b[0mjoin_units\u001b[0m\u001b[1;33m,\u001b[0m \u001b[0mconcat_axis\u001b[0m\u001b[1;33m,\u001b[0m \u001b[0mcopy\u001b[0m\u001b[1;33m=\u001b[0m\u001b[0mcopy\u001b[0m\u001b[1;33m,\u001b[0m\u001b[1;33m)\u001b[0m\u001b[1;33m,\u001b[0m\u001b[1;33m\u001b[0m\u001b[1;33m\u001b[0m\u001b[0m\n\u001b[0m\u001b[0;32m     80\u001b[0m                 \u001b[0mplacement\u001b[0m\u001b[1;33m=\u001b[0m\u001b[0mplacement\u001b[0m\u001b[1;33m,\u001b[0m\u001b[1;33m\u001b[0m\u001b[1;33m\u001b[0m\u001b[0m\n",
      "\u001b[1;32mD:\\Anaconda3\\envs\\pytorch-gpu\\lib\\site-packages\\pandas\\core\\internals\\concat.py\u001b[0m in \u001b[0;36m_concatenate_join_units\u001b[1;34m(join_units, concat_axis, copy)\u001b[0m\n\u001b[0;32m    317\u001b[0m         \u001b[0mju\u001b[0m\u001b[1;33m.\u001b[0m\u001b[0mget_reindexed_values\u001b[0m\u001b[1;33m(\u001b[0m\u001b[0mempty_dtype\u001b[0m\u001b[1;33m=\u001b[0m\u001b[0mempty_dtype\u001b[0m\u001b[1;33m,\u001b[0m \u001b[0mupcasted_na\u001b[0m\u001b[1;33m=\u001b[0m\u001b[0mupcasted_na\u001b[0m\u001b[1;33m)\u001b[0m\u001b[1;33m\u001b[0m\u001b[1;33m\u001b[0m\u001b[0m\n\u001b[1;32m--> 318\u001b[1;33m         \u001b[1;32mfor\u001b[0m \u001b[0mju\u001b[0m \u001b[1;32min\u001b[0m \u001b[0mjoin_units\u001b[0m\u001b[1;33m\u001b[0m\u001b[1;33m\u001b[0m\u001b[0m\n\u001b[0m\u001b[0;32m    319\u001b[0m     ]\n",
      "\u001b[1;32mD:\\Anaconda3\\envs\\pytorch-gpu\\lib\\site-packages\\pandas\\core\\internals\\concat.py\u001b[0m in \u001b[0;36m<listcomp>\u001b[1;34m(.0)\u001b[0m\n\u001b[0;32m    317\u001b[0m         \u001b[0mju\u001b[0m\u001b[1;33m.\u001b[0m\u001b[0mget_reindexed_values\u001b[0m\u001b[1;33m(\u001b[0m\u001b[0mempty_dtype\u001b[0m\u001b[1;33m=\u001b[0m\u001b[0mempty_dtype\u001b[0m\u001b[1;33m,\u001b[0m \u001b[0mupcasted_na\u001b[0m\u001b[1;33m=\u001b[0m\u001b[0mupcasted_na\u001b[0m\u001b[1;33m)\u001b[0m\u001b[1;33m\u001b[0m\u001b[1;33m\u001b[0m\u001b[0m\n\u001b[1;32m--> 318\u001b[1;33m         \u001b[1;32mfor\u001b[0m \u001b[0mju\u001b[0m \u001b[1;32min\u001b[0m \u001b[0mjoin_units\u001b[0m\u001b[1;33m\u001b[0m\u001b[1;33m\u001b[0m\u001b[0m\n\u001b[0m\u001b[0;32m    319\u001b[0m     ]\n",
      "\u001b[1;32mD:\\Anaconda3\\envs\\pytorch-gpu\\lib\\site-packages\\pandas\\core\\internals\\concat.py\u001b[0m in \u001b[0;36mget_reindexed_values\u001b[1;34m(self, empty_dtype, upcasted_na)\u001b[0m\n\u001b[0;32m    300\u001b[0m             \u001b[1;32mfor\u001b[0m \u001b[0max\u001b[0m\u001b[1;33m,\u001b[0m \u001b[0mindexer\u001b[0m \u001b[1;32min\u001b[0m \u001b[0mself\u001b[0m\u001b[1;33m.\u001b[0m\u001b[0mindexers\u001b[0m\u001b[1;33m.\u001b[0m\u001b[0mitems\u001b[0m\u001b[1;33m(\u001b[0m\u001b[1;33m)\u001b[0m\u001b[1;33m:\u001b[0m\u001b[1;33m\u001b[0m\u001b[1;33m\u001b[0m\u001b[0m\n\u001b[1;32m--> 301\u001b[1;33m                 \u001b[0mvalues\u001b[0m \u001b[1;33m=\u001b[0m \u001b[0malgos\u001b[0m\u001b[1;33m.\u001b[0m\u001b[0mtake_nd\u001b[0m\u001b[1;33m(\u001b[0m\u001b[0mvalues\u001b[0m\u001b[1;33m,\u001b[0m \u001b[0mindexer\u001b[0m\u001b[1;33m,\u001b[0m \u001b[0maxis\u001b[0m\u001b[1;33m=\u001b[0m\u001b[0max\u001b[0m\u001b[1;33m,\u001b[0m \u001b[0mfill_value\u001b[0m\u001b[1;33m=\u001b[0m\u001b[0mfill_value\u001b[0m\u001b[1;33m)\u001b[0m\u001b[1;33m\u001b[0m\u001b[1;33m\u001b[0m\u001b[0m\n\u001b[0m\u001b[0;32m    302\u001b[0m \u001b[1;33m\u001b[0m\u001b[0m\n",
      "\u001b[1;31mKeyboardInterrupt\u001b[0m: ",
      "\nDuring handling of the above exception, another exception occurred:\n",
      "\u001b[1;31mAttributeError\u001b[0m                            Traceback (most recent call last)",
      "\u001b[1;32mD:\\Anaconda3\\envs\\pytorch-gpu\\lib\\site-packages\\IPython\\core\\interactiveshell.py\u001b[0m in \u001b[0;36mshowtraceback\u001b[1;34m(self, exc_tuple, filename, tb_offset, exception_only, running_compiled_code)\u001b[0m\n\u001b[0;32m   2043\u001b[0m                         \u001b[1;31m# in the engines. This should return a list of strings.\u001b[0m\u001b[1;33m\u001b[0m\u001b[1;33m\u001b[0m\u001b[1;33m\u001b[0m\u001b[0m\n\u001b[1;32m-> 2044\u001b[1;33m                         \u001b[0mstb\u001b[0m \u001b[1;33m=\u001b[0m \u001b[0mvalue\u001b[0m\u001b[1;33m.\u001b[0m\u001b[0m_render_traceback_\u001b[0m\u001b[1;33m(\u001b[0m\u001b[1;33m)\u001b[0m\u001b[1;33m\u001b[0m\u001b[1;33m\u001b[0m\u001b[0m\n\u001b[0m\u001b[0;32m   2045\u001b[0m                     \u001b[1;32mexcept\u001b[0m \u001b[0mException\u001b[0m\u001b[1;33m:\u001b[0m\u001b[1;33m\u001b[0m\u001b[1;33m\u001b[0m\u001b[0m\n",
      "\u001b[1;31mAttributeError\u001b[0m: 'KeyboardInterrupt' object has no attribute '_render_traceback_'",
      "\nDuring handling of the above exception, another exception occurred:\n",
      "\u001b[1;31mKeyboardInterrupt\u001b[0m                         Traceback (most recent call last)",
      "\u001b[1;32mD:\\Anaconda3\\envs\\pytorch-gpu\\lib\\site-packages\\IPython\\core\\ultratb.py\u001b[0m in \u001b[0;36mget_records\u001b[1;34m(self, etb, number_of_lines_of_context, tb_offset)\u001b[0m\n\u001b[0;32m   1168\u001b[0m             \u001b[1;31m# (5 blanks lines) where none should be returned.\u001b[0m\u001b[1;33m\u001b[0m\u001b[1;33m\u001b[0m\u001b[1;33m\u001b[0m\u001b[0m\n\u001b[1;32m-> 1169\u001b[1;33m             \u001b[1;32mreturn\u001b[0m \u001b[0m_fixed_getinnerframes\u001b[0m\u001b[1;33m(\u001b[0m\u001b[0metb\u001b[0m\u001b[1;33m,\u001b[0m \u001b[0mnumber_of_lines_of_context\u001b[0m\u001b[1;33m,\u001b[0m \u001b[0mtb_offset\u001b[0m\u001b[1;33m)\u001b[0m\u001b[1;33m\u001b[0m\u001b[1;33m\u001b[0m\u001b[0m\n\u001b[0m\u001b[0;32m   1170\u001b[0m         \u001b[1;32mexcept\u001b[0m \u001b[0mUnicodeDecodeError\u001b[0m\u001b[1;33m:\u001b[0m\u001b[1;33m\u001b[0m\u001b[1;33m\u001b[0m\u001b[0m\n",
      "\u001b[1;32mD:\\Anaconda3\\envs\\pytorch-gpu\\lib\\site-packages\\IPython\\core\\ultratb.py\u001b[0m in \u001b[0;36mwrapped\u001b[1;34m(*args, **kwargs)\u001b[0m\n\u001b[0;32m    311\u001b[0m         \u001b[0msave_findsource\u001b[0m \u001b[1;33m=\u001b[0m \u001b[0minspect\u001b[0m\u001b[1;33m.\u001b[0m\u001b[0mfindsource\u001b[0m\u001b[1;33m\u001b[0m\u001b[1;33m\u001b[0m\u001b[0m\n\u001b[1;32m--> 312\u001b[1;33m         \u001b[0msave_getargs\u001b[0m \u001b[1;33m=\u001b[0m \u001b[0minspect\u001b[0m\u001b[1;33m.\u001b[0m\u001b[0mgetargs\u001b[0m\u001b[1;33m\u001b[0m\u001b[1;33m\u001b[0m\u001b[0m\n\u001b[0m\u001b[0;32m    313\u001b[0m         \u001b[0minspect\u001b[0m\u001b[1;33m.\u001b[0m\u001b[0mfindsource\u001b[0m \u001b[1;33m=\u001b[0m \u001b[0mfindsource\u001b[0m\u001b[1;33m\u001b[0m\u001b[1;33m\u001b[0m\u001b[0m\n",
      "\u001b[1;31mKeyboardInterrupt\u001b[0m: ",
      "\nDuring handling of the above exception, another exception occurred:\n",
      "\u001b[1;31mKeyboardInterrupt\u001b[0m                         Traceback (most recent call last)",
      "\u001b[1;32mD:\\Anaconda3\\envs\\pytorch-gpu\\lib\\site-packages\\IPython\\core\\interactiveshell.py\u001b[0m in \u001b[0;36mshowtraceback\u001b[1;34m(self, exc_tuple, filename, tb_offset, exception_only, running_compiled_code)\u001b[0m\n\u001b[0;32m   2046\u001b[0m                         stb = self.InteractiveTB.structured_traceback(etype,\n\u001b[1;32m-> 2047\u001b[1;33m                                             value, tb, tb_offset=tb_offset)\n\u001b[0m\u001b[0;32m   2048\u001b[0m \u001b[1;33m\u001b[0m\u001b[0m\n",
      "\u001b[1;32mD:\\Anaconda3\\envs\\pytorch-gpu\\lib\\site-packages\\IPython\\core\\ultratb.py\u001b[0m in \u001b[0;36mstructured_traceback\u001b[1;34m(self, etype, value, tb, tb_offset, number_of_lines_of_context)\u001b[0m\n\u001b[0;32m   1435\u001b[0m         return FormattedTB.structured_traceback(\n\u001b[1;32m-> 1436\u001b[1;33m             self, etype, value, tb, tb_offset, number_of_lines_of_context)\n\u001b[0m\u001b[0;32m   1437\u001b[0m \u001b[1;33m\u001b[0m\u001b[0m\n",
      "\u001b[1;32mD:\\Anaconda3\\envs\\pytorch-gpu\\lib\\site-packages\\IPython\\core\\ultratb.py\u001b[0m in \u001b[0;36mstructured_traceback\u001b[1;34m(self, etype, value, tb, tb_offset, number_of_lines_of_context)\u001b[0m\n\u001b[0;32m   1335\u001b[0m             return VerboseTB.structured_traceback(\n\u001b[1;32m-> 1336\u001b[1;33m                 \u001b[0mself\u001b[0m\u001b[1;33m,\u001b[0m \u001b[0metype\u001b[0m\u001b[1;33m,\u001b[0m \u001b[0mvalue\u001b[0m\u001b[1;33m,\u001b[0m \u001b[0mtb\u001b[0m\u001b[1;33m,\u001b[0m \u001b[0mtb_offset\u001b[0m\u001b[1;33m,\u001b[0m \u001b[0mnumber_of_lines_of_context\u001b[0m\u001b[1;33m\u001b[0m\u001b[1;33m\u001b[0m\u001b[0m\n\u001b[0m\u001b[0;32m   1337\u001b[0m             )\n",
      "\u001b[1;32mD:\\Anaconda3\\envs\\pytorch-gpu\\lib\\site-packages\\IPython\\core\\ultratb.py\u001b[0m in \u001b[0;36mstructured_traceback\u001b[1;34m(self, etype, evalue, etb, tb_offset, number_of_lines_of_context)\u001b[0m\n\u001b[0;32m   1192\u001b[0m         formatted_exception = self.format_exception_as_a_whole(etype, evalue, etb, number_of_lines_of_context,\n\u001b[1;32m-> 1193\u001b[1;33m                                                                tb_offset)\n\u001b[0m\u001b[0;32m   1194\u001b[0m \u001b[1;33m\u001b[0m\u001b[0m\n",
      "\u001b[1;32mD:\\Anaconda3\\envs\\pytorch-gpu\\lib\\site-packages\\IPython\\core\\ultratb.py\u001b[0m in \u001b[0;36mformat_exception_as_a_whole\u001b[1;34m(self, etype, evalue, etb, number_of_lines_of_context, tb_offset)\u001b[0m\n\u001b[0;32m   1146\u001b[0m         \u001b[0mhead\u001b[0m \u001b[1;33m=\u001b[0m \u001b[0mself\u001b[0m\u001b[1;33m.\u001b[0m\u001b[0mprepare_header\u001b[0m\u001b[1;33m(\u001b[0m\u001b[0metype\u001b[0m\u001b[1;33m,\u001b[0m \u001b[0mself\u001b[0m\u001b[1;33m.\u001b[0m\u001b[0mlong_header\u001b[0m\u001b[1;33m)\u001b[0m\u001b[1;33m\u001b[0m\u001b[1;33m\u001b[0m\u001b[0m\n\u001b[1;32m-> 1147\u001b[1;33m         \u001b[0mrecords\u001b[0m \u001b[1;33m=\u001b[0m \u001b[0mself\u001b[0m\u001b[1;33m.\u001b[0m\u001b[0mget_records\u001b[0m\u001b[1;33m(\u001b[0m\u001b[0metb\u001b[0m\u001b[1;33m,\u001b[0m \u001b[0mnumber_of_lines_of_context\u001b[0m\u001b[1;33m,\u001b[0m \u001b[0mtb_offset\u001b[0m\u001b[1;33m)\u001b[0m\u001b[1;33m\u001b[0m\u001b[1;33m\u001b[0m\u001b[0m\n\u001b[0m\u001b[0;32m   1148\u001b[0m \u001b[1;33m\u001b[0m\u001b[0m\n",
      "\u001b[1;32mD:\\Anaconda3\\envs\\pytorch-gpu\\lib\\site-packages\\IPython\\core\\ultratb.py\u001b[0m in \u001b[0;36mget_records\u001b[1;34m(self, etb, number_of_lines_of_context, tb_offset)\u001b[0m\n\u001b[0;32m   1183\u001b[0m             \u001b[0minspect_error\u001b[0m\u001b[1;33m(\u001b[0m\u001b[1;33m)\u001b[0m\u001b[1;33m\u001b[0m\u001b[1;33m\u001b[0m\u001b[0m\n\u001b[1;32m-> 1184\u001b[1;33m             \u001b[0mtraceback\u001b[0m\u001b[1;33m.\u001b[0m\u001b[0mprint_exc\u001b[0m\u001b[1;33m(\u001b[0m\u001b[0mfile\u001b[0m\u001b[1;33m=\u001b[0m\u001b[0mself\u001b[0m\u001b[1;33m.\u001b[0m\u001b[0mostream\u001b[0m\u001b[1;33m)\u001b[0m\u001b[1;33m\u001b[0m\u001b[1;33m\u001b[0m\u001b[0m\n\u001b[0m\u001b[0;32m   1185\u001b[0m             \u001b[0minfo\u001b[0m\u001b[1;33m(\u001b[0m\u001b[1;34m'\\nUnfortunately, your original traceback can not be constructed.\\n'\u001b[0m\u001b[1;33m)\u001b[0m\u001b[1;33m\u001b[0m\u001b[1;33m\u001b[0m\u001b[0m\n",
      "\u001b[1;32mD:\\Anaconda3\\envs\\pytorch-gpu\\lib\\traceback.py\u001b[0m in \u001b[0;36mprint_exc\u001b[1;34m(limit, file, chain)\u001b[0m\n\u001b[0;32m    162\u001b[0m     \u001b[1;34m\"\"\"Shorthand for 'print_exception(*sys.exc_info(), limit, file)'.\"\"\"\u001b[0m\u001b[1;33m\u001b[0m\u001b[1;33m\u001b[0m\u001b[0m\n\u001b[1;32m--> 163\u001b[1;33m     \u001b[0mprint_exception\u001b[0m\u001b[1;33m(\u001b[0m\u001b[1;33m*\u001b[0m\u001b[0msys\u001b[0m\u001b[1;33m.\u001b[0m\u001b[0mexc_info\u001b[0m\u001b[1;33m(\u001b[0m\u001b[1;33m)\u001b[0m\u001b[1;33m,\u001b[0m \u001b[0mlimit\u001b[0m\u001b[1;33m=\u001b[0m\u001b[0mlimit\u001b[0m\u001b[1;33m,\u001b[0m \u001b[0mfile\u001b[0m\u001b[1;33m=\u001b[0m\u001b[0mfile\u001b[0m\u001b[1;33m,\u001b[0m \u001b[0mchain\u001b[0m\u001b[1;33m=\u001b[0m\u001b[0mchain\u001b[0m\u001b[1;33m)\u001b[0m\u001b[1;33m\u001b[0m\u001b[1;33m\u001b[0m\u001b[0m\n\u001b[0m\u001b[0;32m    164\u001b[0m \u001b[1;33m\u001b[0m\u001b[0m\n",
      "\u001b[1;32mD:\\Anaconda3\\envs\\pytorch-gpu\\lib\\traceback.py\u001b[0m in \u001b[0;36mprint_exception\u001b[1;34m(etype, value, tb, limit, file, chain)\u001b[0m\n\u001b[0;32m    103\u001b[0m     for line in TracebackException(\n\u001b[1;32m--> 104\u001b[1;33m             type(value), value, tb, limit=limit).format(chain=chain):\n\u001b[0m\u001b[0;32m    105\u001b[0m         \u001b[0mprint\u001b[0m\u001b[1;33m(\u001b[0m\u001b[0mline\u001b[0m\u001b[1;33m,\u001b[0m \u001b[0mfile\u001b[0m\u001b[1;33m=\u001b[0m\u001b[0mfile\u001b[0m\u001b[1;33m,\u001b[0m \u001b[0mend\u001b[0m\u001b[1;33m=\u001b[0m\u001b[1;34m\"\"\u001b[0m\u001b[1;33m)\u001b[0m\u001b[1;33m\u001b[0m\u001b[1;33m\u001b[0m\u001b[0m\n",
      "\u001b[1;32mD:\\Anaconda3\\envs\\pytorch-gpu\\lib\\traceback.py\u001b[0m in \u001b[0;36m__init__\u001b[1;34m(self, exc_type, exc_value, exc_traceback, limit, lookup_lines, capture_locals, _seen)\u001b[0m\n\u001b[0;32m    507\u001b[0m             \u001b[0mwalk_tb\u001b[0m\u001b[1;33m(\u001b[0m\u001b[0mexc_traceback\u001b[0m\u001b[1;33m)\u001b[0m\u001b[1;33m,\u001b[0m \u001b[0mlimit\u001b[0m\u001b[1;33m=\u001b[0m\u001b[0mlimit\u001b[0m\u001b[1;33m,\u001b[0m \u001b[0mlookup_lines\u001b[0m\u001b[1;33m=\u001b[0m\u001b[0mlookup_lines\u001b[0m\u001b[1;33m,\u001b[0m\u001b[1;33m\u001b[0m\u001b[1;33m\u001b[0m\u001b[0m\n\u001b[1;32m--> 508\u001b[1;33m             capture_locals=capture_locals)\n\u001b[0m\u001b[0;32m    509\u001b[0m         \u001b[0mself\u001b[0m\u001b[1;33m.\u001b[0m\u001b[0mexc_type\u001b[0m \u001b[1;33m=\u001b[0m \u001b[0mexc_type\u001b[0m\u001b[1;33m\u001b[0m\u001b[1;33m\u001b[0m\u001b[0m\n",
      "\u001b[1;32mD:\\Anaconda3\\envs\\pytorch-gpu\\lib\\traceback.py\u001b[0m in \u001b[0;36mextract\u001b[1;34m(klass, frame_gen, limit, lookup_lines, capture_locals)\u001b[0m\n\u001b[0;32m    362\u001b[0m             \u001b[1;32mfor\u001b[0m \u001b[0mf\u001b[0m \u001b[1;32min\u001b[0m \u001b[0mresult\u001b[0m\u001b[1;33m:\u001b[0m\u001b[1;33m\u001b[0m\u001b[1;33m\u001b[0m\u001b[0m\n\u001b[1;32m--> 363\u001b[1;33m                 \u001b[0mf\u001b[0m\u001b[1;33m.\u001b[0m\u001b[0mline\u001b[0m\u001b[1;33m\u001b[0m\u001b[1;33m\u001b[0m\u001b[0m\n\u001b[0m\u001b[0;32m    364\u001b[0m         \u001b[1;32mreturn\u001b[0m \u001b[0mresult\u001b[0m\u001b[1;33m\u001b[0m\u001b[1;33m\u001b[0m\u001b[0m\n",
      "\u001b[1;32mD:\\Anaconda3\\envs\\pytorch-gpu\\lib\\traceback.py\u001b[0m in \u001b[0;36mline\u001b[1;34m(self)\u001b[0m\n\u001b[0;32m    284\u001b[0m         \u001b[1;32mif\u001b[0m \u001b[0mself\u001b[0m\u001b[1;33m.\u001b[0m\u001b[0m_line\u001b[0m \u001b[1;32mis\u001b[0m \u001b[1;32mNone\u001b[0m\u001b[1;33m:\u001b[0m\u001b[1;33m\u001b[0m\u001b[1;33m\u001b[0m\u001b[0m\n\u001b[1;32m--> 285\u001b[1;33m             \u001b[0mself\u001b[0m\u001b[1;33m.\u001b[0m\u001b[0m_line\u001b[0m \u001b[1;33m=\u001b[0m \u001b[0mlinecache\u001b[0m\u001b[1;33m.\u001b[0m\u001b[0mgetline\u001b[0m\u001b[1;33m(\u001b[0m\u001b[0mself\u001b[0m\u001b[1;33m.\u001b[0m\u001b[0mfilename\u001b[0m\u001b[1;33m,\u001b[0m \u001b[0mself\u001b[0m\u001b[1;33m.\u001b[0m\u001b[0mlineno\u001b[0m\u001b[1;33m)\u001b[0m\u001b[1;33m.\u001b[0m\u001b[0mstrip\u001b[0m\u001b[1;33m(\u001b[0m\u001b[1;33m)\u001b[0m\u001b[1;33m\u001b[0m\u001b[1;33m\u001b[0m\u001b[0m\n\u001b[0m\u001b[0;32m    286\u001b[0m         \u001b[1;32mreturn\u001b[0m \u001b[0mself\u001b[0m\u001b[1;33m.\u001b[0m\u001b[0m_line\u001b[0m\u001b[1;33m\u001b[0m\u001b[1;33m\u001b[0m\u001b[0m\n",
      "\u001b[1;32mD:\\Anaconda3\\envs\\pytorch-gpu\\lib\\linecache.py\u001b[0m in \u001b[0;36mgetline\u001b[1;34m(filename, lineno, module_globals)\u001b[0m\n\u001b[0;32m     15\u001b[0m \u001b[1;32mdef\u001b[0m \u001b[0mgetline\u001b[0m\u001b[1;33m(\u001b[0m\u001b[0mfilename\u001b[0m\u001b[1;33m,\u001b[0m \u001b[0mlineno\u001b[0m\u001b[1;33m,\u001b[0m \u001b[0mmodule_globals\u001b[0m\u001b[1;33m=\u001b[0m\u001b[1;32mNone\u001b[0m\u001b[1;33m)\u001b[0m\u001b[1;33m:\u001b[0m\u001b[1;33m\u001b[0m\u001b[1;33m\u001b[0m\u001b[0m\n\u001b[1;32m---> 16\u001b[1;33m     \u001b[0mlines\u001b[0m \u001b[1;33m=\u001b[0m \u001b[0mgetlines\u001b[0m\u001b[1;33m(\u001b[0m\u001b[0mfilename\u001b[0m\u001b[1;33m,\u001b[0m \u001b[0mmodule_globals\u001b[0m\u001b[1;33m)\u001b[0m\u001b[1;33m\u001b[0m\u001b[1;33m\u001b[0m\u001b[0m\n\u001b[0m\u001b[0;32m     17\u001b[0m     \u001b[1;32mif\u001b[0m \u001b[1;36m1\u001b[0m \u001b[1;33m<=\u001b[0m \u001b[0mlineno\u001b[0m \u001b[1;33m<=\u001b[0m \u001b[0mlen\u001b[0m\u001b[1;33m(\u001b[0m\u001b[0mlines\u001b[0m\u001b[1;33m)\u001b[0m\u001b[1;33m:\u001b[0m\u001b[1;33m\u001b[0m\u001b[1;33m\u001b[0m\u001b[0m\n",
      "\u001b[1;31mKeyboardInterrupt\u001b[0m: ",
      "\nDuring handling of the above exception, another exception occurred:\n",
      "\u001b[1;31mKeyboardInterrupt\u001b[0m                         Traceback (most recent call last)",
      "    \u001b[1;31m[... skipping hidden 1 frame]\u001b[0m\n",
      "\u001b[1;32mD:\\Anaconda3\\envs\\pytorch-gpu\\lib\\site-packages\\IPython\\core\\interactiveshell.py\u001b[0m in \u001b[0;36mshowtraceback\u001b[1;34m(self, exc_tuple, filename, tb_offset, exception_only, running_compiled_code)\u001b[0m\n\u001b[0;32m   2057\u001b[0m \u001b[1;33m\u001b[0m\u001b[0m\n\u001b[0;32m   2058\u001b[0m         \u001b[1;32mexcept\u001b[0m \u001b[0mKeyboardInterrupt\u001b[0m\u001b[1;33m:\u001b[0m\u001b[1;33m\u001b[0m\u001b[1;33m\u001b[0m\u001b[0m\n\u001b[1;32m-> 2059\u001b[1;33m             \u001b[0mprint\u001b[0m\u001b[1;33m(\u001b[0m\u001b[1;34m'\\n'\u001b[0m \u001b[1;33m+\u001b[0m \u001b[0mself\u001b[0m\u001b[1;33m.\u001b[0m\u001b[0mget_exception_only\u001b[0m\u001b[1;33m(\u001b[0m\u001b[1;33m)\u001b[0m\u001b[1;33m,\u001b[0m \u001b[0mfile\u001b[0m\u001b[1;33m=\u001b[0m\u001b[0msys\u001b[0m\u001b[1;33m.\u001b[0m\u001b[0mstderr\u001b[0m\u001b[1;33m)\u001b[0m\u001b[1;33m\u001b[0m\u001b[1;33m\u001b[0m\u001b[0m\n\u001b[0m\u001b[0;32m   2060\u001b[0m \u001b[1;33m\u001b[0m\u001b[0m\n\u001b[0;32m   2061\u001b[0m     \u001b[1;32mdef\u001b[0m \u001b[0m_showtraceback\u001b[0m\u001b[1;33m(\u001b[0m\u001b[0mself\u001b[0m\u001b[1;33m,\u001b[0m \u001b[0metype\u001b[0m\u001b[1;33m,\u001b[0m \u001b[0mevalue\u001b[0m\u001b[1;33m,\u001b[0m \u001b[0mstb\u001b[0m\u001b[1;33m)\u001b[0m\u001b[1;33m:\u001b[0m\u001b[1;33m\u001b[0m\u001b[1;33m\u001b[0m\u001b[0m\n",
      "\u001b[1;32mD:\\Anaconda3\\envs\\pytorch-gpu\\lib\\site-packages\\IPython\\core\\interactiveshell.py\u001b[0m in \u001b[0;36mget_exception_only\u001b[1;34m(self, exc_tuple)\u001b[0m\n\u001b[0;32m   2002\u001b[0m         \"\"\"\n\u001b[0;32m   2003\u001b[0m         \u001b[0metype\u001b[0m\u001b[1;33m,\u001b[0m \u001b[0mvalue\u001b[0m\u001b[1;33m,\u001b[0m \u001b[0mtb\u001b[0m \u001b[1;33m=\u001b[0m \u001b[0mself\u001b[0m\u001b[1;33m.\u001b[0m\u001b[0m_get_exc_info\u001b[0m\u001b[1;33m(\u001b[0m\u001b[0mexc_tuple\u001b[0m\u001b[1;33m)\u001b[0m\u001b[1;33m\u001b[0m\u001b[1;33m\u001b[0m\u001b[0m\n\u001b[1;32m-> 2004\u001b[1;33m         \u001b[0mmsg\u001b[0m \u001b[1;33m=\u001b[0m \u001b[0mtraceback\u001b[0m\u001b[1;33m.\u001b[0m\u001b[0mformat_exception_only\u001b[0m\u001b[1;33m(\u001b[0m\u001b[0metype\u001b[0m\u001b[1;33m,\u001b[0m \u001b[0mvalue\u001b[0m\u001b[1;33m)\u001b[0m\u001b[1;33m\u001b[0m\u001b[1;33m\u001b[0m\u001b[0m\n\u001b[0m\u001b[0;32m   2005\u001b[0m         \u001b[1;32mreturn\u001b[0m \u001b[1;34m''\u001b[0m\u001b[1;33m.\u001b[0m\u001b[0mjoin\u001b[0m\u001b[1;33m(\u001b[0m\u001b[0mmsg\u001b[0m\u001b[1;33m)\u001b[0m\u001b[1;33m\u001b[0m\u001b[1;33m\u001b[0m\u001b[0m\n\u001b[0;32m   2006\u001b[0m \u001b[1;33m\u001b[0m\u001b[0m\n",
      "\u001b[1;32mD:\\Anaconda3\\envs\\pytorch-gpu\\lib\\traceback.py\u001b[0m in \u001b[0;36mformat_exception_only\u001b[1;34m(etype, value)\u001b[0m\n\u001b[0;32m    138\u001b[0m \u001b[1;33m\u001b[0m\u001b[0m\n\u001b[0;32m    139\u001b[0m     \"\"\"\n\u001b[1;32m--> 140\u001b[1;33m     \u001b[1;32mreturn\u001b[0m \u001b[0mlist\u001b[0m\u001b[1;33m(\u001b[0m\u001b[0mTracebackException\u001b[0m\u001b[1;33m(\u001b[0m\u001b[0metype\u001b[0m\u001b[1;33m,\u001b[0m \u001b[0mvalue\u001b[0m\u001b[1;33m,\u001b[0m \u001b[1;32mNone\u001b[0m\u001b[1;33m)\u001b[0m\u001b[1;33m.\u001b[0m\u001b[0mformat_exception_only\u001b[0m\u001b[1;33m(\u001b[0m\u001b[1;33m)\u001b[0m\u001b[1;33m)\u001b[0m\u001b[1;33m\u001b[0m\u001b[1;33m\u001b[0m\u001b[0m\n\u001b[0m\u001b[0;32m    141\u001b[0m \u001b[1;33m\u001b[0m\u001b[0m\n\u001b[0;32m    142\u001b[0m \u001b[1;33m\u001b[0m\u001b[0m\n",
      "\u001b[1;32mD:\\Anaconda3\\envs\\pytorch-gpu\\lib\\traceback.py\u001b[0m in \u001b[0;36m__init__\u001b[1;34m(self, exc_type, exc_value, exc_traceback, limit, lookup_lines, capture_locals, _seen)\u001b[0m\n\u001b[0;32m    519\u001b[0m             \u001b[0mself\u001b[0m\u001b[1;33m.\u001b[0m\u001b[0mmsg\u001b[0m \u001b[1;33m=\u001b[0m \u001b[0mexc_value\u001b[0m\u001b[1;33m.\u001b[0m\u001b[0mmsg\u001b[0m\u001b[1;33m\u001b[0m\u001b[1;33m\u001b[0m\u001b[0m\n\u001b[0;32m    520\u001b[0m         \u001b[1;32mif\u001b[0m \u001b[0mlookup_lines\u001b[0m\u001b[1;33m:\u001b[0m\u001b[1;33m\u001b[0m\u001b[1;33m\u001b[0m\u001b[0m\n\u001b[1;32m--> 521\u001b[1;33m             \u001b[0mself\u001b[0m\u001b[1;33m.\u001b[0m\u001b[0m_load_lines\u001b[0m\u001b[1;33m(\u001b[0m\u001b[1;33m)\u001b[0m\u001b[1;33m\u001b[0m\u001b[1;33m\u001b[0m\u001b[0m\n\u001b[0m\u001b[0;32m    522\u001b[0m \u001b[1;33m\u001b[0m\u001b[0m\n\u001b[0;32m    523\u001b[0m     \u001b[1;33m@\u001b[0m\u001b[0mclassmethod\u001b[0m\u001b[1;33m\u001b[0m\u001b[1;33m\u001b[0m\u001b[0m\n",
      "\u001b[1;32mD:\\Anaconda3\\envs\\pytorch-gpu\\lib\\traceback.py\u001b[0m in \u001b[0;36m_load_lines\u001b[1;34m(self)\u001b[0m\n\u001b[0;32m    531\u001b[0m             \u001b[0mframe\u001b[0m\u001b[1;33m.\u001b[0m\u001b[0mline\u001b[0m\u001b[1;33m\u001b[0m\u001b[1;33m\u001b[0m\u001b[0m\n\u001b[0;32m    532\u001b[0m         \u001b[1;32mif\u001b[0m \u001b[0mself\u001b[0m\u001b[1;33m.\u001b[0m\u001b[0m__context__\u001b[0m\u001b[1;33m:\u001b[0m\u001b[1;33m\u001b[0m\u001b[1;33m\u001b[0m\u001b[0m\n\u001b[1;32m--> 533\u001b[1;33m             \u001b[0mself\u001b[0m\u001b[1;33m.\u001b[0m\u001b[0m__context__\u001b[0m\u001b[1;33m.\u001b[0m\u001b[0m_load_lines\u001b[0m\u001b[1;33m(\u001b[0m\u001b[1;33m)\u001b[0m\u001b[1;33m\u001b[0m\u001b[1;33m\u001b[0m\u001b[0m\n\u001b[0m\u001b[0;32m    534\u001b[0m         \u001b[1;32mif\u001b[0m \u001b[0mself\u001b[0m\u001b[1;33m.\u001b[0m\u001b[0m__cause__\u001b[0m\u001b[1;33m:\u001b[0m\u001b[1;33m\u001b[0m\u001b[1;33m\u001b[0m\u001b[0m\n\u001b[0;32m    535\u001b[0m             \u001b[0mself\u001b[0m\u001b[1;33m.\u001b[0m\u001b[0m__cause__\u001b[0m\u001b[1;33m.\u001b[0m\u001b[0m_load_lines\u001b[0m\u001b[1;33m(\u001b[0m\u001b[1;33m)\u001b[0m\u001b[1;33m\u001b[0m\u001b[1;33m\u001b[0m\u001b[0m\n",
      "\u001b[1;32mD:\\Anaconda3\\envs\\pytorch-gpu\\lib\\traceback.py\u001b[0m in \u001b[0;36m_load_lines\u001b[1;34m(self)\u001b[0m\n\u001b[0;32m    529\u001b[0m         \u001b[1;34m\"\"\"Private API. force all lines in the stack to be loaded.\"\"\"\u001b[0m\u001b[1;33m\u001b[0m\u001b[1;33m\u001b[0m\u001b[0m\n\u001b[0;32m    530\u001b[0m         \u001b[1;32mfor\u001b[0m \u001b[0mframe\u001b[0m \u001b[1;32min\u001b[0m \u001b[0mself\u001b[0m\u001b[1;33m.\u001b[0m\u001b[0mstack\u001b[0m\u001b[1;33m:\u001b[0m\u001b[1;33m\u001b[0m\u001b[1;33m\u001b[0m\u001b[0m\n\u001b[1;32m--> 531\u001b[1;33m             \u001b[0mframe\u001b[0m\u001b[1;33m.\u001b[0m\u001b[0mline\u001b[0m\u001b[1;33m\u001b[0m\u001b[1;33m\u001b[0m\u001b[0m\n\u001b[0m\u001b[0;32m    532\u001b[0m         \u001b[1;32mif\u001b[0m \u001b[0mself\u001b[0m\u001b[1;33m.\u001b[0m\u001b[0m__context__\u001b[0m\u001b[1;33m:\u001b[0m\u001b[1;33m\u001b[0m\u001b[1;33m\u001b[0m\u001b[0m\n\u001b[0;32m    533\u001b[0m             \u001b[0mself\u001b[0m\u001b[1;33m.\u001b[0m\u001b[0m__context__\u001b[0m\u001b[1;33m.\u001b[0m\u001b[0m_load_lines\u001b[0m\u001b[1;33m(\u001b[0m\u001b[1;33m)\u001b[0m\u001b[1;33m\u001b[0m\u001b[1;33m\u001b[0m\u001b[0m\n",
      "\u001b[1;32mD:\\Anaconda3\\envs\\pytorch-gpu\\lib\\traceback.py\u001b[0m in \u001b[0;36mline\u001b[1;34m(self)\u001b[0m\n\u001b[0;32m    283\u001b[0m     \u001b[1;32mdef\u001b[0m \u001b[0mline\u001b[0m\u001b[1;33m(\u001b[0m\u001b[0mself\u001b[0m\u001b[1;33m)\u001b[0m\u001b[1;33m:\u001b[0m\u001b[1;33m\u001b[0m\u001b[1;33m\u001b[0m\u001b[0m\n\u001b[0;32m    284\u001b[0m         \u001b[1;32mif\u001b[0m \u001b[0mself\u001b[0m\u001b[1;33m.\u001b[0m\u001b[0m_line\u001b[0m \u001b[1;32mis\u001b[0m \u001b[1;32mNone\u001b[0m\u001b[1;33m:\u001b[0m\u001b[1;33m\u001b[0m\u001b[1;33m\u001b[0m\u001b[0m\n\u001b[1;32m--> 285\u001b[1;33m             \u001b[0mself\u001b[0m\u001b[1;33m.\u001b[0m\u001b[0m_line\u001b[0m \u001b[1;33m=\u001b[0m \u001b[0mlinecache\u001b[0m\u001b[1;33m.\u001b[0m\u001b[0mgetline\u001b[0m\u001b[1;33m(\u001b[0m\u001b[0mself\u001b[0m\u001b[1;33m.\u001b[0m\u001b[0mfilename\u001b[0m\u001b[1;33m,\u001b[0m \u001b[0mself\u001b[0m\u001b[1;33m.\u001b[0m\u001b[0mlineno\u001b[0m\u001b[1;33m)\u001b[0m\u001b[1;33m.\u001b[0m\u001b[0mstrip\u001b[0m\u001b[1;33m(\u001b[0m\u001b[1;33m)\u001b[0m\u001b[1;33m\u001b[0m\u001b[1;33m\u001b[0m\u001b[0m\n\u001b[0m\u001b[0;32m    286\u001b[0m         \u001b[1;32mreturn\u001b[0m \u001b[0mself\u001b[0m\u001b[1;33m.\u001b[0m\u001b[0m_line\u001b[0m\u001b[1;33m\u001b[0m\u001b[1;33m\u001b[0m\u001b[0m\n\u001b[0;32m    287\u001b[0m \u001b[1;33m\u001b[0m\u001b[0m\n",
      "\u001b[1;32mD:\\Anaconda3\\envs\\pytorch-gpu\\lib\\linecache.py\u001b[0m in \u001b[0;36mgetline\u001b[1;34m(filename, lineno, module_globals)\u001b[0m\n\u001b[0;32m     14\u001b[0m \u001b[1;33m\u001b[0m\u001b[0m\n\u001b[0;32m     15\u001b[0m \u001b[1;32mdef\u001b[0m \u001b[0mgetline\u001b[0m\u001b[1;33m(\u001b[0m\u001b[0mfilename\u001b[0m\u001b[1;33m,\u001b[0m \u001b[0mlineno\u001b[0m\u001b[1;33m,\u001b[0m \u001b[0mmodule_globals\u001b[0m\u001b[1;33m=\u001b[0m\u001b[1;32mNone\u001b[0m\u001b[1;33m)\u001b[0m\u001b[1;33m:\u001b[0m\u001b[1;33m\u001b[0m\u001b[1;33m\u001b[0m\u001b[0m\n\u001b[1;32m---> 16\u001b[1;33m     \u001b[0mlines\u001b[0m \u001b[1;33m=\u001b[0m \u001b[0mgetlines\u001b[0m\u001b[1;33m(\u001b[0m\u001b[0mfilename\u001b[0m\u001b[1;33m,\u001b[0m \u001b[0mmodule_globals\u001b[0m\u001b[1;33m)\u001b[0m\u001b[1;33m\u001b[0m\u001b[1;33m\u001b[0m\u001b[0m\n\u001b[0m\u001b[0;32m     17\u001b[0m     \u001b[1;32mif\u001b[0m \u001b[1;36m1\u001b[0m \u001b[1;33m<=\u001b[0m \u001b[0mlineno\u001b[0m \u001b[1;33m<=\u001b[0m \u001b[0mlen\u001b[0m\u001b[1;33m(\u001b[0m\u001b[0mlines\u001b[0m\u001b[1;33m)\u001b[0m\u001b[1;33m:\u001b[0m\u001b[1;33m\u001b[0m\u001b[1;33m\u001b[0m\u001b[0m\n\u001b[0;32m     18\u001b[0m         \u001b[1;32mreturn\u001b[0m \u001b[0mlines\u001b[0m\u001b[1;33m[\u001b[0m\u001b[0mlineno\u001b[0m\u001b[1;33m-\u001b[0m\u001b[1;36m1\u001b[0m\u001b[1;33m]\u001b[0m\u001b[1;33m\u001b[0m\u001b[1;33m\u001b[0m\u001b[0m\n",
      "\u001b[1;32mD:\\Anaconda3\\envs\\pytorch-gpu\\lib\\linecache.py\u001b[0m in \u001b[0;36mgetlines\u001b[1;34m(filename, module_globals)\u001b[0m\n\u001b[0;32m     45\u001b[0m \u001b[1;33m\u001b[0m\u001b[0m\n\u001b[0;32m     46\u001b[0m     \u001b[1;32mtry\u001b[0m\u001b[1;33m:\u001b[0m\u001b[1;33m\u001b[0m\u001b[1;33m\u001b[0m\u001b[0m\n\u001b[1;32m---> 47\u001b[1;33m         \u001b[1;32mreturn\u001b[0m \u001b[0mupdatecache\u001b[0m\u001b[1;33m(\u001b[0m\u001b[0mfilename\u001b[0m\u001b[1;33m,\u001b[0m \u001b[0mmodule_globals\u001b[0m\u001b[1;33m)\u001b[0m\u001b[1;33m\u001b[0m\u001b[1;33m\u001b[0m\u001b[0m\n\u001b[0m\u001b[0;32m     48\u001b[0m     \u001b[1;32mexcept\u001b[0m \u001b[0mMemoryError\u001b[0m\u001b[1;33m:\u001b[0m\u001b[1;33m\u001b[0m\u001b[1;33m\u001b[0m\u001b[0m\n\u001b[0;32m     49\u001b[0m         \u001b[0mclearcache\u001b[0m\u001b[1;33m(\u001b[0m\u001b[1;33m)\u001b[0m\u001b[1;33m\u001b[0m\u001b[1;33m\u001b[0m\u001b[0m\n",
      "\u001b[1;32mD:\\Anaconda3\\envs\\pytorch-gpu\\lib\\linecache.py\u001b[0m in \u001b[0;36mupdatecache\u001b[1;34m(filename, module_globals)\u001b[0m\n\u001b[0;32m    134\u001b[0m             \u001b[1;32mreturn\u001b[0m \u001b[1;33m[\u001b[0m\u001b[1;33m]\u001b[0m\u001b[1;33m\u001b[0m\u001b[1;33m\u001b[0m\u001b[0m\n\u001b[0;32m    135\u001b[0m     \u001b[1;32mtry\u001b[0m\u001b[1;33m:\u001b[0m\u001b[1;33m\u001b[0m\u001b[1;33m\u001b[0m\u001b[0m\n\u001b[1;32m--> 136\u001b[1;33m         \u001b[1;32mwith\u001b[0m \u001b[0mtokenize\u001b[0m\u001b[1;33m.\u001b[0m\u001b[0mopen\u001b[0m\u001b[1;33m(\u001b[0m\u001b[0mfullname\u001b[0m\u001b[1;33m)\u001b[0m \u001b[1;32mas\u001b[0m \u001b[0mfp\u001b[0m\u001b[1;33m:\u001b[0m\u001b[1;33m\u001b[0m\u001b[1;33m\u001b[0m\u001b[0m\n\u001b[0m\u001b[0;32m    137\u001b[0m             \u001b[0mlines\u001b[0m \u001b[1;33m=\u001b[0m \u001b[0mfp\u001b[0m\u001b[1;33m.\u001b[0m\u001b[0mreadlines\u001b[0m\u001b[1;33m(\u001b[0m\u001b[1;33m)\u001b[0m\u001b[1;33m\u001b[0m\u001b[1;33m\u001b[0m\u001b[0m\n\u001b[0;32m    138\u001b[0m     \u001b[1;32mexcept\u001b[0m \u001b[0mOSError\u001b[0m\u001b[1;33m:\u001b[0m\u001b[1;33m\u001b[0m\u001b[1;33m\u001b[0m\u001b[0m\n",
      "\u001b[1;32mD:\\Anaconda3\\envs\\pytorch-gpu\\lib\\tokenize.py\u001b[0m in \u001b[0;36mopen\u001b[1;34m(filename)\u001b[0m\n\u001b[0;32m    445\u001b[0m     \u001b[0mdetect_encoding\u001b[0m\u001b[1;33m(\u001b[0m\u001b[1;33m)\u001b[0m\u001b[1;33m.\u001b[0m\u001b[1;33m\u001b[0m\u001b[1;33m\u001b[0m\u001b[0m\n\u001b[0;32m    446\u001b[0m     \"\"\"\n\u001b[1;32m--> 447\u001b[1;33m     \u001b[0mbuffer\u001b[0m \u001b[1;33m=\u001b[0m \u001b[0m_builtin_open\u001b[0m\u001b[1;33m(\u001b[0m\u001b[0mfilename\u001b[0m\u001b[1;33m,\u001b[0m \u001b[1;34m'rb'\u001b[0m\u001b[1;33m)\u001b[0m\u001b[1;33m\u001b[0m\u001b[1;33m\u001b[0m\u001b[0m\n\u001b[0m\u001b[0;32m    448\u001b[0m     \u001b[1;32mtry\u001b[0m\u001b[1;33m:\u001b[0m\u001b[1;33m\u001b[0m\u001b[1;33m\u001b[0m\u001b[0m\n\u001b[0;32m    449\u001b[0m         \u001b[0mencoding\u001b[0m\u001b[1;33m,\u001b[0m \u001b[0mlines\u001b[0m \u001b[1;33m=\u001b[0m \u001b[0mdetect_encoding\u001b[0m\u001b[1;33m(\u001b[0m\u001b[0mbuffer\u001b[0m\u001b[1;33m.\u001b[0m\u001b[0mreadline\u001b[0m\u001b[1;33m)\u001b[0m\u001b[1;33m\u001b[0m\u001b[1;33m\u001b[0m\u001b[0m\n",
      "\u001b[1;31mKeyboardInterrupt\u001b[0m: "
     ]
    }
   ],
   "source": [
    "negativeSample = pd.concat(dataOfBlack_2020_Q1, ignore_index=True)"
   ]
  },
  {
   "cell_type": "code",
   "execution_count": 22,
   "metadata": {
    "tags": []
   },
   "outputs": [],
   "source": [
    "data = pd.read_csv('E:/data/WJ/data_Q1_2018_b/2018-01-01.csv')\n",
    "drop_list = []\n",
    "for i in [col for col in data.columns if col not in ['date', 'serial_number', 'model', 'capacity_bytes', 'failure']]:\n",
    "    if(data[i].nunique() == 1 & data[i].isna().sum() == 0):\n",
    "        drop_list.append(i)"
   ]
  },
  {
   "cell_type": "code",
   "execution_count": 23,
   "metadata": {},
   "outputs": [
    {
     "output_type": "execute_result",
     "data": {
      "text/plain": "['smart_2_normalized',\n 'smart_2_raw',\n 'smart_8_normalized',\n 'smart_8_raw',\n 'smart_11_normalized',\n 'smart_11_raw',\n 'smart_13_normalized',\n 'smart_13_raw',\n 'smart_15_normalized',\n 'smart_15_raw',\n 'smart_22_normalized',\n 'smart_22_raw',\n 'smart_177_normalized',\n 'smart_177_raw',\n 'smart_179_normalized',\n 'smart_179_raw',\n 'smart_181_normalized',\n 'smart_181_raw',\n 'smart_182_normalized',\n 'smart_182_raw',\n 'smart_195_normalized',\n 'smart_195_raw',\n 'smart_196_normalized',\n 'smart_196_raw',\n 'smart_200_normalized',\n 'smart_200_raw',\n 'smart_201_normalized',\n 'smart_201_raw',\n 'smart_220_normalized',\n 'smart_220_raw',\n 'smart_222_normalized',\n 'smart_222_raw',\n 'smart_223_normalized',\n 'smart_223_raw',\n 'smart_224_normalized',\n 'smart_224_raw',\n 'smart_225_normalized',\n 'smart_225_raw',\n 'smart_226_normalized',\n 'smart_226_raw',\n 'smart_235_normalized',\n 'smart_235_raw',\n 'smart_250_normalized',\n 'smart_250_raw',\n 'smart_251_normalized',\n 'smart_251_raw',\n 'smart_252_normalized',\n 'smart_252_raw',\n 'smart_254_normalized',\n 'smart_254_raw',\n 'smart_255_normalized',\n 'smart_255_raw']"
     },
     "metadata": {},
     "execution_count": 23
    }
   ],
   "source": [
    "drop_list"
   ]
  },
  {
   "cell_type": "code",
   "execution_count": 24,
   "metadata": {},
   "outputs": [],
   "source": [
    "data = pd.read_csv('E:/data/WJ/data_Q1_2018_b/2018-01-31.csv')\n",
    "drop_list = []\n",
    "for i in [col for col in data.columns if col not in ['date', 'serial_number', 'model', 'capacity_bytes', 'failure']]:\n",
    "    if(data[i].nunique() == 1 & data[i].isna().sum() == 0):\n",
    "        drop_list.append(i)"
   ]
  },
  {
   "cell_type": "code",
   "execution_count": 25,
   "metadata": {},
   "outputs": [
    {
     "output_type": "execute_result",
     "data": {
      "text/plain": "['smart_2_normalized',\n 'smart_2_raw',\n 'smart_8_normalized',\n 'smart_8_raw',\n 'smart_11_normalized',\n 'smart_11_raw',\n 'smart_13_normalized',\n 'smart_13_raw',\n 'smart_15_normalized',\n 'smart_15_raw',\n 'smart_22_normalized',\n 'smart_22_raw',\n 'smart_177_normalized',\n 'smart_177_raw',\n 'smart_179_normalized',\n 'smart_179_raw',\n 'smart_181_normalized',\n 'smart_181_raw',\n 'smart_182_normalized',\n 'smart_182_raw',\n 'smart_195_normalized',\n 'smart_195_raw',\n 'smart_196_normalized',\n 'smart_196_raw',\n 'smart_200_normalized',\n 'smart_200_raw',\n 'smart_201_normalized',\n 'smart_201_raw',\n 'smart_220_normalized',\n 'smart_220_raw',\n 'smart_222_normalized',\n 'smart_222_raw',\n 'smart_223_normalized',\n 'smart_223_raw',\n 'smart_224_normalized',\n 'smart_224_raw',\n 'smart_225_normalized',\n 'smart_225_raw',\n 'smart_226_normalized',\n 'smart_226_raw',\n 'smart_235_normalized',\n 'smart_235_raw',\n 'smart_250_normalized',\n 'smart_250_raw',\n 'smart_251_normalized',\n 'smart_251_raw',\n 'smart_252_normalized',\n 'smart_252_raw',\n 'smart_254_normalized',\n 'smart_254_raw',\n 'smart_255_normalized',\n 'smart_255_raw']"
     },
     "metadata": {},
     "execution_count": 25
    }
   ],
   "source": [
    "drop_list"
   ]
  },
  {
   "cell_type": "code",
   "execution_count": 17,
   "metadata": {},
   "outputs": [],
   "source": [
    "import pandas as pd\n",
    "data = pd.read_csv('E:/data/WJ/data_Q1_2018_b/2018-01-01.csv')"
   ]
  },
  {
   "cell_type": "code",
   "execution_count": 4,
   "metadata": {},
   "outputs": [],
   "source": [
    "data.to_hdf('E:/data/01.h5', 'data', mode='w', format='table')"
   ]
  },
  {
   "cell_type": "code",
   "execution_count": 18,
   "metadata": {},
   "outputs": [],
   "source": [
    "store = pd.HDFStore('E:/data/02.h5')"
   ]
  },
  {
   "cell_type": "code",
   "execution_count": 19,
   "metadata": {},
   "outputs": [],
   "source": [
    "store.append('dat1a', data)"
   ]
  },
  {
   "cell_type": "code",
   "execution_count": 20,
   "metadata": {},
   "outputs": [
    {
     "output_type": "execute_result",
     "data": {
      "text/plain": "<bound method HDFStore.close of <class 'pandas.io.pytables.HDFStore'>\nFile path: E:/data/02.h5\n>"
     },
     "metadata": {},
     "execution_count": 20
    }
   ],
   "source": [
    "store.close"
   ]
  },
  {
   "cell_type": "code",
   "execution_count": 7,
   "metadata": {},
   "outputs": [],
   "source": [
    "df = pd.read_hdf('E:/data/01.h5', mode = 'r+')"
   ]
  },
  {
   "cell_type": "code",
   "execution_count": 8,
   "metadata": {},
   "outputs": [
    {
     "output_type": "execute_result",
     "data": {
      "text/plain": "0         91\n1         97\n2         92\n3         93\n4         95\n        ... \n31931     96\n31932     96\n31933    100\n31934     91\n31935     91\nName: smart_3_normalized, Length: 31936, dtype: int64"
     },
     "metadata": {},
     "execution_count": 8
    }
   ],
   "source": []
  },
  {
   "cell_type": "code",
   "execution_count": 2,
   "metadata": {},
   "outputs": [],
   "source": [
    "import pandas as pd"
   ]
  },
  {
   "cell_type": "code",
   "execution_count": 3,
   "metadata": {},
   "outputs": [],
   "source": [
    "data = pd.read_hdf('E:/data/final_BlackBlaze_Q1_Q2_Q3.h5')"
   ]
  },
  {
   "cell_type": "code",
   "execution_count": 3,
   "metadata": {},
   "outputs": [
    {
     "output_type": "execute_result",
     "data": {
      "text/plain": "         capacity_bytes        date  failure        model serial_number  \\\n5527      4000787030016  2018-01-01        0  ST4000DM000      S3000A9T   \n37452     4000787030016  2018-01-02        0  ST4000DM000      S3000A9T   \n69409     4000787030016  2018-01-03        0  ST4000DM000      S3000A9T   \n101446    4000787030016  2018-01-04        0  ST4000DM000      S3000A9T   \n133512    4000787030016  2018-01-05        0  ST4000DM000      S3000A9T   \n...                 ...         ...      ...          ...           ...   \n3620559   4000787030016  2018-04-27        0  ST4000DM000      Z307Y2X9   \n3650225   4000787030016  2018-04-28        0  ST4000DM000      Z307Y2X9   \n3679698   4000787030016  2018-04-29        0  ST4000DM000      Z307Y2X9   \n3709169   4000787030016  2018-04-30        0  ST4000DM000      Z307Y2X9   \n3738636   4000787030016  2018-05-01        0  ST4000DM000      Z307Y2X9   \n\n         smart_190_raw  smart_193_raw  smart_194_raw  smart_1_raw  \\\n5527              22.0        64132.0           22.0   38941024.0   \n37452             23.0        64132.0           23.0  204125824.0   \n69409             23.0        64132.0           23.0   49960680.0   \n101446            23.0        64132.0           23.0   77954384.0   \n133512            25.0        64132.0           25.0  132616272.0   \n...                ...            ...            ...          ...   \n3620559           25.0        72981.0           25.0  237039712.0   \n3650225           25.0        73600.0           25.0   20406808.0   \n3679698           24.0        74808.0           24.0   59236792.0   \n3709169           25.0        76005.0           25.0   99430576.0   \n3738636           25.0        76465.0           25.0  114280896.0   \n\n         smart_241_raw  smart_7_raw  \n5527      1.106223e+10  173472387.0  \n37452     1.107356e+10  174237590.0  \n69409     1.108110e+10  174911219.0  \n101446    1.108523e+10  175247742.0  \n133512    1.109895e+10  176218212.0  \n...                ...          ...  \n3620559   8.138285e+09   72547820.0  \n3650225   8.138405e+09   72791073.0  \n3679698   8.138522e+09   72875529.0  \n3709169   8.138638e+09   72960108.0  \n3738636   8.138680e+09   72990085.0  \n\n[7835606 rows x 11 columns]",
      "text/html": "<div>\n<style scoped>\n    .dataframe tbody tr th:only-of-type {\n        vertical-align: middle;\n    }\n\n    .dataframe tbody tr th {\n        vertical-align: top;\n    }\n\n    .dataframe thead th {\n        text-align: right;\n    }\n</style>\n<table border=\"1\" class=\"dataframe\">\n  <thead>\n    <tr style=\"text-align: right;\">\n      <th></th>\n      <th>capacity_bytes</th>\n      <th>date</th>\n      <th>failure</th>\n      <th>model</th>\n      <th>serial_number</th>\n      <th>smart_190_raw</th>\n      <th>smart_193_raw</th>\n      <th>smart_194_raw</th>\n      <th>smart_1_raw</th>\n      <th>smart_241_raw</th>\n      <th>smart_7_raw</th>\n    </tr>\n  </thead>\n  <tbody>\n    <tr>\n      <th>5527</th>\n      <td>4000787030016</td>\n      <td>2018-01-01</td>\n      <td>0</td>\n      <td>ST4000DM000</td>\n      <td>S3000A9T</td>\n      <td>22.0</td>\n      <td>64132.0</td>\n      <td>22.0</td>\n      <td>38941024.0</td>\n      <td>1.106223e+10</td>\n      <td>173472387.0</td>\n    </tr>\n    <tr>\n      <th>37452</th>\n      <td>4000787030016</td>\n      <td>2018-01-02</td>\n      <td>0</td>\n      <td>ST4000DM000</td>\n      <td>S3000A9T</td>\n      <td>23.0</td>\n      <td>64132.0</td>\n      <td>23.0</td>\n      <td>204125824.0</td>\n      <td>1.107356e+10</td>\n      <td>174237590.0</td>\n    </tr>\n    <tr>\n      <th>69409</th>\n      <td>4000787030016</td>\n      <td>2018-01-03</td>\n      <td>0</td>\n      <td>ST4000DM000</td>\n      <td>S3000A9T</td>\n      <td>23.0</td>\n      <td>64132.0</td>\n      <td>23.0</td>\n      <td>49960680.0</td>\n      <td>1.108110e+10</td>\n      <td>174911219.0</td>\n    </tr>\n    <tr>\n      <th>101446</th>\n      <td>4000787030016</td>\n      <td>2018-01-04</td>\n      <td>0</td>\n      <td>ST4000DM000</td>\n      <td>S3000A9T</td>\n      <td>23.0</td>\n      <td>64132.0</td>\n      <td>23.0</td>\n      <td>77954384.0</td>\n      <td>1.108523e+10</td>\n      <td>175247742.0</td>\n    </tr>\n    <tr>\n      <th>133512</th>\n      <td>4000787030016</td>\n      <td>2018-01-05</td>\n      <td>0</td>\n      <td>ST4000DM000</td>\n      <td>S3000A9T</td>\n      <td>25.0</td>\n      <td>64132.0</td>\n      <td>25.0</td>\n      <td>132616272.0</td>\n      <td>1.109895e+10</td>\n      <td>176218212.0</td>\n    </tr>\n    <tr>\n      <th>...</th>\n      <td>...</td>\n      <td>...</td>\n      <td>...</td>\n      <td>...</td>\n      <td>...</td>\n      <td>...</td>\n      <td>...</td>\n      <td>...</td>\n      <td>...</td>\n      <td>...</td>\n      <td>...</td>\n    </tr>\n    <tr>\n      <th>3620559</th>\n      <td>4000787030016</td>\n      <td>2018-04-27</td>\n      <td>0</td>\n      <td>ST4000DM000</td>\n      <td>Z307Y2X9</td>\n      <td>25.0</td>\n      <td>72981.0</td>\n      <td>25.0</td>\n      <td>237039712.0</td>\n      <td>8.138285e+09</td>\n      <td>72547820.0</td>\n    </tr>\n    <tr>\n      <th>3650225</th>\n      <td>4000787030016</td>\n      <td>2018-04-28</td>\n      <td>0</td>\n      <td>ST4000DM000</td>\n      <td>Z307Y2X9</td>\n      <td>25.0</td>\n      <td>73600.0</td>\n      <td>25.0</td>\n      <td>20406808.0</td>\n      <td>8.138405e+09</td>\n      <td>72791073.0</td>\n    </tr>\n    <tr>\n      <th>3679698</th>\n      <td>4000787030016</td>\n      <td>2018-04-29</td>\n      <td>0</td>\n      <td>ST4000DM000</td>\n      <td>Z307Y2X9</td>\n      <td>24.0</td>\n      <td>74808.0</td>\n      <td>24.0</td>\n      <td>59236792.0</td>\n      <td>8.138522e+09</td>\n      <td>72875529.0</td>\n    </tr>\n    <tr>\n      <th>3709169</th>\n      <td>4000787030016</td>\n      <td>2018-04-30</td>\n      <td>0</td>\n      <td>ST4000DM000</td>\n      <td>Z307Y2X9</td>\n      <td>25.0</td>\n      <td>76005.0</td>\n      <td>25.0</td>\n      <td>99430576.0</td>\n      <td>8.138638e+09</td>\n      <td>72960108.0</td>\n    </tr>\n    <tr>\n      <th>3738636</th>\n      <td>4000787030016</td>\n      <td>2018-05-01</td>\n      <td>0</td>\n      <td>ST4000DM000</td>\n      <td>Z307Y2X9</td>\n      <td>25.0</td>\n      <td>76465.0</td>\n      <td>25.0</td>\n      <td>114280896.0</td>\n      <td>8.138680e+09</td>\n      <td>72990085.0</td>\n    </tr>\n  </tbody>\n</table>\n<p>7835606 rows × 11 columns</p>\n</div>"
     },
     "metadata": {},
     "execution_count": 3
    }
   ],
   "source": [
    "data"
   ]
  },
  {
   "cell_type": "code",
   "execution_count": 4,
   "metadata": {},
   "outputs": [],
   "source": [
    "a = list(data['date'].value_counts().index)"
   ]
  },
  {
   "cell_type": "code",
   "execution_count": 5,
   "metadata": {},
   "outputs": [
    {
     "output_type": "execute_result",
     "data": {
      "text/plain": "['2018-01-04',\n '2018-01-05',\n '2018-01-06',\n '2018-01-07',\n '2018-01-08',\n '2018-01-09',\n '2018-01-11',\n '2018-01-03',\n '2018-01-02',\n '2018-01-01',\n '2018-01-10',\n '2018-01-14',\n '2018-01-15',\n '2018-01-13',\n '2018-01-12',\n '2018-01-24',\n '2018-01-25',\n '2018-01-27',\n '2018-01-28',\n '2018-01-29',\n '2018-01-31',\n '2018-01-30',\n '2018-01-21',\n '2018-02-02',\n '2018-02-01',\n '2018-02-03',\n '2018-02-04',\n '2018-01-22',\n '2018-01-16',\n '2018-02-05',\n '2018-02-06',\n '2018-02-07',\n '2018-02-08',\n '2018-02-09',\n '2018-02-10',\n '2018-02-11',\n '2018-02-12',\n '2018-01-19',\n '2018-02-13',\n '2018-02-14',\n '2018-02-15',\n '2018-02-16',\n '2018-02-17',\n '2018-02-18',\n '2018-02-19',\n '2018-02-20',\n '2018-02-21',\n '2018-01-26',\n '2018-01-17',\n '2018-02-22',\n '2018-02-23',\n '2018-03-01',\n '2018-03-02',\n '2018-02-24',\n '2018-02-25',\n '2018-02-26',\n '2018-02-27',\n '2018-02-28',\n '2018-03-05',\n '2018-03-03',\n '2018-03-04',\n '2018-03-06',\n '2018-03-07',\n '2018-03-08',\n '2018-03-09',\n '2018-03-10',\n '2018-03-11',\n '2018-03-12',\n '2018-03-13',\n '2018-03-14',\n '2018-01-23',\n '2018-03-15',\n '2018-03-16',\n '2018-03-17',\n '2018-03-20',\n '2018-03-18',\n '2018-03-19',\n '2018-03-21',\n '2018-03-22',\n '2018-03-23',\n '2018-03-24',\n '2018-01-18',\n '2018-03-26',\n '2018-03-25',\n '2018-03-27',\n '2018-03-29',\n '2018-03-28',\n '2018-03-30',\n '2018-03-31',\n '2018-04-01',\n '2018-04-03',\n '2018-04-02',\n '2018-04-04',\n '2018-04-05',\n '2018-04-07',\n '2018-04-06',\n '2018-04-10',\n '2018-04-09',\n '2018-04-08',\n '2018-04-11',\n '2018-01-20',\n '2018-04-13',\n '2018-04-12',\n '2018-04-14',\n '2018-04-15',\n '2018-04-17',\n '2018-04-16',\n '2018-04-18',\n '2018-04-19',\n '2018-04-20',\n '2018-04-21',\n '2018-04-22',\n '2018-04-23',\n '2018-04-24',\n '2018-04-25',\n '2018-04-26',\n '2018-04-27',\n '2018-04-28',\n '2018-04-29',\n '2018-04-30',\n '2018-05-01',\n '2018-05-02',\n '2018-05-11',\n '2018-05-06',\n '2018-05-07',\n '2018-05-08',\n '2018-05-03',\n '2018-05-10',\n '2018-05-12',\n '2018-05-13',\n '2018-05-04',\n '2018-05-05',\n '2018-05-09',\n '2018-05-14',\n '2018-05-16',\n '2018-05-15',\n '2018-05-17',\n '2018-05-18',\n '2018-05-19',\n '2018-05-20',\n '2018-05-21',\n '2018-05-22',\n '2018-05-31',\n '2018-06-01',\n '2018-06-02',\n '2018-05-25',\n '2018-05-26',\n '2018-05-27',\n '2018-05-28',\n '2018-05-29',\n '2018-05-30',\n '2018-05-23',\n '2018-05-24',\n '2018-06-03',\n '2018-06-04',\n '2018-06-05',\n '2018-06-06',\n '2018-06-07',\n '2018-06-08',\n '2018-06-09',\n '2018-06-10',\n '2018-06-11',\n '2018-06-12',\n '2018-06-13',\n '2018-06-14',\n '2018-06-15',\n '2018-06-22',\n '2018-06-16',\n '2018-06-17',\n '2018-06-18',\n '2018-06-19',\n '2018-06-21',\n '2018-06-20',\n '2018-06-26',\n '2018-06-24',\n '2018-06-25',\n '2018-06-23',\n '2018-06-27',\n '2018-06-28',\n '2018-06-29',\n '2018-06-30',\n '2018-07-01',\n '2018-07-02',\n '2018-07-03',\n '2018-07-04',\n '2018-07-05',\n '2018-07-06',\n '2018-07-07',\n '2018-07-08',\n '2018-07-10',\n '2018-07-09',\n '2018-07-11',\n '2018-07-12',\n '2018-07-13',\n '2018-07-14',\n '2018-07-17',\n '2018-07-15',\n '2018-07-16',\n '2018-07-18',\n '2018-07-25',\n '2018-07-26',\n '2018-07-27',\n '2018-07-20',\n '2018-07-21',\n '2018-07-19',\n '2018-07-28',\n '2018-07-22',\n '2018-07-23',\n '2018-07-24',\n '2018-07-29',\n '2018-07-30',\n '2018-07-31',\n '2018-08-01',\n '2018-08-02',\n '2018-08-03',\n '2018-08-04',\n '2018-08-05',\n '2018-08-06',\n '2018-08-07',\n '2018-08-08',\n '2018-08-09',\n '2018-08-10',\n '2018-08-12',\n '2018-08-13',\n '2018-08-14',\n '2018-08-11',\n '2018-08-15',\n '2018-08-16',\n '2018-08-17',\n '2018-08-18',\n '2018-08-19',\n '2018-08-20',\n '2018-08-21',\n '2018-08-22',\n '2018-08-24',\n '2018-08-25',\n '2018-08-26',\n '2018-08-23',\n '2018-08-27',\n '2018-08-28',\n '2018-08-29',\n '2018-08-30',\n '2018-09-07',\n '2018-09-08',\n '2018-08-31',\n '2018-09-04',\n '2018-09-03',\n '2018-09-02',\n '2018-09-01',\n '2018-09-05',\n '2018-09-06',\n '2018-09-09',\n '2018-09-10',\n '2018-09-11',\n '2018-09-12',\n '2018-09-13',\n '2018-09-14',\n '2018-09-15',\n '2018-09-16',\n '2018-09-17',\n '2018-09-18',\n '2018-09-20',\n '2018-09-19',\n '2018-09-21',\n '2018-09-22',\n '2018-09-23',\n '2018-09-24',\n '2018-09-25',\n '2018-09-26',\n '2018-09-27',\n '2018-09-28',\n '2018-09-29',\n '2018-09-30']"
     },
     "metadata": {},
     "execution_count": 5
    }
   ],
   "source": [
    "a"
   ]
  },
  {
   "cell_type": "code",
   "execution_count": 6,
   "metadata": {},
   "outputs": [],
   "source": [
    "a.sort()"
   ]
  },
  {
   "cell_type": "code",
   "execution_count": 7,
   "metadata": {},
   "outputs": [
    {
     "output_type": "execute_result",
     "data": {
      "text/plain": "['2018-01-01',\n '2018-01-02',\n '2018-01-03',\n '2018-01-04',\n '2018-01-05',\n '2018-01-06',\n '2018-01-07',\n '2018-01-08',\n '2018-01-09',\n '2018-01-10',\n '2018-01-11',\n '2018-01-12',\n '2018-01-13',\n '2018-01-14',\n '2018-01-15',\n '2018-01-16',\n '2018-01-17',\n '2018-01-18',\n '2018-01-19',\n '2018-01-20',\n '2018-01-21',\n '2018-01-22',\n '2018-01-23',\n '2018-01-24',\n '2018-01-25',\n '2018-01-26',\n '2018-01-27',\n '2018-01-28',\n '2018-01-29',\n '2018-01-30',\n '2018-01-31',\n '2018-02-01',\n '2018-02-02',\n '2018-02-03',\n '2018-02-04',\n '2018-02-05',\n '2018-02-06',\n '2018-02-07',\n '2018-02-08',\n '2018-02-09',\n '2018-02-10',\n '2018-02-11',\n '2018-02-12',\n '2018-02-13',\n '2018-02-14',\n '2018-02-15',\n '2018-02-16',\n '2018-02-17',\n '2018-02-18',\n '2018-02-19',\n '2018-02-20',\n '2018-02-21',\n '2018-02-22',\n '2018-02-23',\n '2018-02-24',\n '2018-02-25',\n '2018-02-26',\n '2018-02-27',\n '2018-02-28',\n '2018-03-01',\n '2018-03-02',\n '2018-03-03',\n '2018-03-04',\n '2018-03-05',\n '2018-03-06',\n '2018-03-07',\n '2018-03-08',\n '2018-03-09',\n '2018-03-10',\n '2018-03-11',\n '2018-03-12',\n '2018-03-13',\n '2018-03-14',\n '2018-03-15',\n '2018-03-16',\n '2018-03-17',\n '2018-03-18',\n '2018-03-19',\n '2018-03-20',\n '2018-03-21',\n '2018-03-22',\n '2018-03-23',\n '2018-03-24',\n '2018-03-25',\n '2018-03-26',\n '2018-03-27',\n '2018-03-28',\n '2018-03-29',\n '2018-03-30',\n '2018-03-31',\n '2018-04-01',\n '2018-04-02',\n '2018-04-03',\n '2018-04-04',\n '2018-04-05',\n '2018-04-06',\n '2018-04-07',\n '2018-04-08',\n '2018-04-09',\n '2018-04-10',\n '2018-04-11',\n '2018-04-12',\n '2018-04-13',\n '2018-04-14',\n '2018-04-15',\n '2018-04-16',\n '2018-04-17',\n '2018-04-18',\n '2018-04-19',\n '2018-04-20',\n '2018-04-21',\n '2018-04-22',\n '2018-04-23',\n '2018-04-24',\n '2018-04-25',\n '2018-04-26',\n '2018-04-27',\n '2018-04-28',\n '2018-04-29',\n '2018-04-30',\n '2018-05-01',\n '2018-05-02',\n '2018-05-03',\n '2018-05-04',\n '2018-05-05',\n '2018-05-06',\n '2018-05-07',\n '2018-05-08',\n '2018-05-09',\n '2018-05-10',\n '2018-05-11',\n '2018-05-12',\n '2018-05-13',\n '2018-05-14',\n '2018-05-15',\n '2018-05-16',\n '2018-05-17',\n '2018-05-18',\n '2018-05-19',\n '2018-05-20',\n '2018-05-21',\n '2018-05-22',\n '2018-05-23',\n '2018-05-24',\n '2018-05-25',\n '2018-05-26',\n '2018-05-27',\n '2018-05-28',\n '2018-05-29',\n '2018-05-30',\n '2018-05-31',\n '2018-06-01',\n '2018-06-02',\n '2018-06-03',\n '2018-06-04',\n '2018-06-05',\n '2018-06-06',\n '2018-06-07',\n '2018-06-08',\n '2018-06-09',\n '2018-06-10',\n '2018-06-11',\n '2018-06-12',\n '2018-06-13',\n '2018-06-14',\n '2018-06-15',\n '2018-06-16',\n '2018-06-17',\n '2018-06-18',\n '2018-06-19',\n '2018-06-20',\n '2018-06-21',\n '2018-06-22',\n '2018-06-23',\n '2018-06-24',\n '2018-06-25',\n '2018-06-26',\n '2018-06-27',\n '2018-06-28',\n '2018-06-29',\n '2018-06-30',\n '2018-07-01',\n '2018-07-02',\n '2018-07-03',\n '2018-07-04',\n '2018-07-05',\n '2018-07-06',\n '2018-07-07',\n '2018-07-08',\n '2018-07-09',\n '2018-07-10',\n '2018-07-11',\n '2018-07-12',\n '2018-07-13',\n '2018-07-14',\n '2018-07-15',\n '2018-07-16',\n '2018-07-17',\n '2018-07-18',\n '2018-07-19',\n '2018-07-20',\n '2018-07-21',\n '2018-07-22',\n '2018-07-23',\n '2018-07-24',\n '2018-07-25',\n '2018-07-26',\n '2018-07-27',\n '2018-07-28',\n '2018-07-29',\n '2018-07-30',\n '2018-07-31',\n '2018-08-01',\n '2018-08-02',\n '2018-08-03',\n '2018-08-04',\n '2018-08-05',\n '2018-08-06',\n '2018-08-07',\n '2018-08-08',\n '2018-08-09',\n '2018-08-10',\n '2018-08-11',\n '2018-08-12',\n '2018-08-13',\n '2018-08-14',\n '2018-08-15',\n '2018-08-16',\n '2018-08-17',\n '2018-08-18',\n '2018-08-19',\n '2018-08-20',\n '2018-08-21',\n '2018-08-22',\n '2018-08-23',\n '2018-08-24',\n '2018-08-25',\n '2018-08-26',\n '2018-08-27',\n '2018-08-28',\n '2018-08-29',\n '2018-08-30',\n '2018-08-31',\n '2018-09-01',\n '2018-09-02',\n '2018-09-03',\n '2018-09-04',\n '2018-09-05',\n '2018-09-06',\n '2018-09-07',\n '2018-09-08',\n '2018-09-09',\n '2018-09-10',\n '2018-09-11',\n '2018-09-12',\n '2018-09-13',\n '2018-09-14',\n '2018-09-15',\n '2018-09-16',\n '2018-09-17',\n '2018-09-18',\n '2018-09-19',\n '2018-09-20',\n '2018-09-21',\n '2018-09-22',\n '2018-09-23',\n '2018-09-24',\n '2018-09-25',\n '2018-09-26',\n '2018-09-27',\n '2018-09-28',\n '2018-09-29',\n '2018-09-30']"
     },
     "metadata": {},
     "execution_count": 7
    }
   ],
   "source": [
    "a"
   ]
  },
  {
   "cell_type": "code",
   "execution_count": 20,
   "metadata": {},
   "outputs": [
    {
     "output_type": "execute_result",
     "data": {
      "text/plain": "       capacity_bytes        date  failure        model serial_number  \\\n5527    4000787030016  2018-01-01        0  ST4000DM000      S3000A9T   \n17918   4000787030016  2018-01-01        0  ST4000DM000      S3000FZ5   \n29001   4000787030016  2018-01-01        0  ST4000DM000      S3000NSV   \n20955   4000787030016  2018-01-01        0  ST4000DM000      S3000QAP   \n848     4000787030016  2018-01-01        0  ST4000DM000      S30015PW   \n...               ...         ...      ...          ...           ...   \n17222   4000787030016  2018-01-01        0  ST4000DM000      Z307WW9C   \n11802   4000787030016  2018-01-01        0  ST4000DM000      Z307X70A   \n29397   4000787030016  2018-01-01        0  ST4000DM000      Z307XGQP   \n4220    4000787030016  2018-01-01        0  ST4000DM000      Z307XHRJ   \n9331    4000787030016  2018-01-01        0  ST4000DM000      Z307Y2X9   \n\n       smart_190_raw  smart_193_raw  smart_194_raw  smart_1_raw  \\\n5527            22.0        64132.0           22.0   38941024.0   \n17918           22.0         9222.0           22.0   88742784.0   \n29001           21.0       263300.0           21.0  182752792.0   \n20955           24.0        97855.0           24.0  174470056.0   \n848             22.0        17690.0           22.0  199047456.0   \n...              ...            ...            ...          ...   \n17222           22.0       108514.0           22.0  134890112.0   \n11802           25.0          149.0           25.0  165331968.0   \n29397           19.0        11474.0           19.0   19335632.0   \n4220            30.0           69.0           30.0  172737712.0   \n9331            25.0         1136.0           25.0  136298536.0   \n\n       smart_241_raw  smart_7_raw  \n5527    1.106223e+10  173472387.0  \n17918   1.933116e+10   80785554.0  \n29001   1.837012e+10  207303466.0  \n20955   2.671551e+10   78695279.0  \n848     1.820113e+10  103920840.0  \n...              ...          ...  \n17222   8.157671e+09   53626511.0  \n11802   1.283786e+10  322001264.0  \n29397   8.200761e+09  134178649.0  \n4220    1.042630e+10   78710467.0  \n9331    7.999301e+09   26935881.0  \n\n[31936 rows x 11 columns]",
      "text/html": "<div>\n<style scoped>\n    .dataframe tbody tr th:only-of-type {\n        vertical-align: middle;\n    }\n\n    .dataframe tbody tr th {\n        vertical-align: top;\n    }\n\n    .dataframe thead th {\n        text-align: right;\n    }\n</style>\n<table border=\"1\" class=\"dataframe\">\n  <thead>\n    <tr style=\"text-align: right;\">\n      <th></th>\n      <th>capacity_bytes</th>\n      <th>date</th>\n      <th>failure</th>\n      <th>model</th>\n      <th>serial_number</th>\n      <th>smart_190_raw</th>\n      <th>smart_193_raw</th>\n      <th>smart_194_raw</th>\n      <th>smart_1_raw</th>\n      <th>smart_241_raw</th>\n      <th>smart_7_raw</th>\n    </tr>\n  </thead>\n  <tbody>\n    <tr>\n      <th>5527</th>\n      <td>4000787030016</td>\n      <td>2018-01-01</td>\n      <td>0</td>\n      <td>ST4000DM000</td>\n      <td>S3000A9T</td>\n      <td>22.0</td>\n      <td>64132.0</td>\n      <td>22.0</td>\n      <td>38941024.0</td>\n      <td>1.106223e+10</td>\n      <td>173472387.0</td>\n    </tr>\n    <tr>\n      <th>17918</th>\n      <td>4000787030016</td>\n      <td>2018-01-01</td>\n      <td>0</td>\n      <td>ST4000DM000</td>\n      <td>S3000FZ5</td>\n      <td>22.0</td>\n      <td>9222.0</td>\n      <td>22.0</td>\n      <td>88742784.0</td>\n      <td>1.933116e+10</td>\n      <td>80785554.0</td>\n    </tr>\n    <tr>\n      <th>29001</th>\n      <td>4000787030016</td>\n      <td>2018-01-01</td>\n      <td>0</td>\n      <td>ST4000DM000</td>\n      <td>S3000NSV</td>\n      <td>21.0</td>\n      <td>263300.0</td>\n      <td>21.0</td>\n      <td>182752792.0</td>\n      <td>1.837012e+10</td>\n      <td>207303466.0</td>\n    </tr>\n    <tr>\n      <th>20955</th>\n      <td>4000787030016</td>\n      <td>2018-01-01</td>\n      <td>0</td>\n      <td>ST4000DM000</td>\n      <td>S3000QAP</td>\n      <td>24.0</td>\n      <td>97855.0</td>\n      <td>24.0</td>\n      <td>174470056.0</td>\n      <td>2.671551e+10</td>\n      <td>78695279.0</td>\n    </tr>\n    <tr>\n      <th>848</th>\n      <td>4000787030016</td>\n      <td>2018-01-01</td>\n      <td>0</td>\n      <td>ST4000DM000</td>\n      <td>S30015PW</td>\n      <td>22.0</td>\n      <td>17690.0</td>\n      <td>22.0</td>\n      <td>199047456.0</td>\n      <td>1.820113e+10</td>\n      <td>103920840.0</td>\n    </tr>\n    <tr>\n      <th>...</th>\n      <td>...</td>\n      <td>...</td>\n      <td>...</td>\n      <td>...</td>\n      <td>...</td>\n      <td>...</td>\n      <td>...</td>\n      <td>...</td>\n      <td>...</td>\n      <td>...</td>\n      <td>...</td>\n    </tr>\n    <tr>\n      <th>17222</th>\n      <td>4000787030016</td>\n      <td>2018-01-01</td>\n      <td>0</td>\n      <td>ST4000DM000</td>\n      <td>Z307WW9C</td>\n      <td>22.0</td>\n      <td>108514.0</td>\n      <td>22.0</td>\n      <td>134890112.0</td>\n      <td>8.157671e+09</td>\n      <td>53626511.0</td>\n    </tr>\n    <tr>\n      <th>11802</th>\n      <td>4000787030016</td>\n      <td>2018-01-01</td>\n      <td>0</td>\n      <td>ST4000DM000</td>\n      <td>Z307X70A</td>\n      <td>25.0</td>\n      <td>149.0</td>\n      <td>25.0</td>\n      <td>165331968.0</td>\n      <td>1.283786e+10</td>\n      <td>322001264.0</td>\n    </tr>\n    <tr>\n      <th>29397</th>\n      <td>4000787030016</td>\n      <td>2018-01-01</td>\n      <td>0</td>\n      <td>ST4000DM000</td>\n      <td>Z307XGQP</td>\n      <td>19.0</td>\n      <td>11474.0</td>\n      <td>19.0</td>\n      <td>19335632.0</td>\n      <td>8.200761e+09</td>\n      <td>134178649.0</td>\n    </tr>\n    <tr>\n      <th>4220</th>\n      <td>4000787030016</td>\n      <td>2018-01-01</td>\n      <td>0</td>\n      <td>ST4000DM000</td>\n      <td>Z307XHRJ</td>\n      <td>30.0</td>\n      <td>69.0</td>\n      <td>30.0</td>\n      <td>172737712.0</td>\n      <td>1.042630e+10</td>\n      <td>78710467.0</td>\n    </tr>\n    <tr>\n      <th>9331</th>\n      <td>4000787030016</td>\n      <td>2018-01-01</td>\n      <td>0</td>\n      <td>ST4000DM000</td>\n      <td>Z307Y2X9</td>\n      <td>25.0</td>\n      <td>1136.0</td>\n      <td>25.0</td>\n      <td>136298536.0</td>\n      <td>7.999301e+09</td>\n      <td>26935881.0</td>\n    </tr>\n  </tbody>\n</table>\n<p>31936 rows × 11 columns</p>\n</div>"
     },
     "metadata": {},
     "execution_count": 20
    }
   ],
   "source": [
    "data[data['date'] == '2018-01-01']"
   ]
  },
  {
   "cell_type": "code",
   "execution_count": 1,
   "metadata": {},
   "outputs": [],
   "source": [
    "import pandas as pd "
   ]
  },
  {
   "cell_type": "code",
   "execution_count": 2,
   "metadata": {},
   "outputs": [],
   "source": [
    "b = pd.read_csv('E:/data/NegativeSample.csv', engine='python')"
   ]
  },
  {
   "cell_type": "code",
   "execution_count": 4,
   "metadata": {},
   "outputs": [
    {
     "output_type": "execute_result",
     "data": {
      "text/plain": "0"
     },
     "metadata": {},
     "execution_count": 4
    }
   ],
   "source": [
    "b['failure'].sum()"
   ]
  },
  {
   "cell_type": "code",
   "execution_count": 5,
   "metadata": {},
   "outputs": [
    {
     "output_type": "execute_result",
     "data": {
      "text/plain": "         Unnamed: 0  capacity_bytes        date  failure        model  \\\n0                 0   4000787030016  2018-01-01        0  ST4000DM000   \n1                 1   4000787030016  2018-01-01        0  ST4000DM000   \n2                 2   4000787030016  2018-01-01        0  ST4000DM000   \n3                 3   4000787030016  2018-01-01        0  ST4000DM000   \n4                 4   4000787030016  2018-01-01        0  ST4000DM000   \n...             ...             ...         ...      ...          ...   \n7832935     7832935   4000787030016  2018-09-30        0  ST4000DM000   \n7832936     7832936   4000787030016  2018-09-30        0  ST4000DM000   \n7832937     7832937   4000787030016  2018-09-30        0  ST4000DM000   \n7832938     7832938   4000787030016  2018-09-30        0  ST4000DM000   \n7832939     7832939   4000787030016  2018-09-30        0  ST4000DM000   \n\n        serial_number  smart_190_raw  smart_193_raw  smart_194_raw  \\\n0            S3000A9T           22.0        64132.0           22.0   \n1            S3000FZ5           22.0         9222.0           22.0   \n2            S3000NSV           21.0       263300.0           21.0   \n3            S3000QAP           24.0        97855.0           24.0   \n4            S30015PW           22.0        17690.0           22.0   \n...               ...            ...            ...            ...   \n7832935      Z307SWMC           24.0          181.0           24.0   \n7832936      Z307SX2V           24.0       141007.0           24.0   \n7832937      Z307T7X8           26.0       137506.0           26.0   \n7832938      Z307X70A           23.0          406.0           23.0   \n7832939      Z307XHRJ           31.0          171.0           31.0   \n\n         smart_1_raw  smart_241_raw  smart_7_raw  \n0         38941024.0   1.106223e+10  173472387.0  \n1         88742784.0   1.933116e+10   80785554.0  \n2        182752792.0   1.837012e+10  207303466.0  \n3        174470056.0   2.671551e+10   78695279.0  \n4        199047456.0   1.820113e+10  103920840.0  \n...              ...            ...          ...  \n7832935  176937784.0   1.480914e+10  186624961.0  \n7832936   89877848.0   1.179349e+10  109127046.0  \n7832937  187371360.0   9.549368e+09  246886327.0  \n7832938    3623128.0   1.703102e+10  666600225.0  \n7832939  203472736.0   1.477747e+10  207508423.0  \n\n[7832940 rows x 12 columns]",
      "text/html": "<div>\n<style scoped>\n    .dataframe tbody tr th:only-of-type {\n        vertical-align: middle;\n    }\n\n    .dataframe tbody tr th {\n        vertical-align: top;\n    }\n\n    .dataframe thead th {\n        text-align: right;\n    }\n</style>\n<table border=\"1\" class=\"dataframe\">\n  <thead>\n    <tr style=\"text-align: right;\">\n      <th></th>\n      <th>Unnamed: 0</th>\n      <th>capacity_bytes</th>\n      <th>date</th>\n      <th>failure</th>\n      <th>model</th>\n      <th>serial_number</th>\n      <th>smart_190_raw</th>\n      <th>smart_193_raw</th>\n      <th>smart_194_raw</th>\n      <th>smart_1_raw</th>\n      <th>smart_241_raw</th>\n      <th>smart_7_raw</th>\n    </tr>\n  </thead>\n  <tbody>\n    <tr>\n      <th>0</th>\n      <td>0</td>\n      <td>4000787030016</td>\n      <td>2018-01-01</td>\n      <td>0</td>\n      <td>ST4000DM000</td>\n      <td>S3000A9T</td>\n      <td>22.0</td>\n      <td>64132.0</td>\n      <td>22.0</td>\n      <td>38941024.0</td>\n      <td>1.106223e+10</td>\n      <td>173472387.0</td>\n    </tr>\n    <tr>\n      <th>1</th>\n      <td>1</td>\n      <td>4000787030016</td>\n      <td>2018-01-01</td>\n      <td>0</td>\n      <td>ST4000DM000</td>\n      <td>S3000FZ5</td>\n      <td>22.0</td>\n      <td>9222.0</td>\n      <td>22.0</td>\n      <td>88742784.0</td>\n      <td>1.933116e+10</td>\n      <td>80785554.0</td>\n    </tr>\n    <tr>\n      <th>2</th>\n      <td>2</td>\n      <td>4000787030016</td>\n      <td>2018-01-01</td>\n      <td>0</td>\n      <td>ST4000DM000</td>\n      <td>S3000NSV</td>\n      <td>21.0</td>\n      <td>263300.0</td>\n      <td>21.0</td>\n      <td>182752792.0</td>\n      <td>1.837012e+10</td>\n      <td>207303466.0</td>\n    </tr>\n    <tr>\n      <th>3</th>\n      <td>3</td>\n      <td>4000787030016</td>\n      <td>2018-01-01</td>\n      <td>0</td>\n      <td>ST4000DM000</td>\n      <td>S3000QAP</td>\n      <td>24.0</td>\n      <td>97855.0</td>\n      <td>24.0</td>\n      <td>174470056.0</td>\n      <td>2.671551e+10</td>\n      <td>78695279.0</td>\n    </tr>\n    <tr>\n      <th>4</th>\n      <td>4</td>\n      <td>4000787030016</td>\n      <td>2018-01-01</td>\n      <td>0</td>\n      <td>ST4000DM000</td>\n      <td>S30015PW</td>\n      <td>22.0</td>\n      <td>17690.0</td>\n      <td>22.0</td>\n      <td>199047456.0</td>\n      <td>1.820113e+10</td>\n      <td>103920840.0</td>\n    </tr>\n    <tr>\n      <th>...</th>\n      <td>...</td>\n      <td>...</td>\n      <td>...</td>\n      <td>...</td>\n      <td>...</td>\n      <td>...</td>\n      <td>...</td>\n      <td>...</td>\n      <td>...</td>\n      <td>...</td>\n      <td>...</td>\n      <td>...</td>\n    </tr>\n    <tr>\n      <th>7832935</th>\n      <td>7832935</td>\n      <td>4000787030016</td>\n      <td>2018-09-30</td>\n      <td>0</td>\n      <td>ST4000DM000</td>\n      <td>Z307SWMC</td>\n      <td>24.0</td>\n      <td>181.0</td>\n      <td>24.0</td>\n      <td>176937784.0</td>\n      <td>1.480914e+10</td>\n      <td>186624961.0</td>\n    </tr>\n    <tr>\n      <th>7832936</th>\n      <td>7832936</td>\n      <td>4000787030016</td>\n      <td>2018-09-30</td>\n      <td>0</td>\n      <td>ST4000DM000</td>\n      <td>Z307SX2V</td>\n      <td>24.0</td>\n      <td>141007.0</td>\n      <td>24.0</td>\n      <td>89877848.0</td>\n      <td>1.179349e+10</td>\n      <td>109127046.0</td>\n    </tr>\n    <tr>\n      <th>7832937</th>\n      <td>7832937</td>\n      <td>4000787030016</td>\n      <td>2018-09-30</td>\n      <td>0</td>\n      <td>ST4000DM000</td>\n      <td>Z307T7X8</td>\n      <td>26.0</td>\n      <td>137506.0</td>\n      <td>26.0</td>\n      <td>187371360.0</td>\n      <td>9.549368e+09</td>\n      <td>246886327.0</td>\n    </tr>\n    <tr>\n      <th>7832938</th>\n      <td>7832938</td>\n      <td>4000787030016</td>\n      <td>2018-09-30</td>\n      <td>0</td>\n      <td>ST4000DM000</td>\n      <td>Z307X70A</td>\n      <td>23.0</td>\n      <td>406.0</td>\n      <td>23.0</td>\n      <td>3623128.0</td>\n      <td>1.703102e+10</td>\n      <td>666600225.0</td>\n    </tr>\n    <tr>\n      <th>7832939</th>\n      <td>7832939</td>\n      <td>4000787030016</td>\n      <td>2018-09-30</td>\n      <td>0</td>\n      <td>ST4000DM000</td>\n      <td>Z307XHRJ</td>\n      <td>31.0</td>\n      <td>171.0</td>\n      <td>31.0</td>\n      <td>203472736.0</td>\n      <td>1.477747e+10</td>\n      <td>207508423.0</td>\n    </tr>\n  </tbody>\n</table>\n<p>7832940 rows × 12 columns</p>\n</div>"
     },
     "metadata": {},
     "execution_count": 5
    }
   ],
   "source": [
    "b"
   ]
  },
  {
   "cell_type": "code",
   "execution_count": 1,
   "metadata": {},
   "outputs": [],
   "source": [
    "import torch"
   ]
  },
  {
   "cell_type": "code",
   "execution_count": 2,
   "metadata": {},
   "outputs": [],
   "source": [
    "x = torch.ones(10)"
   ]
  },
  {
   "cell_type": "code",
   "execution_count": 3,
   "metadata": {},
   "outputs": [
    {
     "output_type": "execute_result",
     "data": {
      "text/plain": "torch.Size([10])"
     },
     "metadata": {},
     "execution_count": 3
    }
   ],
   "source": [
    "x.shape"
   ]
  },
  {
   "cell_type": "code",
   "execution_count": 4,
   "metadata": {},
   "outputs": [],
   "source": [
    "y = torch.zeros(10)"
   ]
  },
  {
   "cell_type": "code",
   "execution_count": 5,
   "metadata": {},
   "outputs": [
    {
     "output_type": "execute_result",
     "data": {
      "text/plain": "torch.Size([10])"
     },
     "metadata": {},
     "execution_count": 5
    }
   ],
   "source": [
    "y.shape"
   ]
  },
  {
   "cell_type": "code",
   "execution_count": 8,
   "metadata": {},
   "outputs": [
    {
     "output_type": "execute_result",
     "data": {
      "text/plain": "tensor(10)"
     },
     "metadata": {},
     "execution_count": 8
    }
   ],
   "source": [
    "(x == y).sum()"
   ]
  },
  {
   "cell_type": "code",
   "execution_count": 9,
   "metadata": {},
   "outputs": [],
   "source": [
    "import pandas as pd "
   ]
  },
  {
   "cell_type": "code",
   "execution_count": 16,
   "metadata": {},
   "outputs": [],
   "source": [
    "N = pd.read_csv('G:/BaiduNetdiskDownload/NegativeSample.csv')"
   ]
  },
  {
   "cell_type": "code",
   "execution_count": 17,
   "metadata": {},
   "outputs": [
    {
     "output_type": "execute_result",
     "data": {
      "text/plain": "   Unnamed: 0  capacity_bytes        date  failure        model serial_number  \\\n0           0   4000787030016  2018-01-01        0  ST4000DM000      S3000A9T   \n1           1   4000787030016  2018-01-01        0  ST4000DM000      S3000FZ5   \n2           2   4000787030016  2018-01-01        0  ST4000DM000      S3000NSV   \n3           3   4000787030016  2018-01-01        0  ST4000DM000      S3000QAP   \n4           4   4000787030016  2018-01-01        0  ST4000DM000      S30015PW   \n\n   smart_190_raw  smart_193_raw  smart_194_raw  smart_1_raw  smart_241_raw  \\\n0           22.0        64132.0           22.0   38941024.0   1.106223e+10   \n1           22.0         9222.0           22.0   88742784.0   1.933116e+10   \n2           21.0       263300.0           21.0  182752792.0   1.837012e+10   \n3           24.0        97855.0           24.0  174470056.0   2.671551e+10   \n4           22.0        17690.0           22.0  199047456.0   1.820113e+10   \n\n   smart_7_raw  \n0  173472387.0  \n1   80785554.0  \n2  207303466.0  \n3   78695279.0  \n4  103920840.0  ",
      "text/html": "<div>\n<style scoped>\n    .dataframe tbody tr th:only-of-type {\n        vertical-align: middle;\n    }\n\n    .dataframe tbody tr th {\n        vertical-align: top;\n    }\n\n    .dataframe thead th {\n        text-align: right;\n    }\n</style>\n<table border=\"1\" class=\"dataframe\">\n  <thead>\n    <tr style=\"text-align: right;\">\n      <th></th>\n      <th>Unnamed: 0</th>\n      <th>capacity_bytes</th>\n      <th>date</th>\n      <th>failure</th>\n      <th>model</th>\n      <th>serial_number</th>\n      <th>smart_190_raw</th>\n      <th>smart_193_raw</th>\n      <th>smart_194_raw</th>\n      <th>smart_1_raw</th>\n      <th>smart_241_raw</th>\n      <th>smart_7_raw</th>\n    </tr>\n  </thead>\n  <tbody>\n    <tr>\n      <th>0</th>\n      <td>0</td>\n      <td>4000787030016</td>\n      <td>2018-01-01</td>\n      <td>0</td>\n      <td>ST4000DM000</td>\n      <td>S3000A9T</td>\n      <td>22.0</td>\n      <td>64132.0</td>\n      <td>22.0</td>\n      <td>38941024.0</td>\n      <td>1.106223e+10</td>\n      <td>173472387.0</td>\n    </tr>\n    <tr>\n      <th>1</th>\n      <td>1</td>\n      <td>4000787030016</td>\n      <td>2018-01-01</td>\n      <td>0</td>\n      <td>ST4000DM000</td>\n      <td>S3000FZ5</td>\n      <td>22.0</td>\n      <td>9222.0</td>\n      <td>22.0</td>\n      <td>88742784.0</td>\n      <td>1.933116e+10</td>\n      <td>80785554.0</td>\n    </tr>\n    <tr>\n      <th>2</th>\n      <td>2</td>\n      <td>4000787030016</td>\n      <td>2018-01-01</td>\n      <td>0</td>\n      <td>ST4000DM000</td>\n      <td>S3000NSV</td>\n      <td>21.0</td>\n      <td>263300.0</td>\n      <td>21.0</td>\n      <td>182752792.0</td>\n      <td>1.837012e+10</td>\n      <td>207303466.0</td>\n    </tr>\n    <tr>\n      <th>3</th>\n      <td>3</td>\n      <td>4000787030016</td>\n      <td>2018-01-01</td>\n      <td>0</td>\n      <td>ST4000DM000</td>\n      <td>S3000QAP</td>\n      <td>24.0</td>\n      <td>97855.0</td>\n      <td>24.0</td>\n      <td>174470056.0</td>\n      <td>2.671551e+10</td>\n      <td>78695279.0</td>\n    </tr>\n    <tr>\n      <th>4</th>\n      <td>4</td>\n      <td>4000787030016</td>\n      <td>2018-01-01</td>\n      <td>0</td>\n      <td>ST4000DM000</td>\n      <td>S30015PW</td>\n      <td>22.0</td>\n      <td>17690.0</td>\n      <td>22.0</td>\n      <td>199047456.0</td>\n      <td>1.820113e+10</td>\n      <td>103920840.0</td>\n    </tr>\n  </tbody>\n</table>\n</div>"
     },
     "metadata": {},
     "execution_count": 17
    }
   ],
   "source": [
    "N.head(5)"
   ]
  },
  {
   "cell_type": "code",
   "execution_count": 19,
   "metadata": {},
   "outputs": [
    {
     "output_type": "execute_result",
     "data": {
      "text/plain": "Index(['smart_190_raw', 'smart_193_raw', 'smart_194_raw', 'smart_1_raw',\n       'smart_241_raw', 'smart_7_raw'],\n      dtype='object')"
     },
     "metadata": {},
     "execution_count": 19
    }
   ],
   "source": [
    "N.iloc[:, 6: 12].columns"
   ]
  },
  {
   "cell_type": "code",
   "execution_count": 20,
   "metadata": {},
   "outputs": [],
   "source": [
    "P = pd.read_csv('G:/BaiduNetdiskDownload/positiveSample.csv')"
   ]
  },
  {
   "cell_type": "code",
   "execution_count": 22,
   "metadata": {},
   "outputs": [
    {
     "output_type": "execute_result",
     "data": {
      "text/plain": "Index(['smart_190_raw', 'smart_193_raw', 'smart_194_raw', 'smart_1_raw',\n       'smart_241_raw', 'smart_7_raw'],\n      dtype='object')"
     },
     "metadata": {},
     "execution_count": 22
    }
   ],
   "source": [
    "P.iloc[:, 6:12].columns"
   ]
  },
  {
   "cell_type": "code",
   "execution_count": 23,
   "metadata": {},
   "outputs": [],
   "source": [
    "import pandas as pd \n",
    "import collections\n",
    "import math\n",
    "import os\n",
    "import random\n",
    "import sys\n",
    "import tarfile\n",
    "import time\n",
    "import json\n",
    "from collections import namedtuple\n",
    "import torch\n",
    "from torch import nn\n",
    "import torch.nn.functional as F\n",
    "import torchvision\n",
    "import torchvision.transforms as transforms\n",
    "import torchtext\n",
    "import torchtext.vocab as Vocab\n",
    "import numpy as np\n",
    "import pandas as pd\n",
    "from torch.utils.data import DataLoader, Dataset, WeightedRandomSampler\n",
    "from torch.optim import lr_scheduler\n",
    "import numpy as np \n",
    "device = torch.device('cuda' if torch.cuda.is_available() else 'cpu')"
   ]
  },
  {
   "cell_type": "code",
   "execution_count": 1,
   "metadata": {},
   "outputs": [],
   "source": [
    "import torchvision"
   ]
  },
  {
   "cell_type": "code",
   "execution_count": 2,
   "metadata": {},
   "outputs": [],
   "source": [
    "import torchtext"
   ]
  },
  {
   "cell_type": "code",
   "execution_count": 3,
   "metadata": {},
   "outputs": [
    {
     "output_type": "error",
     "ename": "ModuleNotFoundError",
     "evalue": "No module named 'dafsdgf'",
     "traceback": [
      "\u001b[1;31m---------------------------------------------------------------------------\u001b[0m",
      "\u001b[1;31mModuleNotFoundError\u001b[0m                       Traceback (most recent call last)",
      "\u001b[1;32m<ipython-input-3-c99861760c5c>\u001b[0m in \u001b[0;36m<module>\u001b[1;34m\u001b[0m\n\u001b[1;32m----> 1\u001b[1;33m \u001b[1;32mimport\u001b[0m \u001b[0mdafsdgf\u001b[0m\u001b[1;33m\u001b[0m\u001b[1;33m\u001b[0m\u001b[0m\n\u001b[0m",
      "\u001b[1;31mModuleNotFoundError\u001b[0m: No module named 'dafsdgf'"
     ]
    }
   ],
   "source": [
    "import dafsdgf"
   ]
  },
  {
   "cell_type": "code",
   "execution_count": 1,
   "metadata": {},
   "outputs": [
    {
     "output_type": "error",
     "ename": "KeyboardInterrupt",
     "evalue": "",
     "traceback": [
      "\u001b[1;31m---------------------------------------------------------------------------\u001b[0m",
      "\u001b[1;31mKeyboardInterrupt\u001b[0m                         Traceback (most recent call last)",
      "\u001b[1;32m<ipython-input-1-b1db27a9fbee>\u001b[0m in \u001b[0;36m<module>\u001b[1;34m\u001b[0m\n\u001b[0;32m    125\u001b[0m \u001b[0mNegativeSample\u001b[0m \u001b[1;33m=\u001b[0m \u001b[0mpd\u001b[0m\u001b[1;33m.\u001b[0m\u001b[0mread_csv\u001b[0m\u001b[1;33m(\u001b[0m\u001b[1;34m'G:/BaiduNetdiskDownload/NegativeSample.csv'\u001b[0m\u001b[1;33m)\u001b[0m\u001b[1;33m\u001b[0m\u001b[1;33m\u001b[0m\u001b[0m\n\u001b[0;32m    126\u001b[0m \u001b[1;33m\u001b[0m\u001b[0m\n\u001b[1;32m--> 127\u001b[1;33m \u001b[0mtrain_set\u001b[0m \u001b[1;33m=\u001b[0m \u001b[0mMydata\u001b[0m\u001b[1;33m(\u001b[0m\u001b[0mPositiveSample\u001b[0m\u001b[1;33m,\u001b[0m \u001b[0mNegativeSample\u001b[0m\u001b[1;33m,\u001b[0m \u001b[1;36m5\u001b[0m\u001b[1;33m)\u001b[0m\u001b[1;33m\u001b[0m\u001b[1;33m\u001b[0m\u001b[0m\n\u001b[0m\u001b[0;32m    128\u001b[0m \u001b[0mtrain_iter\u001b[0m \u001b[1;33m=\u001b[0m \u001b[0mDataLoader\u001b[0m\u001b[1;33m(\u001b[0m\u001b[0mtrain_set\u001b[0m\u001b[1;33m,\u001b[0m \u001b[0mbatch_size\u001b[0m \u001b[1;33m=\u001b[0m \u001b[1;36m32\u001b[0m\u001b[1;33m,\u001b[0m \u001b[0mshuffle\u001b[0m \u001b[1;33m=\u001b[0m \u001b[1;32mTrue\u001b[0m\u001b[1;33m)\u001b[0m\u001b[1;33m\u001b[0m\u001b[1;33m\u001b[0m\u001b[0m\n\u001b[0;32m    129\u001b[0m \u001b[1;33m\u001b[0m\u001b[0m\n",
      "\u001b[1;32m<ipython-input-1-b1db27a9fbee>\u001b[0m in \u001b[0;36m__init__\u001b[1;34m(self, PositiveSample, NegativeSample, numstep)\u001b[0m\n\u001b[0;32m     83\u001b[0m \u001b[1;33m\u001b[0m\u001b[0m\n\u001b[0;32m     84\u001b[0m         \u001b[1;32mfor\u001b[0m \u001b[0mi\u001b[0m \u001b[1;32min\u001b[0m \u001b[0mself\u001b[0m\u001b[1;33m.\u001b[0m\u001b[0mserial_numberOfNegative\u001b[0m\u001b[1;33m:\u001b[0m\u001b[1;33m\u001b[0m\u001b[1;33m\u001b[0m\u001b[0m\n\u001b[1;32m---> 85\u001b[1;33m             \u001b[0mNegetive_bySerial\u001b[0m \u001b[1;33m=\u001b[0m \u001b[0mNegativeSample\u001b[0m\u001b[1;33m[\u001b[0m\u001b[0mNegativeSample\u001b[0m\u001b[1;33m[\u001b[0m\u001b[1;34m'serial_number'\u001b[0m\u001b[1;33m]\u001b[0m \u001b[1;33m==\u001b[0m \u001b[0mi\u001b[0m\u001b[1;33m]\u001b[0m\u001b[1;33m.\u001b[0m\u001b[0miloc\u001b[0m\u001b[1;33m[\u001b[0m\u001b[1;33m:\u001b[0m\u001b[1;33m,\u001b[0m \u001b[1;36m6\u001b[0m\u001b[1;33m:\u001b[0m \u001b[1;36m12\u001b[0m\u001b[1;33m]\u001b[0m\u001b[1;33m\u001b[0m\u001b[1;33m\u001b[0m\u001b[0m\n\u001b[0m\u001b[0;32m     86\u001b[0m             \u001b[1;32mfor\u001b[0m \u001b[0mj\u001b[0m \u001b[1;32min\u001b[0m \u001b[0mrange\u001b[0m\u001b[1;33m(\u001b[0m\u001b[0mlen\u001b[0m\u001b[1;33m(\u001b[0m\u001b[0mPositive_bySerial\u001b[0m\u001b[1;33m)\u001b[0m\u001b[1;33m)\u001b[0m\u001b[1;33m:\u001b[0m\u001b[1;33m\u001b[0m\u001b[1;33m\u001b[0m\u001b[0m\n\u001b[0;32m     87\u001b[0m                 \u001b[0mself\u001b[0m\u001b[1;33m.\u001b[0m\u001b[0minputs\u001b[0m\u001b[1;33m.\u001b[0m\u001b[0mappend\u001b[0m\u001b[1;33m(\u001b[0m\u001b[0mtorch\u001b[0m\u001b[1;33m.\u001b[0m\u001b[0mTensor\u001b[0m\u001b[1;33m(\u001b[0m\u001b[0mnp\u001b[0m\u001b[1;33m.\u001b[0m\u001b[0marray\u001b[0m\u001b[1;33m(\u001b[0m\u001b[0mPositive_bySerial\u001b[0m\u001b[1;33m[\u001b[0m\u001b[0mj\u001b[0m\u001b[1;33m:\u001b[0m \u001b[0mj\u001b[0m \u001b[1;33m+\u001b[0m \u001b[0mnumstep\u001b[0m\u001b[1;33m]\u001b[0m\u001b[1;33m)\u001b[0m\u001b[1;33m)\u001b[0m\u001b[1;33m)\u001b[0m\u001b[1;33m\u001b[0m\u001b[1;33m\u001b[0m\u001b[0m\n",
      "\u001b[1;32mD:\\Anaconda3\\envs\\pytorch-gpu\\lib\\site-packages\\pandas\\core\\ops\\common.py\u001b[0m in \u001b[0;36mnew_method\u001b[1;34m(self, other)\u001b[0m\n\u001b[0;32m     63\u001b[0m         \u001b[0mother\u001b[0m \u001b[1;33m=\u001b[0m \u001b[0mitem_from_zerodim\u001b[0m\u001b[1;33m(\u001b[0m\u001b[0mother\u001b[0m\u001b[1;33m)\u001b[0m\u001b[1;33m\u001b[0m\u001b[1;33m\u001b[0m\u001b[0m\n\u001b[0;32m     64\u001b[0m \u001b[1;33m\u001b[0m\u001b[0m\n\u001b[1;32m---> 65\u001b[1;33m         \u001b[1;32mreturn\u001b[0m \u001b[0mmethod\u001b[0m\u001b[1;33m(\u001b[0m\u001b[0mself\u001b[0m\u001b[1;33m,\u001b[0m \u001b[0mother\u001b[0m\u001b[1;33m)\u001b[0m\u001b[1;33m\u001b[0m\u001b[1;33m\u001b[0m\u001b[0m\n\u001b[0m\u001b[0;32m     66\u001b[0m \u001b[1;33m\u001b[0m\u001b[0m\n\u001b[0;32m     67\u001b[0m     \u001b[1;32mreturn\u001b[0m \u001b[0mnew_method\u001b[0m\u001b[1;33m\u001b[0m\u001b[1;33m\u001b[0m\u001b[0m\n",
      "\u001b[1;32mD:\\Anaconda3\\envs\\pytorch-gpu\\lib\\site-packages\\pandas\\core\\ops\\__init__.py\u001b[0m in \u001b[0;36mwrapper\u001b[1;34m(self, other)\u001b[0m\n\u001b[0;32m    368\u001b[0m         \u001b[0mrvalues\u001b[0m \u001b[1;33m=\u001b[0m \u001b[0mextract_array\u001b[0m\u001b[1;33m(\u001b[0m\u001b[0mother\u001b[0m\u001b[1;33m,\u001b[0m \u001b[0mextract_numpy\u001b[0m\u001b[1;33m=\u001b[0m\u001b[1;32mTrue\u001b[0m\u001b[1;33m)\u001b[0m\u001b[1;33m\u001b[0m\u001b[1;33m\u001b[0m\u001b[0m\n\u001b[0;32m    369\u001b[0m \u001b[1;33m\u001b[0m\u001b[0m\n\u001b[1;32m--> 370\u001b[1;33m         \u001b[0mres_values\u001b[0m \u001b[1;33m=\u001b[0m \u001b[0mcomparison_op\u001b[0m\u001b[1;33m(\u001b[0m\u001b[0mlvalues\u001b[0m\u001b[1;33m,\u001b[0m \u001b[0mrvalues\u001b[0m\u001b[1;33m,\u001b[0m \u001b[0mop\u001b[0m\u001b[1;33m)\u001b[0m\u001b[1;33m\u001b[0m\u001b[1;33m\u001b[0m\u001b[0m\n\u001b[0m\u001b[0;32m    371\u001b[0m \u001b[1;33m\u001b[0m\u001b[0m\n\u001b[0;32m    372\u001b[0m         \u001b[1;32mreturn\u001b[0m \u001b[0mself\u001b[0m\u001b[1;33m.\u001b[0m\u001b[0m_construct_result\u001b[0m\u001b[1;33m(\u001b[0m\u001b[0mres_values\u001b[0m\u001b[1;33m,\u001b[0m \u001b[0mname\u001b[0m\u001b[1;33m=\u001b[0m\u001b[0mres_name\u001b[0m\u001b[1;33m)\u001b[0m\u001b[1;33m\u001b[0m\u001b[1;33m\u001b[0m\u001b[0m\n",
      "\u001b[1;32mD:\\Anaconda3\\envs\\pytorch-gpu\\lib\\site-packages\\pandas\\core\\ops\\array_ops.py\u001b[0m in \u001b[0;36mcomparison_op\u001b[1;34m(left, right, op)\u001b[0m\n\u001b[0;32m    237\u001b[0m \u001b[1;33m\u001b[0m\u001b[0m\n\u001b[0;32m    238\u001b[0m     \u001b[1;32melif\u001b[0m \u001b[0mis_object_dtype\u001b[0m\u001b[1;33m(\u001b[0m\u001b[0mlvalues\u001b[0m\u001b[1;33m.\u001b[0m\u001b[0mdtype\u001b[0m\u001b[1;33m)\u001b[0m\u001b[1;33m:\u001b[0m\u001b[1;33m\u001b[0m\u001b[1;33m\u001b[0m\u001b[0m\n\u001b[1;32m--> 239\u001b[1;33m         \u001b[0mres_values\u001b[0m \u001b[1;33m=\u001b[0m \u001b[0mcomp_method_OBJECT_ARRAY\u001b[0m\u001b[1;33m(\u001b[0m\u001b[0mop\u001b[0m\u001b[1;33m,\u001b[0m \u001b[0mlvalues\u001b[0m\u001b[1;33m,\u001b[0m \u001b[0mrvalues\u001b[0m\u001b[1;33m)\u001b[0m\u001b[1;33m\u001b[0m\u001b[1;33m\u001b[0m\u001b[0m\n\u001b[0m\u001b[0;32m    240\u001b[0m \u001b[1;33m\u001b[0m\u001b[0m\n\u001b[0;32m    241\u001b[0m     \u001b[1;32melse\u001b[0m\u001b[1;33m:\u001b[0m\u001b[1;33m\u001b[0m\u001b[1;33m\u001b[0m\u001b[0m\n",
      "\u001b[1;32mD:\\Anaconda3\\envs\\pytorch-gpu\\lib\\site-packages\\pandas\\core\\ops\\array_ops.py\u001b[0m in \u001b[0;36mcomp_method_OBJECT_ARRAY\u001b[1;34m(op, x, y)\u001b[0m\n\u001b[0;32m     54\u001b[0m     \u001b[1;32melse\u001b[0m\u001b[1;33m:\u001b[0m\u001b[1;33m\u001b[0m\u001b[1;33m\u001b[0m\u001b[0m\n\u001b[0;32m     55\u001b[0m         \u001b[0mresult\u001b[0m \u001b[1;33m=\u001b[0m \u001b[0mlibops\u001b[0m\u001b[1;33m.\u001b[0m\u001b[0mscalar_compare\u001b[0m\u001b[1;33m(\u001b[0m\u001b[0mx\u001b[0m\u001b[1;33m.\u001b[0m\u001b[0mravel\u001b[0m\u001b[1;33m(\u001b[0m\u001b[1;33m)\u001b[0m\u001b[1;33m,\u001b[0m \u001b[0my\u001b[0m\u001b[1;33m,\u001b[0m \u001b[0mop\u001b[0m\u001b[1;33m)\u001b[0m\u001b[1;33m\u001b[0m\u001b[1;33m\u001b[0m\u001b[0m\n\u001b[1;32m---> 56\u001b[1;33m     \u001b[1;32mreturn\u001b[0m \u001b[0mresult\u001b[0m\u001b[1;33m.\u001b[0m\u001b[0mreshape\u001b[0m\u001b[1;33m(\u001b[0m\u001b[0mx\u001b[0m\u001b[1;33m.\u001b[0m\u001b[0mshape\u001b[0m\u001b[1;33m)\u001b[0m\u001b[1;33m\u001b[0m\u001b[1;33m\u001b[0m\u001b[0m\n\u001b[0m\u001b[0;32m     57\u001b[0m \u001b[1;33m\u001b[0m\u001b[0m\n\u001b[0;32m     58\u001b[0m \u001b[1;33m\u001b[0m\u001b[0m\n",
      "\u001b[1;31mKeyboardInterrupt\u001b[0m: "
     ]
    }
   ],
   "source": [
    "import pandas as pd \n",
    "import collections\n",
    "import math\n",
    "import os\n",
    "import random\n",
    "import sys\n",
    "import tarfile\n",
    "import time\n",
    "import json\n",
    "from collections import namedtuple\n",
    "import torch\n",
    "from torch import nn\n",
    "import torch.nn.functional as F\n",
    "import torchvision\n",
    "import torchvision.transforms as transforms\n",
    "import torchtext\n",
    "import torchtext.vocab as Vocab\n",
    "import numpy as np\n",
    "import pandas as pd\n",
    "from torch.utils.data import DataLoader, Dataset, WeightedRandomSampler\n",
    "from torch.optim import lr_scheduler\n",
    "import numpy as np \n",
    "device = torch.device('cuda' if torch.cuda.is_available() else 'cpu')\n",
    "\n",
    "class diskLSTM(nn.Module):\n",
    "    def __init__(self):\n",
    "        super(diskLSTM, self).__init__()\n",
    "\n",
    "        self.LSTM_1 = nn.LSTM(input_size=6, hidden_size=32, batch_first=True)\n",
    "        self.LSTM_2 = nn.LSTM(input_size=32, hidden_size=64, batch_first=True)\n",
    "        self.LSTM_3 = nn.LSTM(input_size=64, hidden_size=128, batch_first=True)\n",
    " \n",
    "        self.linear_1 = nn.Linear(128, 128)\n",
    "        self.linear_2 = nn.Linear(128, 64)\n",
    "        self.linear_3 = nn.Linear(64, 1)\n",
    "    \n",
    "    def forward(self, X, state):\n",
    "        X, _ = self.LSTM_1(X, state)\n",
    "        X, _ = self.LSTM_2(X, state)\n",
    "        X, _ = self.LSTM_3(X, state)\n",
    "\n",
    "        X = X[:, X.size(1) - 1, :]\n",
    "        X.squeeze_(1)\n",
    "\n",
    "        X = self.linear_1(X)\n",
    "        X = self.linear_2(X)\n",
    "        X = self.linear_3(X)\n",
    "\n",
    "        return X\n",
    "\n",
    "\n",
    "class Mydata(Dataset):\n",
    "    def __init__(self, PositiveSample, NegativeSample, numstep):\n",
    "        self.serial_numberOfPositive = list(PositiveSample['serial_number'].value_counts().index)\n",
    "        self.serial_numberOfNegative = list(NegativeSample['serial_number'].value_counts().index)\n",
    "\n",
    "        self.PositiveSample_fea = PositiveSample.iloc[:, 6:12]\n",
    "        self.NegativeSample_fea = NegativeSample.iloc[:, 6:12]\n",
    "\n",
    "        self.colOfPositive = self.PositiveSample_fea.columns\n",
    "        self.colOfNegative = self.PositiveSample_fea.columns\n",
    "\n",
    "        for i in self.colOfPositive:\n",
    "            max = np.max(PositiveSample[i])\n",
    "            min = np.min(PositiveSample[i])\n",
    "            scalar = max - min \n",
    "            PositiveSample[i] = PositiveSample[i] / scalar\n",
    "\n",
    "        for i in self.colOfNegative:\n",
    "            max = np.max(NegativeSample[i])\n",
    "            min = np.min(NegativeSample[i])\n",
    "            scalar = max - min \n",
    "            NegativeSample[i] = NegativeSample[i] / scalar\n",
    "\n",
    "        self.inputs = []\n",
    "        self.labels = []\n",
    "\n",
    "        for i in self.serial_numberOfPositive:\n",
    "            Positive_bySerial = PositiveSample[PositiveSample['serial_number'] == i].iloc[:, 6: 12]\n",
    "            for j in range(len(Positive_bySerial)):\n",
    "                self.inputs.append(torch.Tensor(np.array(Positive_bySerial[j: j + numstep])))\n",
    "                self.labels.append(torch.ones(1))\n",
    "\n",
    "        for i in self.serial_numberOfNegative:\n",
    "            Negetive_bySerial = NegativeSample[NegativeSample['serial_number'] == i].iloc[:, 6: 12]\n",
    "            for j in range(len(Positive_bySerial)):\n",
    "                self.inputs.append(torch.Tensor(np.array(Positive_bySerial[j: j + numstep])))\n",
    "                self.labels.append(torch.ones(1))\n",
    "        \n",
    "    def __len__(self):\n",
    "        return len(self.inputs)\n",
    "\n",
    "    def __getitem__(self, idx):\n",
    "        return self.inputs[idx], self.labels[idx]\n",
    "\n",
    "\n",
    "def train(net, train_iter, optimizer, num_epochs):\n",
    "    print(\"training start\")\n",
    "    loss = torch.nn.BCELoss()\n",
    "    for epoch in range(num_epochs):\n",
    "        train_l_sum, train_acc_sum, n, batch_count, start = 0.0, 0.0, 0, 0, time.time()\n",
    "        state = None\n",
    "        for X, y in train_iter:\n",
    "            optimizer.zero_grad()\n",
    "            if state is not None:\n",
    "                if isinstance (state, tuple): # LSTM, state:(h, c)  \n",
    "                    state = (state[0].detach(), state[1].detach())\n",
    "                else:   \n",
    "                    state = state.detach()\n",
    "            y_hat, state = net(X.float(), state)\n",
    "            y_hat.squeeze_(1)\n",
    "            l = loss(y_hat, y.long())\n",
    "            l.backward()\n",
    "            optimizer.step()\n",
    "            train_l_sum += l.item()\n",
    "            train_acc_sum += (y_hat == y).sum().item()\n",
    "            n += y.size(0)\n",
    "            batch_count += 1\n",
    "        print('epoch %d, loss %.4f, train acc %.3f, time %.1f sec'\n",
    "        % (epoch + 1, train_l_sum / batch_count, train_acc_sum / n, time.time() - start))\n",
    "\n",
    "\n",
    "        \n",
    "PositiveSample = pd.read_csv('G:/BaiduNetdiskDownload/positiveSample.csv')\n",
    "NegativeSample = pd.read_csv('G:/BaiduNetdiskDownload/NegativeSample.csv')\n",
    "\n",
    "train_set = Mydata(PositiveSample, NegativeSample, 5)\n",
    "train_iter = DataLoader(train_set, batch_size = 32, shuffle = True)\n",
    "\n",
    "\n",
    "net = diskLSTM()\n",
    "net = net.to(device)\n",
    "lr, num_epochs = 0.01, 30\n",
    "optimizer = torch.optim.Adam(net.parameters(), lr=lr)\n",
    "\n",
    "train(net, train_iter, optimizer, num_epochs)\n",
    "\n",
    "\n",
    "\n",
    "\n",
    "\n",
    "\n",
    "\n",
    "\n",
    "\n",
    "\n",
    "\n",
    "\n",
    "\n",
    "\n",
    "\n",
    "\n",
    "\n",
    "\n",
    "'''\n",
    "model = nn.Sequential(\n",
    "    nn.Linear(10, 1),\n",
    "    nn.Sigmoid()\n",
    ")\n",
    "criterion = nn.BCELoss()\n",
    "\n",
    "x = torch.randn(16, 10)  # (16, 10)\n",
    "y = torch.empty(16).random_(2)  # shape=(16, ) 其中每个元素值为0或1\n",
    "\n",
    "out = model(x)  # (16, 1)\n",
    "out = out.squeeze(dim=-1)  # (16, )\n",
    "\n",
    "loss = criterion(out, y)\n",
    "'''"
   ]
  },
  {
   "cell_type": "code",
   "execution_count": 1,
   "metadata": {},
   "outputs": [],
   "source": [
    "import pandas as pd\n",
    "NegativeSample = pd.read_csv('G:/BaiduNetdiskDownload/NegativeSample.csv')"
   ]
  },
  {
   "cell_type": "code",
   "execution_count": 10,
   "metadata": {},
   "outputs": [],
   "source": [
    "serial = NegativeSample['serial_number'].value_counts().index"
   ]
  },
  {
   "cell_type": "code",
   "execution_count": 11,
   "metadata": {},
   "outputs": [],
   "source": [
    "serial = list(set(serial))\n"
   ]
  },
  {
   "cell_type": "code",
   "execution_count": 8,
   "metadata": {},
   "outputs": [
    {
     "output_type": "execute_result",
     "data": {
      "text/plain": "   Unnamed: 0  capacity_bytes        date  failure        model serial_number  \\\n0           0   4000787030016  2018-01-01        0  ST4000DM000      S3000A9T   \n1           1   4000787030016  2018-01-01        0  ST4000DM000      S3000FZ5   \n2           2   4000787030016  2018-01-01        0  ST4000DM000      S3000NSV   \n3           3   4000787030016  2018-01-01        0  ST4000DM000      S3000QAP   \n4           4   4000787030016  2018-01-01        0  ST4000DM000      S30015PW   \n\n   smart_190_raw  smart_193_raw  smart_194_raw  smart_1_raw  smart_241_raw  \\\n0           22.0        64132.0           22.0   38941024.0   1.106223e+10   \n1           22.0         9222.0           22.0   88742784.0   1.933116e+10   \n2           21.0       263300.0           21.0  182752792.0   1.837012e+10   \n3           24.0        97855.0           24.0  174470056.0   2.671551e+10   \n4           22.0        17690.0           22.0  199047456.0   1.820113e+10   \n\n   smart_7_raw  \n0  173472387.0  \n1   80785554.0  \n2  207303466.0  \n3   78695279.0  \n4  103920840.0  ",
      "text/html": "<div>\n<style scoped>\n    .dataframe tbody tr th:only-of-type {\n        vertical-align: middle;\n    }\n\n    .dataframe tbody tr th {\n        vertical-align: top;\n    }\n\n    .dataframe thead th {\n        text-align: right;\n    }\n</style>\n<table border=\"1\" class=\"dataframe\">\n  <thead>\n    <tr style=\"text-align: right;\">\n      <th></th>\n      <th>Unnamed: 0</th>\n      <th>capacity_bytes</th>\n      <th>date</th>\n      <th>failure</th>\n      <th>model</th>\n      <th>serial_number</th>\n      <th>smart_190_raw</th>\n      <th>smart_193_raw</th>\n      <th>smart_194_raw</th>\n      <th>smart_1_raw</th>\n      <th>smart_241_raw</th>\n      <th>smart_7_raw</th>\n    </tr>\n  </thead>\n  <tbody>\n    <tr>\n      <th>0</th>\n      <td>0</td>\n      <td>4000787030016</td>\n      <td>2018-01-01</td>\n      <td>0</td>\n      <td>ST4000DM000</td>\n      <td>S3000A9T</td>\n      <td>22.0</td>\n      <td>64132.0</td>\n      <td>22.0</td>\n      <td>38941024.0</td>\n      <td>1.106223e+10</td>\n      <td>173472387.0</td>\n    </tr>\n    <tr>\n      <th>1</th>\n      <td>1</td>\n      <td>4000787030016</td>\n      <td>2018-01-01</td>\n      <td>0</td>\n      <td>ST4000DM000</td>\n      <td>S3000FZ5</td>\n      <td>22.0</td>\n      <td>9222.0</td>\n      <td>22.0</td>\n      <td>88742784.0</td>\n      <td>1.933116e+10</td>\n      <td>80785554.0</td>\n    </tr>\n    <tr>\n      <th>2</th>\n      <td>2</td>\n      <td>4000787030016</td>\n      <td>2018-01-01</td>\n      <td>0</td>\n      <td>ST4000DM000</td>\n      <td>S3000NSV</td>\n      <td>21.0</td>\n      <td>263300.0</td>\n      <td>21.0</td>\n      <td>182752792.0</td>\n      <td>1.837012e+10</td>\n      <td>207303466.0</td>\n    </tr>\n    <tr>\n      <th>3</th>\n      <td>3</td>\n      <td>4000787030016</td>\n      <td>2018-01-01</td>\n      <td>0</td>\n      <td>ST4000DM000</td>\n      <td>S3000QAP</td>\n      <td>24.0</td>\n      <td>97855.0</td>\n      <td>24.0</td>\n      <td>174470056.0</td>\n      <td>2.671551e+10</td>\n      <td>78695279.0</td>\n    </tr>\n    <tr>\n      <th>4</th>\n      <td>4</td>\n      <td>4000787030016</td>\n      <td>2018-01-01</td>\n      <td>0</td>\n      <td>ST4000DM000</td>\n      <td>S30015PW</td>\n      <td>22.0</td>\n      <td>17690.0</td>\n      <td>22.0</td>\n      <td>199047456.0</td>\n      <td>1.820113e+10</td>\n      <td>103920840.0</td>\n    </tr>\n  </tbody>\n</table>\n</div>"
     },
     "metadata": {},
     "execution_count": 8
    }
   ],
   "source": [
    "NegativeSample.head(5)"
   ]
  },
  {
   "cell_type": "code",
   "execution_count": 16,
   "metadata": {
    "tags": []
   },
   "outputs": [],
   "source": [
    "for i in serial:\n",
    "    if(len(NegativeSample[NegativeSample.serial_number == i]) <= 5):\n",
    "        NegativeSample.drop(labels = list(NegativeSample[NegativeSample.serial_number == i].index))\n",
    "    "
   ]
  },
  {
   "cell_type": "code",
   "execution_count": 9,
   "metadata": {},
   "outputs": [],
   "source": [
    "NegativeSample[NegativeSample['serial_number'] == 'Z304HS80'] = NegativeSample[NegativeSample['serial_number'] == 'Z304HS80'].sample(10)"
   ]
  },
  {
   "cell_type": "code",
   "execution_count": 10,
   "metadata": {},
   "outputs": [
    {
     "output_type": "execute_result",
     "data": {
      "text/plain": "         Unnamed: 0  capacity_bytes        date  failure        model  \\\n1783484   1783484.0    4.000787e+12  2018-02-26      0.0  ST4000DM000   \n2934168   2934168.0    4.000787e+12  2018-04-04      0.0  ST4000DM000   \n3087157   3087157.0    4.000787e+12  2018-04-09      0.0  ST4000DM000   \n3390853   3390853.0    4.000787e+12  2018-04-19      0.0  ST4000DM000   \n3747553   3747553.0    4.000787e+12  2018-05-01      0.0  ST4000DM000   \n3894036   3894036.0    4.000787e+12  2018-05-06      0.0  ST4000DM000   \n5884003   5884003.0    4.000787e+12  2018-07-16      0.0  ST4000DM000   \n7251081   7251081.0    4.000787e+12  2018-09-07      0.0  ST4000DM000   \n7550216   7550216.0    4.000787e+12  2018-09-19      0.0  ST4000DM000   \n7798086   7798086.0    4.000787e+12  2018-09-29      0.0  ST4000DM000   \n\n        serial_number  smart_190_raw  smart_193_raw  smart_194_raw  \\\n1783484      Z304HS80           23.0       117126.0           23.0   \n2934168      Z304HS80           23.0       117136.0           23.0   \n3087157      Z304HS80           22.0       117136.0           22.0   \n3390853      Z304HS80           23.0       117139.0           23.0   \n3747553      Z304HS80           22.0       117143.0           22.0   \n3894036      Z304HS80           22.0       117147.0           22.0   \n5884003      Z304HS80           23.0       117361.0           23.0   \n7251081      Z304HS80           22.0       117583.0           22.0   \n7550216      Z304HS80           24.0       117647.0           24.0   \n7798086      Z304HS80           23.0       117679.0           23.0   \n\n         smart_1_raw  smart_241_raw  smart_7_raw  \n1783484  186645312.0   2.748435e+10  705394029.0  \n2934168  152170560.0   2.930521e+10  751137254.0  \n3087157   45537608.0   2.947473e+10  755396394.0  \n3390853   21289672.0   2.954211e+10  767452448.0  \n3747553  119167696.0   2.958205e+10  776729093.0  \n3894036   46744088.0   2.959960e+10  780389245.0  \n5884003  209524936.0   2.986477e+10  837543306.0  \n7251081   90586000.0   3.001323e+10  879683533.0  \n7550216   68878680.0   3.008708e+10  890051274.0  \n7798086   48409376.0   3.011687e+10  898067824.0  ",
      "text/html": "<div>\n<style scoped>\n    .dataframe tbody tr th:only-of-type {\n        vertical-align: middle;\n    }\n\n    .dataframe tbody tr th {\n        vertical-align: top;\n    }\n\n    .dataframe thead th {\n        text-align: right;\n    }\n</style>\n<table border=\"1\" class=\"dataframe\">\n  <thead>\n    <tr style=\"text-align: right;\">\n      <th></th>\n      <th>Unnamed: 0</th>\n      <th>capacity_bytes</th>\n      <th>date</th>\n      <th>failure</th>\n      <th>model</th>\n      <th>serial_number</th>\n      <th>smart_190_raw</th>\n      <th>smart_193_raw</th>\n      <th>smart_194_raw</th>\n      <th>smart_1_raw</th>\n      <th>smart_241_raw</th>\n      <th>smart_7_raw</th>\n    </tr>\n  </thead>\n  <tbody>\n    <tr>\n      <th>1783484</th>\n      <td>1783484.0</td>\n      <td>4.000787e+12</td>\n      <td>2018-02-26</td>\n      <td>0.0</td>\n      <td>ST4000DM000</td>\n      <td>Z304HS80</td>\n      <td>23.0</td>\n      <td>117126.0</td>\n      <td>23.0</td>\n      <td>186645312.0</td>\n      <td>2.748435e+10</td>\n      <td>705394029.0</td>\n    </tr>\n    <tr>\n      <th>2934168</th>\n      <td>2934168.0</td>\n      <td>4.000787e+12</td>\n      <td>2018-04-04</td>\n      <td>0.0</td>\n      <td>ST4000DM000</td>\n      <td>Z304HS80</td>\n      <td>23.0</td>\n      <td>117136.0</td>\n      <td>23.0</td>\n      <td>152170560.0</td>\n      <td>2.930521e+10</td>\n      <td>751137254.0</td>\n    </tr>\n    <tr>\n      <th>3087157</th>\n      <td>3087157.0</td>\n      <td>4.000787e+12</td>\n      <td>2018-04-09</td>\n      <td>0.0</td>\n      <td>ST4000DM000</td>\n      <td>Z304HS80</td>\n      <td>22.0</td>\n      <td>117136.0</td>\n      <td>22.0</td>\n      <td>45537608.0</td>\n      <td>2.947473e+10</td>\n      <td>755396394.0</td>\n    </tr>\n    <tr>\n      <th>3390853</th>\n      <td>3390853.0</td>\n      <td>4.000787e+12</td>\n      <td>2018-04-19</td>\n      <td>0.0</td>\n      <td>ST4000DM000</td>\n      <td>Z304HS80</td>\n      <td>23.0</td>\n      <td>117139.0</td>\n      <td>23.0</td>\n      <td>21289672.0</td>\n      <td>2.954211e+10</td>\n      <td>767452448.0</td>\n    </tr>\n    <tr>\n      <th>3747553</th>\n      <td>3747553.0</td>\n      <td>4.000787e+12</td>\n      <td>2018-05-01</td>\n      <td>0.0</td>\n      <td>ST4000DM000</td>\n      <td>Z304HS80</td>\n      <td>22.0</td>\n      <td>117143.0</td>\n      <td>22.0</td>\n      <td>119167696.0</td>\n      <td>2.958205e+10</td>\n      <td>776729093.0</td>\n    </tr>\n    <tr>\n      <th>3894036</th>\n      <td>3894036.0</td>\n      <td>4.000787e+12</td>\n      <td>2018-05-06</td>\n      <td>0.0</td>\n      <td>ST4000DM000</td>\n      <td>Z304HS80</td>\n      <td>22.0</td>\n      <td>117147.0</td>\n      <td>22.0</td>\n      <td>46744088.0</td>\n      <td>2.959960e+10</td>\n      <td>780389245.0</td>\n    </tr>\n    <tr>\n      <th>5884003</th>\n      <td>5884003.0</td>\n      <td>4.000787e+12</td>\n      <td>2018-07-16</td>\n      <td>0.0</td>\n      <td>ST4000DM000</td>\n      <td>Z304HS80</td>\n      <td>23.0</td>\n      <td>117361.0</td>\n      <td>23.0</td>\n      <td>209524936.0</td>\n      <td>2.986477e+10</td>\n      <td>837543306.0</td>\n    </tr>\n    <tr>\n      <th>7251081</th>\n      <td>7251081.0</td>\n      <td>4.000787e+12</td>\n      <td>2018-09-07</td>\n      <td>0.0</td>\n      <td>ST4000DM000</td>\n      <td>Z304HS80</td>\n      <td>22.0</td>\n      <td>117583.0</td>\n      <td>22.0</td>\n      <td>90586000.0</td>\n      <td>3.001323e+10</td>\n      <td>879683533.0</td>\n    </tr>\n    <tr>\n      <th>7550216</th>\n      <td>7550216.0</td>\n      <td>4.000787e+12</td>\n      <td>2018-09-19</td>\n      <td>0.0</td>\n      <td>ST4000DM000</td>\n      <td>Z304HS80</td>\n      <td>24.0</td>\n      <td>117647.0</td>\n      <td>24.0</td>\n      <td>68878680.0</td>\n      <td>3.008708e+10</td>\n      <td>890051274.0</td>\n    </tr>\n    <tr>\n      <th>7798086</th>\n      <td>7798086.0</td>\n      <td>4.000787e+12</td>\n      <td>2018-09-29</td>\n      <td>0.0</td>\n      <td>ST4000DM000</td>\n      <td>Z304HS80</td>\n      <td>23.0</td>\n      <td>117679.0</td>\n      <td>23.0</td>\n      <td>48409376.0</td>\n      <td>3.011687e+10</td>\n      <td>898067824.0</td>\n    </tr>\n  </tbody>\n</table>\n</div>"
     },
     "metadata": {},
     "execution_count": 10
    }
   ],
   "source": [
    "NegativeSample[NegativeSample['serial_number'] == 'Z304HS80']"
   ]
  },
  {
   "cell_type": "code",
   "execution_count": 4,
   "metadata": {},
   "outputs": [
    {
     "output_type": "error",
     "ename": "ValueError",
     "evalue": "cannot reindex from a duplicate axis",
     "traceback": [
      "\u001b[1;31m---------------------------------------------------------------------------\u001b[0m",
      "\u001b[1;31mValueError\u001b[0m                                Traceback (most recent call last)",
      "\u001b[1;32m<ipython-input-4-4e944a8597e0>\u001b[0m in \u001b[0;36m<module>\u001b[1;34m\u001b[0m\n\u001b[0;32m      1\u001b[0m \u001b[1;32mfor\u001b[0m \u001b[0mi\u001b[0m \u001b[1;32min\u001b[0m \u001b[0mserial\u001b[0m\u001b[1;33m:\u001b[0m\u001b[1;33m\u001b[0m\u001b[1;33m\u001b[0m\u001b[0m\n\u001b[1;32m----> 2\u001b[1;33m     \u001b[0mNegativeSample\u001b[0m\u001b[1;33m[\u001b[0m\u001b[0mNegativeSample\u001b[0m\u001b[1;33m[\u001b[0m\u001b[1;34m'serial_number'\u001b[0m\u001b[1;33m]\u001b[0m \u001b[1;33m==\u001b[0m \u001b[0mi\u001b[0m\u001b[1;33m]\u001b[0m \u001b[1;33m=\u001b[0m \u001b[0mNegativeSample\u001b[0m\u001b[1;33m[\u001b[0m\u001b[0mNegativeSample\u001b[0m\u001b[1;33m[\u001b[0m\u001b[1;34m'serial_number'\u001b[0m\u001b[1;33m]\u001b[0m \u001b[1;33m==\u001b[0m \u001b[0mi\u001b[0m\u001b[1;33m]\u001b[0m\u001b[1;33m.\u001b[0m\u001b[0msample\u001b[0m\u001b[1;33m(\u001b[0m\u001b[1;36m10\u001b[0m\u001b[1;33m,\u001b[0m \u001b[0mreplace\u001b[0m\u001b[1;33m=\u001b[0m\u001b[1;32mTrue\u001b[0m\u001b[1;33m)\u001b[0m\u001b[1;33m\u001b[0m\u001b[1;33m\u001b[0m\u001b[0m\n\u001b[0m",
      "\u001b[1;32mD:\\Anaconda3\\envs\\pytorch\\lib\\site-packages\\pandas\\core\\frame.py\u001b[0m in \u001b[0;36m__setitem__\u001b[1;34m(self, key, value)\u001b[0m\n\u001b[0;32m   3035\u001b[0m             \u001b[0mself\u001b[0m\u001b[1;33m.\u001b[0m\u001b[0m_setitem_frame\u001b[0m\u001b[1;33m(\u001b[0m\u001b[0mkey\u001b[0m\u001b[1;33m,\u001b[0m \u001b[0mvalue\u001b[0m\u001b[1;33m)\u001b[0m\u001b[1;33m\u001b[0m\u001b[1;33m\u001b[0m\u001b[0m\n\u001b[0;32m   3036\u001b[0m         \u001b[1;32melif\u001b[0m \u001b[0misinstance\u001b[0m\u001b[1;33m(\u001b[0m\u001b[0mkey\u001b[0m\u001b[1;33m,\u001b[0m \u001b[1;33m(\u001b[0m\u001b[0mSeries\u001b[0m\u001b[1;33m,\u001b[0m \u001b[0mnp\u001b[0m\u001b[1;33m.\u001b[0m\u001b[0mndarray\u001b[0m\u001b[1;33m,\u001b[0m \u001b[0mlist\u001b[0m\u001b[1;33m,\u001b[0m \u001b[0mIndex\u001b[0m\u001b[1;33m)\u001b[0m\u001b[1;33m)\u001b[0m\u001b[1;33m:\u001b[0m\u001b[1;33m\u001b[0m\u001b[1;33m\u001b[0m\u001b[0m\n\u001b[1;32m-> 3037\u001b[1;33m             \u001b[0mself\u001b[0m\u001b[1;33m.\u001b[0m\u001b[0m_setitem_array\u001b[0m\u001b[1;33m(\u001b[0m\u001b[0mkey\u001b[0m\u001b[1;33m,\u001b[0m \u001b[0mvalue\u001b[0m\u001b[1;33m)\u001b[0m\u001b[1;33m\u001b[0m\u001b[1;33m\u001b[0m\u001b[0m\n\u001b[0m\u001b[0;32m   3038\u001b[0m         \u001b[1;32melse\u001b[0m\u001b[1;33m:\u001b[0m\u001b[1;33m\u001b[0m\u001b[1;33m\u001b[0m\u001b[0m\n\u001b[0;32m   3039\u001b[0m             \u001b[1;31m# set column\u001b[0m\u001b[1;33m\u001b[0m\u001b[1;33m\u001b[0m\u001b[1;33m\u001b[0m\u001b[0m\n",
      "\u001b[1;32mD:\\Anaconda3\\envs\\pytorch\\lib\\site-packages\\pandas\\core\\frame.py\u001b[0m in \u001b[0;36m_setitem_array\u001b[1;34m(self, key, value)\u001b[0m\n\u001b[0;32m   3057\u001b[0m             \u001b[0mindexer\u001b[0m \u001b[1;33m=\u001b[0m \u001b[0mkey\u001b[0m\u001b[1;33m.\u001b[0m\u001b[0mnonzero\u001b[0m\u001b[1;33m(\u001b[0m\u001b[1;33m)\u001b[0m\u001b[1;33m[\u001b[0m\u001b[1;36m0\u001b[0m\u001b[1;33m]\u001b[0m\u001b[1;33m\u001b[0m\u001b[1;33m\u001b[0m\u001b[0m\n\u001b[0;32m   3058\u001b[0m             \u001b[0mself\u001b[0m\u001b[1;33m.\u001b[0m\u001b[0m_check_setitem_copy\u001b[0m\u001b[1;33m(\u001b[0m\u001b[1;33m)\u001b[0m\u001b[1;33m\u001b[0m\u001b[1;33m\u001b[0m\u001b[0m\n\u001b[1;32m-> 3059\u001b[1;33m             \u001b[0mself\u001b[0m\u001b[1;33m.\u001b[0m\u001b[0miloc\u001b[0m\u001b[1;33m.\u001b[0m\u001b[0m_setitem_with_indexer\u001b[0m\u001b[1;33m(\u001b[0m\u001b[0mindexer\u001b[0m\u001b[1;33m,\u001b[0m \u001b[0mvalue\u001b[0m\u001b[1;33m)\u001b[0m\u001b[1;33m\u001b[0m\u001b[1;33m\u001b[0m\u001b[0m\n\u001b[0m\u001b[0;32m   3060\u001b[0m         \u001b[1;32melse\u001b[0m\u001b[1;33m:\u001b[0m\u001b[1;33m\u001b[0m\u001b[1;33m\u001b[0m\u001b[0m\n\u001b[0;32m   3061\u001b[0m             \u001b[1;32mif\u001b[0m \u001b[0misinstance\u001b[0m\u001b[1;33m(\u001b[0m\u001b[0mvalue\u001b[0m\u001b[1;33m,\u001b[0m \u001b[0mDataFrame\u001b[0m\u001b[1;33m)\u001b[0m\u001b[1;33m:\u001b[0m\u001b[1;33m\u001b[0m\u001b[1;33m\u001b[0m\u001b[0m\n",
      "\u001b[1;32mD:\\Anaconda3\\envs\\pytorch\\lib\\site-packages\\pandas\\core\\indexing.py\u001b[0m in \u001b[0;36m_setitem_with_indexer\u001b[1;34m(self, indexer, value)\u001b[0m\n\u001b[0;32m   1710\u001b[0m                             \u001b[0msub_indexer\u001b[0m\u001b[1;33m[\u001b[0m\u001b[0minfo_axis\u001b[0m\u001b[1;33m]\u001b[0m \u001b[1;33m=\u001b[0m \u001b[0mitem\u001b[0m\u001b[1;33m\u001b[0m\u001b[1;33m\u001b[0m\u001b[0m\n\u001b[0;32m   1711\u001b[0m                             v = self._align_series(\n\u001b[1;32m-> 1712\u001b[1;33m                                 \u001b[0mtuple\u001b[0m\u001b[1;33m(\u001b[0m\u001b[0msub_indexer\u001b[0m\u001b[1;33m)\u001b[0m\u001b[1;33m,\u001b[0m \u001b[0mvalue\u001b[0m\u001b[1;33m[\u001b[0m\u001b[0mitem\u001b[0m\u001b[1;33m]\u001b[0m\u001b[1;33m,\u001b[0m \u001b[0mmultiindex_indexer\u001b[0m\u001b[1;33m\u001b[0m\u001b[1;33m\u001b[0m\u001b[0m\n\u001b[0m\u001b[0;32m   1713\u001b[0m                             )\n\u001b[0;32m   1714\u001b[0m                         \u001b[1;32melse\u001b[0m\u001b[1;33m:\u001b[0m\u001b[1;33m\u001b[0m\u001b[1;33m\u001b[0m\u001b[0m\n",
      "\u001b[1;32mD:\\Anaconda3\\envs\\pytorch\\lib\\site-packages\\pandas\\core\\indexing.py\u001b[0m in \u001b[0;36m_align_series\u001b[1;34m(self, indexer, ser, multiindex_indexer)\u001b[0m\n\u001b[0;32m   1933\u001b[0m                         \u001b[1;32mreturn\u001b[0m \u001b[0mser\u001b[0m\u001b[1;33m.\u001b[0m\u001b[0m_values\u001b[0m\u001b[1;33m.\u001b[0m\u001b[0mcopy\u001b[0m\u001b[1;33m(\u001b[0m\u001b[1;33m)\u001b[0m\u001b[1;33m\u001b[0m\u001b[1;33m\u001b[0m\u001b[0m\n\u001b[0;32m   1934\u001b[0m \u001b[1;33m\u001b[0m\u001b[0m\n\u001b[1;32m-> 1935\u001b[1;33m                     \u001b[1;32mreturn\u001b[0m \u001b[0mser\u001b[0m\u001b[1;33m.\u001b[0m\u001b[0mreindex\u001b[0m\u001b[1;33m(\u001b[0m\u001b[0mnew_ix\u001b[0m\u001b[1;33m)\u001b[0m\u001b[1;33m.\u001b[0m\u001b[0m_values\u001b[0m\u001b[1;33m\u001b[0m\u001b[1;33m\u001b[0m\u001b[0m\n\u001b[0m\u001b[0;32m   1936\u001b[0m \u001b[1;33m\u001b[0m\u001b[0m\n\u001b[0;32m   1937\u001b[0m                 \u001b[1;31m# 2 dims\u001b[0m\u001b[1;33m\u001b[0m\u001b[1;33m\u001b[0m\u001b[1;33m\u001b[0m\u001b[0m\n",
      "\u001b[1;32mD:\\Anaconda3\\envs\\pytorch\\lib\\site-packages\\pandas\\core\\series.py\u001b[0m in \u001b[0;36mreindex\u001b[1;34m(self, index, **kwargs)\u001b[0m\n\u001b[0;32m   4397\u001b[0m     )\n\u001b[0;32m   4398\u001b[0m     \u001b[1;32mdef\u001b[0m \u001b[0mreindex\u001b[0m\u001b[1;33m(\u001b[0m\u001b[0mself\u001b[0m\u001b[1;33m,\u001b[0m \u001b[0mindex\u001b[0m\u001b[1;33m=\u001b[0m\u001b[1;32mNone\u001b[0m\u001b[1;33m,\u001b[0m \u001b[1;33m**\u001b[0m\u001b[0mkwargs\u001b[0m\u001b[1;33m)\u001b[0m\u001b[1;33m:\u001b[0m\u001b[1;33m\u001b[0m\u001b[1;33m\u001b[0m\u001b[0m\n\u001b[1;32m-> 4399\u001b[1;33m         \u001b[1;32mreturn\u001b[0m \u001b[0msuper\u001b[0m\u001b[1;33m(\u001b[0m\u001b[1;33m)\u001b[0m\u001b[1;33m.\u001b[0m\u001b[0mreindex\u001b[0m\u001b[1;33m(\u001b[0m\u001b[0mindex\u001b[0m\u001b[1;33m=\u001b[0m\u001b[0mindex\u001b[0m\u001b[1;33m,\u001b[0m \u001b[1;33m**\u001b[0m\u001b[0mkwargs\u001b[0m\u001b[1;33m)\u001b[0m\u001b[1;33m\u001b[0m\u001b[1;33m\u001b[0m\u001b[0m\n\u001b[0m\u001b[0;32m   4400\u001b[0m \u001b[1;33m\u001b[0m\u001b[0m\n\u001b[0;32m   4401\u001b[0m     def drop(\n",
      "\u001b[1;32mD:\\Anaconda3\\envs\\pytorch\\lib\\site-packages\\pandas\\core\\generic.py\u001b[0m in \u001b[0;36mreindex\u001b[1;34m(self, *args, **kwargs)\u001b[0m\n\u001b[0;32m   4457\u001b[0m         \u001b[1;31m# perform the reindex on the axes\u001b[0m\u001b[1;33m\u001b[0m\u001b[1;33m\u001b[0m\u001b[1;33m\u001b[0m\u001b[0m\n\u001b[0;32m   4458\u001b[0m         return self._reindex_axes(\n\u001b[1;32m-> 4459\u001b[1;33m             \u001b[0maxes\u001b[0m\u001b[1;33m,\u001b[0m \u001b[0mlevel\u001b[0m\u001b[1;33m,\u001b[0m \u001b[0mlimit\u001b[0m\u001b[1;33m,\u001b[0m \u001b[0mtolerance\u001b[0m\u001b[1;33m,\u001b[0m \u001b[0mmethod\u001b[0m\u001b[1;33m,\u001b[0m \u001b[0mfill_value\u001b[0m\u001b[1;33m,\u001b[0m \u001b[0mcopy\u001b[0m\u001b[1;33m\u001b[0m\u001b[1;33m\u001b[0m\u001b[0m\n\u001b[0m\u001b[0;32m   4460\u001b[0m         ).__finalize__(self, method=\"reindex\")\n\u001b[0;32m   4461\u001b[0m \u001b[1;33m\u001b[0m\u001b[0m\n",
      "\u001b[1;32mD:\\Anaconda3\\envs\\pytorch\\lib\\site-packages\\pandas\\core\\generic.py\u001b[0m in \u001b[0;36m_reindex_axes\u001b[1;34m(self, axes, level, limit, tolerance, method, fill_value, copy)\u001b[0m\n\u001b[0;32m   4480\u001b[0m                 \u001b[0mfill_value\u001b[0m\u001b[1;33m=\u001b[0m\u001b[0mfill_value\u001b[0m\u001b[1;33m,\u001b[0m\u001b[1;33m\u001b[0m\u001b[1;33m\u001b[0m\u001b[0m\n\u001b[0;32m   4481\u001b[0m                 \u001b[0mcopy\u001b[0m\u001b[1;33m=\u001b[0m\u001b[0mcopy\u001b[0m\u001b[1;33m,\u001b[0m\u001b[1;33m\u001b[0m\u001b[1;33m\u001b[0m\u001b[0m\n\u001b[1;32m-> 4482\u001b[1;33m                 \u001b[0mallow_dups\u001b[0m\u001b[1;33m=\u001b[0m\u001b[1;32mFalse\u001b[0m\u001b[1;33m,\u001b[0m\u001b[1;33m\u001b[0m\u001b[1;33m\u001b[0m\u001b[0m\n\u001b[0m\u001b[0;32m   4483\u001b[0m             )\n\u001b[0;32m   4484\u001b[0m \u001b[1;33m\u001b[0m\u001b[0m\n",
      "\u001b[1;32mD:\\Anaconda3\\envs\\pytorch\\lib\\site-packages\\pandas\\core\\generic.py\u001b[0m in \u001b[0;36m_reindex_with_indexers\u001b[1;34m(self, reindexers, fill_value, copy, allow_dups)\u001b[0m\n\u001b[0;32m   4525\u001b[0m                 \u001b[0mfill_value\u001b[0m\u001b[1;33m=\u001b[0m\u001b[0mfill_value\u001b[0m\u001b[1;33m,\u001b[0m\u001b[1;33m\u001b[0m\u001b[1;33m\u001b[0m\u001b[0m\n\u001b[0;32m   4526\u001b[0m                 \u001b[0mallow_dups\u001b[0m\u001b[1;33m=\u001b[0m\u001b[0mallow_dups\u001b[0m\u001b[1;33m,\u001b[0m\u001b[1;33m\u001b[0m\u001b[1;33m\u001b[0m\u001b[0m\n\u001b[1;32m-> 4527\u001b[1;33m                 \u001b[0mcopy\u001b[0m\u001b[1;33m=\u001b[0m\u001b[0mcopy\u001b[0m\u001b[1;33m,\u001b[0m\u001b[1;33m\u001b[0m\u001b[1;33m\u001b[0m\u001b[0m\n\u001b[0m\u001b[0;32m   4528\u001b[0m             )\n\u001b[0;32m   4529\u001b[0m             \u001b[1;31m# If we've made a copy once, no need to make another one\u001b[0m\u001b[1;33m\u001b[0m\u001b[1;33m\u001b[0m\u001b[1;33m\u001b[0m\u001b[0m\n",
      "\u001b[1;32mD:\\Anaconda3\\envs\\pytorch\\lib\\site-packages\\pandas\\core\\internals\\managers.py\u001b[0m in \u001b[0;36mreindex_indexer\u001b[1;34m(self, new_axis, indexer, axis, fill_value, allow_dups, copy, consolidate)\u001b[0m\n\u001b[0;32m   1274\u001b[0m         \u001b[1;31m# some axes don't allow reindexing with dups\u001b[0m\u001b[1;33m\u001b[0m\u001b[1;33m\u001b[0m\u001b[1;33m\u001b[0m\u001b[0m\n\u001b[0;32m   1275\u001b[0m         \u001b[1;32mif\u001b[0m \u001b[1;32mnot\u001b[0m \u001b[0mallow_dups\u001b[0m\u001b[1;33m:\u001b[0m\u001b[1;33m\u001b[0m\u001b[1;33m\u001b[0m\u001b[0m\n\u001b[1;32m-> 1276\u001b[1;33m             \u001b[0mself\u001b[0m\u001b[1;33m.\u001b[0m\u001b[0maxes\u001b[0m\u001b[1;33m[\u001b[0m\u001b[0maxis\u001b[0m\u001b[1;33m]\u001b[0m\u001b[1;33m.\u001b[0m\u001b[0m_can_reindex\u001b[0m\u001b[1;33m(\u001b[0m\u001b[0mindexer\u001b[0m\u001b[1;33m)\u001b[0m\u001b[1;33m\u001b[0m\u001b[1;33m\u001b[0m\u001b[0m\n\u001b[0m\u001b[0;32m   1277\u001b[0m \u001b[1;33m\u001b[0m\u001b[0m\n\u001b[0;32m   1278\u001b[0m         \u001b[1;32mif\u001b[0m \u001b[0maxis\u001b[0m \u001b[1;33m>=\u001b[0m \u001b[0mself\u001b[0m\u001b[1;33m.\u001b[0m\u001b[0mndim\u001b[0m\u001b[1;33m:\u001b[0m\u001b[1;33m\u001b[0m\u001b[1;33m\u001b[0m\u001b[0m\n",
      "\u001b[1;32mD:\\Anaconda3\\envs\\pytorch\\lib\\site-packages\\pandas\\core\\indexes\\base.py\u001b[0m in \u001b[0;36m_can_reindex\u001b[1;34m(self, indexer)\u001b[0m\n\u001b[0;32m   3283\u001b[0m         \u001b[1;31m# trying to reindex on an axis with duplicates\u001b[0m\u001b[1;33m\u001b[0m\u001b[1;33m\u001b[0m\u001b[1;33m\u001b[0m\u001b[0m\n\u001b[0;32m   3284\u001b[0m         \u001b[1;32mif\u001b[0m \u001b[1;32mnot\u001b[0m \u001b[0mself\u001b[0m\u001b[1;33m.\u001b[0m\u001b[0mis_unique\u001b[0m \u001b[1;32mand\u001b[0m \u001b[0mlen\u001b[0m\u001b[1;33m(\u001b[0m\u001b[0mindexer\u001b[0m\u001b[1;33m)\u001b[0m\u001b[1;33m:\u001b[0m\u001b[1;33m\u001b[0m\u001b[1;33m\u001b[0m\u001b[0m\n\u001b[1;32m-> 3285\u001b[1;33m             \u001b[1;32mraise\u001b[0m \u001b[0mValueError\u001b[0m\u001b[1;33m(\u001b[0m\u001b[1;34m\"cannot reindex from a duplicate axis\"\u001b[0m\u001b[1;33m)\u001b[0m\u001b[1;33m\u001b[0m\u001b[1;33m\u001b[0m\u001b[0m\n\u001b[0m\u001b[0;32m   3286\u001b[0m \u001b[1;33m\u001b[0m\u001b[0m\n\u001b[0;32m   3287\u001b[0m     \u001b[1;32mdef\u001b[0m \u001b[0mreindex\u001b[0m\u001b[1;33m(\u001b[0m\u001b[0mself\u001b[0m\u001b[1;33m,\u001b[0m \u001b[0mtarget\u001b[0m\u001b[1;33m,\u001b[0m \u001b[0mmethod\u001b[0m\u001b[1;33m=\u001b[0m\u001b[1;32mNone\u001b[0m\u001b[1;33m,\u001b[0m \u001b[0mlevel\u001b[0m\u001b[1;33m=\u001b[0m\u001b[1;32mNone\u001b[0m\u001b[1;33m,\u001b[0m \u001b[0mlimit\u001b[0m\u001b[1;33m=\u001b[0m\u001b[1;32mNone\u001b[0m\u001b[1;33m,\u001b[0m \u001b[0mtolerance\u001b[0m\u001b[1;33m=\u001b[0m\u001b[1;32mNone\u001b[0m\u001b[1;33m)\u001b[0m\u001b[1;33m:\u001b[0m\u001b[1;33m\u001b[0m\u001b[1;33m\u001b[0m\u001b[0m\n",
      "\u001b[1;31mValueError\u001b[0m: cannot reindex from a duplicate axis"
     ]
    }
   ],
   "source": [
    "for i in serial:\n",
    "    NegativeSample[NegativeSample['serial_number'] == i] = NegativeSample[NegativeSample['serial_number'] == i].sample(10, replace=True)"
   ]
  },
  {
   "cell_type": "code",
   "execution_count": 2,
   "metadata": {},
   "outputs": [],
   "source": [
    "import os\n",
    "import pandas as pd \n",
    "import numpy as np \n",
    "\n",
    "dataOfBlack_2020_Q1 = []\n",
    "\n",
    "data = pd.read_hdf('E:/data/final_BlackBlaze_Q1_Q2_Q3.h5')"
   ]
  },
  {
   "cell_type": "code",
   "execution_count": null,
   "metadata": {},
   "outputs": [],
   "source": []
  }
 ]
}