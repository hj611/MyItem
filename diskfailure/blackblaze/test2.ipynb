{
 "metadata": {
  "language_info": {
   "codemirror_mode": {
    "name": "ipython",
    "version": 3
   },
   "file_extension": ".py",
   "mimetype": "text/x-python",
   "name": "python",
   "nbconvert_exporter": "python",
   "pygments_lexer": "ipython3",
   "version": "3.7.9-final"
  },
  "orig_nbformat": 2,
  "kernelspec": {
   "name": "python_defaultSpec_1600690219891",
   "display_name": "Python 3.7.9 64-bit ('pytorch-gpu': conda)"
  }
 },
 "nbformat": 4,
 "nbformat_minor": 2,
 "cells": [
  {
   "cell_type": "code",
   "execution_count": 1,
   "metadata": {},
   "outputs": [],
   "source": [
    "import os\n",
    "import pandas as pd \n",
    "import numpy as np \n",
    "\n",
    "dataOfBlack_2020_Q1 = []\n",
    "data = []\n",
    "dirs = os.listdir('E:/data/data_Q1_2018')\n",
    "for i in dirs:\n",
    "    data.append(pd.read_csv('E:/data/data_Q1_2018/' + i))"
   ]
  },
  {
   "cell_type": "code",
   "execution_count": 2,
   "metadata": {},
   "outputs": [],
   "source": [
    "listOfnegativeSample = []"
   ]
  },
  {
   "cell_type": "code",
   "execution_count": null,
   "metadata": {},
   "outputs": [],
   "source": [
    "for i in range(5, len(dataOfBlack_2020_Q1)):\n",
    "    dataOferrordisk = dataOfBlack_2020_Q1[i][dataOfBlack_2020_Q1[i].failure == 1]\n",
    "    k = 5\n",
    "    while(k >= 0):\n",
    "        serial_number = list(dataOfBlack_2020_Q1[i - k].serial_number)\n",
    "        serial_number = list(set(serial_number))\n",
    "        for j in dataOferrordisk.serial_number.values:\n",
    "            serial_number.remove(j)\n",
    "        listOfnegativeSample.append(dataOfBlack_2020_Q1[i - k][dataOfBlack_2020_Q1[i - k].serial_number.isin(serial_number)])\n",
    "        k = k - 1"
   ]
  },
  {
   "cell_type": "code",
   "execution_count": 12,
   "metadata": {},
   "outputs": [],
   "source": [
    "data = []\n",
    "data.append(pd.read_csv('E:/data/data_Q1_2018/2018-01-01.csv'))\n",
    "data.append(pd.read_csv('E:/data/data_Q1_2018/2018-01-02.csv'))\n",
    "data.append(pd.read_csv('E:/data/data_Q1_2018/2018-01-03.csv'))\n",
    "data.append(pd.read_csv('E:/data/data_Q1_2018/2018-01-04.csv'))\n",
    "data.append(pd.read_csv('E:/data/data_Q1_2018/2018-01-05.csv'))\n",
    "data.append(pd.read_csv('E:/data/data_Q1_2018/2018-01-06.csv'))"
   ]
  },
  {
   "cell_type": "code",
   "execution_count": 15,
   "metadata": {},
   "outputs": [],
   "source": [
    "error = data[5][data[5].failure == 1]"
   ]
  },
  {
   "cell_type": "code",
   "execution_count": 18,
   "metadata": {},
   "outputs": [
    {
     "output_type": "execute_result",
     "data": {
      "text/plain": "             date serial_number        model  capacity_bytes  failure  \\\n7532   2018-01-06      W3004X68  ST4000DM000   4000787030016        1   \n10206  2018-01-06      ZA11X9N2  ST8000DM002   8001563222016        1   \n10357  2018-01-06      Z300ZV9B  ST4000DM000   4000787030016        1   \n78363  2018-01-06      Z3025WBW  ST4000DM000   4000787030016        1   \n\n       smart_1_normalized  smart_1_raw  smart_2_normalized  smart_2_raw  \\\n7532                  109     23657640                 NaN          NaN   \n10206                  53     20740760                 NaN          NaN   \n10357                 118    201270208                 NaN          NaN   \n78363                 108    165729075                 NaN          NaN   \n\n       smart_3_normalized  ...  smart_250_normalized  smart_250_raw  \\\n7532                   91  ...                   NaN            NaN   \n10206                  94  ...                   NaN            NaN   \n10357                  91  ...                   NaN            NaN   \n78363                  92  ...                   NaN            NaN   \n\n       smart_251_normalized  smart_251_raw  smart_252_normalized  \\\n7532                    NaN            NaN                   NaN   \n10206                   NaN            NaN                   NaN   \n10357                   NaN            NaN                   NaN   \n78363                   NaN            NaN                   NaN   \n\n       smart_252_raw  smart_254_normalized  smart_254_raw  \\\n7532             NaN                   NaN            NaN   \n10206            NaN                   NaN            NaN   \n10357            NaN                   NaN            NaN   \n78363            NaN                   NaN            NaN   \n\n       smart_255_normalized  smart_255_raw  \n7532                    NaN            NaN  \n10206                   NaN            NaN  \n10357                   NaN            NaN  \n78363                   NaN            NaN  \n\n[4 rows x 105 columns]",
      "text/html": "<div>\n<style scoped>\n    .dataframe tbody tr th:only-of-type {\n        vertical-align: middle;\n    }\n\n    .dataframe tbody tr th {\n        vertical-align: top;\n    }\n\n    .dataframe thead th {\n        text-align: right;\n    }\n</style>\n<table border=\"1\" class=\"dataframe\">\n  <thead>\n    <tr style=\"text-align: right;\">\n      <th></th>\n      <th>date</th>\n      <th>serial_number</th>\n      <th>model</th>\n      <th>capacity_bytes</th>\n      <th>failure</th>\n      <th>smart_1_normalized</th>\n      <th>smart_1_raw</th>\n      <th>smart_2_normalized</th>\n      <th>smart_2_raw</th>\n      <th>smart_3_normalized</th>\n      <th>...</th>\n      <th>smart_250_normalized</th>\n      <th>smart_250_raw</th>\n      <th>smart_251_normalized</th>\n      <th>smart_251_raw</th>\n      <th>smart_252_normalized</th>\n      <th>smart_252_raw</th>\n      <th>smart_254_normalized</th>\n      <th>smart_254_raw</th>\n      <th>smart_255_normalized</th>\n      <th>smart_255_raw</th>\n    </tr>\n  </thead>\n  <tbody>\n    <tr>\n      <th>7532</th>\n      <td>2018-01-06</td>\n      <td>W3004X68</td>\n      <td>ST4000DM000</td>\n      <td>4000787030016</td>\n      <td>1</td>\n      <td>109</td>\n      <td>23657640</td>\n      <td>NaN</td>\n      <td>NaN</td>\n      <td>91</td>\n      <td>...</td>\n      <td>NaN</td>\n      <td>NaN</td>\n      <td>NaN</td>\n      <td>NaN</td>\n      <td>NaN</td>\n      <td>NaN</td>\n      <td>NaN</td>\n      <td>NaN</td>\n      <td>NaN</td>\n      <td>NaN</td>\n    </tr>\n    <tr>\n      <th>10206</th>\n      <td>2018-01-06</td>\n      <td>ZA11X9N2</td>\n      <td>ST8000DM002</td>\n      <td>8001563222016</td>\n      <td>1</td>\n      <td>53</td>\n      <td>20740760</td>\n      <td>NaN</td>\n      <td>NaN</td>\n      <td>94</td>\n      <td>...</td>\n      <td>NaN</td>\n      <td>NaN</td>\n      <td>NaN</td>\n      <td>NaN</td>\n      <td>NaN</td>\n      <td>NaN</td>\n      <td>NaN</td>\n      <td>NaN</td>\n      <td>NaN</td>\n      <td>NaN</td>\n    </tr>\n    <tr>\n      <th>10357</th>\n      <td>2018-01-06</td>\n      <td>Z300ZV9B</td>\n      <td>ST4000DM000</td>\n      <td>4000787030016</td>\n      <td>1</td>\n      <td>118</td>\n      <td>201270208</td>\n      <td>NaN</td>\n      <td>NaN</td>\n      <td>91</td>\n      <td>...</td>\n      <td>NaN</td>\n      <td>NaN</td>\n      <td>NaN</td>\n      <td>NaN</td>\n      <td>NaN</td>\n      <td>NaN</td>\n      <td>NaN</td>\n      <td>NaN</td>\n      <td>NaN</td>\n      <td>NaN</td>\n    </tr>\n    <tr>\n      <th>78363</th>\n      <td>2018-01-06</td>\n      <td>Z3025WBW</td>\n      <td>ST4000DM000</td>\n      <td>4000787030016</td>\n      <td>1</td>\n      <td>108</td>\n      <td>165729075</td>\n      <td>NaN</td>\n      <td>NaN</td>\n      <td>92</td>\n      <td>...</td>\n      <td>NaN</td>\n      <td>NaN</td>\n      <td>NaN</td>\n      <td>NaN</td>\n      <td>NaN</td>\n      <td>NaN</td>\n      <td>NaN</td>\n      <td>NaN</td>\n      <td>NaN</td>\n      <td>NaN</td>\n    </tr>\n  </tbody>\n</table>\n<p>4 rows × 105 columns</p>\n</div>"
     },
     "metadata": {},
     "execution_count": 18
    }
   ],
   "source": [
    "error"
   ]
  },
  {
   "cell_type": "code",
   "execution_count": 22,
   "metadata": {},
   "outputs": [],
   "source": [
    "serial_number = list(set(list(data[0].serial_number)))"
   ]
  },
  {
   "cell_type": "code",
   "execution_count": 23,
   "metadata": {},
   "outputs": [],
   "source": [
    "for j in error.serial_number.values:\n",
    "    serial_number.remove(j)\n"
   ]
  },
  {
   "cell_type": "code",
   "execution_count": 27,
   "metadata": {},
   "outputs": [],
   "source": [
    "sample = []"
   ]
  },
  {
   "cell_type": "code",
   "execution_count": 28,
   "metadata": {},
   "outputs": [],
   "source": [
    "for i in range(5, len(data)):\n",
    "    error = data[i][data[i].failure == 1]\n",
    "    k = 5\n",
    "    while(k >= 0):\n",
    "        serial_number = list(data[i - k].serial_number)\n",
    "        serial_number = list(set(serial_number))\n",
    "        for j in error.serial_number.values:\n",
    "            serial_number.remove(j)\n",
    "        sample.append(data[i - k][data[i - k].serial_number.isin(serial_number)])\n",
    "        k = k - 1"
   ]
  },
  {
   "cell_type": "code",
   "execution_count": null,
   "metadata": {},
   "outputs": [],
   "source": []
  }
 ]
}