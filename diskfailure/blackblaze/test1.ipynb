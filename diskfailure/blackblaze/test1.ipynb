{
 "metadata": {
  "language_info": {
   "codemirror_mode": {
    "name": "ipython",
    "version": 3
   },
   "file_extension": ".py",
   "mimetype": "text/x-python",
   "name": "python",
   "nbconvert_exporter": "python",
   "pygments_lexer": "ipython3",
   "version": "3.7.9-final"
  },
  "orig_nbformat": 2,
  "kernelspec": {
   "name": "python_defaultSpec_1601007103711",
   "display_name": "Python 3.7.9 64-bit ('pytorch-gpu')"
  }
 },
 "nbformat": 4,
 "nbformat_minor": 2,
 "cells": [
  {
   "cell_type": "code",
   "execution_count": 1,
   "metadata": {},
   "outputs": [],
   "source": [
    "import pandas as pd \n",
    "import numpy as np \n",
    "\n",
    "data = pd.read_csv('E:/data/data_Q1_2018/2018-01-01.csv')"
   ]
  },
  {
   "cell_type": "code",
   "execution_count": 29,
   "metadata": {},
   "outputs": [
    {
     "output_type": "execute_result",
     "data": {
      "text/plain": "             date serial_number                 model  capacity_bytes  \\\n13720  2018-01-01      Z300GZ1B           ST4000DM000   4000787030016   \n65393  2018-01-01      Z300GZCV           ST4000DM000   4000787030016   \n74156  2018-01-01      VKGKRG7X  HGST HUH728080ALE600   8001563222016   \n\n       failure  smart_1_normalized  smart_1_raw  smart_2_normalized  \\\n13720        1                 108     17846936                 NaN   \n65393        1                 110     25274512                 NaN   \n74156        1                 100            0               134.0   \n\n       smart_2_raw  smart_3_normalized  ...  smart_250_normalized  \\\n13720          NaN                  92  ...                   NaN   \n65393          NaN                  91  ...                   NaN   \n74156        105.0                 100  ...                   NaN   \n\n       smart_250_raw  smart_251_normalized  smart_251_raw  \\\n13720            NaN                   NaN            NaN   \n65393            NaN                   NaN            NaN   \n74156            NaN                   NaN            NaN   \n\n       smart_252_normalized  smart_252_raw  smart_254_normalized  \\\n13720                   NaN            NaN                   NaN   \n65393                   NaN            NaN                   NaN   \n74156                   NaN            NaN                   NaN   \n\n       smart_254_raw  smart_255_normalized  smart_255_raw  \n13720            NaN                   NaN            NaN  \n65393            NaN                   NaN            NaN  \n74156            NaN                   NaN            NaN  \n\n[3 rows x 105 columns]",
      "text/html": "<div>\n<style scoped>\n    .dataframe tbody tr th:only-of-type {\n        vertical-align: middle;\n    }\n\n    .dataframe tbody tr th {\n        vertical-align: top;\n    }\n\n    .dataframe thead th {\n        text-align: right;\n    }\n</style>\n<table border=\"1\" class=\"dataframe\">\n  <thead>\n    <tr style=\"text-align: right;\">\n      <th></th>\n      <th>date</th>\n      <th>serial_number</th>\n      <th>model</th>\n      <th>capacity_bytes</th>\n      <th>failure</th>\n      <th>smart_1_normalized</th>\n      <th>smart_1_raw</th>\n      <th>smart_2_normalized</th>\n      <th>smart_2_raw</th>\n      <th>smart_3_normalized</th>\n      <th>...</th>\n      <th>smart_250_normalized</th>\n      <th>smart_250_raw</th>\n      <th>smart_251_normalized</th>\n      <th>smart_251_raw</th>\n      <th>smart_252_normalized</th>\n      <th>smart_252_raw</th>\n      <th>smart_254_normalized</th>\n      <th>smart_254_raw</th>\n      <th>smart_255_normalized</th>\n      <th>smart_255_raw</th>\n    </tr>\n  </thead>\n  <tbody>\n    <tr>\n      <th>13720</th>\n      <td>2018-01-01</td>\n      <td>Z300GZ1B</td>\n      <td>ST4000DM000</td>\n      <td>4000787030016</td>\n      <td>1</td>\n      <td>108</td>\n      <td>17846936</td>\n      <td>NaN</td>\n      <td>NaN</td>\n      <td>92</td>\n      <td>...</td>\n      <td>NaN</td>\n      <td>NaN</td>\n      <td>NaN</td>\n      <td>NaN</td>\n      <td>NaN</td>\n      <td>NaN</td>\n      <td>NaN</td>\n      <td>NaN</td>\n      <td>NaN</td>\n      <td>NaN</td>\n    </tr>\n    <tr>\n      <th>65393</th>\n      <td>2018-01-01</td>\n      <td>Z300GZCV</td>\n      <td>ST4000DM000</td>\n      <td>4000787030016</td>\n      <td>1</td>\n      <td>110</td>\n      <td>25274512</td>\n      <td>NaN</td>\n      <td>NaN</td>\n      <td>91</td>\n      <td>...</td>\n      <td>NaN</td>\n      <td>NaN</td>\n      <td>NaN</td>\n      <td>NaN</td>\n      <td>NaN</td>\n      <td>NaN</td>\n      <td>NaN</td>\n      <td>NaN</td>\n      <td>NaN</td>\n      <td>NaN</td>\n    </tr>\n    <tr>\n      <th>74156</th>\n      <td>2018-01-01</td>\n      <td>VKGKRG7X</td>\n      <td>HGST HUH728080ALE600</td>\n      <td>8001563222016</td>\n      <td>1</td>\n      <td>100</td>\n      <td>0</td>\n      <td>134.0</td>\n      <td>105.0</td>\n      <td>100</td>\n      <td>...</td>\n      <td>NaN</td>\n      <td>NaN</td>\n      <td>NaN</td>\n      <td>NaN</td>\n      <td>NaN</td>\n      <td>NaN</td>\n      <td>NaN</td>\n      <td>NaN</td>\n      <td>NaN</td>\n      <td>NaN</td>\n    </tr>\n  </tbody>\n</table>\n<p>3 rows × 105 columns</p>\n</div>"
     },
     "metadata": {},
     "execution_count": 29
    }
   ],
   "source": [
    "data[data.failure == 1]"
   ]
  },
  {
   "cell_type": "code",
   "execution_count": 30,
   "metadata": {},
   "outputs": [],
   "source": [
    "data2 = pd.read_csv('E:/data/data_Q1_2018/2018-01-02.csv')"
   ]
  },
  {
   "cell_type": "code",
   "execution_count": 31,
   "metadata": {},
   "outputs": [
    {
     "output_type": "execute_result",
     "data": {
      "text/plain": "             date serial_number          model  capacity_bytes  failure  \\\n4455   2018-01-02      S300V3AD    ST4000DM000   4000787030016        1   \n13426  2018-01-02      ZA11THZ7    ST8000DM002   8001563222016        1   \n16124  2018-01-02      ZA15W1KW   ST8000NM0055   8001563222016        1   \n22891  2018-01-02      Z304JPGD    ST4000DM000   4000787030016        1   \n23533  2018-01-02      Z3029GJ1    ST4000DM000   4000787030016        1   \n52293  2018-01-02      ZA123JN4    ST8000DM002   8001563222016        1   \n71333  2018-01-02      Z305D59A    ST4000DM000   4000787030016        1   \n76043  2018-01-02      ZCH07Z42  ST12000NM0007  12000138625024        1   \n\n       smart_1_normalized  smart_1_raw  smart_2_normalized  smart_2_raw  \\\n4455                  111     76075666                 NaN          NaN   \n13426                  71     53634704                 NaN          NaN   \n16124                  83    197573968                 NaN          NaN   \n22891                 109     24170088                 NaN          NaN   \n23533                 117    167753424                 NaN          NaN   \n52293                  74     24972872                 NaN          NaN   \n71333                 116    109425528                 NaN          NaN   \n76043                  61    115658912                 NaN          NaN   \n\n       smart_3_normalized  ...  smart_250_normalized  smart_250_raw  \\\n4455                   97  ...                   NaN            NaN   \n13426                  96  ...                   NaN            NaN   \n16124                  99  ...                   NaN            NaN   \n22891                  97  ...                   NaN            NaN   \n23533                  92  ...                   NaN            NaN   \n52293                  96  ...                   NaN            NaN   \n71333                  92  ...                   NaN            NaN   \n76043                  97  ...                   NaN            NaN   \n\n       smart_251_normalized  smart_251_raw  smart_252_normalized  \\\n4455                    NaN            NaN                   NaN   \n13426                   NaN            NaN                   NaN   \n16124                   NaN            NaN                   NaN   \n22891                   NaN            NaN                   NaN   \n23533                   NaN            NaN                   NaN   \n52293                   NaN            NaN                   NaN   \n71333                   NaN            NaN                   NaN   \n76043                   NaN            NaN                   NaN   \n\n       smart_252_raw  smart_254_normalized  smart_254_raw  \\\n4455             NaN                   NaN            NaN   \n13426            NaN                   NaN            NaN   \n16124            NaN                   NaN            NaN   \n22891            NaN                   NaN            NaN   \n23533            NaN                   NaN            NaN   \n52293            NaN                   NaN            NaN   \n71333            NaN                   NaN            NaN   \n76043            NaN                   NaN            NaN   \n\n       smart_255_normalized  smart_255_raw  \n4455                    NaN            NaN  \n13426                   NaN            NaN  \n16124                   NaN            NaN  \n22891                   NaN            NaN  \n23533                   NaN            NaN  \n52293                   NaN            NaN  \n71333                   NaN            NaN  \n76043                   NaN            NaN  \n\n[8 rows x 105 columns]",
      "text/html": "<div>\n<style scoped>\n    .dataframe tbody tr th:only-of-type {\n        vertical-align: middle;\n    }\n\n    .dataframe tbody tr th {\n        vertical-align: top;\n    }\n\n    .dataframe thead th {\n        text-align: right;\n    }\n</style>\n<table border=\"1\" class=\"dataframe\">\n  <thead>\n    <tr style=\"text-align: right;\">\n      <th></th>\n      <th>date</th>\n      <th>serial_number</th>\n      <th>model</th>\n      <th>capacity_bytes</th>\n      <th>failure</th>\n      <th>smart_1_normalized</th>\n      <th>smart_1_raw</th>\n      <th>smart_2_normalized</th>\n      <th>smart_2_raw</th>\n      <th>smart_3_normalized</th>\n      <th>...</th>\n      <th>smart_250_normalized</th>\n      <th>smart_250_raw</th>\n      <th>smart_251_normalized</th>\n      <th>smart_251_raw</th>\n      <th>smart_252_normalized</th>\n      <th>smart_252_raw</th>\n      <th>smart_254_normalized</th>\n      <th>smart_254_raw</th>\n      <th>smart_255_normalized</th>\n      <th>smart_255_raw</th>\n    </tr>\n  </thead>\n  <tbody>\n    <tr>\n      <th>4455</th>\n      <td>2018-01-02</td>\n      <td>S300V3AD</td>\n      <td>ST4000DM000</td>\n      <td>4000787030016</td>\n      <td>1</td>\n      <td>111</td>\n      <td>76075666</td>\n      <td>NaN</td>\n      <td>NaN</td>\n      <td>97</td>\n      <td>...</td>\n      <td>NaN</td>\n      <td>NaN</td>\n      <td>NaN</td>\n      <td>NaN</td>\n      <td>NaN</td>\n      <td>NaN</td>\n      <td>NaN</td>\n      <td>NaN</td>\n      <td>NaN</td>\n      <td>NaN</td>\n    </tr>\n    <tr>\n      <th>13426</th>\n      <td>2018-01-02</td>\n      <td>ZA11THZ7</td>\n      <td>ST8000DM002</td>\n      <td>8001563222016</td>\n      <td>1</td>\n      <td>71</td>\n      <td>53634704</td>\n      <td>NaN</td>\n      <td>NaN</td>\n      <td>96</td>\n      <td>...</td>\n      <td>NaN</td>\n      <td>NaN</td>\n      <td>NaN</td>\n      <td>NaN</td>\n      <td>NaN</td>\n      <td>NaN</td>\n      <td>NaN</td>\n      <td>NaN</td>\n      <td>NaN</td>\n      <td>NaN</td>\n    </tr>\n    <tr>\n      <th>16124</th>\n      <td>2018-01-02</td>\n      <td>ZA15W1KW</td>\n      <td>ST8000NM0055</td>\n      <td>8001563222016</td>\n      <td>1</td>\n      <td>83</td>\n      <td>197573968</td>\n      <td>NaN</td>\n      <td>NaN</td>\n      <td>99</td>\n      <td>...</td>\n      <td>NaN</td>\n      <td>NaN</td>\n      <td>NaN</td>\n      <td>NaN</td>\n      <td>NaN</td>\n      <td>NaN</td>\n      <td>NaN</td>\n      <td>NaN</td>\n      <td>NaN</td>\n      <td>NaN</td>\n    </tr>\n    <tr>\n      <th>22891</th>\n      <td>2018-01-02</td>\n      <td>Z304JPGD</td>\n      <td>ST4000DM000</td>\n      <td>4000787030016</td>\n      <td>1</td>\n      <td>109</td>\n      <td>24170088</td>\n      <td>NaN</td>\n      <td>NaN</td>\n      <td>97</td>\n      <td>...</td>\n      <td>NaN</td>\n      <td>NaN</td>\n      <td>NaN</td>\n      <td>NaN</td>\n      <td>NaN</td>\n      <td>NaN</td>\n      <td>NaN</td>\n      <td>NaN</td>\n      <td>NaN</td>\n      <td>NaN</td>\n    </tr>\n    <tr>\n      <th>23533</th>\n      <td>2018-01-02</td>\n      <td>Z3029GJ1</td>\n      <td>ST4000DM000</td>\n      <td>4000787030016</td>\n      <td>1</td>\n      <td>117</td>\n      <td>167753424</td>\n      <td>NaN</td>\n      <td>NaN</td>\n      <td>92</td>\n      <td>...</td>\n      <td>NaN</td>\n      <td>NaN</td>\n      <td>NaN</td>\n      <td>NaN</td>\n      <td>NaN</td>\n      <td>NaN</td>\n      <td>NaN</td>\n      <td>NaN</td>\n      <td>NaN</td>\n      <td>NaN</td>\n    </tr>\n    <tr>\n      <th>52293</th>\n      <td>2018-01-02</td>\n      <td>ZA123JN4</td>\n      <td>ST8000DM002</td>\n      <td>8001563222016</td>\n      <td>1</td>\n      <td>74</td>\n      <td>24972872</td>\n      <td>NaN</td>\n      <td>NaN</td>\n      <td>96</td>\n      <td>...</td>\n      <td>NaN</td>\n      <td>NaN</td>\n      <td>NaN</td>\n      <td>NaN</td>\n      <td>NaN</td>\n      <td>NaN</td>\n      <td>NaN</td>\n      <td>NaN</td>\n      <td>NaN</td>\n      <td>NaN</td>\n    </tr>\n    <tr>\n      <th>71333</th>\n      <td>2018-01-02</td>\n      <td>Z305D59A</td>\n      <td>ST4000DM000</td>\n      <td>4000787030016</td>\n      <td>1</td>\n      <td>116</td>\n      <td>109425528</td>\n      <td>NaN</td>\n      <td>NaN</td>\n      <td>92</td>\n      <td>...</td>\n      <td>NaN</td>\n      <td>NaN</td>\n      <td>NaN</td>\n      <td>NaN</td>\n      <td>NaN</td>\n      <td>NaN</td>\n      <td>NaN</td>\n      <td>NaN</td>\n      <td>NaN</td>\n      <td>NaN</td>\n    </tr>\n    <tr>\n      <th>76043</th>\n      <td>2018-01-02</td>\n      <td>ZCH07Z42</td>\n      <td>ST12000NM0007</td>\n      <td>12000138625024</td>\n      <td>1</td>\n      <td>61</td>\n      <td>115658912</td>\n      <td>NaN</td>\n      <td>NaN</td>\n      <td>97</td>\n      <td>...</td>\n      <td>NaN</td>\n      <td>NaN</td>\n      <td>NaN</td>\n      <td>NaN</td>\n      <td>NaN</td>\n      <td>NaN</td>\n      <td>NaN</td>\n      <td>NaN</td>\n      <td>NaN</td>\n      <td>NaN</td>\n    </tr>\n  </tbody>\n</table>\n<p>8 rows × 105 columns</p>\n</div>"
     },
     "metadata": {},
     "execution_count": 31
    }
   ],
   "source": [
    "data2[data2.failure == 1]"
   ]
  },
  {
   "cell_type": "code",
   "execution_count": 32,
   "metadata": {},
   "outputs": [
    {
     "output_type": "execute_result",
     "data": {
      "text/plain": "Empty DataFrame\nColumns: [date, serial_number, model, capacity_bytes, failure, smart_1_normalized, smart_1_raw, smart_2_normalized, smart_2_raw, smart_3_normalized, smart_3_raw, smart_4_normalized, smart_4_raw, smart_5_normalized, smart_5_raw, smart_7_normalized, smart_7_raw, smart_8_normalized, smart_8_raw, smart_9_normalized, smart_9_raw, smart_10_normalized, smart_10_raw, smart_11_normalized, smart_11_raw, smart_12_normalized, smart_12_raw, smart_13_normalized, smart_13_raw, smart_15_normalized, smart_15_raw, smart_22_normalized, smart_22_raw, smart_177_normalized, smart_177_raw, smart_179_normalized, smart_179_raw, smart_181_normalized, smart_181_raw, smart_182_normalized, smart_182_raw, smart_183_normalized, smart_183_raw, smart_184_normalized, smart_184_raw, smart_187_normalized, smart_187_raw, smart_188_normalized, smart_188_raw, smart_189_normalized, smart_189_raw, smart_190_normalized, smart_190_raw, smart_191_normalized, smart_191_raw, smart_192_normalized, smart_192_raw, smart_193_normalized, smart_193_raw, smart_194_normalized, smart_194_raw, smart_195_normalized, smart_195_raw, smart_196_normalized, smart_196_raw, smart_197_normalized, smart_197_raw, smart_198_normalized, smart_198_raw, smart_199_normalized, smart_199_raw, smart_200_normalized, smart_200_raw, smart_201_normalized, smart_201_raw, smart_220_normalized, smart_220_raw, smart_222_normalized, smart_222_raw, smart_223_normalized, smart_223_raw, smart_224_normalized, smart_224_raw, smart_225_normalized, smart_225_raw, smart_226_normalized, smart_226_raw, smart_235_normalized, smart_235_raw, smart_240_normalized, smart_240_raw, smart_241_normalized, smart_241_raw, smart_242_normalized, smart_242_raw, smart_250_normalized, smart_250_raw, smart_251_normalized, smart_251_raw, smart_252_normalized, ...]\nIndex: []\n\n[0 rows x 105 columns]",
      "text/html": "<div>\n<style scoped>\n    .dataframe tbody tr th:only-of-type {\n        vertical-align: middle;\n    }\n\n    .dataframe tbody tr th {\n        vertical-align: top;\n    }\n\n    .dataframe thead th {\n        text-align: right;\n    }\n</style>\n<table border=\"1\" class=\"dataframe\">\n  <thead>\n    <tr style=\"text-align: right;\">\n      <th></th>\n      <th>date</th>\n      <th>serial_number</th>\n      <th>model</th>\n      <th>capacity_bytes</th>\n      <th>failure</th>\n      <th>smart_1_normalized</th>\n      <th>smart_1_raw</th>\n      <th>smart_2_normalized</th>\n      <th>smart_2_raw</th>\n      <th>smart_3_normalized</th>\n      <th>...</th>\n      <th>smart_250_normalized</th>\n      <th>smart_250_raw</th>\n      <th>smart_251_normalized</th>\n      <th>smart_251_raw</th>\n      <th>smart_252_normalized</th>\n      <th>smart_252_raw</th>\n      <th>smart_254_normalized</th>\n      <th>smart_254_raw</th>\n      <th>smart_255_normalized</th>\n      <th>smart_255_raw</th>\n    </tr>\n  </thead>\n  <tbody>\n  </tbody>\n</table>\n<p>0 rows × 105 columns</p>\n</div>"
     },
     "metadata": {},
     "execution_count": 32
    }
   ],
   "source": [
    "data2[data2.serial_number == 'Z300GZCV']"
   ]
  },
  {
   "cell_type": "code",
   "execution_count": 33,
   "metadata": {},
   "outputs": [],
   "source": [
    "data3 = pd.read_csv('E:/data/data_Q1_2018/2018-01-03.csv')"
   ]
  },
  {
   "cell_type": "code",
   "execution_count": 34,
   "metadata": {},
   "outputs": [
    {
     "output_type": "execute_result",
     "data": {
      "text/plain": "             date serial_number        model  capacity_bytes  failure  \\\n680    2018-01-03      Z3025LH2  ST4000DM000   4000787030016        1   \n29469  2018-01-03      W300SSGD  ST4000DM000   4000787030016        1   \n34292  2018-01-03      Z305AGS0  ST4000DM000   4000787030016        1   \n69502  2018-01-03      Z3015C6Y  ST4000DM000   4000787030016        1   \n73536  2018-01-03      S301PVB9  ST4000DM000   4000787030016        1   \n87991  2018-01-03      ZA10YQJS  ST8000DM002   8001563222016        1   \n\n       smart_1_normalized  smart_1_raw  smart_2_normalized  smart_2_raw  \\\n680                   117    119634464                 NaN          NaN   \n29469                 115     96990848                 NaN          NaN   \n34292                 116    111524312                 NaN          NaN   \n69502                 111     40135592                 NaN          NaN   \n73536                 110     27361280                 NaN          NaN   \n87991                  66     77145160                 NaN          NaN   \n\n       smart_3_normalized  ...  smart_250_normalized  smart_250_raw  \\\n680                    92  ...                   NaN            NaN   \n29469                  96  ...                   NaN            NaN   \n34292                  96  ...                   NaN            NaN   \n69502                  91  ...                   NaN            NaN   \n73536                  96  ...                   NaN            NaN   \n87991                  92  ...                   NaN            NaN   \n\n       smart_251_normalized  smart_251_raw  smart_252_normalized  \\\n680                     NaN            NaN                   NaN   \n29469                   NaN            NaN                   NaN   \n34292                   NaN            NaN                   NaN   \n69502                   NaN            NaN                   NaN   \n73536                   NaN            NaN                   NaN   \n87991                   NaN            NaN                   NaN   \n\n       smart_252_raw  smart_254_normalized  smart_254_raw  \\\n680              NaN                   NaN            NaN   \n29469            NaN                   NaN            NaN   \n34292            NaN                   NaN            NaN   \n69502            NaN                   NaN            NaN   \n73536            NaN                   NaN            NaN   \n87991            NaN                   NaN            NaN   \n\n       smart_255_normalized  smart_255_raw  \n680                     NaN            NaN  \n29469                   NaN            NaN  \n34292                   NaN            NaN  \n69502                   NaN            NaN  \n73536                   NaN            NaN  \n87991                   NaN            NaN  \n\n[6 rows x 105 columns]",
      "text/html": "<div>\n<style scoped>\n    .dataframe tbody tr th:only-of-type {\n        vertical-align: middle;\n    }\n\n    .dataframe tbody tr th {\n        vertical-align: top;\n    }\n\n    .dataframe thead th {\n        text-align: right;\n    }\n</style>\n<table border=\"1\" class=\"dataframe\">\n  <thead>\n    <tr style=\"text-align: right;\">\n      <th></th>\n      <th>date</th>\n      <th>serial_number</th>\n      <th>model</th>\n      <th>capacity_bytes</th>\n      <th>failure</th>\n      <th>smart_1_normalized</th>\n      <th>smart_1_raw</th>\n      <th>smart_2_normalized</th>\n      <th>smart_2_raw</th>\n      <th>smart_3_normalized</th>\n      <th>...</th>\n      <th>smart_250_normalized</th>\n      <th>smart_250_raw</th>\n      <th>smart_251_normalized</th>\n      <th>smart_251_raw</th>\n      <th>smart_252_normalized</th>\n      <th>smart_252_raw</th>\n      <th>smart_254_normalized</th>\n      <th>smart_254_raw</th>\n      <th>smart_255_normalized</th>\n      <th>smart_255_raw</th>\n    </tr>\n  </thead>\n  <tbody>\n    <tr>\n      <th>680</th>\n      <td>2018-01-03</td>\n      <td>Z3025LH2</td>\n      <td>ST4000DM000</td>\n      <td>4000787030016</td>\n      <td>1</td>\n      <td>117</td>\n      <td>119634464</td>\n      <td>NaN</td>\n      <td>NaN</td>\n      <td>92</td>\n      <td>...</td>\n      <td>NaN</td>\n      <td>NaN</td>\n      <td>NaN</td>\n      <td>NaN</td>\n      <td>NaN</td>\n      <td>NaN</td>\n      <td>NaN</td>\n      <td>NaN</td>\n      <td>NaN</td>\n      <td>NaN</td>\n    </tr>\n    <tr>\n      <th>29469</th>\n      <td>2018-01-03</td>\n      <td>W300SSGD</td>\n      <td>ST4000DM000</td>\n      <td>4000787030016</td>\n      <td>1</td>\n      <td>115</td>\n      <td>96990848</td>\n      <td>NaN</td>\n      <td>NaN</td>\n      <td>96</td>\n      <td>...</td>\n      <td>NaN</td>\n      <td>NaN</td>\n      <td>NaN</td>\n      <td>NaN</td>\n      <td>NaN</td>\n      <td>NaN</td>\n      <td>NaN</td>\n      <td>NaN</td>\n      <td>NaN</td>\n      <td>NaN</td>\n    </tr>\n    <tr>\n      <th>34292</th>\n      <td>2018-01-03</td>\n      <td>Z305AGS0</td>\n      <td>ST4000DM000</td>\n      <td>4000787030016</td>\n      <td>1</td>\n      <td>116</td>\n      <td>111524312</td>\n      <td>NaN</td>\n      <td>NaN</td>\n      <td>96</td>\n      <td>...</td>\n      <td>NaN</td>\n      <td>NaN</td>\n      <td>NaN</td>\n      <td>NaN</td>\n      <td>NaN</td>\n      <td>NaN</td>\n      <td>NaN</td>\n      <td>NaN</td>\n      <td>NaN</td>\n      <td>NaN</td>\n    </tr>\n    <tr>\n      <th>69502</th>\n      <td>2018-01-03</td>\n      <td>Z3015C6Y</td>\n      <td>ST4000DM000</td>\n      <td>4000787030016</td>\n      <td>1</td>\n      <td>111</td>\n      <td>40135592</td>\n      <td>NaN</td>\n      <td>NaN</td>\n      <td>91</td>\n      <td>...</td>\n      <td>NaN</td>\n      <td>NaN</td>\n      <td>NaN</td>\n      <td>NaN</td>\n      <td>NaN</td>\n      <td>NaN</td>\n      <td>NaN</td>\n      <td>NaN</td>\n      <td>NaN</td>\n      <td>NaN</td>\n    </tr>\n    <tr>\n      <th>73536</th>\n      <td>2018-01-03</td>\n      <td>S301PVB9</td>\n      <td>ST4000DM000</td>\n      <td>4000787030016</td>\n      <td>1</td>\n      <td>110</td>\n      <td>27361280</td>\n      <td>NaN</td>\n      <td>NaN</td>\n      <td>96</td>\n      <td>...</td>\n      <td>NaN</td>\n      <td>NaN</td>\n      <td>NaN</td>\n      <td>NaN</td>\n      <td>NaN</td>\n      <td>NaN</td>\n      <td>NaN</td>\n      <td>NaN</td>\n      <td>NaN</td>\n      <td>NaN</td>\n    </tr>\n    <tr>\n      <th>87991</th>\n      <td>2018-01-03</td>\n      <td>ZA10YQJS</td>\n      <td>ST8000DM002</td>\n      <td>8001563222016</td>\n      <td>1</td>\n      <td>66</td>\n      <td>77145160</td>\n      <td>NaN</td>\n      <td>NaN</td>\n      <td>92</td>\n      <td>...</td>\n      <td>NaN</td>\n      <td>NaN</td>\n      <td>NaN</td>\n      <td>NaN</td>\n      <td>NaN</td>\n      <td>NaN</td>\n      <td>NaN</td>\n      <td>NaN</td>\n      <td>NaN</td>\n      <td>NaN</td>\n    </tr>\n  </tbody>\n</table>\n<p>6 rows × 105 columns</p>\n</div>"
     },
     "metadata": {},
     "execution_count": 34
    }
   ],
   "source": [
    "data3[data3.failure == 1]"
   ]
  },
  {
   "cell_type": "code",
   "execution_count": 15,
   "metadata": {},
   "outputs": [
    {
     "output_type": "execute_result",
     "data": {
      "text/plain": "Empty DataFrame\nColumns: [date, serial_number, model, capacity_bytes, failure, smart_1_normalized, smart_1_raw, smart_2_normalized, smart_2_raw, smart_3_normalized, smart_3_raw, smart_4_normalized, smart_4_raw, smart_5_normalized, smart_5_raw, smart_7_normalized, smart_7_raw, smart_8_normalized, smart_8_raw, smart_9_normalized, smart_9_raw, smart_10_normalized, smart_10_raw, smart_11_normalized, smart_11_raw, smart_12_normalized, smart_12_raw, smart_13_normalized, smart_13_raw, smart_15_normalized, smart_15_raw, smart_22_normalized, smart_22_raw, smart_177_normalized, smart_177_raw, smart_179_normalized, smart_179_raw, smart_181_normalized, smart_181_raw, smart_182_normalized, smart_182_raw, smart_183_normalized, smart_183_raw, smart_184_normalized, smart_184_raw, smart_187_normalized, smart_187_raw, smart_188_normalized, smart_188_raw, smart_189_normalized, smart_189_raw, smart_190_normalized, smart_190_raw, smart_191_normalized, smart_191_raw, smart_192_normalized, smart_192_raw, smart_193_normalized, smart_193_raw, smart_194_normalized, smart_194_raw, smart_195_normalized, smart_195_raw, smart_196_normalized, smart_196_raw, smart_197_normalized, smart_197_raw, smart_198_normalized, smart_198_raw, smart_199_normalized, smart_199_raw, smart_200_normalized, smart_200_raw, smart_201_normalized, smart_201_raw, smart_220_normalized, smart_220_raw, smart_222_normalized, smart_222_raw, smart_223_normalized, smart_223_raw, smart_224_normalized, smart_224_raw, smart_225_normalized, smart_225_raw, smart_226_normalized, smart_226_raw, smart_235_normalized, smart_235_raw, smart_240_normalized, smart_240_raw, smart_241_normalized, smart_241_raw, smart_242_normalized, smart_242_raw, smart_250_normalized, smart_250_raw, smart_251_normalized, smart_251_raw, smart_252_normalized, ...]\nIndex: []\n\n[0 rows x 105 columns]",
      "text/html": "<div>\n<style scoped>\n    .dataframe tbody tr th:only-of-type {\n        vertical-align: middle;\n    }\n\n    .dataframe tbody tr th {\n        vertical-align: top;\n    }\n\n    .dataframe thead th {\n        text-align: right;\n    }\n</style>\n<table border=\"1\" class=\"dataframe\">\n  <thead>\n    <tr style=\"text-align: right;\">\n      <th></th>\n      <th>date</th>\n      <th>serial_number</th>\n      <th>model</th>\n      <th>capacity_bytes</th>\n      <th>failure</th>\n      <th>smart_1_normalized</th>\n      <th>smart_1_raw</th>\n      <th>smart_2_normalized</th>\n      <th>smart_2_raw</th>\n      <th>smart_3_normalized</th>\n      <th>...</th>\n      <th>smart_250_normalized</th>\n      <th>smart_250_raw</th>\n      <th>smart_251_normalized</th>\n      <th>smart_251_raw</th>\n      <th>smart_252_normalized</th>\n      <th>smart_252_raw</th>\n      <th>smart_254_normalized</th>\n      <th>smart_254_raw</th>\n      <th>smart_255_normalized</th>\n      <th>smart_255_raw</th>\n    </tr>\n  </thead>\n  <tbody>\n  </tbody>\n</table>\n<p>0 rows × 105 columns</p>\n</div>"
     },
     "metadata": {},
     "execution_count": 15
    }
   ],
   "source": [
    "data3[data3.serial_number == 'S300V3AD']"
   ]
  },
  {
   "cell_type": "code",
   "execution_count": 1,
   "metadata": {},
   "outputs": [],
   "source": [
    "import os\n",
    "import pandas as pd \n",
    "import numpy as np "
   ]
  },
  {
   "cell_type": "code",
   "execution_count": 2,
   "metadata": {
    "tags": []
   },
   "outputs": [],
   "source": [
    "dataOfBlack_2020_1 = []\n",
    "dirs = os.listdir('E:/data/data_Q1_2018')\n",
    "for i in dirs:\n",
    "    dataOfBlack_2020_1.append(pd.read_csv('E:/data/data_Q1_2018/' + i))"
   ]
  },
  {
   "cell_type": "code",
   "execution_count": 3,
   "metadata": {},
   "outputs": [],
   "source": [
    "dataOfBlack_2020_1OfFailure = []\n",
    "for i in range(len(dataOfBlack_2020_1)):\n",
    "    dataOfBlack_2020_1OfFailure.append(dataOfBlack_2020_1[i][dataOfBlack_2020_1[i].failure == 1])"
   ]
  },
  {
   "cell_type": "code",
   "execution_count": 23,
   "metadata": {
    "tags": []
   },
   "outputs": [
    {
     "output_type": "execute_result",
     "data": {
      "text/plain": "             date serial_number                 model  capacity_bytes  \\\n13720  2018-01-01      Z300GZ1B           ST4000DM000   4000787030016   \n65393  2018-01-01      Z300GZCV           ST4000DM000   4000787030016   \n74156  2018-01-01      VKGKRG7X  HGST HUH728080ALE600   8001563222016   \n\n       failure  smart_1_normalized  smart_1_raw  smart_2_normalized  \\\n13720        1                 108     17846936                 NaN   \n65393        1                 110     25274512                 NaN   \n74156        1                 100            0               134.0   \n\n       smart_2_raw  smart_3_normalized  ...  smart_250_normalized  \\\n13720          NaN                  92  ...                   NaN   \n65393          NaN                  91  ...                   NaN   \n74156        105.0                 100  ...                   NaN   \n\n       smart_250_raw  smart_251_normalized  smart_251_raw  \\\n13720            NaN                   NaN            NaN   \n65393            NaN                   NaN            NaN   \n74156            NaN                   NaN            NaN   \n\n       smart_252_normalized  smart_252_raw  smart_254_normalized  \\\n13720                   NaN            NaN                   NaN   \n65393                   NaN            NaN                   NaN   \n74156                   NaN            NaN                   NaN   \n\n       smart_254_raw  smart_255_normalized  smart_255_raw  \n13720            NaN                   NaN            NaN  \n65393            NaN                   NaN            NaN  \n74156            NaN                   NaN            NaN  \n\n[3 rows x 105 columns]",
      "text/html": "<div>\n<style scoped>\n    .dataframe tbody tr th:only-of-type {\n        vertical-align: middle;\n    }\n\n    .dataframe tbody tr th {\n        vertical-align: top;\n    }\n\n    .dataframe thead th {\n        text-align: right;\n    }\n</style>\n<table border=\"1\" class=\"dataframe\">\n  <thead>\n    <tr style=\"text-align: right;\">\n      <th></th>\n      <th>date</th>\n      <th>serial_number</th>\n      <th>model</th>\n      <th>capacity_bytes</th>\n      <th>failure</th>\n      <th>smart_1_normalized</th>\n      <th>smart_1_raw</th>\n      <th>smart_2_normalized</th>\n      <th>smart_2_raw</th>\n      <th>smart_3_normalized</th>\n      <th>...</th>\n      <th>smart_250_normalized</th>\n      <th>smart_250_raw</th>\n      <th>smart_251_normalized</th>\n      <th>smart_251_raw</th>\n      <th>smart_252_normalized</th>\n      <th>smart_252_raw</th>\n      <th>smart_254_normalized</th>\n      <th>smart_254_raw</th>\n      <th>smart_255_normalized</th>\n      <th>smart_255_raw</th>\n    </tr>\n  </thead>\n  <tbody>\n    <tr>\n      <th>13720</th>\n      <td>2018-01-01</td>\n      <td>Z300GZ1B</td>\n      <td>ST4000DM000</td>\n      <td>4000787030016</td>\n      <td>1</td>\n      <td>108</td>\n      <td>17846936</td>\n      <td>NaN</td>\n      <td>NaN</td>\n      <td>92</td>\n      <td>...</td>\n      <td>NaN</td>\n      <td>NaN</td>\n      <td>NaN</td>\n      <td>NaN</td>\n      <td>NaN</td>\n      <td>NaN</td>\n      <td>NaN</td>\n      <td>NaN</td>\n      <td>NaN</td>\n      <td>NaN</td>\n    </tr>\n    <tr>\n      <th>65393</th>\n      <td>2018-01-01</td>\n      <td>Z300GZCV</td>\n      <td>ST4000DM000</td>\n      <td>4000787030016</td>\n      <td>1</td>\n      <td>110</td>\n      <td>25274512</td>\n      <td>NaN</td>\n      <td>NaN</td>\n      <td>91</td>\n      <td>...</td>\n      <td>NaN</td>\n      <td>NaN</td>\n      <td>NaN</td>\n      <td>NaN</td>\n      <td>NaN</td>\n      <td>NaN</td>\n      <td>NaN</td>\n      <td>NaN</td>\n      <td>NaN</td>\n      <td>NaN</td>\n    </tr>\n    <tr>\n      <th>74156</th>\n      <td>2018-01-01</td>\n      <td>VKGKRG7X</td>\n      <td>HGST HUH728080ALE600</td>\n      <td>8001563222016</td>\n      <td>1</td>\n      <td>100</td>\n      <td>0</td>\n      <td>134.0</td>\n      <td>105.0</td>\n      <td>100</td>\n      <td>...</td>\n      <td>NaN</td>\n      <td>NaN</td>\n      <td>NaN</td>\n      <td>NaN</td>\n      <td>NaN</td>\n      <td>NaN</td>\n      <td>NaN</td>\n      <td>NaN</td>\n      <td>NaN</td>\n      <td>NaN</td>\n    </tr>\n  </tbody>\n</table>\n<p>3 rows × 105 columns</p>\n</div>"
     },
     "metadata": {},
     "execution_count": 23
    }
   ],
   "source": [
    "dataOfBlack_2020_1OfFailure[0]"
   ]
  },
  {
   "cell_type": "code",
   "execution_count": null,
   "metadata": {},
   "outputs": [],
   "source": [
    "for i in range(len(dataOfBlack_2020_1OfFailure) - 1):\n",
    "    errordisk = pd.concat(data)"
   ]
  },
  {
   "cell_type": "code",
   "execution_count": 21,
   "metadata": {},
   "outputs": [
    {
     "output_type": "execute_result",
     "data": {
      "text/plain": "    A   B   C   D\n0  A0  B0  C0  D0\n1  A1  B1  C1  D1\n2  A2  B2  C2  D2\n3  A3  B3  C3  D3",
      "text/html": "<div>\n<style scoped>\n    .dataframe tbody tr th:only-of-type {\n        vertical-align: middle;\n    }\n\n    .dataframe tbody tr th {\n        vertical-align: top;\n    }\n\n    .dataframe thead th {\n        text-align: right;\n    }\n</style>\n<table border=\"1\" class=\"dataframe\">\n  <thead>\n    <tr style=\"text-align: right;\">\n      <th></th>\n      <th>A</th>\n      <th>B</th>\n      <th>C</th>\n      <th>D</th>\n    </tr>\n  </thead>\n  <tbody>\n    <tr>\n      <th>0</th>\n      <td>A0</td>\n      <td>B0</td>\n      <td>C0</td>\n      <td>D0</td>\n    </tr>\n    <tr>\n      <th>1</th>\n      <td>A1</td>\n      <td>B1</td>\n      <td>C1</td>\n      <td>D1</td>\n    </tr>\n    <tr>\n      <th>2</th>\n      <td>A2</td>\n      <td>B2</td>\n      <td>C2</td>\n      <td>D2</td>\n    </tr>\n    <tr>\n      <th>3</th>\n      <td>A3</td>\n      <td>B3</td>\n      <td>C3</td>\n      <td>D3</td>\n    </tr>\n  </tbody>\n</table>\n</div>"
     },
     "metadata": {},
     "execution_count": 21
    }
   ],
   "source": [
    " df1 = pd.DataFrame({'A': ['A0', 'A1', 'A2', 'A3'],\n",
    "                    'B': ['B0', 'B1', 'B2', 'B3'],\n",
    "                      'C': ['C0', 'C1', 'C2', 'C3'],\n",
    "                       'D': ['D0', 'D1', 'D2', 'D3']},\n",
    "                       index=[0, 1, 2, 3])\n",
    "df1"
   ]
  },
  {
   "cell_type": "code",
   "execution_count": 19,
   "metadata": {},
   "outputs": [
    {
     "output_type": "execute_result",
     "data": {
      "text/plain": "    A   B   C   D\n0  A0  B0  C0  D0\n1  A1  B1  C1  D1\n2  A2  B2  C2  D2\n3  A3  B3  C3  D3",
      "text/html": "<div>\n<style scoped>\n    .dataframe tbody tr th:only-of-type {\n        vertical-align: middle;\n    }\n\n    .dataframe tbody tr th {\n        vertical-align: top;\n    }\n\n    .dataframe thead th {\n        text-align: right;\n    }\n</style>\n<table border=\"1\" class=\"dataframe\">\n  <thead>\n    <tr style=\"text-align: right;\">\n      <th></th>\n      <th>A</th>\n      <th>B</th>\n      <th>C</th>\n      <th>D</th>\n    </tr>\n  </thead>\n  <tbody>\n    <tr>\n      <th>0</th>\n      <td>A0</td>\n      <td>B0</td>\n      <td>C0</td>\n      <td>D0</td>\n    </tr>\n    <tr>\n      <th>1</th>\n      <td>A1</td>\n      <td>B1</td>\n      <td>C1</td>\n      <td>D1</td>\n    </tr>\n    <tr>\n      <th>2</th>\n      <td>A2</td>\n      <td>B2</td>\n      <td>C2</td>\n      <td>D2</td>\n    </tr>\n    <tr>\n      <th>3</th>\n      <td>A3</td>\n      <td>B3</td>\n      <td>C3</td>\n      <td>D3</td>\n    </tr>\n  </tbody>\n</table>\n</div>"
     },
     "metadata": {},
     "execution_count": 19
    }
   ],
   "source": [
    "df2 = pd.DataFrame()\n",
    "df2 = df1\n",
    "df2"
   ]
  },
  {
   "cell_type": "code",
   "execution_count": 27,
   "metadata": {},
   "outputs": [
    {
     "output_type": "error",
     "ename": "TypeError",
     "evalue": "first argument must be an iterable of pandas objects, you passed an object of type \"DataFrame\"",
     "traceback": [
      "\u001b[1;31m---------------------------------------------------------------------------\u001b[0m",
      "\u001b[1;31mTypeError\u001b[0m                                 Traceback (most recent call last)",
      "\u001b[1;32m<ipython-input-27-03da57825cc9>\u001b[0m in \u001b[0;36m<module>\u001b[1;34m\u001b[0m\n\u001b[1;32m----> 1\u001b[1;33m \u001b[0mdf3\u001b[0m \u001b[1;33m=\u001b[0m \u001b[0mpd\u001b[0m\u001b[1;33m.\u001b[0m\u001b[0mconcat\u001b[0m\u001b[1;33m(\u001b[0m\u001b[0mdf1\u001b[0m\u001b[1;33m,\u001b[0m \u001b[0mdf2\u001b[0m\u001b[1;33m)\u001b[0m\u001b[1;33m\u001b[0m\u001b[1;33m\u001b[0m\u001b[0m\n\u001b[0m",
      "\u001b[1;32mD:\\Anaconda3\\envs\\pytorch-gpu\\lib\\site-packages\\pandas\\core\\reshape\\concat.py\u001b[0m in \u001b[0;36mconcat\u001b[1;34m(objs, axis, join, ignore_index, keys, levels, names, verify_integrity, sort, copy)\u001b[0m\n\u001b[0;32m    282\u001b[0m         \u001b[0mverify_integrity\u001b[0m\u001b[1;33m=\u001b[0m\u001b[0mverify_integrity\u001b[0m\u001b[1;33m,\u001b[0m\u001b[1;33m\u001b[0m\u001b[1;33m\u001b[0m\u001b[0m\n\u001b[0;32m    283\u001b[0m         \u001b[0mcopy\u001b[0m\u001b[1;33m=\u001b[0m\u001b[0mcopy\u001b[0m\u001b[1;33m,\u001b[0m\u001b[1;33m\u001b[0m\u001b[1;33m\u001b[0m\u001b[0m\n\u001b[1;32m--> 284\u001b[1;33m         \u001b[0msort\u001b[0m\u001b[1;33m=\u001b[0m\u001b[0msort\u001b[0m\u001b[1;33m,\u001b[0m\u001b[1;33m\u001b[0m\u001b[1;33m\u001b[0m\u001b[0m\n\u001b[0m\u001b[0;32m    285\u001b[0m     )\n\u001b[0;32m    286\u001b[0m \u001b[1;33m\u001b[0m\u001b[0m\n",
      "\u001b[1;32mD:\\Anaconda3\\envs\\pytorch-gpu\\lib\\site-packages\\pandas\\core\\reshape\\concat.py\u001b[0m in \u001b[0;36m__init__\u001b[1;34m(self, objs, axis, join, keys, levels, names, ignore_index, verify_integrity, copy, sort)\u001b[0m\n\u001b[0;32m    308\u001b[0m         \u001b[1;32mif\u001b[0m \u001b[0misinstance\u001b[0m\u001b[1;33m(\u001b[0m\u001b[0mobjs\u001b[0m\u001b[1;33m,\u001b[0m \u001b[1;33m(\u001b[0m\u001b[0mABCSeries\u001b[0m\u001b[1;33m,\u001b[0m \u001b[0mABCDataFrame\u001b[0m\u001b[1;33m,\u001b[0m \u001b[0mstr\u001b[0m\u001b[1;33m)\u001b[0m\u001b[1;33m)\u001b[0m\u001b[1;33m:\u001b[0m\u001b[1;33m\u001b[0m\u001b[1;33m\u001b[0m\u001b[0m\n\u001b[0;32m    309\u001b[0m             raise TypeError(\n\u001b[1;32m--> 310\u001b[1;33m                 \u001b[1;34m\"first argument must be an iterable of pandas \"\u001b[0m\u001b[1;33m\u001b[0m\u001b[1;33m\u001b[0m\u001b[0m\n\u001b[0m\u001b[0;32m    311\u001b[0m                 \u001b[1;34mf'objects, you passed an object of type \"{type(objs).__name__}\"'\u001b[0m\u001b[1;33m\u001b[0m\u001b[1;33m\u001b[0m\u001b[0m\n\u001b[0;32m    312\u001b[0m             )\n",
      "\u001b[1;31mTypeError\u001b[0m: first argument must be an iterable of pandas objects, you passed an object of type \"DataFrame\""
     ]
    }
   ],
   "source": [
    "df3 = pd.concat(df1, df2)"
   ]
  },
  {
   "cell_type": "code",
   "execution_count": 35,
   "metadata": {},
   "outputs": [
    {
     "output_type": "execute_result",
     "data": {
      "text/plain": "           date serial_number        model  capacity_bytes  failure  \\\n679  2018-01-01      Z3025LH2  ST4000DM000   4000787030016        0   \n\n     smart_1_normalized  smart_1_raw  smart_2_normalized  smart_2_raw  \\\n679                 118    190236968                 NaN          NaN   \n\n     smart_3_normalized  ...  smart_250_normalized  smart_250_raw  \\\n679                  92  ...                   NaN            NaN   \n\n     smart_251_normalized  smart_251_raw  smart_252_normalized  smart_252_raw  \\\n679                   NaN            NaN                   NaN            NaN   \n\n     smart_254_normalized  smart_254_raw  smart_255_normalized  smart_255_raw  \n679                   NaN            NaN                   NaN            NaN  \n\n[1 rows x 105 columns]",
      "text/html": "<div>\n<style scoped>\n    .dataframe tbody tr th:only-of-type {\n        vertical-align: middle;\n    }\n\n    .dataframe tbody tr th {\n        vertical-align: top;\n    }\n\n    .dataframe thead th {\n        text-align: right;\n    }\n</style>\n<table border=\"1\" class=\"dataframe\">\n  <thead>\n    <tr style=\"text-align: right;\">\n      <th></th>\n      <th>date</th>\n      <th>serial_number</th>\n      <th>model</th>\n      <th>capacity_bytes</th>\n      <th>failure</th>\n      <th>smart_1_normalized</th>\n      <th>smart_1_raw</th>\n      <th>smart_2_normalized</th>\n      <th>smart_2_raw</th>\n      <th>smart_3_normalized</th>\n      <th>...</th>\n      <th>smart_250_normalized</th>\n      <th>smart_250_raw</th>\n      <th>smart_251_normalized</th>\n      <th>smart_251_raw</th>\n      <th>smart_252_normalized</th>\n      <th>smart_252_raw</th>\n      <th>smart_254_normalized</th>\n      <th>smart_254_raw</th>\n      <th>smart_255_normalized</th>\n      <th>smart_255_raw</th>\n    </tr>\n  </thead>\n  <tbody>\n    <tr>\n      <th>679</th>\n      <td>2018-01-01</td>\n      <td>Z3025LH2</td>\n      <td>ST4000DM000</td>\n      <td>4000787030016</td>\n      <td>0</td>\n      <td>118</td>\n      <td>190236968</td>\n      <td>NaN</td>\n      <td>NaN</td>\n      <td>92</td>\n      <td>...</td>\n      <td>NaN</td>\n      <td>NaN</td>\n      <td>NaN</td>\n      <td>NaN</td>\n      <td>NaN</td>\n      <td>NaN</td>\n      <td>NaN</td>\n      <td>NaN</td>\n      <td>NaN</td>\n      <td>NaN</td>\n    </tr>\n  </tbody>\n</table>\n<p>1 rows × 105 columns</p>\n</div>"
     },
     "metadata": {},
     "execution_count": 35
    }
   ],
   "source": [
    "data[data.serial_number == 'Z3025LH2']"
   ]
  },
  {
   "cell_type": "code",
   "execution_count": 4,
   "metadata": {},
   "outputs": [
    {
     "output_type": "execute_result",
     "data": {
      "text/plain": "90"
     },
     "metadata": {},
     "execution_count": 4
    }
   ],
   "source": [
    "len(dataOfBlack_2020_1)"
   ]
  },
  {
   "cell_type": "code",
   "execution_count": 15,
   "metadata": {},
   "outputs": [
    {
     "output_type": "execute_result",
     "data": {
      "text/plain": "             date serial_number        model  capacity_bytes  failure  \\\n10229  2018-01-05      Z300ZV9B  ST4000DM000   4000787030016        0   \n\n       smart_1_normalized  smart_1_raw  smart_2_normalized  smart_2_raw  \\\n10229               118.0  177995512.0                 NaN          NaN   \n\n       smart_3_normalized  ...  smart_250_normalized  smart_250_raw  \\\n10229                91.0  ...                   NaN            NaN   \n\n       smart_251_normalized  smart_251_raw  smart_252_normalized  \\\n10229                   NaN            NaN                   NaN   \n\n       smart_252_raw  smart_254_normalized  smart_254_raw  \\\n10229            NaN                   NaN            NaN   \n\n       smart_255_normalized  smart_255_raw  \n10229                   NaN            NaN  \n\n[1 rows x 105 columns]",
      "text/html": "<div>\n<style scoped>\n    .dataframe tbody tr th:only-of-type {\n        vertical-align: middle;\n    }\n\n    .dataframe tbody tr th {\n        vertical-align: top;\n    }\n\n    .dataframe thead th {\n        text-align: right;\n    }\n</style>\n<table border=\"1\" class=\"dataframe\">\n  <thead>\n    <tr style=\"text-align: right;\">\n      <th></th>\n      <th>date</th>\n      <th>serial_number</th>\n      <th>model</th>\n      <th>capacity_bytes</th>\n      <th>failure</th>\n      <th>smart_1_normalized</th>\n      <th>smart_1_raw</th>\n      <th>smart_2_normalized</th>\n      <th>smart_2_raw</th>\n      <th>smart_3_normalized</th>\n      <th>...</th>\n      <th>smart_250_normalized</th>\n      <th>smart_250_raw</th>\n      <th>smart_251_normalized</th>\n      <th>smart_251_raw</th>\n      <th>smart_252_normalized</th>\n      <th>smart_252_raw</th>\n      <th>smart_254_normalized</th>\n      <th>smart_254_raw</th>\n      <th>smart_255_normalized</th>\n      <th>smart_255_raw</th>\n    </tr>\n  </thead>\n  <tbody>\n    <tr>\n      <th>10229</th>\n      <td>2018-01-05</td>\n      <td>Z300ZV9B</td>\n      <td>ST4000DM000</td>\n      <td>4000787030016</td>\n      <td>0</td>\n      <td>118.0</td>\n      <td>177995512.0</td>\n      <td>NaN</td>\n      <td>NaN</td>\n      <td>91.0</td>\n      <td>...</td>\n      <td>NaN</td>\n      <td>NaN</td>\n      <td>NaN</td>\n      <td>NaN</td>\n      <td>NaN</td>\n      <td>NaN</td>\n      <td>NaN</td>\n      <td>NaN</td>\n      <td>NaN</td>\n      <td>NaN</td>\n    </tr>\n  </tbody>\n</table>\n<p>1 rows × 105 columns</p>\n</div>"
     },
     "metadata": {},
     "execution_count": 15
    }
   ],
   "source": [
    "dataOfBlack_2020_1[4][dataOfBlack_2020_1[4].serial_number == dataOfBlack_2020_1[5][dataOfBlack_2020_1[5].failure == 1].serial_number.values[2]]"
   ]
  },
  {
   "cell_type": "code",
   "execution_count": 22,
   "metadata": {},
   "outputs": [],
   "source": [
    "dataOferrordisk = pd.DataFrame()"
   ]
  },
  {
   "cell_type": "code",
   "execution_count": 52,
   "metadata": {},
   "outputs": [],
   "source": [
    "listOfpositiveSample = []\n",
    "for i in range(5, len(dataOfBlack_2020_1)):\n",
    "    dataOferrordisk = dataOfBlack_2020_1[i][dataOfBlack_2020_1[i].failure == 1]\n",
    "    k = 5\n",
    "    for j in range(len(dataOferrordisk)):\n",
    "        while(k >= 0):\n",
    "            listOfpositiveSample.append(dataOfBlack_2020_1[i - k][dataOfBlack_2020_1[i - k].serial_number == dataOferrordisk.serial_number.values[j]])\n",
    "            k = k - 1\n"
   ]
  },
  {
   "cell_type": "code",
   "execution_count": 54,
   "metadata": {
    "tags": []
   },
   "outputs": [],
   "source": [
    "positiveSample = pd.concat(positiveSample, ignore_index=True)"
   ]
  },
  {
   "cell_type": "code",
   "execution_count": 55,
   "metadata": {
    "tags": []
   },
   "outputs": [],
   "source": [
    "positiveSample.to_csv('E:/data/positiveSample_Q1.csv')"
   ]
  },
  {
   "cell_type": "code",
   "execution_count": 29,
   "metadata": {
    "tags": []
   },
   "outputs": [
    {
     "output_type": "stream",
     "name": "stdout",
     "text": "5\n4\n2\n****\n"
    }
   ],
   "source": [
    "z = 5\n",
    "while z >= 3:\n",
    "    print(z)\n",
    "    print(z - 1)\n",
    "    z = z - 3\n",
    "    print(z) \n",
    "    print('****')"
   ]
  },
  {
   "cell_type": "code",
   "execution_count": 41,
   "metadata": {},
   "outputs": [],
   "source": [
    "df1 = pd.DataFrame()\n",
    "df2 = pd.DataFrame({'A': ['A0', 'A1', 'A2', 'A3'],\n",
    "                    'B': ['B0', 'B1', 'B2', 'B3'],\n",
    "                      'C': ['C0', 'C1', 'C2', 'C3'],\n",
    "                       'D': ['D0', 'D1', 'D2', 'D3']},\n",
    "                       index=[0, 1, 2, 3])"
   ]
  },
  {
   "cell_type": "code",
   "execution_count": 51,
   "metadata": {},
   "outputs": [
    {
     "output_type": "execute_result",
     "data": {
      "text/plain": "    A   B   C   D\n0  A0  B0  C0  D0\n1  A1  B1  C1  D1\n2  A2  B2  C2  D2\n3  A3  B3  C3  D3",
      "text/html": "<div>\n<style scoped>\n    .dataframe tbody tr th:only-of-type {\n        vertical-align: middle;\n    }\n\n    .dataframe tbody tr th {\n        vertical-align: top;\n    }\n\n    .dataframe thead th {\n        text-align: right;\n    }\n</style>\n<table border=\"1\" class=\"dataframe\">\n  <thead>\n    <tr style=\"text-align: right;\">\n      <th></th>\n      <th>A</th>\n      <th>B</th>\n      <th>C</th>\n      <th>D</th>\n    </tr>\n  </thead>\n  <tbody>\n    <tr>\n      <th>0</th>\n      <td>A0</td>\n      <td>B0</td>\n      <td>C0</td>\n      <td>D0</td>\n    </tr>\n    <tr>\n      <th>1</th>\n      <td>A1</td>\n      <td>B1</td>\n      <td>C1</td>\n      <td>D1</td>\n    </tr>\n    <tr>\n      <th>2</th>\n      <td>A2</td>\n      <td>B2</td>\n      <td>C2</td>\n      <td>D2</td>\n    </tr>\n    <tr>\n      <th>3</th>\n      <td>A3</td>\n      <td>B3</td>\n      <td>C3</td>\n      <td>D3</td>\n    </tr>\n  </tbody>\n</table>\n</div>"
     },
     "metadata": {},
     "execution_count": 51
    }
   ],
   "source": [
    "df2"
   ]
  },
  {
   "cell_type": "code",
   "execution_count": 45,
   "metadata": {},
   "outputs": [
    {
     "output_type": "error",
     "ename": "TypeError",
     "evalue": "first argument must be an iterable of pandas objects, you passed an object of type \"DataFrame\"",
     "traceback": [
      "\u001b[1;31m---------------------------------------------------------------------------\u001b[0m",
      "\u001b[1;31mTypeError\u001b[0m                                 Traceback (most recent call last)",
      "\u001b[1;32m<ipython-input-45-7a772d6a48ba>\u001b[0m in \u001b[0;36m<module>\u001b[1;34m\u001b[0m\n\u001b[1;32m----> 1\u001b[1;33m \u001b[0mpd\u001b[0m\u001b[1;33m.\u001b[0m\u001b[0mconcat\u001b[0m\u001b[1;33m(\u001b[0m\u001b[0mdf2\u001b[0m\u001b[1;33m,\u001b[0m \u001b[0mdf1\u001b[0m\u001b[1;33m)\u001b[0m\u001b[1;33m\u001b[0m\u001b[1;33m\u001b[0m\u001b[0m\n\u001b[0m",
      "\u001b[1;32mD:\\Anaconda3\\envs\\pytorch-gpu\\lib\\site-packages\\pandas\\core\\reshape\\concat.py\u001b[0m in \u001b[0;36mconcat\u001b[1;34m(objs, axis, join, ignore_index, keys, levels, names, verify_integrity, sort, copy)\u001b[0m\n\u001b[0;32m    282\u001b[0m         \u001b[0mverify_integrity\u001b[0m\u001b[1;33m=\u001b[0m\u001b[0mverify_integrity\u001b[0m\u001b[1;33m,\u001b[0m\u001b[1;33m\u001b[0m\u001b[1;33m\u001b[0m\u001b[0m\n\u001b[0;32m    283\u001b[0m         \u001b[0mcopy\u001b[0m\u001b[1;33m=\u001b[0m\u001b[0mcopy\u001b[0m\u001b[1;33m,\u001b[0m\u001b[1;33m\u001b[0m\u001b[1;33m\u001b[0m\u001b[0m\n\u001b[1;32m--> 284\u001b[1;33m         \u001b[0msort\u001b[0m\u001b[1;33m=\u001b[0m\u001b[0msort\u001b[0m\u001b[1;33m,\u001b[0m\u001b[1;33m\u001b[0m\u001b[1;33m\u001b[0m\u001b[0m\n\u001b[0m\u001b[0;32m    285\u001b[0m     )\n\u001b[0;32m    286\u001b[0m \u001b[1;33m\u001b[0m\u001b[0m\n",
      "\u001b[1;32mD:\\Anaconda3\\envs\\pytorch-gpu\\lib\\site-packages\\pandas\\core\\reshape\\concat.py\u001b[0m in \u001b[0;36m__init__\u001b[1;34m(self, objs, axis, join, keys, levels, names, ignore_index, verify_integrity, copy, sort)\u001b[0m\n\u001b[0;32m    308\u001b[0m         \u001b[1;32mif\u001b[0m \u001b[0misinstance\u001b[0m\u001b[1;33m(\u001b[0m\u001b[0mobjs\u001b[0m\u001b[1;33m,\u001b[0m \u001b[1;33m(\u001b[0m\u001b[0mABCSeries\u001b[0m\u001b[1;33m,\u001b[0m \u001b[0mABCDataFrame\u001b[0m\u001b[1;33m,\u001b[0m \u001b[0mstr\u001b[0m\u001b[1;33m)\u001b[0m\u001b[1;33m)\u001b[0m\u001b[1;33m:\u001b[0m\u001b[1;33m\u001b[0m\u001b[1;33m\u001b[0m\u001b[0m\n\u001b[0;32m    309\u001b[0m             raise TypeError(\n\u001b[1;32m--> 310\u001b[1;33m                 \u001b[1;34m\"first argument must be an iterable of pandas \"\u001b[0m\u001b[1;33m\u001b[0m\u001b[1;33m\u001b[0m\u001b[0m\n\u001b[0m\u001b[0;32m    311\u001b[0m                 \u001b[1;34mf'objects, you passed an object of type \"{type(objs).__name__}\"'\u001b[0m\u001b[1;33m\u001b[0m\u001b[1;33m\u001b[0m\u001b[0m\n\u001b[0;32m    312\u001b[0m             )\n",
      "\u001b[1;31mTypeError\u001b[0m: first argument must be an iterable of pandas objects, you passed an object of type \"DataFrame\""
     ]
    }
   ],
   "source": [
    "pd.concat(df2, df1)"
   ]
  },
  {
   "cell_type": "code",
   "execution_count": 48,
   "metadata": {},
   "outputs": [],
   "source": [
    "l = []\n",
    "for i in range(3):\n",
    "    l.append(df2)"
   ]
  },
  {
   "cell_type": "code",
   "execution_count": 50,
   "metadata": {},
   "outputs": [
    {
     "output_type": "execute_result",
     "data": {
      "text/plain": "    A   B   C   D\n0  A0  B0  C0  D0\n1  A1  B1  C1  D1\n2  A2  B2  C2  D2\n3  A3  B3  C3  D3\n0  A0  B0  C0  D0\n1  A1  B1  C1  D1\n2  A2  B2  C2  D2\n3  A3  B3  C3  D3\n0  A0  B0  C0  D0\n1  A1  B1  C1  D1\n2  A2  B2  C2  D2\n3  A3  B3  C3  D3",
      "text/html": "<div>\n<style scoped>\n    .dataframe tbody tr th:only-of-type {\n        vertical-align: middle;\n    }\n\n    .dataframe tbody tr th {\n        vertical-align: top;\n    }\n\n    .dataframe thead th {\n        text-align: right;\n    }\n</style>\n<table border=\"1\" class=\"dataframe\">\n  <thead>\n    <tr style=\"text-align: right;\">\n      <th></th>\n      <th>A</th>\n      <th>B</th>\n      <th>C</th>\n      <th>D</th>\n    </tr>\n  </thead>\n  <tbody>\n    <tr>\n      <th>0</th>\n      <td>A0</td>\n      <td>B0</td>\n      <td>C0</td>\n      <td>D0</td>\n    </tr>\n    <tr>\n      <th>1</th>\n      <td>A1</td>\n      <td>B1</td>\n      <td>C1</td>\n      <td>D1</td>\n    </tr>\n    <tr>\n      <th>2</th>\n      <td>A2</td>\n      <td>B2</td>\n      <td>C2</td>\n      <td>D2</td>\n    </tr>\n    <tr>\n      <th>3</th>\n      <td>A3</td>\n      <td>B3</td>\n      <td>C3</td>\n      <td>D3</td>\n    </tr>\n    <tr>\n      <th>0</th>\n      <td>A0</td>\n      <td>B0</td>\n      <td>C0</td>\n      <td>D0</td>\n    </tr>\n    <tr>\n      <th>1</th>\n      <td>A1</td>\n      <td>B1</td>\n      <td>C1</td>\n      <td>D1</td>\n    </tr>\n    <tr>\n      <th>2</th>\n      <td>A2</td>\n      <td>B2</td>\n      <td>C2</td>\n      <td>D2</td>\n    </tr>\n    <tr>\n      <th>3</th>\n      <td>A3</td>\n      <td>B3</td>\n      <td>C3</td>\n      <td>D3</td>\n    </tr>\n    <tr>\n      <th>0</th>\n      <td>A0</td>\n      <td>B0</td>\n      <td>C0</td>\n      <td>D0</td>\n    </tr>\n    <tr>\n      <th>1</th>\n      <td>A1</td>\n      <td>B1</td>\n      <td>C1</td>\n      <td>D1</td>\n    </tr>\n    <tr>\n      <th>2</th>\n      <td>A2</td>\n      <td>B2</td>\n      <td>C2</td>\n      <td>D2</td>\n    </tr>\n    <tr>\n      <th>3</th>\n      <td>A3</td>\n      <td>B3</td>\n      <td>C3</td>\n      <td>D3</td>\n    </tr>\n  </tbody>\n</table>\n</div>"
     },
     "metadata": {},
     "execution_count": 50
    }
   ],
   "source": [
    "pd.concat(l)"
   ]
  },
  {
   "cell_type": "code",
   "execution_count": 1,
   "metadata": {},
   "outputs": [],
   "source": [
    "import torch.nn as nn\n",
    "import torch"
   ]
  },
  {
   "cell_type": "code",
   "execution_count": 2,
   "metadata": {},
   "outputs": [],
   "source": [
    "lstm = nn.LSTM(13, 32, batch_first=True)"
   ]
  },
  {
   "cell_type": "code",
   "execution_count": 3,
   "metadata": {},
   "outputs": [],
   "source": [
    "x1 = torch.ones(10, 1, 13)\n",
    "x2 = torch.ones(10, 5, 13)"
   ]
  },
  {
   "cell_type": "code",
   "execution_count": 8,
   "metadata": {},
   "outputs": [],
   "source": [
    "y1, _ = lstm(x1)\n",
    "y2, _ = lstm(x2)"
   ]
  },
  {
   "cell_type": "code",
   "execution_count": 9,
   "metadata": {},
   "outputs": [
    {
     "output_type": "execute_result",
     "data": {
      "text/plain": "torch.Size([10, 1, 32])"
     },
     "metadata": {},
     "execution_count": 9
    }
   ],
   "source": [
    "y1.shape"
   ]
  },
  {
   "cell_type": "code",
   "execution_count": 10,
   "metadata": {},
   "outputs": [
    {
     "output_type": "execute_result",
     "data": {
      "text/plain": "torch.Size([10, 5, 32])"
     },
     "metadata": {},
     "execution_count": 10
    }
   ],
   "source": [
    "y2.shape"
   ]
  },
  {
   "cell_type": "code",
   "execution_count": 11,
   "metadata": {},
   "outputs": [],
   "source": [
    "import pandas as pd "
   ]
  },
  {
   "cell_type": "code",
   "execution_count": 12,
   "metadata": {},
   "outputs": [],
   "source": [
    "sample = pd.read_csv('E:/data/positiveSample_Q1.csv')"
   ]
  },
  {
   "cell_type": "code",
   "execution_count": 14,
   "metadata": {},
   "outputs": [
    {
     "output_type": "execute_result",
     "data": {
      "text/plain": "12"
     },
     "metadata": {},
     "execution_count": 14
    }
   ],
   "source": [
    "sample['smart_1_raw'].isna().sum()"
   ]
  },
  {
   "cell_type": "code",
   "execution_count": 3,
   "metadata": {},
   "outputs": [],
   "source": [
    "import torch.nn as nn"
   ]
  },
  {
   "cell_type": "code",
   "execution_count": 5,
   "metadata": {},
   "outputs": [],
   "source": [
    "cnn = nn.Conv2d(1, 10, 5)"
   ]
  },
  {
   "cell_type": "code",
   "execution_count": 8,
   "metadata": {},
   "outputs": [
    {
     "output_type": "execute_result",
     "data": {
      "text/plain": "torch.Size([10, 10, 1, 1])"
     },
     "metadata": {},
     "execution_count": 8
    }
   ],
   "source": [
    "cnn(torch.ones(10, 1, 5, 5)).shape"
   ]
  },
  {
   "cell_type": "code",
   "execution_count": 1,
   "metadata": {},
   "outputs": [],
   "source": [
    "import pandas as pd \n",
    "import numpy as np"
   ]
  },
  {
   "cell_type": "code",
   "execution_count": 11,
   "metadata": {},
   "outputs": [
    {
     "output_type": "execute_result",
     "data": {
      "text/plain": "   A  B   C   D\n0  0  1   2   3\n1  4  5   6   7\n2  8  9  10  11",
      "text/html": "<div>\n<style scoped>\n    .dataframe tbody tr th:only-of-type {\n        vertical-align: middle;\n    }\n\n    .dataframe tbody tr th {\n        vertical-align: top;\n    }\n\n    .dataframe thead th {\n        text-align: right;\n    }\n</style>\n<table border=\"1\" class=\"dataframe\">\n  <thead>\n    <tr style=\"text-align: right;\">\n      <th></th>\n      <th>A</th>\n      <th>B</th>\n      <th>C</th>\n      <th>D</th>\n    </tr>\n  </thead>\n  <tbody>\n    <tr>\n      <th>0</th>\n      <td>0</td>\n      <td>1</td>\n      <td>2</td>\n      <td>3</td>\n    </tr>\n    <tr>\n      <th>1</th>\n      <td>4</td>\n      <td>5</td>\n      <td>6</td>\n      <td>7</td>\n    </tr>\n    <tr>\n      <th>2</th>\n      <td>8</td>\n      <td>9</td>\n      <td>10</td>\n      <td>11</td>\n    </tr>\n  </tbody>\n</table>\n</div>"
     },
     "metadata": {},
     "execution_count": 11
    }
   ],
   "source": [
    "df = pd.DataFrame(np.arange(12).reshape(3,4),\n",
    "                columns=['A', 'B', 'C', 'D'])\n",
    "df"
   ]
  },
  {
   "cell_type": "code",
   "execution_count": 8,
   "metadata": {},
   "outputs": [
    {
     "output_type": "execute_result",
     "data": {
      "text/plain": "   B   C   D\n1  5   6   7\n2  9  10  11",
      "text/html": "<div>\n<style scoped>\n    .dataframe tbody tr th:only-of-type {\n        vertical-align: middle;\n    }\n\n    .dataframe tbody tr th {\n        vertical-align: top;\n    }\n\n    .dataframe thead th {\n        text-align: right;\n    }\n</style>\n<table border=\"1\" class=\"dataframe\">\n  <thead>\n    <tr style=\"text-align: right;\">\n      <th></th>\n      <th>B</th>\n      <th>C</th>\n      <th>D</th>\n    </tr>\n  </thead>\n  <tbody>\n    <tr>\n      <th>1</th>\n      <td>5</td>\n      <td>6</td>\n      <td>7</td>\n    </tr>\n    <tr>\n      <th>2</th>\n      <td>9</td>\n      <td>10</td>\n      <td>11</td>\n    </tr>\n  </tbody>\n</table>\n</div>"
     },
     "metadata": {},
     "execution_count": 8
    }
   ],
   "source": [
    "df.drop(columns='A', index=0)"
   ]
  },
  {
   "cell_type": "code",
   "execution_count": 12,
   "metadata": {},
   "outputs": [
    {
     "output_type": "execute_result",
     "data": {
      "text/plain": "array([0], dtype=int64)"
     },
     "metadata": {},
     "execution_count": 12
    }
   ],
   "source": [
    "df[df.A == 0].index.values"
   ]
  },
  {
   "cell_type": "code",
   "execution_count": 13,
   "metadata": {},
   "outputs": [
    {
     "output_type": "execute_result",
     "data": {
      "text/plain": "   A  B   C   D\n1  4  5   6   7\n2  8  9  10  11",
      "text/html": "<div>\n<style scoped>\n    .dataframe tbody tr th:only-of-type {\n        vertical-align: middle;\n    }\n\n    .dataframe tbody tr th {\n        vertical-align: top;\n    }\n\n    .dataframe thead th {\n        text-align: right;\n    }\n</style>\n<table border=\"1\" class=\"dataframe\">\n  <thead>\n    <tr style=\"text-align: right;\">\n      <th></th>\n      <th>A</th>\n      <th>B</th>\n      <th>C</th>\n      <th>D</th>\n    </tr>\n  </thead>\n  <tbody>\n    <tr>\n      <th>1</th>\n      <td>4</td>\n      <td>5</td>\n      <td>6</td>\n      <td>7</td>\n    </tr>\n    <tr>\n      <th>2</th>\n      <td>8</td>\n      <td>9</td>\n      <td>10</td>\n      <td>11</td>\n    </tr>\n  </tbody>\n</table>\n</div>"
     },
     "metadata": {},
     "execution_count": 13
    }
   ],
   "source": [
    "df.drop(df[df.A == 0].index.values, axis = 0)"
   ]
  },
  {
   "cell_type": "code",
   "execution_count": 14,
   "metadata": {
    "tags": []
   },
   "outputs": [
    {
     "output_type": "stream",
     "name": "stdout",
     "text": "A  B  C\nrow0  1  2  3\nrow1  4  5  6\nrow2  7  8  9\n"
    }
   ],
   "source": [
    "a=np.array([[1,2,3],[4,5,6],[7,8,9]])\n",
    "df1=pd.DataFrame(a,index=['row0','row1','row2'],columns=list('ABC'))\n",
    "print(df1)\n",
    "df2=df1.copy()"
   ]
  },
  {
   "cell_type": "code",
   "execution_count": 15,
   "metadata": {},
   "outputs": [
    {
     "output_type": "execute_result",
     "data": {
      "text/plain": "      A  B  C\nrow0  1  2  3\nrow1  4  5  6\nrow2  7  8  9",
      "text/html": "<div>\n<style scoped>\n    .dataframe tbody tr th:only-of-type {\n        vertical-align: middle;\n    }\n\n    .dataframe tbody tr th {\n        vertical-align: top;\n    }\n\n    .dataframe thead th {\n        text-align: right;\n    }\n</style>\n<table border=\"1\" class=\"dataframe\">\n  <thead>\n    <tr style=\"text-align: right;\">\n      <th></th>\n      <th>A</th>\n      <th>B</th>\n      <th>C</th>\n    </tr>\n  </thead>\n  <tbody>\n    <tr>\n      <th>row0</th>\n      <td>1</td>\n      <td>2</td>\n      <td>3</td>\n    </tr>\n    <tr>\n      <th>row1</th>\n      <td>4</td>\n      <td>5</td>\n      <td>6</td>\n    </tr>\n    <tr>\n      <th>row2</th>\n      <td>7</td>\n      <td>8</td>\n      <td>9</td>\n    </tr>\n  </tbody>\n</table>\n</div>"
     },
     "metadata": {},
     "execution_count": 15
    }
   ],
   "source": [
    "df1"
   ]
  },
  {
   "cell_type": "code",
   "execution_count": 16,
   "metadata": {},
   "outputs": [
    {
     "output_type": "execute_result",
     "data": {
      "text/plain": "      A  B  C\nrow0  1  2  3\nrow1  4  5  6\nrow2  7  8  9",
      "text/html": "<div>\n<style scoped>\n    .dataframe tbody tr th:only-of-type {\n        vertical-align: middle;\n    }\n\n    .dataframe tbody tr th {\n        vertical-align: top;\n    }\n\n    .dataframe thead th {\n        text-align: right;\n    }\n</style>\n<table border=\"1\" class=\"dataframe\">\n  <thead>\n    <tr style=\"text-align: right;\">\n      <th></th>\n      <th>A</th>\n      <th>B</th>\n      <th>C</th>\n    </tr>\n  </thead>\n  <tbody>\n    <tr>\n      <th>row0</th>\n      <td>1</td>\n      <td>2</td>\n      <td>3</td>\n    </tr>\n    <tr>\n      <th>row1</th>\n      <td>4</td>\n      <td>5</td>\n      <td>6</td>\n    </tr>\n    <tr>\n      <th>row2</th>\n      <td>7</td>\n      <td>8</td>\n      <td>9</td>\n    </tr>\n  </tbody>\n</table>\n</div>"
     },
     "metadata": {},
     "execution_count": 16
    }
   ],
   "source": [
    "df2"
   ]
  },
  {
   "cell_type": "code",
   "execution_count": 17,
   "metadata": {},
   "outputs": [
    {
     "output_type": "execute_result",
     "data": {
      "text/plain": "['C']"
     },
     "metadata": {},
     "execution_count": 17
    }
   ],
   "source": [
    "cols=[x for i,x in enumerate(df2.columns) if df2.iat[0,i]==3]\n",
    "cols"
   ]
  },
  {
   "cell_type": "code",
   "execution_count": 18,
   "metadata": {},
   "outputs": [
    {
     "output_type": "execute_result",
     "data": {
      "text/plain": "   A  B   C   D\n0  0  1   2   3\n1  4  5   6   7\n2  8  9  10  11",
      "text/html": "<div>\n<style scoped>\n    .dataframe tbody tr th:only-of-type {\n        vertical-align: middle;\n    }\n\n    .dataframe tbody tr th {\n        vertical-align: top;\n    }\n\n    .dataframe thead th {\n        text-align: right;\n    }\n</style>\n<table border=\"1\" class=\"dataframe\">\n  <thead>\n    <tr style=\"text-align: right;\">\n      <th></th>\n      <th>A</th>\n      <th>B</th>\n      <th>C</th>\n      <th>D</th>\n    </tr>\n  </thead>\n  <tbody>\n    <tr>\n      <th>0</th>\n      <td>0</td>\n      <td>1</td>\n      <td>2</td>\n      <td>3</td>\n    </tr>\n    <tr>\n      <th>1</th>\n      <td>4</td>\n      <td>5</td>\n      <td>6</td>\n      <td>7</td>\n    </tr>\n    <tr>\n      <th>2</th>\n      <td>8</td>\n      <td>9</td>\n      <td>10</td>\n      <td>11</td>\n    </tr>\n  </tbody>\n</table>\n</div>"
     },
     "metadata": {},
     "execution_count": 18
    }
   ],
   "source": [
    "df"
   ]
  },
  {
   "cell_type": "code",
   "execution_count": 21,
   "metadata": {},
   "outputs": [
    {
     "output_type": "execute_result",
     "data": {
      "text/plain": "[0, 4, 8]"
     },
     "metadata": {},
     "execution_count": 21
    }
   ],
   "source": [
    "a = []\n",
    "a = list(df.A)\n",
    "a"
   ]
  },
  {
   "cell_type": "code",
   "execution_count": 22,
   "metadata": {},
   "outputs": [],
   "source": [
    "for i in a:\n",
    "    if i == 0:\n",
    "        a.remove(i)"
   ]
  },
  {
   "cell_type": "code",
   "execution_count": 23,
   "metadata": {},
   "outputs": [
    {
     "output_type": "execute_result",
     "data": {
      "text/plain": "[4, 8]"
     },
     "metadata": {},
     "execution_count": 23
    }
   ],
   "source": [
    "a"
   ]
  },
  {
   "cell_type": "code",
   "execution_count": 24,
   "metadata": {},
   "outputs": [
    {
     "output_type": "execute_result",
     "data": {
      "text/plain": "   A  B   C   D\n1  4  5   6   7\n2  8  9  10  11",
      "text/html": "<div>\n<style scoped>\n    .dataframe tbody tr th:only-of-type {\n        vertical-align: middle;\n    }\n\n    .dataframe tbody tr th {\n        vertical-align: top;\n    }\n\n    .dataframe thead th {\n        text-align: right;\n    }\n</style>\n<table border=\"1\" class=\"dataframe\">\n  <thead>\n    <tr style=\"text-align: right;\">\n      <th></th>\n      <th>A</th>\n      <th>B</th>\n      <th>C</th>\n      <th>D</th>\n    </tr>\n  </thead>\n  <tbody>\n    <tr>\n      <th>1</th>\n      <td>4</td>\n      <td>5</td>\n      <td>6</td>\n      <td>7</td>\n    </tr>\n    <tr>\n      <th>2</th>\n      <td>8</td>\n      <td>9</td>\n      <td>10</td>\n      <td>11</td>\n    </tr>\n  </tbody>\n</table>\n</div>"
     },
     "metadata": {},
     "execution_count": 24
    }
   ],
   "source": [
    "df[df.A.isin(a)]"
   ]
  },
  {
   "cell_type": "code",
   "execution_count": 25,
   "metadata": {},
   "outputs": [],
   "source": [
    "data = pd.read_csv('E:/data/data_Q1_2018/2018-01-01.csv')"
   ]
  },
  {
   "cell_type": "code",
   "execution_count": 30,
   "metadata": {},
   "outputs": [
    {
     "output_type": "execute_result",
     "data": {
      "text/plain": "['Z305B2QN',\n 'PL1331LAHG1S4H',\n 'ZA16NQJR',\n 'ZA18CEBT',\n 'ZA18CEBS',\n 'Z305DEMG',\n 'ZA130TTW',\n 'ZA18CEBF',\n 'PL2331LAG9TEEJ',\n 'PL2331LAH3WYAJ',\n 'Z3023VGH',\n 'PL1311LAG2205A',\n 'PL1331LAHG53YH',\n 'Z305DEMX',\n 'ZA10JDYK',\n 'PL1331LAGSPEUH',\n 'PL1331LAHD1HTH',\n 'Z4D05G2K',\n 'Z306WYZZ',\n 'S300ZP5B',\n 'Z4D062ZT',\n 'PL1331LAHD0PDH',\n 'PL1331LAHD00PH',\n 'Z305DEMV',\n 'PL2331LAGPS2TJ',\n 'ZA13YGBE',\n 'ZA18CEB3',\n 'ZA13YGBG',\n 'ZA13YGBX',\n 'WD-WX41A356N5N1',\n 'Z305J0TE',\n 'PL1331LAGRZ5UH',\n 'PL2331LAGM7YGJ',\n 'ZA13YGBS',\n 'ZA13YGBR',\n 'ZA13YGBT',\n 'S301NGZV',\n 'ZA13Z860',\n 'ZA101JHT',\n 'Z300X922',\n 'ZA12MLSD',\n 'S3010M7R',\n 'ZA13YGB1',\n 'PL2331LAHDE6VJ',\n 'S3010M7H',\n 'Z3040J5T',\n 'ZA1608EP',\n 'S3010M7E',\n 'Z3057728',\n 'VKGKWHEX',\n 'ZA181JVY',\n 'Z302BV7E',\n 'PL1331LAGS1J6H',\n 'ZA1211BE',\n '96HCTBI0T',\n 'PL1331LAHD2ADH',\n 'Z305NZMD',\n 'Z300WG7Z',\n 'PL2331LAHDW6GJ',\n 'ZA10RYB6',\n 'Z305NZM9',\n 'Z305AJF7',\n 'PL2331LAHDWWSJ',\n 'ZA10RYBE',\n 'PL1331LAHBGDRH',\n 'PL1331LAHDYTAH',\n 'ZA10RYBZ',\n 'PL2331LAHDMW6J',\n 'ZA189GBG',\n '66HLS2OZS',\n 'ZA10RYBR',\n 'PL2311LAG1TB1C',\n 'S301NGZ7',\n 'PL2331LAGMNWSJ',\n 'PL2331LAGN4BUJ',\n 'S3010M78',\n 'S301NGZ8',\n 'S3010M72',\n 'ZA13Z86G',\n 'ZA13Z86F',\n 'ZA13Z86K',\n 'Z305LG79',\n 'PL2331LAH3BDMJ',\n 'ZA102QX6',\n 'Z300CWTK',\n 'PL2331LAHDAP2J',\n 'S301GMGW',\n 'Z3015LCH',\n 'Z4D07B6E',\n 'PL2331LAHDX99J',\n 'Z300PAB6',\n 'W300JMQL',\n 'Z300PAB5',\n 'Z304HQRL',\n 'PL2331LAHA8KNJ',\n 'ZA14DR6G',\n 'PL1331LAHD11XH',\n 'Z303XDXN',\n 'ZA12YPPQ',\n 'ZCH07LZY',\n 'ZA142WEN',\n 'PL1311LAG3DT5H',\n 'W300T22A',\n 'Z305H41M',\n 'Z300DPXN',\n 'Z305G2QK',\n 'PL1331LAGT9J6H',\n 'ZA139DRL',\n 'Z4D03TNS',\n 'ZA13HHY3',\n 'Z304HQR4',\n 'S301NYES',\n 'Z304SY3R',\n 'S301NYEV',\n 'Z300PABB',\n 'ZA211GM5',\n 'Z300KFP1',\n 'ZCH06DVN',\n 'WD-WXL1H644SYHA',\n 'PL1331LAGSJ2RH',\n 'PL1311LAG3DPVH',\n 'Z300X8B1',\n 'PL2331LAGN1BNJ',\n 'ZA141LX7',\n 'Z302T6H6',\n 'PL2331LAHDWRRJ',\n 'ZA12NA8P',\n 'PL2331LAGUMG5J',\n 'PL1331LAGSZD5H',\n 'S301GML1',\n 'PL1331LAHD2SSH',\n 'Z3015JRG',\n 'Z305KB3Y',\n '2EG16MZJ',\n 'PL1331LAHD34AH',\n 'S301GMLL',\n 'ZA12YJF4',\n 'Z302BS8M',\n 'S301GMLG',\n 'Z303ZLN0',\n 'Z305KB36',\n 'Z305KB37',\n 'S301GMLY',\n 'PL2331LAH3W3TJ',\n 'PL1331LAHD0E3H',\n 'PL1331LAGSRSSH',\n 'ZA172F49',\n 'ZA171C3W',\n 'ZA172F47',\n 'PL1331LAGLZRMH',\n 'Z300X8BY',\n 'PL1331LAHG5A5H',\n 'PL1311LAG3ANBH',\n 'ZA171C3M',\n 'ZA13VTJJ',\n 'Z302T6HP',\n 'PL2331LAGMEVNJ',\n 'ZA11PNPR',\n 'PL1331LAGSHWYH',\n 'W300MA9F',\n 'PL1331LAHDP4ZH',\n 'Z30240QK',\n 'ZA1819MW',\n 'PL2331LAHDUVVJ',\n 'ZA1819MQ',\n 'ZA1819MP',\n 'ZA1819MS',\n 'ZA1819MR',\n 'ZA13ZVV5',\n 'ZA13ZVV4',\n 'PL2331LAHDG05J',\n 'ZA13ZVV6',\n 'ZA1819MY',\n 'ZA13ZVV0',\n 'ZA1819ME',\n 'ZA1819MD',\n 'WD-WX81A74A5KCF',\n 'PL1331LAHBSDVH',\n 'PL2331LAGN487J',\n 'ZA1819MM',\n 'ZA1819MN',\n 'ZA1819MH',\n 'ZA1819MK',\n 'ZA1819M7',\n 'ZA1819M1',\n 'ZA1819M3',\n 'ZDH0CWE7',\n 'ZA1819M9',\n 'PL2331LAG9WG5J',\n 'Z305E8LA',\n 'PL1331LAGM1P5H',\n 'PL1331LAHBY10H',\n 'ZA181A9E',\n 'S2ZYJ9FG405092',\n 'ZA170V4C',\n 'ZA170V4J',\n 'ZA170V4P',\n 'ZA10BWBE',\n 'ZA11QC9W',\n 'ZA170V4X',\n 'ZA13YGBC',\n 'ZA12DKWN',\n 'PL1331LAHD61NH',\n 'ZA12WYY1',\n 'ZA12WYY2',\n 'ZCH071HH',\n 'PL2331LAHDBJYJ',\n 'ZCH071HC',\n 'PL2331LAG8Y42J',\n 'ZA16B9HN',\n 'ZA13RHAM',\n 'PL2331LAHBWR8J',\n 'ZA11PPJC',\n 'Z3011WWR',\n 'Z302SSEG',\n 'Z304HW67',\n 'PL1331LAHBZ41H',\n 'ZA21HD5A',\n 'ZCH05KWT',\n 'Z4D05J4V',\n 'Z4D07J41',\n 'ZA181A9Y',\n 'ZA1803SA',\n 'PL2331LAH3H6LJ',\n 'PL2331LAHANKLJ',\n 'PL2331LAHB97HJ',\n 'Z304JKQW',\n 'PL1331LAGTDNVH',\n 'ZCH05KWG',\n 'ZCH071H9',\n 'Z3055YPL',\n 'PL2331LAHDUR2J',\n 'PL2331LAHDMXVJ',\n 'ZA16XBWS',\n 'ZCH071H1',\n 'ZCH071H0',\n 'ZCH071H4',\n 'ZA18A833',\n 'ZA173DLD',\n 'PL1331LAGR5TTH',\n 'ZA18A836',\n 'S301PVNF',\n 'PL2331LAHDLEAJ',\n 'ZA180WH0',\n '57QEWPYMT',\n 'Z304GH4N',\n 'W3015JSX',\n 'ZA13YG98',\n 'ZA12KZ1L',\n 'ZCH07ZCL',\n 'ZA12KZ1J',\n 'ZA12KZ1K',\n 'ZCH07ZCG',\n 'ZA12KZ1G',\n 'ZA12KZ1D',\n 'ZA12KZ1E',\n 'ZCH07ZCC',\n 'ZA12KZ1C',\n 'ZA13YG96',\n 'ZA10S9BM',\n 'Z300ZTJ8',\n 'ZA12KZ1Z',\n 'S2ZYJ9KG927385',\n 'ZCH07ZCY',\n 'ZCH07ZCX',\n 'ZA12KZ1V',\n 'ZA12KZ1W',\n 'Z3058LG6',\n 'ZA12KZ1R',\n 'ZA12KZ1S',\n 'ZA1869YJ',\n 'ZA12KZ1Q',\n 'PL2331LAGN5T0J',\n 'ZA13YG9Z',\n 'PL2331LAGN49VJ',\n 'Z300ZTJN',\n 'ZA13YG9P',\n 'ZA13YG9Q',\n 'ZA13YG9R',\n 'PL1331LAHDY70H',\n 'ZA13YG9T',\n 'ZA13YG9V',\n 'PL1311LAG3EE4H',\n 'ZA13YG9K',\n 'ZA12KZ18',\n 'ZA12KZ19',\n 'Z300ZTJQ',\n 'ZA12KZ17',\n 'ZA12KZ14',\n 'ZA13YG9C',\n 'ZA12KZ12',\n 'ZA108SHY',\n 'ZA13YG9G',\n 'ZA144KEH',\n 'PL1331LAGRLK0H',\n 'S3010WBY',\n 'ZA1199H2',\n 'ZA154SC9',\n 'ZA154SC1',\n 'ZA11ATPV',\n 'VKGKKR1X',\n 'ZA171RYY',\n 'ZA171RYX',\n 'S301NGZM',\n 'PL2331LAGMSDKJ',\n 'ZA11ATPL',\n 'S301NGZN',\n 'Z3016SXE',\n 'Z304KR3N',\n 'Z304KR3L',\n 'Z304KR3K',\n 'ZA171BV5',\n 'ZA21670W',\n 'Z30251Y1',\n 'ZA109TJA',\n 'Z304KR3D',\n 'Z304KR3C',\n 'Z304KR3B',\n 'Z304KR3A',\n 'W4J0YEMV',\n 'ZA127096',\n 'Z304KR3Z',\n 'Z304KR3Y',\n 'Z304KR3X',\n 'Z304KR3W',\n 'Z305CYG4',\n 'Z304KR3S',\n 'Z304KR3R',\n 'Z3029F4K',\n 'PL2331LAGMNX6J',\n 'Z305C1W5',\n 'ZA16DSXV',\n 'ZA10JQT8',\n 'ZA171BVX',\n 'Z300ZT4F',\n 'PL1331LAGS3BWH',\n 'Z30251YX',\n 'ZCH07RYH',\n 'Z30251YG',\n 'ZA171BVD',\n 'Z3016SX0',\n 'Z304KR38',\n 'Z304KR36',\n 'Z30251YL',\n 'PL1331LAHDNS3H',\n 'Z304KR32',\n 'Z305CJYF',\n 'ZA18CDDK',\n 'PL1331LAHD0GWH',\n 'Z30178CN',\n 'ZA11VJ1N',\n 'Z30178CQ',\n 'Z304HWSD',\n 'ZA189JH5',\n 'ZA189JH7',\n 'ZA11F7XW',\n 'ZA189JH1',\n 'ZA13YQ6V',\n 'PL1331LAHBSELH',\n 'PL2331LAGPVYEJ',\n 'PL1331LAHDYVSH',\n 'PL1331LAGT45MH',\n 'ZA189JH8',\n 'WD-WXT1EA408ZM9',\n 'PL1331LAG5AZWH',\n 'ZA10NJCX',\n 'ZCH06FNZ',\n 'PL2331LAGMKVAJ',\n 'Z302FD0Q',\n 'Z305NZMM',\n 'PL2331LAH3NURJ',\n 'PL1331LAGSKH7H',\n 'PL2331LAGU9GRJ',\n 'Z3029AC4',\n 'Z300WG7R',\n 'PL2331LAGUJ3EJ',\n 'Z3029AC3',\n '4584K0TOFMYB',\n 'Z3029ACH',\n 'Z302FD08',\n 'Z3025R5F',\n 'Z3029ACD',\n 'PL1331LAHDYALH',\n 'PL1331LAGP69RH',\n 'W300R8HJ',\n 'Z3029ACY',\n 'ZA11TXM3',\n 'ZA130MM3',\n 'Z3025R5Z',\n 'ZA189JHS',\n 'ZA189JHD',\n 'ZA189JHF',\n 'PL1331LAHERNGH',\n 'ZA189JHN',\n 'ZA189JHH',\n 'PL1311LAG21BKA',\n 'ZA21EKNA',\n 'PL1331LAHBN26H',\n 'WD-WXK1H643S24S',\n 'ZA21EKNR',\n 'PL1331LAHDYLYH',\n 'PL1331LAH6K6UH',\n 'ZA11NHSV',\n 'Z300WKNW',\n 'ZA11NHSS',\n 'ZA11NHSN',\n 'ZCH080T0',\n 'Z300WKNN',\n 'ZCH080T7',\n 'ZCH080T6',\n 'Z302DZ4Z',\n 'ZA11NHSA',\n 'ZCH080TA',\n 'ZA12PV1K',\n 'ZA186AYW',\n 'PL1331LAHBYP6H',\n 'ZA11NHS8',\n 'PL2331LAHBADVJ',\n 'Z300WKN5',\n 'PL2331LAHDB92J',\n 'PL1331LAGSE3UH',\n 'Z3016P8L',\n 'PL2331LAHDK3KJ',\n 'Z3059YCC',\n 'WD-WX41A3575J2P',\n 'W300B10F',\n 'ZCH068YT',\n 'ZA10RYBF',\n 'Z3059YCK',\n 'W300B10L',\n 'ZA12PV1N',\n 'PL1331LAHD3VDH',\n 'ZA13FJ2K',\n 'ZA13QBT4',\n 'Z304H2SM',\n 'WD-WX41D94RNV69',\n 'ZA13FJ2C',\n 'ZCH068YW',\n 'ZA13FJ2E',\n 'Z4D04WV5',\n 'ZA13FJ2F',\n 'ZA13ZVAP',\n 'ZA12S7DV',\n 'ZA13YP43',\n 'Z305KKTV',\n 'ZA174XFM',\n 'PL1331LAHBGP4H',\n 'ZA174KF2',\n 'ZA10NF8B',\n 'ZA174KF0',\n 'PL2331LAHDNK2J',\n 'PL2331LAGMPA5J',\n 'Z302404Q',\n 'ZA1819VF',\n 'ZA1819VG',\n 'ZA12KZ10',\n 'PL2331LAHA123J',\n 'ZA1819VB',\n 'ZA1819VC',\n 'ZA1819VL',\n 'PL1331LAHEDWHH',\n 'PL2331LAHDWAUJ',\n 'ZA1819VV',\n 'ZA1819VW',\n 'ZA16T0LJ',\n 'ZCH06KWQ',\n 'PL2331LAGRJLMJ',\n 'ZA1819VZ',\n 'PL1331LAHERH4H',\n 'PL2331LAHBUEGJ',\n 'Z30145L2',\n 'Z301567D',\n 'Z3028C6K',\n 'S300VLNB',\n 'PL1331LAHGUSNH',\n 'Z300X92Y',\n 'ZA1819V0',\n 'ZA1819V1',\n 'ZA1819V2',\n 'ZA1819V3',\n 'PL1321LAGATDWH',\n 'ZA10B5K0',\n 'PL2331LAHA8NTJ',\n 'ZA1819V8',\n 'ZA1819V9',\n 'PL2331LAGN32LJ',\n 'PL1331LAHD8NMH',\n 'Z305LNB9',\n 'ZA174KFY',\n 'PL2331LAGUKLRJ',\n 'Z3051MYL',\n 'PL2311LAG1PMDC',\n 'ZA174KFQ',\n 'PL2331LAHDUDDJ',\n 'PL1331LAHBXYEH',\n 'ZA174XF3',\n 'PL1331LAHBSHUH',\n 'Z305K1YS',\n 'Z305K1YR',\n 'ZCH071SK',\n 'ZCH06LP2',\n 'Z305K1YV',\n 'Z4D01SGM',\n 'ZCH06FXG',\n 'Z305F9Z2',\n 'ZCH071SD',\n 'ZCH071SX',\n 'ZA10S71T',\n 'Z305K1YA',\n 'Z4D019KB',\n 'ZCH06FXX',\n 'ZCH071SQ',\n 'ZCH06FXV',\n 'ZCH06FXQ',\n 'Z305D2NT',\n 'PL2331LAGLW5UJ',\n 'Z305D2NW',\n 'Z305D2NS',\n 'PL1331LAH2L0UH',\n 'Z302SXQ5',\n 'PL1331LAGSMWDH',\n 'Z305D2NB',\n 'ZA13WRL1',\n 'Z305D2NL',\n 'Z305D2NM',\n 'ZA13ZVA3',\n 'Z302SXQB',\n 'Z304YW7P',\n 'ZA13ZVA6',\n 'ZCH066WM',\n 'Z305K1Y3',\n 'Z305K1Y1',\n 'ZA216BYC',\n 'PL1331LAHESA3H',\n 'S301GVD4',\n 'Z300XFF0',\n 'ZCH071S1',\n 'ZCH06FX1',\n 'ZCH071S7',\n 'ZA13R4HQ',\n 'ZA13NX0E',\n 'ZA1259T3',\n 'ZA13FB46',\n 'PL1331LAGTMN4H',\n 'PL2331LAHD8ASJ',\n 'PL1331LAGRKG5H',\n 'Z305Q0L8',\n 'PL2331LAHDGPMJ',\n 'Z305GWY2',\n 'PL1331LAHGBRAH',\n 'Z305DWSX',\n 'PL2331LAGULA1J',\n 'JK1171YBK1N01F',\n 'PL1331LAGA17BH',\n 'ZA14TCAP',\n 'Z304JDL3',\n 'S300VKZN',\n 'ZA140NK8',\n 'PL1331LAGRLKKH',\n 'ZA11QSL7',\n 'Z305FZ1L',\n 'S300ZQ4S',\n 'Z30414WX',\n 'Z302WP1V',\n 'ZA21ADVC',\n 'PL1311LAG29RYH',\n 'PL2331LAHBDDTJ',\n 'PL1331LAGBZMLH',\n 'ZA21ADVR',\n 'ZA154SQ1',\n 'ZA171R28',\n 'ZA10CF9E',\n 'S3010MM7',\n 'ZA171R27',\n 'ZA171R20',\n 'Z305B8PX',\n 'PL2331LAHBBZBJ',\n 'ZA18CEY0',\n 'Z305GG8T',\n 'PL1331LAGSG0AH',\n 'Z304JNGX',\n 'PL1331LAHDDUUH',\n 'ZA13R7FV',\n 'ZCH07GZC',\n 'S301PYFW',\n 'ZCH07GZM',\n 'PL1331LAHE029H',\n 'PL2331LAHDETRJ',\n 'Z305D4P2',\n 'Z305D4P3',\n 'Z305D4P5',\n 'Z30553AQ',\n 'ZA15SZSW',\n 'PL1331LAHD0H9H',\n 'ZA130W3E',\n 'Z300XF5W',\n '175PP3IWT',\n 'Z305D4PQ',\n 'PL1331LAGLXXLH',\n 'Z305D4PS',\n 'ZCH07GZ0',\n 'Z305D4PV',\n 'Z300YM4Z',\n 'ZA18147N',\n 'Z305D4PZ',\n 'PL1331LAGRRDVH',\n 'PL1331LAGRPSKH',\n 'PL2331LAHDRA4J',\n 'S3010MMZ',\n 'S3010MMW',\n 'WD-WX41D94RNZ5T',\n 'ZA171TMA',\n 'Z305KQZK',\n 'ZA154FJ0',\n 'ZA171R2H',\n 'S3010MMG',\n 'PL1331LAGT595H',\n 'S3011HAB',\n 'Z300GQ9L',\n 'W301D1FM',\n 'ZA14F1LA',\n 'ZA17ZNMX',\n 'ZA17ZNMY',\n 'Z300GQ9C',\n 'Z304JG7Q',\n 'ZA189JS5',\n 'ZA189JS0',\n 'ZA17ZNME',\n 'Z304JG7W',\n 'Z304JG7V',\n 'Z304JG7X',\n 'ZA17ZNMJ',\n 'ZA13PEPY',\n 'S300XDS7',\n 'ZA17ZNMM',\n 'W3006LZF',\n 'PL2331LAGU9G7J',\n 'S300XQQ2',\n 'Z4D09YDG',\n 'S30117YT',\n 'PL1331LAHBN6LH',\n 'S3017S26',\n 'VKGL031X',\n 'PL2331LAHDUT1J',\n 'S30117YJ',\n 'PL1331LAHGJD1H',\n 'PL2331LAHBEGJJ',\n 'S2X4N0CK',\n 'Z304ZF5C',\n 'ZCH076PA',\n 'ZA189JSE',\n 'ZA139GMG',\n 'PL2331LAGN7YKJ',\n 'PL1331LAHG20PH',\n 'ZA17ZNM9',\n 'ZA189JSN',\n 'ZA139GMH',\n 'W300A6PR',\n 'S300XDSE',\n 'Z300GQ98',\n 'PL1331LAHBR5WH',\n 'Z300GQ96',\n 'Z300GQ94',\n 'Z300GQ95',\n 'Z300GQ93',\n 'Z300GQ90',\n 'Z300GQ91',\n 'PL2331LAHDSH1J',\n 'PL2331LAGUGXNJ',\n 'PL2331LAHDRPNJ',\n 'ZCH077E0',\n 'PL1331LAHBSLAH',\n 'PL1331LAGA9R1H',\n 'PL2311LAG1N1BC',\n 'Z301N2J5',\n 'ZA126LSR',\n 'Z302SRL2',\n 'ZA120ZDJ',\n 'Z305APC0',\n 'Z3025LH2',\n 'Z3025LHK',\n 'S300YQT2',\n 'Z3025LHC',\n 'ZA130JWQ',\n 'PL2331LAHDWN3J',\n 'Z305APCP',\n 'Z3025LHP',\n 'Z305APCY',\n 'PL1331LAHG27NH',\n 'PL2331LAHD7TAJ',\n 'Z305FB3T',\n 'ZA12ZQAQ',\n 'W3007MZF',\n 'PL2331LAHD7KBJ',\n 'S300XBEZ',\n 'Z3058WTS',\n 'ZA10NJ6Y',\n 'PL2331LAHDWTVJ',\n 'Z305415J',\n 'Z305EKLP',\n 'ZA121XXR',\n 'PL2331LAH46R3J',\n 'Z305ANY2',\n 'PL1331LAHD359H',\n 'PL1331LAGBBH9H',\n 'PL2331LAHDTG6J',\n 'PL2331LAHDHJ0J',\n 'ZA21AE36',\n 'Z3029B22',\n 'Z3029B2J',\n 'PL2331LAHDHAMJ',\n 'Z305ANYT',\n 'PL1331LAHD99TH',\n 'ZA21AE3E',\n 'Z3029B2C',\n 'Z3029B2F',\n 'ZA170HVZ',\n 'Z305ANYB',\n 'Z305ANYC',\n 'PL2331LAGULDYJ',\n 'PL1331LAHE1J4H',\n 'Z3029B2T',\n 'Z3029B2W',\n 'ZA10NJ66',\n 'ZA219WVF',\n 'ZA10NJ60',\n 'ZA10NJ61',\n 'VKGK8VJX',\n 'ZA21E6G5',\n 'Z300P9AX',\n 'PL2331LAG8SRHJ',\n 'Z302CY5D',\n 'S300Z41Q',\n 'S300Z41P',\n 'S300Z41W',\n 'ZCH06F39',\n 'S300XC72',\n 'S300Z41Z',\n 'S300Z41Y',\n 'ZA11NJE9',\n 'PL1331LAH3DUGH',\n 'ZCH06F32',\n 'PL2331LAHDEU7J',\n 'S300Z41B',\n '45CHK11SFMYB',\n 'S300Z41D',\n 'PL1331LAHD406H',\n 'PL2331LAHAYH6J',\n 'PL2331LAHDWNHJ',\n 'S300YQTW',\n 'WD-WX81A1468540',\n 'PL2331LAGJHE1J',\n 'ZA12Y3DQ',\n 'PL2331LAHE3VNJ',\n 'Z3058QFX',\n 'ZA1750LP',\n 'ZA141ZCY',\n 'Z300WZ9Z',\n 'ZA10DT1S',\n 'Z30041LK',\n 'VKH0W6EX',\n 'PL1331LAHBZE7H',\n 'Z30262G8',\n 'PL1331LAHD2VVH',\n 'Z3014LG2',\n 'PL1331LAGLYTNH',\n 'S300Z413',\n 'Z305AR38',\n 'S300Z410',\n 'ZCH0716C',\n 'ZCH06F3Y',\n 'ZCH0716A',\n 'ZCH0716M',\n 'ZCH06F3P',\n 'ZCH05E2V',\n 'ZCH0716W',\n 'PL2331LAGMGW2J',\n 'Z3026P1P',\n 'Z305GK1Q',\n 'PL1331LAHGRVWH',\n 'ZCH0716X',\n 'ZCH081JQ',\n 'ZCH081JT',\n 'ZCH081JX',\n 'ZCH081JY',\n 'ZCH081JC',\n 'Z30576J2',\n 'S3010T5N',\n 'ZCH081JJ',\n 'Z300E4CC',\n 'Z30111JA',\n 'Z302T7KN',\n 'PL1331LAGSDY7H',\n 'S2ZYJ9HF707975',\n 'PL2331LAGMZRWJ',\n 'PL1331LAHD5SMH',\n 'Z30111JK',\n 'PL2331LAHDH5DJ',\n 'Z30111JR',\n 'ZA10ESCJ',\n 'S300YQTN',\n 'Z30111JW',\n 'Z305D45G',\n 'Z30111JZ',\n 'PL1321LAG35VNH',\n 'Z302T7KS',\n 'PL1331LAGSLDRH',\n 'Z300X9A0',\n 'Z305D6EK',\n 'Z30111J1',\n 'Z30111J2',\n 'ZA1890DY',\n 'Z30111J9',\n 'PL2331LAGMXM9J',\n 'Z305KVPR',\n 'ZCH081J4',\n 'ZCH081J9',\n 'W300AM9K',\n 'PL1311LAG2T16H',\n 'PL2331LAHDX76J',\n 'ZA10J813',\n 'PL2331LAGN1ZJJ',\n 'ZCH07RPP',\n 'PL2331LAHDALZJ',\n 'ZCH06HVA',\n 'PL1311LAG28GJH',\n 'PL2331LAG9HKPJ',\n 'PL2331LAHB474J',\n 'PL2331LAHDUNBJ',\n 'ZA154CBX',\n 'ZA12Q5T8',\n 'Z4D02JT8',\n 'ZA12Q5T9',\n 'Z305FPT6',\n 'ZA154CBS',\n 'Z305FPT2',\n 'ZCH06TPX',\n 'Z302SYB1',\n 'ZCH06TPE',\n 'PL1331LAGA9PYH',\n 'PL1331LAHEBKEH',\n 'ZCH06TPK',\n 'ZA10EG9R',\n 'PL1331LAHG12SH',\n 'Z302SYBB',\n 'ZCH06TP3',\n 'ZCH06TP2',\n 'ZCH06TP0',\n 'ZCH07C8S',\n 'PL2331LAHDTSBJ',\n 'Z302SYBJ',\n 'PL1331LAGSKJJH',\n 'ZA13BC9Q',\n 'Z302SYBR',\n 'Z305PJGG',\n 'Z302SYBT',\n 'Z302SYBV',\n 'ZCH07C8F',\n '175PP3IJT',\n 'Z305KVPL',\n '96HCTBIAT',\n 'ZCH06HVR',\n 'PL2331LAGMVADJ',\n 'ZA12XND4',\n 'Z304LLZG',\n 'S300Y2V4',\n 'S2ZYJ9BF508150',\n 'S2ZYJ9BF508152',\n 'S2ZYJ9BF508155',\n 'PL1331LAGLWUYH',\n 'ZA170TV7',\n 'PL2331LAHDEZSJ',\n 'ZCH07JB8',\n 'PL1331LAHD6JBH',\n 'PL2331LAHDMVWJ',\n 'S301D8HV',\n 'ZCH07JB6',\n 'ZCH07JB7',\n 'ZA12DWLB',\n 'ZCH07WF5',\n 'S30117DR',\n 'S30117DQ',\n 'PL1331LAHER2KH',\n 'PL1331LAHBS0SH',\n 'Z305DNNN',\n 'ZA12PTH2',\n 'ZCH07WFE',\n 'PL1331LAHD0TUH',\n 'ZA13Z17J',\n 'ZCH07WFQ',\n 'ZCH07JBM',\n 'PL2331LAG9V44J',\n 'ZCH07WFV',\n 'W300KZXV',\n 'Z305KWNJ',\n 'S300YSEZ',\n 'S300YSET',\n 'S300YSEW',\n 'S300YSEV',\n 'S300YSEP',\n 'S300YSES',\n 'S300Z531',\n 'PL1331LAGSHHUH',\n 'S30108XD',\n 'S300YSED',\n 'S300YSEF',\n 'W300SP1V',\n 'S300ZS07',\n 'PL2331LAHDEB6J',\n 'Z3016N79',\n 'Z3029FD8',\n 'ZA11Q5W1',\n 'W300SP1H',\n 'PL1331LAHD0BHH',\n 'Z3029FD4',\n 'Z3016N76',\n 'Z3016N71',\n 'W3004W4G',\n 'PL2331LAGU88UJ',\n 'ZCH070K1',\n 'ZCH070K3',\n 'S300Z6YV',\n 'S300Z6YP',\n 'S300Z6YS',\n 'ZCH070K6',\n 'S300Z6YM',\n '5XW0362M',\n 'Z3016TK2',\n 'S300Z6YJ',\n 'Z4D07R2E',\n 'S300Z6YA',\n 'ZA14E9BD',\n 'Z300YMRV',\n 'Z4D03VNE',\n 'ZCH070KQ',\n 'S300Z6Y7',\n 'ZCH070KR',\n 'S300Z6Y1',\n 'ZCH070KT',\n 'S300Z6Y3',\n 'Z300YMRE',\n 'Z304072T',\n 'ZCH070KL',\n 'PL1331LAGT5W0H',\n 'Z303YTXD',\n 'W3005N87',\n 'ZCH070KC',\n 'ZCH070KB',\n 'PL1321LAG348SH',\n 'PL2331LAH41JPJ',\n 'Z3029FDF',\n 'Z304K4V7',\n 'Z3029FDE',\n 'PL2331LAHDSHTJ',\n 'Z3029FDV',\n 'PL2331LAHDL8KJ',\n 'PL1331LAHGBWKH',\n 'ZA11FDFD',\n 'PL1331LAGRZPRH',\n 'Z302B0C8',\n 'PL1331LAHDYJYH',\n 'ZA11LYHF',\n 'Z302B0C4',\n 'Z302B0C6',\n 'Z302B0C7',\n 'Z302B0C3',\n 'Z305GXAH',\n 'WD-WX71A14S0199',\n 'WD-WXQ1E93MUVJ3',\n 'Z300K15M',\n 'ZA16DY0H',\n 'ZA16DY0D',\n 'ZA16DY0B',\n 'Z300CNRB',\n 'Z30259E7',\n 'Z304ZNMV',\n 'ZA13R2B4',\n 'Z30259E8',\n 'WD-WX41A356NL78',\n 'PL2331LAGR4ZLJ',\n 'PL1331LAHEHXTH',\n 'PL1331LAHD1TYH',\n 'ZA13R2BM',\n 'PL1331LAHBS6EH',\n 'PL2331LAHB0JKJ',\n 'Z303YQL1',\n 'PL1331LAHESH9H',\n 'Z30259EW',\n 'Z30259EZ',\n 'ZA13R2BT',\n 'Z30259EY',\n 'ZA13R2BQ',\n 'PL2331LAGP178J',\n 'ZA16DY01',\n 'ZA16DY00',\n 'ZA11R5HC',\n 'Z302B0CT',\n 'Z302B0CV',\n 'Z302B0CW',\n 'Z305GXA6',\n ...]"
     },
     "metadata": {},
     "execution_count": 30
    }
   ],
   "source": [
    "serial_number = list(data.serial_number)\n",
    "serial_number"
   ]
  },
  {
   "cell_type": "code",
   "execution_count": 31,
   "metadata": {},
   "outputs": [
    {
     "output_type": "execute_result",
     "data": {
      "text/plain": "['PL1331LAHG1S4H',\n 'ZA16NQJR',\n 'ZA18CEBT',\n 'ZA18CEBS',\n 'Z305DEMG',\n 'ZA130TTW',\n 'ZA18CEBF',\n 'PL2331LAG9TEEJ',\n 'PL2331LAH3WYAJ',\n 'Z3023VGH',\n 'PL1311LAG2205A',\n 'PL1331LAHG53YH',\n 'Z305DEMX',\n 'ZA10JDYK',\n 'PL1331LAGSPEUH',\n 'PL1331LAHD1HTH',\n 'Z4D05G2K',\n 'Z306WYZZ',\n 'S300ZP5B',\n 'Z4D062ZT',\n 'PL1331LAHD0PDH',\n 'PL1331LAHD00PH',\n 'Z305DEMV',\n 'PL2331LAGPS2TJ',\n 'ZA13YGBE',\n 'ZA18CEB3',\n 'ZA13YGBG',\n 'ZA13YGBX',\n 'WD-WX41A356N5N1',\n 'Z305J0TE',\n 'PL1331LAGRZ5UH',\n 'PL2331LAGM7YGJ',\n 'ZA13YGBS',\n 'ZA13YGBR',\n 'ZA13YGBT',\n 'S301NGZV',\n 'ZA13Z860',\n 'ZA101JHT',\n 'Z300X922',\n 'ZA12MLSD',\n 'S3010M7R',\n 'ZA13YGB1',\n 'PL2331LAHDE6VJ',\n 'S3010M7H',\n 'Z3040J5T',\n 'ZA1608EP',\n 'S3010M7E',\n 'Z3057728',\n 'VKGKWHEX',\n 'ZA181JVY',\n 'Z302BV7E',\n 'PL1331LAGS1J6H',\n 'ZA1211BE',\n '96HCTBI0T',\n 'PL1331LAHD2ADH',\n 'Z305NZMD',\n 'Z300WG7Z',\n 'PL2331LAHDW6GJ',\n 'ZA10RYB6',\n 'Z305NZM9',\n 'Z305AJF7',\n 'PL2331LAHDWWSJ',\n 'ZA10RYBE',\n 'PL1331LAHBGDRH',\n 'PL1331LAHDYTAH',\n 'ZA10RYBZ',\n 'PL2331LAHDMW6J',\n 'ZA189GBG',\n '66HLS2OZS',\n 'ZA10RYBR',\n 'PL2311LAG1TB1C',\n 'S301NGZ7',\n 'PL2331LAGMNWSJ',\n 'PL2331LAGN4BUJ',\n 'S3010M78',\n 'S301NGZ8',\n 'S3010M72',\n 'ZA13Z86G',\n 'ZA13Z86F',\n 'ZA13Z86K',\n 'Z305LG79',\n 'PL2331LAH3BDMJ',\n 'ZA102QX6',\n 'Z300CWTK',\n 'PL2331LAHDAP2J',\n 'S301GMGW',\n 'Z3015LCH',\n 'Z4D07B6E',\n 'PL2331LAHDX99J',\n 'Z300PAB6',\n 'W300JMQL',\n 'Z300PAB5',\n 'Z304HQRL',\n 'PL2331LAHA8KNJ',\n 'ZA14DR6G',\n 'PL1331LAHD11XH',\n 'Z303XDXN',\n 'ZA12YPPQ',\n 'ZCH07LZY',\n 'ZA142WEN',\n 'PL1311LAG3DT5H',\n 'W300T22A',\n 'Z305H41M',\n 'Z300DPXN',\n 'Z305G2QK',\n 'PL1331LAGT9J6H',\n 'ZA139DRL',\n 'Z4D03TNS',\n 'ZA13HHY3',\n 'Z304HQR4',\n 'S301NYES',\n 'Z304SY3R',\n 'S301NYEV',\n 'Z300PABB',\n 'ZA211GM5',\n 'Z300KFP1',\n 'ZCH06DVN',\n 'WD-WXL1H644SYHA',\n 'PL1331LAGSJ2RH',\n 'PL1311LAG3DPVH',\n 'Z300X8B1',\n 'PL2331LAGN1BNJ',\n 'ZA141LX7',\n 'Z302T6H6',\n 'PL2331LAHDWRRJ',\n 'ZA12NA8P',\n 'PL2331LAGUMG5J',\n 'PL1331LAGSZD5H',\n 'S301GML1',\n 'PL1331LAHD2SSH',\n 'Z3015JRG',\n 'Z305KB3Y',\n '2EG16MZJ',\n 'PL1331LAHD34AH',\n 'S301GMLL',\n 'ZA12YJF4',\n 'Z302BS8M',\n 'S301GMLG',\n 'Z303ZLN0',\n 'Z305KB36',\n 'Z305KB37',\n 'S301GMLY',\n 'PL2331LAH3W3TJ',\n 'PL1331LAHD0E3H',\n 'PL1331LAGSRSSH',\n 'ZA172F49',\n 'ZA171C3W',\n 'ZA172F47',\n 'PL1331LAGLZRMH',\n 'Z300X8BY',\n 'PL1331LAHG5A5H',\n 'PL1311LAG3ANBH',\n 'ZA171C3M',\n 'ZA13VTJJ',\n 'Z302T6HP',\n 'PL2331LAGMEVNJ',\n 'ZA11PNPR',\n 'PL1331LAGSHWYH',\n 'W300MA9F',\n 'PL1331LAHDP4ZH',\n 'Z30240QK',\n 'ZA1819MW',\n 'PL2331LAHDUVVJ',\n 'ZA1819MQ',\n 'ZA1819MP',\n 'ZA1819MS',\n 'ZA1819MR',\n 'ZA13ZVV5',\n 'ZA13ZVV4',\n 'PL2331LAHDG05J',\n 'ZA13ZVV6',\n 'ZA1819MY',\n 'ZA13ZVV0',\n 'ZA1819ME',\n 'ZA1819MD',\n 'WD-WX81A74A5KCF',\n 'PL1331LAHBSDVH',\n 'PL2331LAGN487J',\n 'ZA1819MM',\n 'ZA1819MN',\n 'ZA1819MH',\n 'ZA1819MK',\n 'ZA1819M7',\n 'ZA1819M1',\n 'ZA1819M3',\n 'ZDH0CWE7',\n 'ZA1819M9',\n 'PL2331LAG9WG5J',\n 'Z305E8LA',\n 'PL1331LAGM1P5H',\n 'PL1331LAHBY10H',\n 'ZA181A9E',\n 'S2ZYJ9FG405092',\n 'ZA170V4C',\n 'ZA170V4J',\n 'ZA170V4P',\n 'ZA10BWBE',\n 'ZA11QC9W',\n 'ZA170V4X',\n 'ZA13YGBC',\n 'ZA12DKWN',\n 'PL1331LAHD61NH',\n 'ZA12WYY1',\n 'ZA12WYY2',\n 'ZCH071HH',\n 'PL2331LAHDBJYJ',\n 'ZCH071HC',\n 'PL2331LAG8Y42J',\n 'ZA16B9HN',\n 'ZA13RHAM',\n 'PL2331LAHBWR8J',\n 'ZA11PPJC',\n 'Z3011WWR',\n 'Z302SSEG',\n 'Z304HW67',\n 'PL1331LAHBZ41H',\n 'ZA21HD5A',\n 'ZCH05KWT',\n 'Z4D05J4V',\n 'Z4D07J41',\n 'ZA181A9Y',\n 'ZA1803SA',\n 'PL2331LAH3H6LJ',\n 'PL2331LAHANKLJ',\n 'PL2331LAHB97HJ',\n 'Z304JKQW',\n 'PL1331LAGTDNVH',\n 'ZCH05KWG',\n 'ZCH071H9',\n 'Z3055YPL',\n 'PL2331LAHDUR2J',\n 'PL2331LAHDMXVJ',\n 'ZA16XBWS',\n 'ZCH071H1',\n 'ZCH071H0',\n 'ZCH071H4',\n 'ZA18A833',\n 'ZA173DLD',\n 'PL1331LAGR5TTH',\n 'ZA18A836',\n 'S301PVNF',\n 'PL2331LAHDLEAJ',\n 'ZA180WH0',\n '57QEWPYMT',\n 'Z304GH4N',\n 'W3015JSX',\n 'ZA13YG98',\n 'ZA12KZ1L',\n 'ZCH07ZCL',\n 'ZA12KZ1J',\n 'ZA12KZ1K',\n 'ZCH07ZCG',\n 'ZA12KZ1G',\n 'ZA12KZ1D',\n 'ZA12KZ1E',\n 'ZCH07ZCC',\n 'ZA12KZ1C',\n 'ZA13YG96',\n 'ZA10S9BM',\n 'Z300ZTJ8',\n 'ZA12KZ1Z',\n 'S2ZYJ9KG927385',\n 'ZCH07ZCY',\n 'ZCH07ZCX',\n 'ZA12KZ1V',\n 'ZA12KZ1W',\n 'Z3058LG6',\n 'ZA12KZ1R',\n 'ZA12KZ1S',\n 'ZA1869YJ',\n 'ZA12KZ1Q',\n 'PL2331LAGN5T0J',\n 'ZA13YG9Z',\n 'PL2331LAGN49VJ',\n 'Z300ZTJN',\n 'ZA13YG9P',\n 'ZA13YG9Q',\n 'ZA13YG9R',\n 'PL1331LAHDY70H',\n 'ZA13YG9T',\n 'ZA13YG9V',\n 'PL1311LAG3EE4H',\n 'ZA13YG9K',\n 'ZA12KZ18',\n 'ZA12KZ19',\n 'Z300ZTJQ',\n 'ZA12KZ17',\n 'ZA12KZ14',\n 'ZA13YG9C',\n 'ZA12KZ12',\n 'ZA108SHY',\n 'ZA13YG9G',\n 'ZA144KEH',\n 'PL1331LAGRLK0H',\n 'S3010WBY',\n 'ZA1199H2',\n 'ZA154SC9',\n 'ZA154SC1',\n 'ZA11ATPV',\n 'VKGKKR1X',\n 'ZA171RYY',\n 'ZA171RYX',\n 'S301NGZM',\n 'PL2331LAGMSDKJ',\n 'ZA11ATPL',\n 'S301NGZN',\n 'Z3016SXE',\n 'Z304KR3N',\n 'Z304KR3L',\n 'Z304KR3K',\n 'ZA171BV5',\n 'ZA21670W',\n 'Z30251Y1',\n 'ZA109TJA',\n 'Z304KR3D',\n 'Z304KR3C',\n 'Z304KR3B',\n 'Z304KR3A',\n 'W4J0YEMV',\n 'ZA127096',\n 'Z304KR3Z',\n 'Z304KR3Y',\n 'Z304KR3X',\n 'Z304KR3W',\n 'Z305CYG4',\n 'Z304KR3S',\n 'Z304KR3R',\n 'Z3029F4K',\n 'PL2331LAGMNX6J',\n 'Z305C1W5',\n 'ZA16DSXV',\n 'ZA10JQT8',\n 'ZA171BVX',\n 'Z300ZT4F',\n 'PL1331LAGS3BWH',\n 'Z30251YX',\n 'ZCH07RYH',\n 'Z30251YG',\n 'ZA171BVD',\n 'Z3016SX0',\n 'Z304KR38',\n 'Z304KR36',\n 'Z30251YL',\n 'PL1331LAHDNS3H',\n 'Z304KR32',\n 'Z305CJYF',\n 'ZA18CDDK',\n 'PL1331LAHD0GWH',\n 'Z30178CN',\n 'ZA11VJ1N',\n 'Z30178CQ',\n 'Z304HWSD',\n 'ZA189JH5',\n 'ZA189JH7',\n 'ZA11F7XW',\n 'ZA189JH1',\n 'ZA13YQ6V',\n 'PL1331LAHBSELH',\n 'PL2331LAGPVYEJ',\n 'PL1331LAHDYVSH',\n 'PL1331LAGT45MH',\n 'ZA189JH8',\n 'WD-WXT1EA408ZM9',\n 'PL1331LAG5AZWH',\n 'ZA10NJCX',\n 'ZCH06FNZ',\n 'PL2331LAGMKVAJ',\n 'Z302FD0Q',\n 'Z305NZMM',\n 'PL2331LAH3NURJ',\n 'PL1331LAGSKH7H',\n 'PL2331LAGU9GRJ',\n 'Z3029AC4',\n 'Z300WG7R',\n 'PL2331LAGUJ3EJ',\n 'Z3029AC3',\n '4584K0TOFMYB',\n 'Z3029ACH',\n 'Z302FD08',\n 'Z3025R5F',\n 'Z3029ACD',\n 'PL1331LAHDYALH',\n 'PL1331LAGP69RH',\n 'W300R8HJ',\n 'Z3029ACY',\n 'ZA11TXM3',\n 'ZA130MM3',\n 'Z3025R5Z',\n 'ZA189JHS',\n 'ZA189JHD',\n 'ZA189JHF',\n 'PL1331LAHERNGH',\n 'ZA189JHN',\n 'ZA189JHH',\n 'PL1311LAG21BKA',\n 'ZA21EKNA',\n 'PL1331LAHBN26H',\n 'WD-WXK1H643S24S',\n 'ZA21EKNR',\n 'PL1331LAHDYLYH',\n 'PL1331LAH6K6UH',\n 'ZA11NHSV',\n 'Z300WKNW',\n 'ZA11NHSS',\n 'ZA11NHSN',\n 'ZCH080T0',\n 'Z300WKNN',\n 'ZCH080T7',\n 'ZCH080T6',\n 'Z302DZ4Z',\n 'ZA11NHSA',\n 'ZCH080TA',\n 'ZA12PV1K',\n 'ZA186AYW',\n 'PL1331LAHBYP6H',\n 'ZA11NHS8',\n 'PL2331LAHBADVJ',\n 'Z300WKN5',\n 'PL2331LAHDB92J',\n 'PL1331LAGSE3UH',\n 'Z3016P8L',\n 'PL2331LAHDK3KJ',\n 'Z3059YCC',\n 'WD-WX41A3575J2P',\n 'W300B10F',\n 'ZCH068YT',\n 'ZA10RYBF',\n 'Z3059YCK',\n 'W300B10L',\n 'ZA12PV1N',\n 'PL1331LAHD3VDH',\n 'ZA13FJ2K',\n 'ZA13QBT4',\n 'Z304H2SM',\n 'WD-WX41D94RNV69',\n 'ZA13FJ2C',\n 'ZCH068YW',\n 'ZA13FJ2E',\n 'Z4D04WV5',\n 'ZA13FJ2F',\n 'ZA13ZVAP',\n 'ZA12S7DV',\n 'ZA13YP43',\n 'Z305KKTV',\n 'ZA174XFM',\n 'PL1331LAHBGP4H',\n 'ZA174KF2',\n 'ZA10NF8B',\n 'ZA174KF0',\n 'PL2331LAHDNK2J',\n 'PL2331LAGMPA5J',\n 'Z302404Q',\n 'ZA1819VF',\n 'ZA1819VG',\n 'ZA12KZ10',\n 'PL2331LAHA123J',\n 'ZA1819VB',\n 'ZA1819VC',\n 'ZA1819VL',\n 'PL1331LAHEDWHH',\n 'PL2331LAHDWAUJ',\n 'ZA1819VV',\n 'ZA1819VW',\n 'ZA16T0LJ',\n 'ZCH06KWQ',\n 'PL2331LAGRJLMJ',\n 'ZA1819VZ',\n 'PL1331LAHERH4H',\n 'PL2331LAHBUEGJ',\n 'Z30145L2',\n 'Z301567D',\n 'Z3028C6K',\n 'S300VLNB',\n 'PL1331LAHGUSNH',\n 'Z300X92Y',\n 'ZA1819V0',\n 'ZA1819V1',\n 'ZA1819V2',\n 'ZA1819V3',\n 'PL1321LAGATDWH',\n 'ZA10B5K0',\n 'PL2331LAHA8NTJ',\n 'ZA1819V8',\n 'ZA1819V9',\n 'PL2331LAGN32LJ',\n 'PL1331LAHD8NMH',\n 'Z305LNB9',\n 'ZA174KFY',\n 'PL2331LAGUKLRJ',\n 'Z3051MYL',\n 'PL2311LAG1PMDC',\n 'ZA174KFQ',\n 'PL2331LAHDUDDJ',\n 'PL1331LAHBXYEH',\n 'ZA174XF3',\n 'PL1331LAHBSHUH',\n 'Z305K1YS',\n 'Z305K1YR',\n 'ZCH071SK',\n 'ZCH06LP2',\n 'Z305K1YV',\n 'Z4D01SGM',\n 'ZCH06FXG',\n 'Z305F9Z2',\n 'ZCH071SD',\n 'ZCH071SX',\n 'ZA10S71T',\n 'Z305K1YA',\n 'Z4D019KB',\n 'ZCH06FXX',\n 'ZCH071SQ',\n 'ZCH06FXV',\n 'ZCH06FXQ',\n 'Z305D2NT',\n 'PL2331LAGLW5UJ',\n 'Z305D2NW',\n 'Z305D2NS',\n 'PL1331LAH2L0UH',\n 'Z302SXQ5',\n 'PL1331LAGSMWDH',\n 'Z305D2NB',\n 'ZA13WRL1',\n 'Z305D2NL',\n 'Z305D2NM',\n 'ZA13ZVA3',\n 'Z302SXQB',\n 'Z304YW7P',\n 'ZA13ZVA6',\n 'ZCH066WM',\n 'Z305K1Y3',\n 'Z305K1Y1',\n 'ZA216BYC',\n 'PL1331LAHESA3H',\n 'S301GVD4',\n 'Z300XFF0',\n 'ZCH071S1',\n 'ZCH06FX1',\n 'ZCH071S7',\n 'ZA13R4HQ',\n 'ZA13NX0E',\n 'ZA1259T3',\n 'ZA13FB46',\n 'PL1331LAGTMN4H',\n 'PL2331LAHD8ASJ',\n 'PL1331LAGRKG5H',\n 'Z305Q0L8',\n 'PL2331LAHDGPMJ',\n 'Z305GWY2',\n 'PL1331LAHGBRAH',\n 'Z305DWSX',\n 'PL2331LAGULA1J',\n 'JK1171YBK1N01F',\n 'PL1331LAGA17BH',\n 'ZA14TCAP',\n 'Z304JDL3',\n 'S300VKZN',\n 'ZA140NK8',\n 'PL1331LAGRLKKH',\n 'ZA11QSL7',\n 'Z305FZ1L',\n 'S300ZQ4S',\n 'Z30414WX',\n 'Z302WP1V',\n 'ZA21ADVC',\n 'PL1311LAG29RYH',\n 'PL2331LAHBDDTJ',\n 'PL1331LAGBZMLH',\n 'ZA21ADVR',\n 'ZA154SQ1',\n 'ZA171R28',\n 'ZA10CF9E',\n 'S3010MM7',\n 'ZA171R27',\n 'ZA171R20',\n 'Z305B8PX',\n 'PL2331LAHBBZBJ',\n 'ZA18CEY0',\n 'Z305GG8T',\n 'PL1331LAGSG0AH',\n 'Z304JNGX',\n 'PL1331LAHDDUUH',\n 'ZA13R7FV',\n 'ZCH07GZC',\n 'S301PYFW',\n 'ZCH07GZM',\n 'PL1331LAHE029H',\n 'PL2331LAHDETRJ',\n 'Z305D4P2',\n 'Z305D4P3',\n 'Z305D4P5',\n 'Z30553AQ',\n 'ZA15SZSW',\n 'PL1331LAHD0H9H',\n 'ZA130W3E',\n 'Z300XF5W',\n '175PP3IWT',\n 'Z305D4PQ',\n 'PL1331LAGLXXLH',\n 'Z305D4PS',\n 'ZCH07GZ0',\n 'Z305D4PV',\n 'Z300YM4Z',\n 'ZA18147N',\n 'Z305D4PZ',\n 'PL1331LAGRRDVH',\n 'PL1331LAGRPSKH',\n 'PL2331LAHDRA4J',\n 'S3010MMZ',\n 'S3010MMW',\n 'WD-WX41D94RNZ5T',\n 'ZA171TMA',\n 'Z305KQZK',\n 'ZA154FJ0',\n 'ZA171R2H',\n 'S3010MMG',\n 'PL1331LAGT595H',\n 'S3011HAB',\n 'Z300GQ9L',\n 'W301D1FM',\n 'ZA14F1LA',\n 'ZA17ZNMX',\n 'ZA17ZNMY',\n 'Z300GQ9C',\n 'Z304JG7Q',\n 'ZA189JS5',\n 'ZA189JS0',\n 'ZA17ZNME',\n 'Z304JG7W',\n 'Z304JG7V',\n 'Z304JG7X',\n 'ZA17ZNMJ',\n 'ZA13PEPY',\n 'S300XDS7',\n 'ZA17ZNMM',\n 'W3006LZF',\n 'PL2331LAGU9G7J',\n 'S300XQQ2',\n 'Z4D09YDG',\n 'S30117YT',\n 'PL1331LAHBN6LH',\n 'S3017S26',\n 'VKGL031X',\n 'PL2331LAHDUT1J',\n 'S30117YJ',\n 'PL1331LAHGJD1H',\n 'PL2331LAHBEGJJ',\n 'S2X4N0CK',\n 'Z304ZF5C',\n 'ZCH076PA',\n 'ZA189JSE',\n 'ZA139GMG',\n 'PL2331LAGN7YKJ',\n 'PL1331LAHG20PH',\n 'ZA17ZNM9',\n 'ZA189JSN',\n 'ZA139GMH',\n 'W300A6PR',\n 'S300XDSE',\n 'Z300GQ98',\n 'PL1331LAHBR5WH',\n 'Z300GQ96',\n 'Z300GQ94',\n 'Z300GQ95',\n 'Z300GQ93',\n 'Z300GQ90',\n 'Z300GQ91',\n 'PL2331LAHDSH1J',\n 'PL2331LAGUGXNJ',\n 'PL2331LAHDRPNJ',\n 'ZCH077E0',\n 'PL1331LAHBSLAH',\n 'PL1331LAGA9R1H',\n 'PL2311LAG1N1BC',\n 'Z301N2J5',\n 'ZA126LSR',\n 'Z302SRL2',\n 'ZA120ZDJ',\n 'Z305APC0',\n 'Z3025LH2',\n 'Z3025LHK',\n 'S300YQT2',\n 'Z3025LHC',\n 'ZA130JWQ',\n 'PL2331LAHDWN3J',\n 'Z305APCP',\n 'Z3025LHP',\n 'Z305APCY',\n 'PL1331LAHG27NH',\n 'PL2331LAHD7TAJ',\n 'Z305FB3T',\n 'ZA12ZQAQ',\n 'W3007MZF',\n 'PL2331LAHD7KBJ',\n 'S300XBEZ',\n 'Z3058WTS',\n 'ZA10NJ6Y',\n 'PL2331LAHDWTVJ',\n 'Z305415J',\n 'Z305EKLP',\n 'ZA121XXR',\n 'PL2331LAH46R3J',\n 'Z305ANY2',\n 'PL1331LAHD359H',\n 'PL1331LAGBBH9H',\n 'PL2331LAHDTG6J',\n 'PL2331LAHDHJ0J',\n 'ZA21AE36',\n 'Z3029B22',\n 'Z3029B2J',\n 'PL2331LAHDHAMJ',\n 'Z305ANYT',\n 'PL1331LAHD99TH',\n 'ZA21AE3E',\n 'Z3029B2C',\n 'Z3029B2F',\n 'ZA170HVZ',\n 'Z305ANYB',\n 'Z305ANYC',\n 'PL2331LAGULDYJ',\n 'PL1331LAHE1J4H',\n 'Z3029B2T',\n 'Z3029B2W',\n 'ZA10NJ66',\n 'ZA219WVF',\n 'ZA10NJ60',\n 'ZA10NJ61',\n 'VKGK8VJX',\n 'ZA21E6G5',\n 'Z300P9AX',\n 'PL2331LAG8SRHJ',\n 'Z302CY5D',\n 'S300Z41Q',\n 'S300Z41P',\n 'S300Z41W',\n 'ZCH06F39',\n 'S300XC72',\n 'S300Z41Z',\n 'S300Z41Y',\n 'ZA11NJE9',\n 'PL1331LAH3DUGH',\n 'ZCH06F32',\n 'PL2331LAHDEU7J',\n 'S300Z41B',\n '45CHK11SFMYB',\n 'S300Z41D',\n 'PL1331LAHD406H',\n 'PL2331LAHAYH6J',\n 'PL2331LAHDWNHJ',\n 'S300YQTW',\n 'WD-WX81A1468540',\n 'PL2331LAGJHE1J',\n 'ZA12Y3DQ',\n 'PL2331LAHE3VNJ',\n 'Z3058QFX',\n 'ZA1750LP',\n 'ZA141ZCY',\n 'Z300WZ9Z',\n 'ZA10DT1S',\n 'Z30041LK',\n 'VKH0W6EX',\n 'PL1331LAHBZE7H',\n 'Z30262G8',\n 'PL1331LAHD2VVH',\n 'Z3014LG2',\n 'PL1331LAGLYTNH',\n 'S300Z413',\n 'Z305AR38',\n 'S300Z410',\n 'ZCH0716C',\n 'ZCH06F3Y',\n 'ZCH0716A',\n 'ZCH0716M',\n 'ZCH06F3P',\n 'ZCH05E2V',\n 'ZCH0716W',\n 'PL2331LAGMGW2J',\n 'Z3026P1P',\n 'Z305GK1Q',\n 'PL1331LAHGRVWH',\n 'ZCH0716X',\n 'ZCH081JQ',\n 'ZCH081JT',\n 'ZCH081JX',\n 'ZCH081JY',\n 'ZCH081JC',\n 'Z30576J2',\n 'S3010T5N',\n 'ZCH081JJ',\n 'Z300E4CC',\n 'Z30111JA',\n 'Z302T7KN',\n 'PL1331LAGSDY7H',\n 'S2ZYJ9HF707975',\n 'PL2331LAGMZRWJ',\n 'PL1331LAHD5SMH',\n 'Z30111JK',\n 'PL2331LAHDH5DJ',\n 'Z30111JR',\n 'ZA10ESCJ',\n 'S300YQTN',\n 'Z30111JW',\n 'Z305D45G',\n 'Z30111JZ',\n 'PL1321LAG35VNH',\n 'Z302T7KS',\n 'PL1331LAGSLDRH',\n 'Z300X9A0',\n 'Z305D6EK',\n 'Z30111J1',\n 'Z30111J2',\n 'ZA1890DY',\n 'Z30111J9',\n 'PL2331LAGMXM9J',\n 'Z305KVPR',\n 'ZCH081J4',\n 'ZCH081J9',\n 'W300AM9K',\n 'PL1311LAG2T16H',\n 'PL2331LAHDX76J',\n 'ZA10J813',\n 'PL2331LAGN1ZJJ',\n 'ZCH07RPP',\n 'PL2331LAHDALZJ',\n 'ZCH06HVA',\n 'PL1311LAG28GJH',\n 'PL2331LAG9HKPJ',\n 'PL2331LAHB474J',\n 'PL2331LAHDUNBJ',\n 'ZA154CBX',\n 'ZA12Q5T8',\n 'Z4D02JT8',\n 'ZA12Q5T9',\n 'Z305FPT6',\n 'ZA154CBS',\n 'Z305FPT2',\n 'ZCH06TPX',\n 'Z302SYB1',\n 'ZCH06TPE',\n 'PL1331LAGA9PYH',\n 'PL1331LAHEBKEH',\n 'ZCH06TPK',\n 'ZA10EG9R',\n 'PL1331LAHG12SH',\n 'Z302SYBB',\n 'ZCH06TP3',\n 'ZCH06TP2',\n 'ZCH06TP0',\n 'ZCH07C8S',\n 'PL2331LAHDTSBJ',\n 'Z302SYBJ',\n 'PL1331LAGSKJJH',\n 'ZA13BC9Q',\n 'Z302SYBR',\n 'Z305PJGG',\n 'Z302SYBT',\n 'Z302SYBV',\n 'ZCH07C8F',\n '175PP3IJT',\n 'Z305KVPL',\n '96HCTBIAT',\n 'ZCH06HVR',\n 'PL2331LAGMVADJ',\n 'ZA12XND4',\n 'Z304LLZG',\n 'S300Y2V4',\n 'S2ZYJ9BF508150',\n 'S2ZYJ9BF508152',\n 'S2ZYJ9BF508155',\n 'PL1331LAGLWUYH',\n 'ZA170TV7',\n 'PL2331LAHDEZSJ',\n 'ZCH07JB8',\n 'PL1331LAHD6JBH',\n 'PL2331LAHDMVWJ',\n 'S301D8HV',\n 'ZCH07JB6',\n 'ZCH07JB7',\n 'ZA12DWLB',\n 'ZCH07WF5',\n 'S30117DR',\n 'S30117DQ',\n 'PL1331LAHER2KH',\n 'PL1331LAHBS0SH',\n 'Z305DNNN',\n 'ZA12PTH2',\n 'ZCH07WFE',\n 'PL1331LAHD0TUH',\n 'ZA13Z17J',\n 'ZCH07WFQ',\n 'ZCH07JBM',\n 'PL2331LAG9V44J',\n 'ZCH07WFV',\n 'W300KZXV',\n 'Z305KWNJ',\n 'S300YSEZ',\n 'S300YSET',\n 'S300YSEW',\n 'S300YSEV',\n 'S300YSEP',\n 'S300YSES',\n 'S300Z531',\n 'PL1331LAGSHHUH',\n 'S30108XD',\n 'S300YSED',\n 'S300YSEF',\n 'W300SP1V',\n 'S300ZS07',\n 'PL2331LAHDEB6J',\n 'Z3016N79',\n 'Z3029FD8',\n 'ZA11Q5W1',\n 'W300SP1H',\n 'PL1331LAHD0BHH',\n 'Z3029FD4',\n 'Z3016N76',\n 'Z3016N71',\n 'W3004W4G',\n 'PL2331LAGU88UJ',\n 'ZCH070K1',\n 'ZCH070K3',\n 'S300Z6YV',\n 'S300Z6YP',\n 'S300Z6YS',\n 'ZCH070K6',\n 'S300Z6YM',\n '5XW0362M',\n 'Z3016TK2',\n 'S300Z6YJ',\n 'Z4D07R2E',\n 'S300Z6YA',\n 'ZA14E9BD',\n 'Z300YMRV',\n 'Z4D03VNE',\n 'ZCH070KQ',\n 'S300Z6Y7',\n 'ZCH070KR',\n 'S300Z6Y1',\n 'ZCH070KT',\n 'S300Z6Y3',\n 'Z300YMRE',\n 'Z304072T',\n 'ZCH070KL',\n 'PL1331LAGT5W0H',\n 'Z303YTXD',\n 'W3005N87',\n 'ZCH070KC',\n 'ZCH070KB',\n 'PL1321LAG348SH',\n 'PL2331LAH41JPJ',\n 'Z3029FDF',\n 'Z304K4V7',\n 'Z3029FDE',\n 'PL2331LAHDSHTJ',\n 'Z3029FDV',\n 'PL2331LAHDL8KJ',\n 'PL1331LAHGBWKH',\n 'ZA11FDFD',\n 'PL1331LAGRZPRH',\n 'Z302B0C8',\n 'PL1331LAHDYJYH',\n 'ZA11LYHF',\n 'Z302B0C4',\n 'Z302B0C6',\n 'Z302B0C7',\n 'Z302B0C3',\n 'Z305GXAH',\n 'WD-WX71A14S0199',\n 'WD-WXQ1E93MUVJ3',\n 'Z300K15M',\n 'ZA16DY0H',\n 'ZA16DY0D',\n 'ZA16DY0B',\n 'Z300CNRB',\n 'Z30259E7',\n 'Z304ZNMV',\n 'ZA13R2B4',\n 'Z30259E8',\n 'WD-WX41A356NL78',\n 'PL2331LAGR4ZLJ',\n 'PL1331LAHEHXTH',\n 'PL1331LAHD1TYH',\n 'ZA13R2BM',\n 'PL1331LAHBS6EH',\n 'PL2331LAHB0JKJ',\n 'Z303YQL1',\n 'PL1331LAHESH9H',\n 'Z30259EW',\n 'Z30259EZ',\n 'ZA13R2BT',\n 'Z30259EY',\n 'ZA13R2BQ',\n 'PL2331LAGP178J',\n 'ZA16DY01',\n 'ZA16DY00',\n 'ZA11R5HC',\n 'Z302B0CT',\n 'Z302B0CV',\n 'Z302B0CW',\n 'Z305GXA6',\n 'Z305GXA4',\n ...]"
     },
     "metadata": {},
     "execution_count": 31
    }
   ],
   "source": [
    "for i in serial_number:\n",
    "    if i == 'Z305B2QN':\n",
    "        serial_number.remove(i)\n",
    "serial_number\n"
   ]
  },
  {
   "cell_type": "code",
   "execution_count": 32,
   "metadata": {},
   "outputs": [
    {
     "output_type": "execute_result",
     "data": {
      "text/plain": "             date   serial_number                 model  capacity_bytes  \\\n1      2018-01-01  PL1331LAHG1S4H  HGST HMS5C4040ALE640   4000787030016   \n2      2018-01-01        ZA16NQJR          ST8000NM0055   8001563222016   \n3      2018-01-01        ZA18CEBT          ST8000NM0055   8001563222016   \n4      2018-01-01        ZA18CEBS          ST8000NM0055   8001563222016   \n5      2018-01-01        Z305DEMG           ST4000DM000   4000787030016   \n...           ...             ...                   ...             ...   \n94181  2018-01-01  PL1331LAHD1AWH  HGST HMS5C4040BLE640   4000787030016   \n94182  2018-01-01        Z3016V0V           ST4000DM000   4000787030016   \n94183  2018-01-01  PL1331LAHD0AHH  HGST HMS5C4040BLE640   4000787030016   \n94184  2018-01-01  PL1331LAHD1T5H  HGST HMS5C4040BLE640   4000787030016   \n94185  2018-01-01        Z30271GD           ST4000DM000   4000787030016   \n\n       failure  smart_1_normalized  smart_1_raw  smart_2_normalized  \\\n1            0                 100            0               134.0   \n2            0                  81    119386608                 NaN   \n3            0                  83    194649096                 NaN   \n4            0                  83    187404648                 NaN   \n5            0                 116    115775056                 NaN   \n...        ...                 ...          ...                 ...   \n94181        0                 100            0               134.0   \n94182        0                 117    124839040                 NaN   \n94183        0                 100            0               134.0   \n94184        0                 100            0               134.0   \n94185        0                 118    174174344                 NaN   \n\n       smart_2_raw  smart_3_normalized  ...  smart_250_normalized  \\\n1            101.0                 100  ...                   NaN   \n2              NaN                  94  ...                   NaN   \n3              NaN                  96  ...                   NaN   \n4              NaN                  97  ...                   NaN   \n5              NaN                  97  ...                   NaN   \n...            ...                 ...  ...                   ...   \n94181        100.0                 100  ...                   NaN   \n94182          NaN                  91  ...                   NaN   \n94183        100.0                 100  ...                   NaN   \n94184        101.0                 148  ...                   NaN   \n94185          NaN                  91  ...                   NaN   \n\n       smart_250_raw  smart_251_normalized  smart_251_raw  \\\n1                NaN                   NaN            NaN   \n2                NaN                   NaN            NaN   \n3                NaN                   NaN            NaN   \n4                NaN                   NaN            NaN   \n5                NaN                   NaN            NaN   \n...              ...                   ...            ...   \n94181            NaN                   NaN            NaN   \n94182            NaN                   NaN            NaN   \n94183            NaN                   NaN            NaN   \n94184            NaN                   NaN            NaN   \n94185            NaN                   NaN            NaN   \n\n       smart_252_normalized  smart_252_raw  smart_254_normalized  \\\n1                       NaN            NaN                   NaN   \n2                       NaN            NaN                   NaN   \n3                       NaN            NaN                   NaN   \n4                       NaN            NaN                   NaN   \n5                       NaN            NaN                   NaN   \n...                     ...            ...                   ...   \n94181                   NaN            NaN                   NaN   \n94182                   NaN            NaN                   NaN   \n94183                   NaN            NaN                   NaN   \n94184                   NaN            NaN                   NaN   \n94185                   NaN            NaN                   NaN   \n\n       smart_254_raw  smart_255_normalized  smart_255_raw  \n1                NaN                   NaN            NaN  \n2                NaN                   NaN            NaN  \n3                NaN                   NaN            NaN  \n4                NaN                   NaN            NaN  \n5                NaN                   NaN            NaN  \n...              ...                   ...            ...  \n94181            NaN                   NaN            NaN  \n94182            NaN                   NaN            NaN  \n94183            NaN                   NaN            NaN  \n94184            NaN                   NaN            NaN  \n94185            NaN                   NaN            NaN  \n\n[94185 rows x 105 columns]",
      "text/html": "<div>\n<style scoped>\n    .dataframe tbody tr th:only-of-type {\n        vertical-align: middle;\n    }\n\n    .dataframe tbody tr th {\n        vertical-align: top;\n    }\n\n    .dataframe thead th {\n        text-align: right;\n    }\n</style>\n<table border=\"1\" class=\"dataframe\">\n  <thead>\n    <tr style=\"text-align: right;\">\n      <th></th>\n      <th>date</th>\n      <th>serial_number</th>\n      <th>model</th>\n      <th>capacity_bytes</th>\n      <th>failure</th>\n      <th>smart_1_normalized</th>\n      <th>smart_1_raw</th>\n      <th>smart_2_normalized</th>\n      <th>smart_2_raw</th>\n      <th>smart_3_normalized</th>\n      <th>...</th>\n      <th>smart_250_normalized</th>\n      <th>smart_250_raw</th>\n      <th>smart_251_normalized</th>\n      <th>smart_251_raw</th>\n      <th>smart_252_normalized</th>\n      <th>smart_252_raw</th>\n      <th>smart_254_normalized</th>\n      <th>smart_254_raw</th>\n      <th>smart_255_normalized</th>\n      <th>smart_255_raw</th>\n    </tr>\n  </thead>\n  <tbody>\n    <tr>\n      <th>1</th>\n      <td>2018-01-01</td>\n      <td>PL1331LAHG1S4H</td>\n      <td>HGST HMS5C4040ALE640</td>\n      <td>4000787030016</td>\n      <td>0</td>\n      <td>100</td>\n      <td>0</td>\n      <td>134.0</td>\n      <td>101.0</td>\n      <td>100</td>\n      <td>...</td>\n      <td>NaN</td>\n      <td>NaN</td>\n      <td>NaN</td>\n      <td>NaN</td>\n      <td>NaN</td>\n      <td>NaN</td>\n      <td>NaN</td>\n      <td>NaN</td>\n      <td>NaN</td>\n      <td>NaN</td>\n    </tr>\n    <tr>\n      <th>2</th>\n      <td>2018-01-01</td>\n      <td>ZA16NQJR</td>\n      <td>ST8000NM0055</td>\n      <td>8001563222016</td>\n      <td>0</td>\n      <td>81</td>\n      <td>119386608</td>\n      <td>NaN</td>\n      <td>NaN</td>\n      <td>94</td>\n      <td>...</td>\n      <td>NaN</td>\n      <td>NaN</td>\n      <td>NaN</td>\n      <td>NaN</td>\n      <td>NaN</td>\n      <td>NaN</td>\n      <td>NaN</td>\n      <td>NaN</td>\n      <td>NaN</td>\n      <td>NaN</td>\n    </tr>\n    <tr>\n      <th>3</th>\n      <td>2018-01-01</td>\n      <td>ZA18CEBT</td>\n      <td>ST8000NM0055</td>\n      <td>8001563222016</td>\n      <td>0</td>\n      <td>83</td>\n      <td>194649096</td>\n      <td>NaN</td>\n      <td>NaN</td>\n      <td>96</td>\n      <td>...</td>\n      <td>NaN</td>\n      <td>NaN</td>\n      <td>NaN</td>\n      <td>NaN</td>\n      <td>NaN</td>\n      <td>NaN</td>\n      <td>NaN</td>\n      <td>NaN</td>\n      <td>NaN</td>\n      <td>NaN</td>\n    </tr>\n    <tr>\n      <th>4</th>\n      <td>2018-01-01</td>\n      <td>ZA18CEBS</td>\n      <td>ST8000NM0055</td>\n      <td>8001563222016</td>\n      <td>0</td>\n      <td>83</td>\n      <td>187404648</td>\n      <td>NaN</td>\n      <td>NaN</td>\n      <td>97</td>\n      <td>...</td>\n      <td>NaN</td>\n      <td>NaN</td>\n      <td>NaN</td>\n      <td>NaN</td>\n      <td>NaN</td>\n      <td>NaN</td>\n      <td>NaN</td>\n      <td>NaN</td>\n      <td>NaN</td>\n      <td>NaN</td>\n    </tr>\n    <tr>\n      <th>5</th>\n      <td>2018-01-01</td>\n      <td>Z305DEMG</td>\n      <td>ST4000DM000</td>\n      <td>4000787030016</td>\n      <td>0</td>\n      <td>116</td>\n      <td>115775056</td>\n      <td>NaN</td>\n      <td>NaN</td>\n      <td>97</td>\n      <td>...</td>\n      <td>NaN</td>\n      <td>NaN</td>\n      <td>NaN</td>\n      <td>NaN</td>\n      <td>NaN</td>\n      <td>NaN</td>\n      <td>NaN</td>\n      <td>NaN</td>\n      <td>NaN</td>\n      <td>NaN</td>\n    </tr>\n    <tr>\n      <th>...</th>\n      <td>...</td>\n      <td>...</td>\n      <td>...</td>\n      <td>...</td>\n      <td>...</td>\n      <td>...</td>\n      <td>...</td>\n      <td>...</td>\n      <td>...</td>\n      <td>...</td>\n      <td>...</td>\n      <td>...</td>\n      <td>...</td>\n      <td>...</td>\n      <td>...</td>\n      <td>...</td>\n      <td>...</td>\n      <td>...</td>\n      <td>...</td>\n      <td>...</td>\n      <td>...</td>\n    </tr>\n    <tr>\n      <th>94181</th>\n      <td>2018-01-01</td>\n      <td>PL1331LAHD1AWH</td>\n      <td>HGST HMS5C4040BLE640</td>\n      <td>4000787030016</td>\n      <td>0</td>\n      <td>100</td>\n      <td>0</td>\n      <td>134.0</td>\n      <td>100.0</td>\n      <td>100</td>\n      <td>...</td>\n      <td>NaN</td>\n      <td>NaN</td>\n      <td>NaN</td>\n      <td>NaN</td>\n      <td>NaN</td>\n      <td>NaN</td>\n      <td>NaN</td>\n      <td>NaN</td>\n      <td>NaN</td>\n      <td>NaN</td>\n    </tr>\n    <tr>\n      <th>94182</th>\n      <td>2018-01-01</td>\n      <td>Z3016V0V</td>\n      <td>ST4000DM000</td>\n      <td>4000787030016</td>\n      <td>0</td>\n      <td>117</td>\n      <td>124839040</td>\n      <td>NaN</td>\n      <td>NaN</td>\n      <td>91</td>\n      <td>...</td>\n      <td>NaN</td>\n      <td>NaN</td>\n      <td>NaN</td>\n      <td>NaN</td>\n      <td>NaN</td>\n      <td>NaN</td>\n      <td>NaN</td>\n      <td>NaN</td>\n      <td>NaN</td>\n      <td>NaN</td>\n    </tr>\n    <tr>\n      <th>94183</th>\n      <td>2018-01-01</td>\n      <td>PL1331LAHD0AHH</td>\n      <td>HGST HMS5C4040BLE640</td>\n      <td>4000787030016</td>\n      <td>0</td>\n      <td>100</td>\n      <td>0</td>\n      <td>134.0</td>\n      <td>100.0</td>\n      <td>100</td>\n      <td>...</td>\n      <td>NaN</td>\n      <td>NaN</td>\n      <td>NaN</td>\n      <td>NaN</td>\n      <td>NaN</td>\n      <td>NaN</td>\n      <td>NaN</td>\n      <td>NaN</td>\n      <td>NaN</td>\n      <td>NaN</td>\n    </tr>\n    <tr>\n      <th>94184</th>\n      <td>2018-01-01</td>\n      <td>PL1331LAHD1T5H</td>\n      <td>HGST HMS5C4040BLE640</td>\n      <td>4000787030016</td>\n      <td>0</td>\n      <td>100</td>\n      <td>0</td>\n      <td>134.0</td>\n      <td>101.0</td>\n      <td>148</td>\n      <td>...</td>\n      <td>NaN</td>\n      <td>NaN</td>\n      <td>NaN</td>\n      <td>NaN</td>\n      <td>NaN</td>\n      <td>NaN</td>\n      <td>NaN</td>\n      <td>NaN</td>\n      <td>NaN</td>\n      <td>NaN</td>\n    </tr>\n    <tr>\n      <th>94185</th>\n      <td>2018-01-01</td>\n      <td>Z30271GD</td>\n      <td>ST4000DM000</td>\n      <td>4000787030016</td>\n      <td>0</td>\n      <td>118</td>\n      <td>174174344</td>\n      <td>NaN</td>\n      <td>NaN</td>\n      <td>91</td>\n      <td>...</td>\n      <td>NaN</td>\n      <td>NaN</td>\n      <td>NaN</td>\n      <td>NaN</td>\n      <td>NaN</td>\n      <td>NaN</td>\n      <td>NaN</td>\n      <td>NaN</td>\n      <td>NaN</td>\n      <td>NaN</td>\n    </tr>\n  </tbody>\n</table>\n<p>94185 rows × 105 columns</p>\n</div>"
     },
     "metadata": {},
     "execution_count": 32
    }
   ],
   "source": [
    "data[data.serial_number.isin(serial_number)]"
   ]
  },
  {
   "cell_type": "code",
   "execution_count": 39,
   "metadata": {},
   "outputs": [
    {
     "output_type": "execute_result",
     "data": {
      "text/plain": "array(['Z300GZ1B', 'Z300GZCV', 'VKGKRG7X'], dtype=object)"
     },
     "metadata": {},
     "execution_count": 39
    }
   ],
   "source": [
    "data[data.failure == 1].serial_number.values"
   ]
  },
  {
   "cell_type": "code",
   "execution_count": 41,
   "metadata": {},
   "outputs": [
    {
     "output_type": "error",
     "ename": "ValueError",
     "evalue": "The truth value of an array with more than one element is ambiguous. Use a.any() or a.all()",
     "traceback": [
      "\u001b[1;31m---------------------------------------------------------------------------\u001b[0m",
      "\u001b[1;31mValueError\u001b[0m                                Traceback (most recent call last)",
      "\u001b[1;32m<ipython-input-41-165f2a0d728c>\u001b[0m in \u001b[0;36m<module>\u001b[1;34m\u001b[0m\n\u001b[1;32m----> 1\u001b[1;33m \u001b[0mserial_number\u001b[0m\u001b[1;33m.\u001b[0m\u001b[0mremove\u001b[0m\u001b[1;33m(\u001b[0m\u001b[0mdata\u001b[0m\u001b[1;33m[\u001b[0m\u001b[0mdata\u001b[0m\u001b[1;33m.\u001b[0m\u001b[0mfailure\u001b[0m \u001b[1;33m==\u001b[0m \u001b[1;36m1\u001b[0m\u001b[1;33m]\u001b[0m\u001b[1;33m.\u001b[0m\u001b[0mserial_number\u001b[0m\u001b[1;33m.\u001b[0m\u001b[0mvalues\u001b[0m\u001b[1;33m)\u001b[0m\u001b[1;33m\u001b[0m\u001b[1;33m\u001b[0m\u001b[0m\n\u001b[0m",
      "\u001b[1;31mValueError\u001b[0m: The truth value of an array with more than one element is ambiguous. Use a.any() or a.all()"
     ]
    }
   ],
   "source": [
    "serial_number.remove(data[data.failure == 1].serial_number.values)"
   ]
  },
  {
   "cell_type": "code",
   "execution_count": 42,
   "metadata": {},
   "outputs": [],
   "source": [
    "l = []\n",
    "l.append(pd.read_csv('E:/data/data_Q1_2018/2018-01-01.csv'))\n",
    "l.append(pd.read_csv('E:/data/data_Q1_2018/2018-01-02.csv'))\n",
    "l.append(pd.read_csv('E:/data/data_Q1_2018/2018-01-03.csv'))\n",
    "l.append(pd.read_csv('E:/data/data_Q1_2018/2018-01-04.csv'))\n",
    "l.append(pd.read_csv('E:/data/data_Q1_2018/2018-01-05.csv'))\n",
    "l.append(pd.read_csv('E:/data/data_Q1_2018/2018-01-06.csv'))"
   ]
  },
  {
   "cell_type": "code",
   "execution_count": 46,
   "metadata": {},
   "outputs": [
    {
     "output_type": "error",
     "ename": "AttributeError",
     "evalue": "'DataFrame' object has no attribute 'serial_number_values'",
     "traceback": [
      "\u001b[1;31m---------------------------------------------------------------------------\u001b[0m",
      "\u001b[1;31mAttributeError\u001b[0m                            Traceback (most recent call last)",
      "\u001b[1;32m<ipython-input-46-04fead1f69e3>\u001b[0m in \u001b[0;36m<module>\u001b[1;34m\u001b[0m\n\u001b[0;32m      6\u001b[0m         \u001b[0mserial_number\u001b[0m \u001b[1;33m=\u001b[0m \u001b[0mlist\u001b[0m\u001b[1;33m(\u001b[0m\u001b[0ml\u001b[0m\u001b[1;33m[\u001b[0m\u001b[0mi\u001b[0m \u001b[1;33m-\u001b[0m \u001b[0mk\u001b[0m\u001b[1;33m]\u001b[0m\u001b[1;33m.\u001b[0m\u001b[0mserial_number\u001b[0m\u001b[1;33m)\u001b[0m\u001b[1;33m\u001b[0m\u001b[1;33m\u001b[0m\u001b[0m\n\u001b[0;32m      7\u001b[0m         \u001b[0mserial_number\u001b[0m \u001b[1;33m=\u001b[0m \u001b[0mlist\u001b[0m\u001b[1;33m(\u001b[0m\u001b[0mset\u001b[0m\u001b[1;33m(\u001b[0m\u001b[0mserial_number\u001b[0m\u001b[1;33m)\u001b[0m\u001b[1;33m)\u001b[0m\u001b[1;33m\u001b[0m\u001b[1;33m\u001b[0m\u001b[0m\n\u001b[1;32m----> 8\u001b[1;33m         \u001b[1;32mfor\u001b[0m \u001b[0mj\u001b[0m \u001b[1;32min\u001b[0m \u001b[0merror\u001b[0m\u001b[1;33m.\u001b[0m\u001b[0mserial_number_values\u001b[0m\u001b[1;33m:\u001b[0m\u001b[1;33m\u001b[0m\u001b[1;33m\u001b[0m\u001b[0m\n\u001b[0m\u001b[0;32m      9\u001b[0m             \u001b[0mserial_number\u001b[0m\u001b[1;33m.\u001b[0m\u001b[0mremove\u001b[0m\u001b[1;33m(\u001b[0m\u001b[0mj\u001b[0m\u001b[1;33m)\u001b[0m\u001b[1;33m\u001b[0m\u001b[1;33m\u001b[0m\u001b[0m\n",
      "\u001b[1;32mD:\\Anaconda3\\envs\\pytorch-gpu\\lib\\site-packages\\pandas\\core\\generic.py\u001b[0m in \u001b[0;36m__getattr__\u001b[1;34m(self, name)\u001b[0m\n\u001b[0;32m   5128\u001b[0m             \u001b[1;32mif\u001b[0m \u001b[0mself\u001b[0m\u001b[1;33m.\u001b[0m\u001b[0m_info_axis\u001b[0m\u001b[1;33m.\u001b[0m\u001b[0m_can_hold_identifiers_and_holds_name\u001b[0m\u001b[1;33m(\u001b[0m\u001b[0mname\u001b[0m\u001b[1;33m)\u001b[0m\u001b[1;33m:\u001b[0m\u001b[1;33m\u001b[0m\u001b[1;33m\u001b[0m\u001b[0m\n\u001b[0;32m   5129\u001b[0m                 \u001b[1;32mreturn\u001b[0m \u001b[0mself\u001b[0m\u001b[1;33m[\u001b[0m\u001b[0mname\u001b[0m\u001b[1;33m]\u001b[0m\u001b[1;33m\u001b[0m\u001b[1;33m\u001b[0m\u001b[0m\n\u001b[1;32m-> 5130\u001b[1;33m             \u001b[1;32mreturn\u001b[0m \u001b[0mobject\u001b[0m\u001b[1;33m.\u001b[0m\u001b[0m__getattribute__\u001b[0m\u001b[1;33m(\u001b[0m\u001b[0mself\u001b[0m\u001b[1;33m,\u001b[0m \u001b[0mname\u001b[0m\u001b[1;33m)\u001b[0m\u001b[1;33m\u001b[0m\u001b[1;33m\u001b[0m\u001b[0m\n\u001b[0m\u001b[0;32m   5131\u001b[0m \u001b[1;33m\u001b[0m\u001b[0m\n\u001b[0;32m   5132\u001b[0m     \u001b[1;32mdef\u001b[0m \u001b[0m__setattr__\u001b[0m\u001b[1;33m(\u001b[0m\u001b[0mself\u001b[0m\u001b[1;33m,\u001b[0m \u001b[0mname\u001b[0m\u001b[1;33m:\u001b[0m \u001b[0mstr\u001b[0m\u001b[1;33m,\u001b[0m \u001b[0mvalue\u001b[0m\u001b[1;33m)\u001b[0m \u001b[1;33m->\u001b[0m \u001b[1;32mNone\u001b[0m\u001b[1;33m:\u001b[0m\u001b[1;33m\u001b[0m\u001b[1;33m\u001b[0m\u001b[0m\n",
      "\u001b[1;31mAttributeError\u001b[0m: 'DataFrame' object has no attribute 'serial_number_values'"
     ]
    }
   ],
   "source": [
    "listOfnegativeSample = []\n",
    "for i in range(5, len(l)):\n",
    "    error = l[i][l[i].failure == 1]\n",
    "    k = 5\n",
    "    while(k >= 0):\n",
    "        serial_number = list(l[i - k].serial_number)\n",
    "        serial_number = list(set(serial_number))\n",
    "        for j in error.serial_number.values:\n",
    "            serial_number.remove(j)"
   ]
  },
  {
   "cell_type": "code",
   "execution_count": 28,
   "metadata": {},
   "outputs": [],
   "source": [
    "p = pd.read_csv('E:/data/positiveSample_Q1.csv')"
   ]
  },
  {
   "cell_type": "code",
   "execution_count": 9,
   "metadata": {},
   "outputs": [],
   "source": [
    "p = p.sort_values(by = 'serial_number')\n",
    "p.to_csv('E:/data/positiveSample_Q1.csv')"
   ]
  },
  {
   "cell_type": "code",
   "execution_count": 10,
   "metadata": {},
   "outputs": [],
   "source": [
    "p = p.sort_values(by = 'date')\n"
   ]
  },
  {
   "cell_type": "code",
   "execution_count": 11,
   "metadata": {},
   "outputs": [],
   "source": [
    "p.to_csv('E:/data/positiveSample_Q1_date.csv')"
   ]
  },
  {
   "cell_type": "code",
   "execution_count": 12,
   "metadata": {},
   "outputs": [],
   "source": [
    "d = pd.read_csv('E:/data/data_Q2_2018/2018-04-01.csv')"
   ]
  },
  {
   "cell_type": "code",
   "execution_count": 14,
   "metadata": {},
   "outputs": [
    {
     "output_type": "execute_result",
     "data": {
      "text/plain": "             date serial_number        model  capacity_bytes  failure  \\\n75537  2018-04-01      S301PRMW  ST4000DM000   4000787030016        1   \n\n       smart_1_normalized  smart_1_raw  smart_2_normalized  smart_2_raw  \\\n75537                 115     95778448                 NaN          NaN   \n\n       smart_3_normalized  ...  smart_250_normalized  smart_250_raw  \\\n75537                  96  ...                   NaN            NaN   \n\n       smart_251_normalized  smart_251_raw  smart_252_normalized  \\\n75537                   NaN            NaN                   NaN   \n\n       smart_252_raw  smart_254_normalized  smart_254_raw  \\\n75537            NaN                   NaN            NaN   \n\n       smart_255_normalized  smart_255_raw  \n75537                   NaN            NaN  \n\n[1 rows x 109 columns]",
      "text/html": "<div>\n<style scoped>\n    .dataframe tbody tr th:only-of-type {\n        vertical-align: middle;\n    }\n\n    .dataframe tbody tr th {\n        vertical-align: top;\n    }\n\n    .dataframe thead th {\n        text-align: right;\n    }\n</style>\n<table border=\"1\" class=\"dataframe\">\n  <thead>\n    <tr style=\"text-align: right;\">\n      <th></th>\n      <th>date</th>\n      <th>serial_number</th>\n      <th>model</th>\n      <th>capacity_bytes</th>\n      <th>failure</th>\n      <th>smart_1_normalized</th>\n      <th>smart_1_raw</th>\n      <th>smart_2_normalized</th>\n      <th>smart_2_raw</th>\n      <th>smart_3_normalized</th>\n      <th>...</th>\n      <th>smart_250_normalized</th>\n      <th>smart_250_raw</th>\n      <th>smart_251_normalized</th>\n      <th>smart_251_raw</th>\n      <th>smart_252_normalized</th>\n      <th>smart_252_raw</th>\n      <th>smart_254_normalized</th>\n      <th>smart_254_raw</th>\n      <th>smart_255_normalized</th>\n      <th>smart_255_raw</th>\n    </tr>\n  </thead>\n  <tbody>\n    <tr>\n      <th>75537</th>\n      <td>2018-04-01</td>\n      <td>S301PRMW</td>\n      <td>ST4000DM000</td>\n      <td>4000787030016</td>\n      <td>1</td>\n      <td>115</td>\n      <td>95778448</td>\n      <td>NaN</td>\n      <td>NaN</td>\n      <td>96</td>\n      <td>...</td>\n      <td>NaN</td>\n      <td>NaN</td>\n      <td>NaN</td>\n      <td>NaN</td>\n      <td>NaN</td>\n      <td>NaN</td>\n      <td>NaN</td>\n      <td>NaN</td>\n      <td>NaN</td>\n      <td>NaN</td>\n    </tr>\n  </tbody>\n</table>\n<p>1 rows × 109 columns</p>\n</div>"
     },
     "metadata": {},
     "execution_count": 14
    }
   ],
   "source": [
    "d[d.failure == 1]"
   ]
  },
  {
   "cell_type": "code",
   "execution_count": 15,
   "metadata": {},
   "outputs": [],
   "source": [
    "l = []\n",
    "l.append(pd.read_csv('E:/data/data_Q1_2018/2018-01-06.csv'))\n",
    "l.append(pd.read_csv('E:/data/data_Q1_2018/2018-01-07.csv'))\n",
    "l.append(pd.read_csv('E:/data/data_Q1_2018/2018-01-08.csv'))\n",
    "l.append(pd.read_csv('E:/data/data_Q1_2018/2018-01-09.csv'))\n",
    "l.append(pd.read_csv('E:/data/data_Q1_2018/2018-01-10.csv'))\n",
    "l.append(pd.read_csv('E:/data/data_Q1_2018/2018-01-11.csv'))"
   ]
  },
  {
   "cell_type": "code",
   "execution_count": 18,
   "metadata": {
    "tags": []
   },
   "outputs": [
    {
     "output_type": "stream",
     "name": "stdout",
     "text": "date serial_number        model  capacity_bytes  failure  \\\n7532   2018-01-06      W3004X68  ST4000DM000   4000787030016        1   \n10206  2018-01-06      ZA11X9N2  ST8000DM002   8001563222016        1   \n10357  2018-01-06      Z300ZV9B  ST4000DM000   4000787030016        1   \n78363  2018-01-06      Z3025WBW  ST4000DM000   4000787030016        1   \n\n       smart_1_normalized  smart_1_raw  smart_2_normalized  smart_2_raw  \\\n7532                  109     23657640                 NaN          NaN   \n10206                  53     20740760                 NaN          NaN   \n10357                 118    201270208                 NaN          NaN   \n78363                 108    165729075                 NaN          NaN   \n\n       smart_3_normalized  ...  smart_250_normalized  smart_250_raw  \\\n7532                   91  ...                   NaN            NaN   \n10206                  94  ...                   NaN            NaN   \n10357                  91  ...                   NaN            NaN   \n78363                  92  ...                   NaN            NaN   \n\n       smart_251_normalized  smart_251_raw  smart_252_normalized  \\\n7532                    NaN            NaN                   NaN   \n10206                   NaN            NaN                   NaN   \n10357                   NaN            NaN                   NaN   \n78363                   NaN            NaN                   NaN   \n\n       smart_252_raw  smart_254_normalized  smart_254_raw  \\\n7532             NaN                   NaN            NaN   \n10206            NaN                   NaN            NaN   \n10357            NaN                   NaN            NaN   \n78363            NaN                   NaN            NaN   \n\n       smart_255_normalized  smart_255_raw  \n7532                    NaN            NaN  \n10206                   NaN            NaN  \n10357                   NaN            NaN  \n78363                   NaN            NaN  \n\n[4 rows x 105 columns]\n**************\n             date serial_number        model  capacity_bytes  failure  \\\n24121  2018-01-07      Z300GZDT  ST4000DM000   4000787030016        1   \n27008  2018-01-07      S300YQ4F  ST4000DM000   4000787030016        1   \n\n       smart_1_normalized  smart_1_raw  smart_2_normalized  smart_2_raw  \\\n24121                 118    192703744                 NaN          NaN   \n27008                 112     46899064                 NaN          NaN   \n\n       smart_3_normalized  ...  smart_250_normalized  smart_250_raw  \\\n24121                  91  ...                   NaN            NaN   \n27008                  97  ...                   NaN            NaN   \n\n       smart_251_normalized  smart_251_raw  smart_252_normalized  \\\n24121                   NaN            NaN                   NaN   \n27008                   NaN            NaN                   NaN   \n\n       smart_252_raw  smart_254_normalized  smart_254_raw  \\\n24121            NaN                   NaN            NaN   \n27008            NaN                   NaN            NaN   \n\n       smart_255_normalized  smart_255_raw  \n24121                   NaN            NaN  \n27008                   NaN            NaN  \n\n[2 rows x 105 columns]\n**************\n             date serial_number          model  capacity_bytes  failure  \\\n21361  2018-01-08      Z3029ATJ    ST4000DM000   4000787030016        1   \n27350  2018-01-08      Z305BAT9    ST4000DM000   4000787030016        1   \n70755  2018-01-08      ZCH0CJHM  ST12000NM0007  12000138625024        1   \n93886  2018-01-08      W300AS94    ST4000DM000   4000787030016        1   \n\n       smart_1_normalized  smart_1_raw  smart_2_normalized  smart_2_raw  \\\n21361                 111     35809064                 NaN          NaN   \n27350                 112     44550520                 NaN          NaN   \n70755                  75     28462840                 NaN          NaN   \n93886                 117    159595368                 NaN          NaN   \n\n       smart_3_normalized  ...  smart_250_normalized  smart_250_raw  \\\n21361                  94  ...                   NaN            NaN   \n27350                  95  ...                   NaN            NaN   \n70755                  90  ...                   NaN            NaN   \n93886                  91  ...                   NaN            NaN   \n\n       smart_251_normalized  smart_251_raw  smart_252_normalized  \\\n21361                   NaN            NaN                   NaN   \n27350                   NaN            NaN                   NaN   \n70755                   NaN            NaN                   NaN   \n93886                   NaN            NaN                   NaN   \n\n       smart_252_raw  smart_254_normalized  smart_254_raw  \\\n21361            NaN                   NaN            NaN   \n27350            NaN                   NaN            NaN   \n70755            NaN                   NaN            NaN   \n93886            NaN                   NaN            NaN   \n\n       smart_255_normalized  smart_255_raw  \n21361                   NaN            NaN  \n27350                   NaN            NaN  \n70755                   NaN            NaN  \n93886                   NaN            NaN  \n\n[4 rows x 105 columns]\n**************\n             date   serial_number                 model  capacity_bytes  \\\n30498  2018-01-09  PL1331LAHD1EDH  HGST HMS5C4040BLE640   4000787030016   \n82000  2018-01-09        ZA180ZZH          ST8000NM0055   8001563222016   \n\n       failure  smart_1_normalized  smart_1_raw  smart_2_normalized  \\\n30498        1                 100            0               134.0   \n82000        1                  82    170245568                 NaN   \n\n       smart_2_raw  smart_3_normalized  ...  smart_250_normalized  \\\n30498        101.0                 100  ...                   NaN   \n82000          NaN                  95  ...                   NaN   \n\n       smart_250_raw  smart_251_normalized  smart_251_raw  \\\n30498            NaN                   NaN            NaN   \n82000            NaN                   NaN            NaN   \n\n       smart_252_normalized  smart_252_raw  smart_254_normalized  \\\n30498                   NaN            NaN                   NaN   \n82000                   NaN            NaN                   NaN   \n\n       smart_254_raw  smart_255_normalized  smart_255_raw  \n30498            NaN                   NaN            NaN  \n82000            NaN                   NaN            NaN  \n\n[2 rows x 105 columns]\n**************\n             date serial_number         model  capacity_bytes  failure  \\\n14688  2018-01-10      Z300X7C3   ST4000DM000   4000787030016        1   \n19389  2018-01-10      ZA171T9X  ST8000NM0055   8001563222016        1   \n43311  2018-01-10      Z304JXAS   ST4000DM000   4000787030016        1   \n51789  2018-01-10      Z305NJMN   ST4000DM000   4000787030016        1   \n78553  2018-01-10      Z304KR0B   ST4000DM000   4000787030016        1   \n\n       smart_1_normalized  smart_1_raw  smart_2_normalized  smart_2_raw  \\\n14688                 119    210421064                 NaN          NaN   \n19389                  84    232816016                 NaN          NaN   \n43311                 111     29439608                 NaN          NaN   \n51789                 110     26805080                 NaN          NaN   \n78553                 108     14762144                 NaN          NaN   \n\n       smart_3_normalized  ...  smart_250_normalized  smart_250_raw  \\\n14688                  92  ...                   NaN            NaN   \n19389                  96  ...                   NaN            NaN   \n43311                  93  ...                   NaN            NaN   \n51789                  96  ...                   NaN            NaN   \n78553                  93  ...                   NaN            NaN   \n\n       smart_251_normalized  smart_251_raw  smart_252_normalized  \\\n14688                   NaN            NaN                   NaN   \n19389                   NaN            NaN                   NaN   \n43311                   NaN            NaN                   NaN   \n51789                   NaN            NaN                   NaN   \n78553                   NaN            NaN                   NaN   \n\n       smart_252_raw  smart_254_normalized  smart_254_raw  \\\n14688            NaN                   NaN            NaN   \n19389            NaN                   NaN            NaN   \n43311            NaN                   NaN            NaN   \n51789            NaN                   NaN            NaN   \n78553            NaN                   NaN            NaN   \n\n       smart_255_normalized  smart_255_raw  \n14688                   NaN            NaN  \n19389                   NaN            NaN  \n43311                   NaN            NaN  \n51789                   NaN            NaN  \n78553                   NaN            NaN  \n\n[5 rows x 105 columns]\n**************\n             date serial_number         model  capacity_bytes  failure  \\\n12879  2018-01-11      ZA180XCZ  ST8000NM0055   8001563222016        1   \n31519  2018-01-11      Z304J92R   ST4000DM000   4000787030016        1   \n37145  2018-01-11      ZA17ZPD1  ST8000NM0055   8001563222016        1   \n64940  2018-01-11      Z3029AL0   ST4000DM000   4000787030016        1   \n65263  2018-01-11      Z300GQB1   ST4000DM000   4000787030016        1   \n84435  2018-01-11      W3009HD0   ST4000DM000   4000787030016        1   \n\n       smart_1_normalized  smart_1_raw  smart_2_normalized  smart_2_raw  \\\n12879                  81    135415544                 NaN          NaN   \n31519                 117    153210936                 NaN          NaN   \n37145                  79     81518048                 NaN          NaN   \n64940                 120    236285200                 NaN          NaN   \n65263                 117    123730744                 NaN          NaN   \n84435                 114     60272064                 NaN          NaN   \n\n       smart_3_normalized  ...  smart_250_normalized  smart_250_raw  \\\n12879                  96  ...                   NaN            NaN   \n31519                  97  ...                   NaN            NaN   \n37145                  99  ...                   NaN            NaN   \n64940                  92  ...                   NaN            NaN   \n65263                  91  ...                   NaN            NaN   \n84435                  91  ...                   NaN            NaN   \n\n       smart_251_normalized  smart_251_raw  smart_252_normalized  \\\n12879                   NaN            NaN                   NaN   \n31519                   NaN            NaN                   NaN   \n37145                   NaN            NaN                   NaN   \n64940                   NaN            NaN                   NaN   \n65263                   NaN            NaN                   NaN   \n84435                   NaN            NaN                   NaN   \n\n       smart_252_raw  smart_254_normalized  smart_254_raw  \\\n12879            NaN                   NaN            NaN   \n31519            NaN                   NaN            NaN   \n37145            NaN                   NaN            NaN   \n64940            NaN                   NaN            NaN   \n65263            NaN                   NaN            NaN   \n84435            NaN                   NaN            NaN   \n\n       smart_255_normalized  smart_255_raw  \n12879                   NaN            NaN  \n31519                   NaN            NaN  \n37145                   NaN            NaN  \n64940                   NaN            NaN  \n65263                   NaN            NaN  \n84435                   NaN            NaN  \n\n[6 rows x 105 columns]\n**************\n"
    }
   ],
   "source": [
    "for i in l:\n",
    "    print(i[i.failure == 1])\n",
    "    print('**************')"
   ]
  },
  {
   "cell_type": "code",
   "execution_count": 20,
   "metadata": {},
   "outputs": [
    {
     "output_type": "execute_result",
     "data": {
      "text/plain": "             date serial_number        model  capacity_bytes  failure  \\\n7532   2018-01-06      W3004X68  ST4000DM000   4000787030016        1   \n10206  2018-01-06      ZA11X9N2  ST8000DM002   8001563222016        1   \n10357  2018-01-06      Z300ZV9B  ST4000DM000   4000787030016        1   \n78363  2018-01-06      Z3025WBW  ST4000DM000   4000787030016        1   \n\n       smart_1_normalized  smart_1_raw  smart_2_normalized  smart_2_raw  \\\n7532                  109     23657640                 NaN          NaN   \n10206                  53     20740760                 NaN          NaN   \n10357                 118    201270208                 NaN          NaN   \n78363                 108    165729075                 NaN          NaN   \n\n       smart_3_normalized  ...  smart_250_normalized  smart_250_raw  \\\n7532                   91  ...                   NaN            NaN   \n10206                  94  ...                   NaN            NaN   \n10357                  91  ...                   NaN            NaN   \n78363                  92  ...                   NaN            NaN   \n\n       smart_251_normalized  smart_251_raw  smart_252_normalized  \\\n7532                    NaN            NaN                   NaN   \n10206                   NaN            NaN                   NaN   \n10357                   NaN            NaN                   NaN   \n78363                   NaN            NaN                   NaN   \n\n       smart_252_raw  smart_254_normalized  smart_254_raw  \\\n7532             NaN                   NaN            NaN   \n10206            NaN                   NaN            NaN   \n10357            NaN                   NaN            NaN   \n78363            NaN                   NaN            NaN   \n\n       smart_255_normalized  smart_255_raw  \n7532                    NaN            NaN  \n10206                   NaN            NaN  \n10357                   NaN            NaN  \n78363                   NaN            NaN  \n\n[4 rows x 105 columns]",
      "text/html": "<div>\n<style scoped>\n    .dataframe tbody tr th:only-of-type {\n        vertical-align: middle;\n    }\n\n    .dataframe tbody tr th {\n        vertical-align: top;\n    }\n\n    .dataframe thead th {\n        text-align: right;\n    }\n</style>\n<table border=\"1\" class=\"dataframe\">\n  <thead>\n    <tr style=\"text-align: right;\">\n      <th></th>\n      <th>date</th>\n      <th>serial_number</th>\n      <th>model</th>\n      <th>capacity_bytes</th>\n      <th>failure</th>\n      <th>smart_1_normalized</th>\n      <th>smart_1_raw</th>\n      <th>smart_2_normalized</th>\n      <th>smart_2_raw</th>\n      <th>smart_3_normalized</th>\n      <th>...</th>\n      <th>smart_250_normalized</th>\n      <th>smart_250_raw</th>\n      <th>smart_251_normalized</th>\n      <th>smart_251_raw</th>\n      <th>smart_252_normalized</th>\n      <th>smart_252_raw</th>\n      <th>smart_254_normalized</th>\n      <th>smart_254_raw</th>\n      <th>smart_255_normalized</th>\n      <th>smart_255_raw</th>\n    </tr>\n  </thead>\n  <tbody>\n    <tr>\n      <th>7532</th>\n      <td>2018-01-06</td>\n      <td>W3004X68</td>\n      <td>ST4000DM000</td>\n      <td>4000787030016</td>\n      <td>1</td>\n      <td>109</td>\n      <td>23657640</td>\n      <td>NaN</td>\n      <td>NaN</td>\n      <td>91</td>\n      <td>...</td>\n      <td>NaN</td>\n      <td>NaN</td>\n      <td>NaN</td>\n      <td>NaN</td>\n      <td>NaN</td>\n      <td>NaN</td>\n      <td>NaN</td>\n      <td>NaN</td>\n      <td>NaN</td>\n      <td>NaN</td>\n    </tr>\n    <tr>\n      <th>10206</th>\n      <td>2018-01-06</td>\n      <td>ZA11X9N2</td>\n      <td>ST8000DM002</td>\n      <td>8001563222016</td>\n      <td>1</td>\n      <td>53</td>\n      <td>20740760</td>\n      <td>NaN</td>\n      <td>NaN</td>\n      <td>94</td>\n      <td>...</td>\n      <td>NaN</td>\n      <td>NaN</td>\n      <td>NaN</td>\n      <td>NaN</td>\n      <td>NaN</td>\n      <td>NaN</td>\n      <td>NaN</td>\n      <td>NaN</td>\n      <td>NaN</td>\n      <td>NaN</td>\n    </tr>\n    <tr>\n      <th>10357</th>\n      <td>2018-01-06</td>\n      <td>Z300ZV9B</td>\n      <td>ST4000DM000</td>\n      <td>4000787030016</td>\n      <td>1</td>\n      <td>118</td>\n      <td>201270208</td>\n      <td>NaN</td>\n      <td>NaN</td>\n      <td>91</td>\n      <td>...</td>\n      <td>NaN</td>\n      <td>NaN</td>\n      <td>NaN</td>\n      <td>NaN</td>\n      <td>NaN</td>\n      <td>NaN</td>\n      <td>NaN</td>\n      <td>NaN</td>\n      <td>NaN</td>\n      <td>NaN</td>\n    </tr>\n    <tr>\n      <th>78363</th>\n      <td>2018-01-06</td>\n      <td>Z3025WBW</td>\n      <td>ST4000DM000</td>\n      <td>4000787030016</td>\n      <td>1</td>\n      <td>108</td>\n      <td>165729075</td>\n      <td>NaN</td>\n      <td>NaN</td>\n      <td>92</td>\n      <td>...</td>\n      <td>NaN</td>\n      <td>NaN</td>\n      <td>NaN</td>\n      <td>NaN</td>\n      <td>NaN</td>\n      <td>NaN</td>\n      <td>NaN</td>\n      <td>NaN</td>\n      <td>NaN</td>\n      <td>NaN</td>\n    </tr>\n  </tbody>\n</table>\n<p>4 rows × 105 columns</p>\n</div>"
     },
     "metadata": {},
     "execution_count": 20
    }
   ],
   "source": [
    "l[0][l[0].failure == 1]"
   ]
  },
  {
   "cell_type": "code",
   "execution_count": 22,
   "metadata": {},
   "outputs": [
    {
     "output_type": "execute_result",
     "data": {
      "text/plain": "Empty DataFrame\nColumns: [Unnamed: 0, date, serial_number, model, capacity_bytes, failure, smart_1_normalized, smart_1_raw, smart_2_normalized, smart_2_raw, smart_3_normalized, smart_3_raw, smart_4_normalized, smart_4_raw, smart_5_normalized, smart_5_raw, smart_7_normalized, smart_7_raw, smart_8_normalized, smart_8_raw, smart_9_normalized, smart_9_raw, smart_10_normalized, smart_10_raw, smart_11_normalized, smart_11_raw, smart_12_normalized, smart_12_raw, smart_13_normalized, smart_13_raw, smart_15_normalized, smart_15_raw, smart_22_normalized, smart_22_raw, smart_177_normalized, smart_177_raw, smart_179_normalized, smart_179_raw, smart_181_normalized, smart_181_raw, smart_182_normalized, smart_182_raw, smart_183_normalized, smart_183_raw, smart_184_normalized, smart_184_raw, smart_187_normalized, smart_187_raw, smart_188_normalized, smart_188_raw, smart_189_normalized, smart_189_raw, smart_190_normalized, smart_190_raw, smart_191_normalized, smart_191_raw, smart_192_normalized, smart_192_raw, smart_193_normalized, smart_193_raw, smart_194_normalized, smart_194_raw, smart_195_normalized, smart_195_raw, smart_196_normalized, smart_196_raw, smart_197_normalized, smart_197_raw, smart_198_normalized, smart_198_raw, smart_199_normalized, smart_199_raw, smart_200_normalized, smart_200_raw, smart_201_normalized, smart_201_raw, smart_220_normalized, smart_220_raw, smart_222_normalized, smart_222_raw, smart_223_normalized, smart_223_raw, smart_224_normalized, smart_224_raw, smart_225_normalized, smart_225_raw, smart_226_normalized, smart_226_raw, smart_235_normalized, smart_235_raw, smart_240_normalized, smart_240_raw, smart_241_normalized, smart_241_raw, smart_242_normalized, smart_242_raw, smart_250_normalized, smart_250_raw, smart_251_normalized, smart_251_raw, ...]\nIndex: []\n\n[0 rows x 106 columns]",
      "text/html": "<div>\n<style scoped>\n    .dataframe tbody tr th:only-of-type {\n        vertical-align: middle;\n    }\n\n    .dataframe tbody tr th {\n        vertical-align: top;\n    }\n\n    .dataframe thead th {\n        text-align: right;\n    }\n</style>\n<table border=\"1\" class=\"dataframe\">\n  <thead>\n    <tr style=\"text-align: right;\">\n      <th></th>\n      <th>Unnamed: 0</th>\n      <th>date</th>\n      <th>serial_number</th>\n      <th>model</th>\n      <th>capacity_bytes</th>\n      <th>failure</th>\n      <th>smart_1_normalized</th>\n      <th>smart_1_raw</th>\n      <th>smart_2_normalized</th>\n      <th>smart_2_raw</th>\n      <th>...</th>\n      <th>smart_250_normalized</th>\n      <th>smart_250_raw</th>\n      <th>smart_251_normalized</th>\n      <th>smart_251_raw</th>\n      <th>smart_252_normalized</th>\n      <th>smart_252_raw</th>\n      <th>smart_254_normalized</th>\n      <th>smart_254_raw</th>\n      <th>smart_255_normalized</th>\n      <th>smart_255_raw</th>\n    </tr>\n  </thead>\n  <tbody>\n  </tbody>\n</table>\n<p>0 rows × 106 columns</p>\n</div>"
     },
     "metadata": {},
     "execution_count": 22
    }
   ],
   "source": [
    "p[p.serial_number == 'ZA11X9N2']"
   ]
  },
  {
   "cell_type": "code",
   "execution_count": 23,
   "metadata": {},
   "outputs": [
    {
     "output_type": "execute_result",
     "data": {
      "text/plain": "     Unnamed: 0        date serial_number        model  capacity_bytes  \\\n0             0  2018-01-01      W3004X68  ST4000DM000   4000787030016   \n1             1  2018-01-02      W3004X68  ST4000DM000   4000787030016   \n2             2  2018-01-03      W3004X68  ST4000DM000   4000787030016   \n3             3  2018-01-04      W3004X68  ST4000DM000   4000787030016   \n4             4  2018-01-05      W3004X68  ST4000DM000   4000787030016   \n..          ...         ...           ...          ...             ...   \n486         486  2018-03-26      W300L6LB  ST4000DM000   4000787030016   \n487         487  2018-03-27      W300L6LB  ST4000DM000   4000787030016   \n488         488  2018-03-28      W300L6LB  ST4000DM000   4000787030016   \n489         489  2018-03-29      W300L6LB  ST4000DM000   4000787030016   \n490         490  2018-03-30      W300L6LB  ST4000DM000   4000787030016   \n\n     failure  smart_1_normalized  smart_1_raw  smart_2_normalized  \\\n0          0               119.0  216941544.0                 NaN   \n1          0               115.0   88620216.0                 NaN   \n2          0               119.0  215170632.0                 NaN   \n3          0               113.0   57393720.0                 NaN   \n4          0               117.0  143540608.0                 NaN   \n..       ...                 ...          ...                 ...   \n486        0               118.0  195213736.0                 NaN   \n487        0               117.0  142358984.0                 NaN   \n488        0               118.0  186818352.0                 NaN   \n489        0               119.0  227843704.0                 NaN   \n490        1               111.0   40346344.0                 NaN   \n\n     smart_2_raw  ...  smart_250_normalized  smart_250_raw  \\\n0            NaN  ...                   NaN            NaN   \n1            NaN  ...                   NaN            NaN   \n2            NaN  ...                   NaN            NaN   \n3            NaN  ...                   NaN            NaN   \n4            NaN  ...                   NaN            NaN   \n..           ...  ...                   ...            ...   \n486          NaN  ...                   NaN            NaN   \n487          NaN  ...                   NaN            NaN   \n488          NaN  ...                   NaN            NaN   \n489          NaN  ...                   NaN            NaN   \n490          NaN  ...                   NaN            NaN   \n\n     smart_251_normalized  smart_251_raw  smart_252_normalized  smart_252_raw  \\\n0                     NaN            NaN                   NaN            NaN   \n1                     NaN            NaN                   NaN            NaN   \n2                     NaN            NaN                   NaN            NaN   \n3                     NaN            NaN                   NaN            NaN   \n4                     NaN            NaN                   NaN            NaN   \n..                    ...            ...                   ...            ...   \n486                   NaN            NaN                   NaN            NaN   \n487                   NaN            NaN                   NaN            NaN   \n488                   NaN            NaN                   NaN            NaN   \n489                   NaN            NaN                   NaN            NaN   \n490                   NaN            NaN                   NaN            NaN   \n\n     smart_254_normalized  smart_254_raw  smart_255_normalized  smart_255_raw  \n0                     NaN            NaN                   NaN            NaN  \n1                     NaN            NaN                   NaN            NaN  \n2                     NaN            NaN                   NaN            NaN  \n3                     NaN            NaN                   NaN            NaN  \n4                     NaN            NaN                   NaN            NaN  \n..                    ...            ...                   ...            ...  \n486                   NaN            NaN                   NaN            NaN  \n487                   NaN            NaN                   NaN            NaN  \n488                   NaN            NaN                   NaN            NaN  \n489                   NaN            NaN                   NaN            NaN  \n490                   NaN            NaN                   NaN            NaN  \n\n[491 rows x 106 columns]",
      "text/html": "<div>\n<style scoped>\n    .dataframe tbody tr th:only-of-type {\n        vertical-align: middle;\n    }\n\n    .dataframe tbody tr th {\n        vertical-align: top;\n    }\n\n    .dataframe thead th {\n        text-align: right;\n    }\n</style>\n<table border=\"1\" class=\"dataframe\">\n  <thead>\n    <tr style=\"text-align: right;\">\n      <th></th>\n      <th>Unnamed: 0</th>\n      <th>date</th>\n      <th>serial_number</th>\n      <th>model</th>\n      <th>capacity_bytes</th>\n      <th>failure</th>\n      <th>smart_1_normalized</th>\n      <th>smart_1_raw</th>\n      <th>smart_2_normalized</th>\n      <th>smart_2_raw</th>\n      <th>...</th>\n      <th>smart_250_normalized</th>\n      <th>smart_250_raw</th>\n      <th>smart_251_normalized</th>\n      <th>smart_251_raw</th>\n      <th>smart_252_normalized</th>\n      <th>smart_252_raw</th>\n      <th>smart_254_normalized</th>\n      <th>smart_254_raw</th>\n      <th>smart_255_normalized</th>\n      <th>smart_255_raw</th>\n    </tr>\n  </thead>\n  <tbody>\n    <tr>\n      <th>0</th>\n      <td>0</td>\n      <td>2018-01-01</td>\n      <td>W3004X68</td>\n      <td>ST4000DM000</td>\n      <td>4000787030016</td>\n      <td>0</td>\n      <td>119.0</td>\n      <td>216941544.0</td>\n      <td>NaN</td>\n      <td>NaN</td>\n      <td>...</td>\n      <td>NaN</td>\n      <td>NaN</td>\n      <td>NaN</td>\n      <td>NaN</td>\n      <td>NaN</td>\n      <td>NaN</td>\n      <td>NaN</td>\n      <td>NaN</td>\n      <td>NaN</td>\n      <td>NaN</td>\n    </tr>\n    <tr>\n      <th>1</th>\n      <td>1</td>\n      <td>2018-01-02</td>\n      <td>W3004X68</td>\n      <td>ST4000DM000</td>\n      <td>4000787030016</td>\n      <td>0</td>\n      <td>115.0</td>\n      <td>88620216.0</td>\n      <td>NaN</td>\n      <td>NaN</td>\n      <td>...</td>\n      <td>NaN</td>\n      <td>NaN</td>\n      <td>NaN</td>\n      <td>NaN</td>\n      <td>NaN</td>\n      <td>NaN</td>\n      <td>NaN</td>\n      <td>NaN</td>\n      <td>NaN</td>\n      <td>NaN</td>\n    </tr>\n    <tr>\n      <th>2</th>\n      <td>2</td>\n      <td>2018-01-03</td>\n      <td>W3004X68</td>\n      <td>ST4000DM000</td>\n      <td>4000787030016</td>\n      <td>0</td>\n      <td>119.0</td>\n      <td>215170632.0</td>\n      <td>NaN</td>\n      <td>NaN</td>\n      <td>...</td>\n      <td>NaN</td>\n      <td>NaN</td>\n      <td>NaN</td>\n      <td>NaN</td>\n      <td>NaN</td>\n      <td>NaN</td>\n      <td>NaN</td>\n      <td>NaN</td>\n      <td>NaN</td>\n      <td>NaN</td>\n    </tr>\n    <tr>\n      <th>3</th>\n      <td>3</td>\n      <td>2018-01-04</td>\n      <td>W3004X68</td>\n      <td>ST4000DM000</td>\n      <td>4000787030016</td>\n      <td>0</td>\n      <td>113.0</td>\n      <td>57393720.0</td>\n      <td>NaN</td>\n      <td>NaN</td>\n      <td>...</td>\n      <td>NaN</td>\n      <td>NaN</td>\n      <td>NaN</td>\n      <td>NaN</td>\n      <td>NaN</td>\n      <td>NaN</td>\n      <td>NaN</td>\n      <td>NaN</td>\n      <td>NaN</td>\n      <td>NaN</td>\n    </tr>\n    <tr>\n      <th>4</th>\n      <td>4</td>\n      <td>2018-01-05</td>\n      <td>W3004X68</td>\n      <td>ST4000DM000</td>\n      <td>4000787030016</td>\n      <td>0</td>\n      <td>117.0</td>\n      <td>143540608.0</td>\n      <td>NaN</td>\n      <td>NaN</td>\n      <td>...</td>\n      <td>NaN</td>\n      <td>NaN</td>\n      <td>NaN</td>\n      <td>NaN</td>\n      <td>NaN</td>\n      <td>NaN</td>\n      <td>NaN</td>\n      <td>NaN</td>\n      <td>NaN</td>\n      <td>NaN</td>\n    </tr>\n    <tr>\n      <th>...</th>\n      <td>...</td>\n      <td>...</td>\n      <td>...</td>\n      <td>...</td>\n      <td>...</td>\n      <td>...</td>\n      <td>...</td>\n      <td>...</td>\n      <td>...</td>\n      <td>...</td>\n      <td>...</td>\n      <td>...</td>\n      <td>...</td>\n      <td>...</td>\n      <td>...</td>\n      <td>...</td>\n      <td>...</td>\n      <td>...</td>\n      <td>...</td>\n      <td>...</td>\n      <td>...</td>\n    </tr>\n    <tr>\n      <th>486</th>\n      <td>486</td>\n      <td>2018-03-26</td>\n      <td>W300L6LB</td>\n      <td>ST4000DM000</td>\n      <td>4000787030016</td>\n      <td>0</td>\n      <td>118.0</td>\n      <td>195213736.0</td>\n      <td>NaN</td>\n      <td>NaN</td>\n      <td>...</td>\n      <td>NaN</td>\n      <td>NaN</td>\n      <td>NaN</td>\n      <td>NaN</td>\n      <td>NaN</td>\n      <td>NaN</td>\n      <td>NaN</td>\n      <td>NaN</td>\n      <td>NaN</td>\n      <td>NaN</td>\n    </tr>\n    <tr>\n      <th>487</th>\n      <td>487</td>\n      <td>2018-03-27</td>\n      <td>W300L6LB</td>\n      <td>ST4000DM000</td>\n      <td>4000787030016</td>\n      <td>0</td>\n      <td>117.0</td>\n      <td>142358984.0</td>\n      <td>NaN</td>\n      <td>NaN</td>\n      <td>...</td>\n      <td>NaN</td>\n      <td>NaN</td>\n      <td>NaN</td>\n      <td>NaN</td>\n      <td>NaN</td>\n      <td>NaN</td>\n      <td>NaN</td>\n      <td>NaN</td>\n      <td>NaN</td>\n      <td>NaN</td>\n    </tr>\n    <tr>\n      <th>488</th>\n      <td>488</td>\n      <td>2018-03-28</td>\n      <td>W300L6LB</td>\n      <td>ST4000DM000</td>\n      <td>4000787030016</td>\n      <td>0</td>\n      <td>118.0</td>\n      <td>186818352.0</td>\n      <td>NaN</td>\n      <td>NaN</td>\n      <td>...</td>\n      <td>NaN</td>\n      <td>NaN</td>\n      <td>NaN</td>\n      <td>NaN</td>\n      <td>NaN</td>\n      <td>NaN</td>\n      <td>NaN</td>\n      <td>NaN</td>\n      <td>NaN</td>\n      <td>NaN</td>\n    </tr>\n    <tr>\n      <th>489</th>\n      <td>489</td>\n      <td>2018-03-29</td>\n      <td>W300L6LB</td>\n      <td>ST4000DM000</td>\n      <td>4000787030016</td>\n      <td>0</td>\n      <td>119.0</td>\n      <td>227843704.0</td>\n      <td>NaN</td>\n      <td>NaN</td>\n      <td>...</td>\n      <td>NaN</td>\n      <td>NaN</td>\n      <td>NaN</td>\n      <td>NaN</td>\n      <td>NaN</td>\n      <td>NaN</td>\n      <td>NaN</td>\n      <td>NaN</td>\n      <td>NaN</td>\n      <td>NaN</td>\n    </tr>\n    <tr>\n      <th>490</th>\n      <td>490</td>\n      <td>2018-03-30</td>\n      <td>W300L6LB</td>\n      <td>ST4000DM000</td>\n      <td>4000787030016</td>\n      <td>1</td>\n      <td>111.0</td>\n      <td>40346344.0</td>\n      <td>NaN</td>\n      <td>NaN</td>\n      <td>...</td>\n      <td>NaN</td>\n      <td>NaN</td>\n      <td>NaN</td>\n      <td>NaN</td>\n      <td>NaN</td>\n      <td>NaN</td>\n      <td>NaN</td>\n      <td>NaN</td>\n      <td>NaN</td>\n      <td>NaN</td>\n    </tr>\n  </tbody>\n</table>\n<p>491 rows × 106 columns</p>\n</div>"
     },
     "metadata": {},
     "execution_count": 23
    }
   ],
   "source": [
    "p"
   ]
  },
  {
   "cell_type": "code",
   "execution_count": 27,
   "metadata": {
    "tags": []
   },
   "outputs": [
    {
     "output_type": "execute_result",
     "data": {
      "text/plain": "     Unnamed: 0        date serial_number        model  capacity_bytes  \\\n0             0  2018-01-01      W3004X68  ST4000DM000   4000787030016   \n1             1  2018-01-02      W3004X68  ST4000DM000   4000787030016   \n2             2  2018-01-03      W3004X68  ST4000DM000   4000787030016   \n3             3  2018-01-04      W3004X68  ST4000DM000   4000787030016   \n4             4  2018-01-05      W3004X68  ST4000DM000   4000787030016   \n..          ...         ...           ...          ...             ...   \n486         486  2018-03-26      W300L6LB  ST4000DM000   4000787030016   \n487         487  2018-03-27      W300L6LB  ST4000DM000   4000787030016   \n488         488  2018-03-28      W300L6LB  ST4000DM000   4000787030016   \n489         489  2018-03-29      W300L6LB  ST4000DM000   4000787030016   \n490         490  2018-03-30      W300L6LB  ST4000DM000   4000787030016   \n\n     failure  smart_1_normalized  smart_1_raw  smart_2_normalized  \\\n0          0               119.0  216941544.0                 NaN   \n1          0               115.0   88620216.0                 NaN   \n2          0               119.0  215170632.0                 NaN   \n3          0               113.0   57393720.0                 NaN   \n4          0               117.0  143540608.0                 NaN   \n..       ...                 ...          ...                 ...   \n486        0               118.0  195213736.0                 NaN   \n487        0               117.0  142358984.0                 NaN   \n488        0               118.0  186818352.0                 NaN   \n489        0               119.0  227843704.0                 NaN   \n490        1               111.0   40346344.0                 NaN   \n\n     smart_2_raw  ...  smart_250_normalized  smart_250_raw  \\\n0            NaN  ...                   NaN            NaN   \n1            NaN  ...                   NaN            NaN   \n2            NaN  ...                   NaN            NaN   \n3            NaN  ...                   NaN            NaN   \n4            NaN  ...                   NaN            NaN   \n..           ...  ...                   ...            ...   \n486          NaN  ...                   NaN            NaN   \n487          NaN  ...                   NaN            NaN   \n488          NaN  ...                   NaN            NaN   \n489          NaN  ...                   NaN            NaN   \n490          NaN  ...                   NaN            NaN   \n\n     smart_251_normalized  smart_251_raw  smart_252_normalized  smart_252_raw  \\\n0                     NaN            NaN                   NaN            NaN   \n1                     NaN            NaN                   NaN            NaN   \n2                     NaN            NaN                   NaN            NaN   \n3                     NaN            NaN                   NaN            NaN   \n4                     NaN            NaN                   NaN            NaN   \n..                    ...            ...                   ...            ...   \n486                   NaN            NaN                   NaN            NaN   \n487                   NaN            NaN                   NaN            NaN   \n488                   NaN            NaN                   NaN            NaN   \n489                   NaN            NaN                   NaN            NaN   \n490                   NaN            NaN                   NaN            NaN   \n\n     smart_254_normalized  smart_254_raw  smart_255_normalized  smart_255_raw  \n0                     NaN            NaN                   NaN            NaN  \n1                     NaN            NaN                   NaN            NaN  \n2                     NaN            NaN                   NaN            NaN  \n3                     NaN            NaN                   NaN            NaN  \n4                     NaN            NaN                   NaN            NaN  \n..                    ...            ...                   ...            ...  \n486                   NaN            NaN                   NaN            NaN  \n487                   NaN            NaN                   NaN            NaN  \n488                   NaN            NaN                   NaN            NaN  \n489                   NaN            NaN                   NaN            NaN  \n490                   NaN            NaN                   NaN            NaN  \n\n[491 rows x 106 columns]",
      "text/html": "<div>\n<style scoped>\n    .dataframe tbody tr th:only-of-type {\n        vertical-align: middle;\n    }\n\n    .dataframe tbody tr th {\n        vertical-align: top;\n    }\n\n    .dataframe thead th {\n        text-align: right;\n    }\n</style>\n<table border=\"1\" class=\"dataframe\">\n  <thead>\n    <tr style=\"text-align: right;\">\n      <th></th>\n      <th>Unnamed: 0</th>\n      <th>date</th>\n      <th>serial_number</th>\n      <th>model</th>\n      <th>capacity_bytes</th>\n      <th>failure</th>\n      <th>smart_1_normalized</th>\n      <th>smart_1_raw</th>\n      <th>smart_2_normalized</th>\n      <th>smart_2_raw</th>\n      <th>...</th>\n      <th>smart_250_normalized</th>\n      <th>smart_250_raw</th>\n      <th>smart_251_normalized</th>\n      <th>smart_251_raw</th>\n      <th>smart_252_normalized</th>\n      <th>smart_252_raw</th>\n      <th>smart_254_normalized</th>\n      <th>smart_254_raw</th>\n      <th>smart_255_normalized</th>\n      <th>smart_255_raw</th>\n    </tr>\n  </thead>\n  <tbody>\n    <tr>\n      <th>0</th>\n      <td>0</td>\n      <td>2018-01-01</td>\n      <td>W3004X68</td>\n      <td>ST4000DM000</td>\n      <td>4000787030016</td>\n      <td>0</td>\n      <td>119.0</td>\n      <td>216941544.0</td>\n      <td>NaN</td>\n      <td>NaN</td>\n      <td>...</td>\n      <td>NaN</td>\n      <td>NaN</td>\n      <td>NaN</td>\n      <td>NaN</td>\n      <td>NaN</td>\n      <td>NaN</td>\n      <td>NaN</td>\n      <td>NaN</td>\n      <td>NaN</td>\n      <td>NaN</td>\n    </tr>\n    <tr>\n      <th>1</th>\n      <td>1</td>\n      <td>2018-01-02</td>\n      <td>W3004X68</td>\n      <td>ST4000DM000</td>\n      <td>4000787030016</td>\n      <td>0</td>\n      <td>115.0</td>\n      <td>88620216.0</td>\n      <td>NaN</td>\n      <td>NaN</td>\n      <td>...</td>\n      <td>NaN</td>\n      <td>NaN</td>\n      <td>NaN</td>\n      <td>NaN</td>\n      <td>NaN</td>\n      <td>NaN</td>\n      <td>NaN</td>\n      <td>NaN</td>\n      <td>NaN</td>\n      <td>NaN</td>\n    </tr>\n    <tr>\n      <th>2</th>\n      <td>2</td>\n      <td>2018-01-03</td>\n      <td>W3004X68</td>\n      <td>ST4000DM000</td>\n      <td>4000787030016</td>\n      <td>0</td>\n      <td>119.0</td>\n      <td>215170632.0</td>\n      <td>NaN</td>\n      <td>NaN</td>\n      <td>...</td>\n      <td>NaN</td>\n      <td>NaN</td>\n      <td>NaN</td>\n      <td>NaN</td>\n      <td>NaN</td>\n      <td>NaN</td>\n      <td>NaN</td>\n      <td>NaN</td>\n      <td>NaN</td>\n      <td>NaN</td>\n    </tr>\n    <tr>\n      <th>3</th>\n      <td>3</td>\n      <td>2018-01-04</td>\n      <td>W3004X68</td>\n      <td>ST4000DM000</td>\n      <td>4000787030016</td>\n      <td>0</td>\n      <td>113.0</td>\n      <td>57393720.0</td>\n      <td>NaN</td>\n      <td>NaN</td>\n      <td>...</td>\n      <td>NaN</td>\n      <td>NaN</td>\n      <td>NaN</td>\n      <td>NaN</td>\n      <td>NaN</td>\n      <td>NaN</td>\n      <td>NaN</td>\n      <td>NaN</td>\n      <td>NaN</td>\n      <td>NaN</td>\n    </tr>\n    <tr>\n      <th>4</th>\n      <td>4</td>\n      <td>2018-01-05</td>\n      <td>W3004X68</td>\n      <td>ST4000DM000</td>\n      <td>4000787030016</td>\n      <td>0</td>\n      <td>117.0</td>\n      <td>143540608.0</td>\n      <td>NaN</td>\n      <td>NaN</td>\n      <td>...</td>\n      <td>NaN</td>\n      <td>NaN</td>\n      <td>NaN</td>\n      <td>NaN</td>\n      <td>NaN</td>\n      <td>NaN</td>\n      <td>NaN</td>\n      <td>NaN</td>\n      <td>NaN</td>\n      <td>NaN</td>\n    </tr>\n    <tr>\n      <th>...</th>\n      <td>...</td>\n      <td>...</td>\n      <td>...</td>\n      <td>...</td>\n      <td>...</td>\n      <td>...</td>\n      <td>...</td>\n      <td>...</td>\n      <td>...</td>\n      <td>...</td>\n      <td>...</td>\n      <td>...</td>\n      <td>...</td>\n      <td>...</td>\n      <td>...</td>\n      <td>...</td>\n      <td>...</td>\n      <td>...</td>\n      <td>...</td>\n      <td>...</td>\n      <td>...</td>\n    </tr>\n    <tr>\n      <th>486</th>\n      <td>486</td>\n      <td>2018-03-26</td>\n      <td>W300L6LB</td>\n      <td>ST4000DM000</td>\n      <td>4000787030016</td>\n      <td>0</td>\n      <td>118.0</td>\n      <td>195213736.0</td>\n      <td>NaN</td>\n      <td>NaN</td>\n      <td>...</td>\n      <td>NaN</td>\n      <td>NaN</td>\n      <td>NaN</td>\n      <td>NaN</td>\n      <td>NaN</td>\n      <td>NaN</td>\n      <td>NaN</td>\n      <td>NaN</td>\n      <td>NaN</td>\n      <td>NaN</td>\n    </tr>\n    <tr>\n      <th>487</th>\n      <td>487</td>\n      <td>2018-03-27</td>\n      <td>W300L6LB</td>\n      <td>ST4000DM000</td>\n      <td>4000787030016</td>\n      <td>0</td>\n      <td>117.0</td>\n      <td>142358984.0</td>\n      <td>NaN</td>\n      <td>NaN</td>\n      <td>...</td>\n      <td>NaN</td>\n      <td>NaN</td>\n      <td>NaN</td>\n      <td>NaN</td>\n      <td>NaN</td>\n      <td>NaN</td>\n      <td>NaN</td>\n      <td>NaN</td>\n      <td>NaN</td>\n      <td>NaN</td>\n    </tr>\n    <tr>\n      <th>488</th>\n      <td>488</td>\n      <td>2018-03-28</td>\n      <td>W300L6LB</td>\n      <td>ST4000DM000</td>\n      <td>4000787030016</td>\n      <td>0</td>\n      <td>118.0</td>\n      <td>186818352.0</td>\n      <td>NaN</td>\n      <td>NaN</td>\n      <td>...</td>\n      <td>NaN</td>\n      <td>NaN</td>\n      <td>NaN</td>\n      <td>NaN</td>\n      <td>NaN</td>\n      <td>NaN</td>\n      <td>NaN</td>\n      <td>NaN</td>\n      <td>NaN</td>\n      <td>NaN</td>\n    </tr>\n    <tr>\n      <th>489</th>\n      <td>489</td>\n      <td>2018-03-29</td>\n      <td>W300L6LB</td>\n      <td>ST4000DM000</td>\n      <td>4000787030016</td>\n      <td>0</td>\n      <td>119.0</td>\n      <td>227843704.0</td>\n      <td>NaN</td>\n      <td>NaN</td>\n      <td>...</td>\n      <td>NaN</td>\n      <td>NaN</td>\n      <td>NaN</td>\n      <td>NaN</td>\n      <td>NaN</td>\n      <td>NaN</td>\n      <td>NaN</td>\n      <td>NaN</td>\n      <td>NaN</td>\n      <td>NaN</td>\n    </tr>\n    <tr>\n      <th>490</th>\n      <td>490</td>\n      <td>2018-03-30</td>\n      <td>W300L6LB</td>\n      <td>ST4000DM000</td>\n      <td>4000787030016</td>\n      <td>1</td>\n      <td>111.0</td>\n      <td>40346344.0</td>\n      <td>NaN</td>\n      <td>NaN</td>\n      <td>...</td>\n      <td>NaN</td>\n      <td>NaN</td>\n      <td>NaN</td>\n      <td>NaN</td>\n      <td>NaN</td>\n      <td>NaN</td>\n      <td>NaN</td>\n      <td>NaN</td>\n      <td>NaN</td>\n      <td>NaN</td>\n    </tr>\n  </tbody>\n</table>\n<p>491 rows × 106 columns</p>\n</div>"
     },
     "metadata": {},
     "execution_count": 27
    }
   ],
   "source": [
    "p"
   ]
  },
  {
   "cell_type": "code",
   "execution_count": 29,
   "metadata": {},
   "outputs": [
    {
     "output_type": "execute_result",
     "data": {
      "text/plain": "     Unnamed: 0        date serial_number        model  capacity_bytes  \\\n0             0  2018-01-01      W3004X68  ST4000DM000   4000787030016   \n1             1  2018-01-02      W3004X68  ST4000DM000   4000787030016   \n2             2  2018-01-03      W3004X68  ST4000DM000   4000787030016   \n3             3  2018-01-04      W3004X68  ST4000DM000   4000787030016   \n4             4  2018-01-05      W3004X68  ST4000DM000   4000787030016   \n..          ...         ...           ...          ...             ...   \n486         486  2018-03-26      W300L6LB  ST4000DM000   4000787030016   \n487         487  2018-03-27      W300L6LB  ST4000DM000   4000787030016   \n488         488  2018-03-28      W300L6LB  ST4000DM000   4000787030016   \n489         489  2018-03-29      W300L6LB  ST4000DM000   4000787030016   \n490         490  2018-03-30      W300L6LB  ST4000DM000   4000787030016   \n\n     failure  smart_1_normalized  smart_1_raw  smart_2_normalized  \\\n0          0               119.0  216941544.0                 NaN   \n1          0               115.0   88620216.0                 NaN   \n2          0               119.0  215170632.0                 NaN   \n3          0               113.0   57393720.0                 NaN   \n4          0               117.0  143540608.0                 NaN   \n..       ...                 ...          ...                 ...   \n486        0               118.0  195213736.0                 NaN   \n487        0               117.0  142358984.0                 NaN   \n488        0               118.0  186818352.0                 NaN   \n489        0               119.0  227843704.0                 NaN   \n490        1               111.0   40346344.0                 NaN   \n\n     smart_2_raw  ...  smart_250_normalized  smart_250_raw  \\\n0            NaN  ...                   NaN            NaN   \n1            NaN  ...                   NaN            NaN   \n2            NaN  ...                   NaN            NaN   \n3            NaN  ...                   NaN            NaN   \n4            NaN  ...                   NaN            NaN   \n..           ...  ...                   ...            ...   \n486          NaN  ...                   NaN            NaN   \n487          NaN  ...                   NaN            NaN   \n488          NaN  ...                   NaN            NaN   \n489          NaN  ...                   NaN            NaN   \n490          NaN  ...                   NaN            NaN   \n\n     smart_251_normalized  smart_251_raw  smart_252_normalized  smart_252_raw  \\\n0                     NaN            NaN                   NaN            NaN   \n1                     NaN            NaN                   NaN            NaN   \n2                     NaN            NaN                   NaN            NaN   \n3                     NaN            NaN                   NaN            NaN   \n4                     NaN            NaN                   NaN            NaN   \n..                    ...            ...                   ...            ...   \n486                   NaN            NaN                   NaN            NaN   \n487                   NaN            NaN                   NaN            NaN   \n488                   NaN            NaN                   NaN            NaN   \n489                   NaN            NaN                   NaN            NaN   \n490                   NaN            NaN                   NaN            NaN   \n\n     smart_254_normalized  smart_254_raw  smart_255_normalized  smart_255_raw  \n0                     NaN            NaN                   NaN            NaN  \n1                     NaN            NaN                   NaN            NaN  \n2                     NaN            NaN                   NaN            NaN  \n3                     NaN            NaN                   NaN            NaN  \n4                     NaN            NaN                   NaN            NaN  \n..                    ...            ...                   ...            ...  \n486                   NaN            NaN                   NaN            NaN  \n487                   NaN            NaN                   NaN            NaN  \n488                   NaN            NaN                   NaN            NaN  \n489                   NaN            NaN                   NaN            NaN  \n490                   NaN            NaN                   NaN            NaN  \n\n[491 rows x 106 columns]",
      "text/html": "<div>\n<style scoped>\n    .dataframe tbody tr th:only-of-type {\n        vertical-align: middle;\n    }\n\n    .dataframe tbody tr th {\n        vertical-align: top;\n    }\n\n    .dataframe thead th {\n        text-align: right;\n    }\n</style>\n<table border=\"1\" class=\"dataframe\">\n  <thead>\n    <tr style=\"text-align: right;\">\n      <th></th>\n      <th>Unnamed: 0</th>\n      <th>date</th>\n      <th>serial_number</th>\n      <th>model</th>\n      <th>capacity_bytes</th>\n      <th>failure</th>\n      <th>smart_1_normalized</th>\n      <th>smart_1_raw</th>\n      <th>smart_2_normalized</th>\n      <th>smart_2_raw</th>\n      <th>...</th>\n      <th>smart_250_normalized</th>\n      <th>smart_250_raw</th>\n      <th>smart_251_normalized</th>\n      <th>smart_251_raw</th>\n      <th>smart_252_normalized</th>\n      <th>smart_252_raw</th>\n      <th>smart_254_normalized</th>\n      <th>smart_254_raw</th>\n      <th>smart_255_normalized</th>\n      <th>smart_255_raw</th>\n    </tr>\n  </thead>\n  <tbody>\n    <tr>\n      <th>0</th>\n      <td>0</td>\n      <td>2018-01-01</td>\n      <td>W3004X68</td>\n      <td>ST4000DM000</td>\n      <td>4000787030016</td>\n      <td>0</td>\n      <td>119.0</td>\n      <td>216941544.0</td>\n      <td>NaN</td>\n      <td>NaN</td>\n      <td>...</td>\n      <td>NaN</td>\n      <td>NaN</td>\n      <td>NaN</td>\n      <td>NaN</td>\n      <td>NaN</td>\n      <td>NaN</td>\n      <td>NaN</td>\n      <td>NaN</td>\n      <td>NaN</td>\n      <td>NaN</td>\n    </tr>\n    <tr>\n      <th>1</th>\n      <td>1</td>\n      <td>2018-01-02</td>\n      <td>W3004X68</td>\n      <td>ST4000DM000</td>\n      <td>4000787030016</td>\n      <td>0</td>\n      <td>115.0</td>\n      <td>88620216.0</td>\n      <td>NaN</td>\n      <td>NaN</td>\n      <td>...</td>\n      <td>NaN</td>\n      <td>NaN</td>\n      <td>NaN</td>\n      <td>NaN</td>\n      <td>NaN</td>\n      <td>NaN</td>\n      <td>NaN</td>\n      <td>NaN</td>\n      <td>NaN</td>\n      <td>NaN</td>\n    </tr>\n    <tr>\n      <th>2</th>\n      <td>2</td>\n      <td>2018-01-03</td>\n      <td>W3004X68</td>\n      <td>ST4000DM000</td>\n      <td>4000787030016</td>\n      <td>0</td>\n      <td>119.0</td>\n      <td>215170632.0</td>\n      <td>NaN</td>\n      <td>NaN</td>\n      <td>...</td>\n      <td>NaN</td>\n      <td>NaN</td>\n      <td>NaN</td>\n      <td>NaN</td>\n      <td>NaN</td>\n      <td>NaN</td>\n      <td>NaN</td>\n      <td>NaN</td>\n      <td>NaN</td>\n      <td>NaN</td>\n    </tr>\n    <tr>\n      <th>3</th>\n      <td>3</td>\n      <td>2018-01-04</td>\n      <td>W3004X68</td>\n      <td>ST4000DM000</td>\n      <td>4000787030016</td>\n      <td>0</td>\n      <td>113.0</td>\n      <td>57393720.0</td>\n      <td>NaN</td>\n      <td>NaN</td>\n      <td>...</td>\n      <td>NaN</td>\n      <td>NaN</td>\n      <td>NaN</td>\n      <td>NaN</td>\n      <td>NaN</td>\n      <td>NaN</td>\n      <td>NaN</td>\n      <td>NaN</td>\n      <td>NaN</td>\n      <td>NaN</td>\n    </tr>\n    <tr>\n      <th>4</th>\n      <td>4</td>\n      <td>2018-01-05</td>\n      <td>W3004X68</td>\n      <td>ST4000DM000</td>\n      <td>4000787030016</td>\n      <td>0</td>\n      <td>117.0</td>\n      <td>143540608.0</td>\n      <td>NaN</td>\n      <td>NaN</td>\n      <td>...</td>\n      <td>NaN</td>\n      <td>NaN</td>\n      <td>NaN</td>\n      <td>NaN</td>\n      <td>NaN</td>\n      <td>NaN</td>\n      <td>NaN</td>\n      <td>NaN</td>\n      <td>NaN</td>\n      <td>NaN</td>\n    </tr>\n    <tr>\n      <th>...</th>\n      <td>...</td>\n      <td>...</td>\n      <td>...</td>\n      <td>...</td>\n      <td>...</td>\n      <td>...</td>\n      <td>...</td>\n      <td>...</td>\n      <td>...</td>\n      <td>...</td>\n      <td>...</td>\n      <td>...</td>\n      <td>...</td>\n      <td>...</td>\n      <td>...</td>\n      <td>...</td>\n      <td>...</td>\n      <td>...</td>\n      <td>...</td>\n      <td>...</td>\n      <td>...</td>\n    </tr>\n    <tr>\n      <th>486</th>\n      <td>486</td>\n      <td>2018-03-26</td>\n      <td>W300L6LB</td>\n      <td>ST4000DM000</td>\n      <td>4000787030016</td>\n      <td>0</td>\n      <td>118.0</td>\n      <td>195213736.0</td>\n      <td>NaN</td>\n      <td>NaN</td>\n      <td>...</td>\n      <td>NaN</td>\n      <td>NaN</td>\n      <td>NaN</td>\n      <td>NaN</td>\n      <td>NaN</td>\n      <td>NaN</td>\n      <td>NaN</td>\n      <td>NaN</td>\n      <td>NaN</td>\n      <td>NaN</td>\n    </tr>\n    <tr>\n      <th>487</th>\n      <td>487</td>\n      <td>2018-03-27</td>\n      <td>W300L6LB</td>\n      <td>ST4000DM000</td>\n      <td>4000787030016</td>\n      <td>0</td>\n      <td>117.0</td>\n      <td>142358984.0</td>\n      <td>NaN</td>\n      <td>NaN</td>\n      <td>...</td>\n      <td>NaN</td>\n      <td>NaN</td>\n      <td>NaN</td>\n      <td>NaN</td>\n      <td>NaN</td>\n      <td>NaN</td>\n      <td>NaN</td>\n      <td>NaN</td>\n      <td>NaN</td>\n      <td>NaN</td>\n    </tr>\n    <tr>\n      <th>488</th>\n      <td>488</td>\n      <td>2018-03-28</td>\n      <td>W300L6LB</td>\n      <td>ST4000DM000</td>\n      <td>4000787030016</td>\n      <td>0</td>\n      <td>118.0</td>\n      <td>186818352.0</td>\n      <td>NaN</td>\n      <td>NaN</td>\n      <td>...</td>\n      <td>NaN</td>\n      <td>NaN</td>\n      <td>NaN</td>\n      <td>NaN</td>\n      <td>NaN</td>\n      <td>NaN</td>\n      <td>NaN</td>\n      <td>NaN</td>\n      <td>NaN</td>\n      <td>NaN</td>\n    </tr>\n    <tr>\n      <th>489</th>\n      <td>489</td>\n      <td>2018-03-29</td>\n      <td>W300L6LB</td>\n      <td>ST4000DM000</td>\n      <td>4000787030016</td>\n      <td>0</td>\n      <td>119.0</td>\n      <td>227843704.0</td>\n      <td>NaN</td>\n      <td>NaN</td>\n      <td>...</td>\n      <td>NaN</td>\n      <td>NaN</td>\n      <td>NaN</td>\n      <td>NaN</td>\n      <td>NaN</td>\n      <td>NaN</td>\n      <td>NaN</td>\n      <td>NaN</td>\n      <td>NaN</td>\n      <td>NaN</td>\n    </tr>\n    <tr>\n      <th>490</th>\n      <td>490</td>\n      <td>2018-03-30</td>\n      <td>W300L6LB</td>\n      <td>ST4000DM000</td>\n      <td>4000787030016</td>\n      <td>1</td>\n      <td>111.0</td>\n      <td>40346344.0</td>\n      <td>NaN</td>\n      <td>NaN</td>\n      <td>...</td>\n      <td>NaN</td>\n      <td>NaN</td>\n      <td>NaN</td>\n      <td>NaN</td>\n      <td>NaN</td>\n      <td>NaN</td>\n      <td>NaN</td>\n      <td>NaN</td>\n      <td>NaN</td>\n      <td>NaN</td>\n    </tr>\n  </tbody>\n</table>\n<p>491 rows × 106 columns</p>\n</div>"
     },
     "metadata": {},
     "execution_count": 29
    }
   ],
   "source": [
    "p"
   ]
  },
  {
   "cell_type": "code",
   "execution_count": 31,
   "metadata": {},
   "outputs": [
    {
     "output_type": "execute_result",
     "data": {
      "text/plain": "             date serial_number        model  capacity_bytes  failure  \\\n7532   2018-01-06      W3004X68  ST4000DM000   4000787030016        1   \n10206  2018-01-06      ZA11X9N2  ST8000DM002   8001563222016        1   \n10357  2018-01-06      Z300ZV9B  ST4000DM000   4000787030016        1   \n78363  2018-01-06      Z3025WBW  ST4000DM000   4000787030016        1   \n\n       smart_1_normalized  smart_1_raw  smart_2_normalized  smart_2_raw  \\\n7532                  109     23657640                 NaN          NaN   \n10206                  53     20740760                 NaN          NaN   \n10357                 118    201270208                 NaN          NaN   \n78363                 108    165729075                 NaN          NaN   \n\n       smart_3_normalized  ...  smart_250_normalized  smart_250_raw  \\\n7532                   91  ...                   NaN            NaN   \n10206                  94  ...                   NaN            NaN   \n10357                  91  ...                   NaN            NaN   \n78363                  92  ...                   NaN            NaN   \n\n       smart_251_normalized  smart_251_raw  smart_252_normalized  \\\n7532                    NaN            NaN                   NaN   \n10206                   NaN            NaN                   NaN   \n10357                   NaN            NaN                   NaN   \n78363                   NaN            NaN                   NaN   \n\n       smart_252_raw  smart_254_normalized  smart_254_raw  \\\n7532             NaN                   NaN            NaN   \n10206            NaN                   NaN            NaN   \n10357            NaN                   NaN            NaN   \n78363            NaN                   NaN            NaN   \n\n       smart_255_normalized  smart_255_raw  \n7532                    NaN            NaN  \n10206                   NaN            NaN  \n10357                   NaN            NaN  \n78363                   NaN            NaN  \n\n[4 rows x 105 columns]",
      "text/html": "<div>\n<style scoped>\n    .dataframe tbody tr th:only-of-type {\n        vertical-align: middle;\n    }\n\n    .dataframe tbody tr th {\n        vertical-align: top;\n    }\n\n    .dataframe thead th {\n        text-align: right;\n    }\n</style>\n<table border=\"1\" class=\"dataframe\">\n  <thead>\n    <tr style=\"text-align: right;\">\n      <th></th>\n      <th>date</th>\n      <th>serial_number</th>\n      <th>model</th>\n      <th>capacity_bytes</th>\n      <th>failure</th>\n      <th>smart_1_normalized</th>\n      <th>smart_1_raw</th>\n      <th>smart_2_normalized</th>\n      <th>smart_2_raw</th>\n      <th>smart_3_normalized</th>\n      <th>...</th>\n      <th>smart_250_normalized</th>\n      <th>smart_250_raw</th>\n      <th>smart_251_normalized</th>\n      <th>smart_251_raw</th>\n      <th>smart_252_normalized</th>\n      <th>smart_252_raw</th>\n      <th>smart_254_normalized</th>\n      <th>smart_254_raw</th>\n      <th>smart_255_normalized</th>\n      <th>smart_255_raw</th>\n    </tr>\n  </thead>\n  <tbody>\n    <tr>\n      <th>7532</th>\n      <td>2018-01-06</td>\n      <td>W3004X68</td>\n      <td>ST4000DM000</td>\n      <td>4000787030016</td>\n      <td>1</td>\n      <td>109</td>\n      <td>23657640</td>\n      <td>NaN</td>\n      <td>NaN</td>\n      <td>91</td>\n      <td>...</td>\n      <td>NaN</td>\n      <td>NaN</td>\n      <td>NaN</td>\n      <td>NaN</td>\n      <td>NaN</td>\n      <td>NaN</td>\n      <td>NaN</td>\n      <td>NaN</td>\n      <td>NaN</td>\n      <td>NaN</td>\n    </tr>\n    <tr>\n      <th>10206</th>\n      <td>2018-01-06</td>\n      <td>ZA11X9N2</td>\n      <td>ST8000DM002</td>\n      <td>8001563222016</td>\n      <td>1</td>\n      <td>53</td>\n      <td>20740760</td>\n      <td>NaN</td>\n      <td>NaN</td>\n      <td>94</td>\n      <td>...</td>\n      <td>NaN</td>\n      <td>NaN</td>\n      <td>NaN</td>\n      <td>NaN</td>\n      <td>NaN</td>\n      <td>NaN</td>\n      <td>NaN</td>\n      <td>NaN</td>\n      <td>NaN</td>\n      <td>NaN</td>\n    </tr>\n    <tr>\n      <th>10357</th>\n      <td>2018-01-06</td>\n      <td>Z300ZV9B</td>\n      <td>ST4000DM000</td>\n      <td>4000787030016</td>\n      <td>1</td>\n      <td>118</td>\n      <td>201270208</td>\n      <td>NaN</td>\n      <td>NaN</td>\n      <td>91</td>\n      <td>...</td>\n      <td>NaN</td>\n      <td>NaN</td>\n      <td>NaN</td>\n      <td>NaN</td>\n      <td>NaN</td>\n      <td>NaN</td>\n      <td>NaN</td>\n      <td>NaN</td>\n      <td>NaN</td>\n      <td>NaN</td>\n    </tr>\n    <tr>\n      <th>78363</th>\n      <td>2018-01-06</td>\n      <td>Z3025WBW</td>\n      <td>ST4000DM000</td>\n      <td>4000787030016</td>\n      <td>1</td>\n      <td>108</td>\n      <td>165729075</td>\n      <td>NaN</td>\n      <td>NaN</td>\n      <td>92</td>\n      <td>...</td>\n      <td>NaN</td>\n      <td>NaN</td>\n      <td>NaN</td>\n      <td>NaN</td>\n      <td>NaN</td>\n      <td>NaN</td>\n      <td>NaN</td>\n      <td>NaN</td>\n      <td>NaN</td>\n      <td>NaN</td>\n    </tr>\n  </tbody>\n</table>\n<p>4 rows × 105 columns</p>\n</div>"
     },
     "metadata": {},
     "execution_count": 31
    }
   ],
   "source": [
    "l[0][l[0].failure == 1]"
   ]
  },
  {
   "cell_type": "code",
   "execution_count": 33,
   "metadata": {},
   "outputs": [
    {
     "output_type": "execute_result",
     "data": {
      "text/plain": "Empty DataFrame\nColumns: [Unnamed: 0, date, serial_number, model, capacity_bytes, failure, smart_1_normalized, smart_1_raw, smart_2_normalized, smart_2_raw, smart_3_normalized, smart_3_raw, smart_4_normalized, smart_4_raw, smart_5_normalized, smart_5_raw, smart_7_normalized, smart_7_raw, smart_8_normalized, smart_8_raw, smart_9_normalized, smart_9_raw, smart_10_normalized, smart_10_raw, smart_11_normalized, smart_11_raw, smart_12_normalized, smart_12_raw, smart_13_normalized, smart_13_raw, smart_15_normalized, smart_15_raw, smart_22_normalized, smart_22_raw, smart_177_normalized, smart_177_raw, smart_179_normalized, smart_179_raw, smart_181_normalized, smart_181_raw, smart_182_normalized, smart_182_raw, smart_183_normalized, smart_183_raw, smart_184_normalized, smart_184_raw, smart_187_normalized, smart_187_raw, smart_188_normalized, smart_188_raw, smart_189_normalized, smart_189_raw, smart_190_normalized, smart_190_raw, smart_191_normalized, smart_191_raw, smart_192_normalized, smart_192_raw, smart_193_normalized, smart_193_raw, smart_194_normalized, smart_194_raw, smart_195_normalized, smart_195_raw, smart_196_normalized, smart_196_raw, smart_197_normalized, smart_197_raw, smart_198_normalized, smart_198_raw, smart_199_normalized, smart_199_raw, smart_200_normalized, smart_200_raw, smart_201_normalized, smart_201_raw, smart_220_normalized, smart_220_raw, smart_222_normalized, smart_222_raw, smart_223_normalized, smart_223_raw, smart_224_normalized, smart_224_raw, smart_225_normalized, smart_225_raw, smart_226_normalized, smart_226_raw, smart_235_normalized, smart_235_raw, smart_240_normalized, smart_240_raw, smart_241_normalized, smart_241_raw, smart_242_normalized, smart_242_raw, smart_250_normalized, smart_250_raw, smart_251_normalized, smart_251_raw, ...]\nIndex: []\n\n[0 rows x 106 columns]",
      "text/html": "<div>\n<style scoped>\n    .dataframe tbody tr th:only-of-type {\n        vertical-align: middle;\n    }\n\n    .dataframe tbody tr th {\n        vertical-align: top;\n    }\n\n    .dataframe thead th {\n        text-align: right;\n    }\n</style>\n<table border=\"1\" class=\"dataframe\">\n  <thead>\n    <tr style=\"text-align: right;\">\n      <th></th>\n      <th>Unnamed: 0</th>\n      <th>date</th>\n      <th>serial_number</th>\n      <th>model</th>\n      <th>capacity_bytes</th>\n      <th>failure</th>\n      <th>smart_1_normalized</th>\n      <th>smart_1_raw</th>\n      <th>smart_2_normalized</th>\n      <th>smart_2_raw</th>\n      <th>...</th>\n      <th>smart_250_normalized</th>\n      <th>smart_250_raw</th>\n      <th>smart_251_normalized</th>\n      <th>smart_251_raw</th>\n      <th>smart_252_normalized</th>\n      <th>smart_252_raw</th>\n      <th>smart_254_normalized</th>\n      <th>smart_254_raw</th>\n      <th>smart_255_normalized</th>\n      <th>smart_255_raw</th>\n    </tr>\n  </thead>\n  <tbody>\n  </tbody>\n</table>\n<p>0 rows × 106 columns</p>\n</div>"
     },
     "metadata": {},
     "execution_count": 33
    }
   ],
   "source": [
    "p[p.serial_number == 'ZA11X9N2']"
   ]
  },
  {
   "cell_type": "code",
   "execution_count": 35,
   "metadata": {},
   "outputs": [],
   "source": [
    "a = l[0][l[0].failure == 1]"
   ]
  },
  {
   "cell_type": "code",
   "execution_count": 36,
   "metadata": {},
   "outputs": [
    {
     "output_type": "execute_result",
     "data": {
      "text/plain": "             date serial_number        model  capacity_bytes  failure  \\\n7532   2018-01-06      W3004X68  ST4000DM000   4000787030016        1   \n10206  2018-01-06      ZA11X9N2  ST8000DM002   8001563222016        1   \n10357  2018-01-06      Z300ZV9B  ST4000DM000   4000787030016        1   \n78363  2018-01-06      Z3025WBW  ST4000DM000   4000787030016        1   \n\n       smart_1_normalized  smart_1_raw  smart_2_normalized  smart_2_raw  \\\n7532                  109     23657640                 NaN          NaN   \n10206                  53     20740760                 NaN          NaN   \n10357                 118    201270208                 NaN          NaN   \n78363                 108    165729075                 NaN          NaN   \n\n       smart_3_normalized  ...  smart_250_normalized  smart_250_raw  \\\n7532                   91  ...                   NaN            NaN   \n10206                  94  ...                   NaN            NaN   \n10357                  91  ...                   NaN            NaN   \n78363                  92  ...                   NaN            NaN   \n\n       smart_251_normalized  smart_251_raw  smart_252_normalized  \\\n7532                    NaN            NaN                   NaN   \n10206                   NaN            NaN                   NaN   \n10357                   NaN            NaN                   NaN   \n78363                   NaN            NaN                   NaN   \n\n       smart_252_raw  smart_254_normalized  smart_254_raw  \\\n7532             NaN                   NaN            NaN   \n10206            NaN                   NaN            NaN   \n10357            NaN                   NaN            NaN   \n78363            NaN                   NaN            NaN   \n\n       smart_255_normalized  smart_255_raw  \n7532                    NaN            NaN  \n10206                   NaN            NaN  \n10357                   NaN            NaN  \n78363                   NaN            NaN  \n\n[4 rows x 105 columns]",
      "text/html": "<div>\n<style scoped>\n    .dataframe tbody tr th:only-of-type {\n        vertical-align: middle;\n    }\n\n    .dataframe tbody tr th {\n        vertical-align: top;\n    }\n\n    .dataframe thead th {\n        text-align: right;\n    }\n</style>\n<table border=\"1\" class=\"dataframe\">\n  <thead>\n    <tr style=\"text-align: right;\">\n      <th></th>\n      <th>date</th>\n      <th>serial_number</th>\n      <th>model</th>\n      <th>capacity_bytes</th>\n      <th>failure</th>\n      <th>smart_1_normalized</th>\n      <th>smart_1_raw</th>\n      <th>smart_2_normalized</th>\n      <th>smart_2_raw</th>\n      <th>smart_3_normalized</th>\n      <th>...</th>\n      <th>smart_250_normalized</th>\n      <th>smart_250_raw</th>\n      <th>smart_251_normalized</th>\n      <th>smart_251_raw</th>\n      <th>smart_252_normalized</th>\n      <th>smart_252_raw</th>\n      <th>smart_254_normalized</th>\n      <th>smart_254_raw</th>\n      <th>smart_255_normalized</th>\n      <th>smart_255_raw</th>\n    </tr>\n  </thead>\n  <tbody>\n    <tr>\n      <th>7532</th>\n      <td>2018-01-06</td>\n      <td>W3004X68</td>\n      <td>ST4000DM000</td>\n      <td>4000787030016</td>\n      <td>1</td>\n      <td>109</td>\n      <td>23657640</td>\n      <td>NaN</td>\n      <td>NaN</td>\n      <td>91</td>\n      <td>...</td>\n      <td>NaN</td>\n      <td>NaN</td>\n      <td>NaN</td>\n      <td>NaN</td>\n      <td>NaN</td>\n      <td>NaN</td>\n      <td>NaN</td>\n      <td>NaN</td>\n      <td>NaN</td>\n      <td>NaN</td>\n    </tr>\n    <tr>\n      <th>10206</th>\n      <td>2018-01-06</td>\n      <td>ZA11X9N2</td>\n      <td>ST8000DM002</td>\n      <td>8001563222016</td>\n      <td>1</td>\n      <td>53</td>\n      <td>20740760</td>\n      <td>NaN</td>\n      <td>NaN</td>\n      <td>94</td>\n      <td>...</td>\n      <td>NaN</td>\n      <td>NaN</td>\n      <td>NaN</td>\n      <td>NaN</td>\n      <td>NaN</td>\n      <td>NaN</td>\n      <td>NaN</td>\n      <td>NaN</td>\n      <td>NaN</td>\n      <td>NaN</td>\n    </tr>\n    <tr>\n      <th>10357</th>\n      <td>2018-01-06</td>\n      <td>Z300ZV9B</td>\n      <td>ST4000DM000</td>\n      <td>4000787030016</td>\n      <td>1</td>\n      <td>118</td>\n      <td>201270208</td>\n      <td>NaN</td>\n      <td>NaN</td>\n      <td>91</td>\n      <td>...</td>\n      <td>NaN</td>\n      <td>NaN</td>\n      <td>NaN</td>\n      <td>NaN</td>\n      <td>NaN</td>\n      <td>NaN</td>\n      <td>NaN</td>\n      <td>NaN</td>\n      <td>NaN</td>\n      <td>NaN</td>\n    </tr>\n    <tr>\n      <th>78363</th>\n      <td>2018-01-06</td>\n      <td>Z3025WBW</td>\n      <td>ST4000DM000</td>\n      <td>4000787030016</td>\n      <td>1</td>\n      <td>108</td>\n      <td>165729075</td>\n      <td>NaN</td>\n      <td>NaN</td>\n      <td>92</td>\n      <td>...</td>\n      <td>NaN</td>\n      <td>NaN</td>\n      <td>NaN</td>\n      <td>NaN</td>\n      <td>NaN</td>\n      <td>NaN</td>\n      <td>NaN</td>\n      <td>NaN</td>\n      <td>NaN</td>\n      <td>NaN</td>\n    </tr>\n  </tbody>\n</table>\n<p>4 rows × 105 columns</p>\n</div>"
     },
     "metadata": {},
     "execution_count": 36
    }
   ],
   "source": [
    "a"
   ]
  },
  {
   "cell_type": "code",
   "execution_count": 42,
   "metadata": {
    "tags": []
   },
   "outputs": [
    {
     "output_type": "stream",
     "name": "stdout",
     "text": "Z300ZV9B\n"
    }
   ],
   "source": [
    "for j in a.serial_number.values:\n",
    "    if j == 'Z300ZV9B':\n",
    "        print(j)"
   ]
  },
  {
   "cell_type": "code",
   "execution_count": 43,
   "metadata": {
    "tags": []
   },
   "outputs": [
    {
     "output_type": "stream",
     "name": "stdout",
     "text": "date serial_number        model  capacity_bytes  failure  \\\n7532  2018-01-06      W3004X68  ST4000DM000   4000787030016        1   \n\n      smart_1_normalized  smart_1_raw  smart_2_normalized  smart_2_raw  \\\n7532                 109     23657640                 NaN          NaN   \n\n      smart_3_normalized  ...  smart_250_normalized  smart_250_raw  \\\n7532                  91  ...                   NaN            NaN   \n\n      smart_251_normalized  smart_251_raw  smart_252_normalized  \\\n7532                   NaN            NaN                   NaN   \n\n      smart_252_raw  smart_254_normalized  smart_254_raw  \\\n7532            NaN                   NaN            NaN   \n\n      smart_255_normalized  smart_255_raw  \n7532                   NaN            NaN  \n\n[1 rows x 105 columns]\n             date serial_number        model  capacity_bytes  failure  \\\n10206  2018-01-06      ZA11X9N2  ST8000DM002   8001563222016        1   \n\n       smart_1_normalized  smart_1_raw  smart_2_normalized  smart_2_raw  \\\n10206                  53     20740760                 NaN          NaN   \n\n       smart_3_normalized  ...  smart_250_normalized  smart_250_raw  \\\n10206                  94  ...                   NaN            NaN   \n\n       smart_251_normalized  smart_251_raw  smart_252_normalized  \\\n10206                   NaN            NaN                   NaN   \n\n       smart_252_raw  smart_254_normalized  smart_254_raw  \\\n10206            NaN                   NaN            NaN   \n\n       smart_255_normalized  smart_255_raw  \n10206                   NaN            NaN  \n\n[1 rows x 105 columns]\n             date serial_number        model  capacity_bytes  failure  \\\n10357  2018-01-06      Z300ZV9B  ST4000DM000   4000787030016        1   \n\n       smart_1_normalized  smart_1_raw  smart_2_normalized  smart_2_raw  \\\n10357                 118    201270208                 NaN          NaN   \n\n       smart_3_normalized  ...  smart_250_normalized  smart_250_raw  \\\n10357                  91  ...                   NaN            NaN   \n\n       smart_251_normalized  smart_251_raw  smart_252_normalized  \\\n10357                   NaN            NaN                   NaN   \n\n       smart_252_raw  smart_254_normalized  smart_254_raw  \\\n10357            NaN                   NaN            NaN   \n\n       smart_255_normalized  smart_255_raw  \n10357                   NaN            NaN  \n\n[1 rows x 105 columns]\n             date serial_number        model  capacity_bytes  failure  \\\n78363  2018-01-06      Z3025WBW  ST4000DM000   4000787030016        1   \n\n       smart_1_normalized  smart_1_raw  smart_2_normalized  smart_2_raw  \\\n78363                 108    165729075                 NaN          NaN   \n\n       smart_3_normalized  ...  smart_250_normalized  smart_250_raw  \\\n78363                  92  ...                   NaN            NaN   \n\n       smart_251_normalized  smart_251_raw  smart_252_normalized  \\\n78363                   NaN            NaN                   NaN   \n\n       smart_252_raw  smart_254_normalized  smart_254_raw  \\\n78363            NaN                   NaN            NaN   \n\n       smart_255_normalized  smart_255_raw  \n78363                   NaN            NaN  \n\n[1 rows x 105 columns]\n"
    }
   ],
   "source": [
    "for j in a.serial_number.values:\n",
    "    print(l[0][l[0].serial_number == j])"
   ]
  },
  {
   "cell_type": "code",
   "execution_count": null,
   "metadata": {},
   "outputs": [],
   "source": [
    "import pandas as "
   ]
  },
  {
   "cell_type": "code",
   "execution_count": null,
   "metadata": {},
   "outputs": [],
   "source": []
  }
 ]
}