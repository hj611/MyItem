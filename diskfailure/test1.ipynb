{
 "metadata": {
  "language_info": {
   "codemirror_mode": {
    "name": "ipython",
    "version": 3
   },
   "file_extension": ".py",
   "mimetype": "text/x-python",
   "name": "python",
   "nbconvert_exporter": "python",
   "pygments_lexer": "ipython3",
   "version": "3.7.5-final"
  },
  "orig_nbformat": 2,
  "kernelspec": {
   "name": "python3",
   "display_name": "Python 3"
  }
 },
 "nbformat": 4,
 "nbformat_minor": 2,
 "cells": [
  {
   "cell_type": "code",
   "execution_count": 1,
   "metadata": {},
   "outputs": [],
   "source": [
    "import collections\n",
    "import math\n",
    "import os\n",
    "import random\n",
    "import sys\n",
    "import tarfile\n",
    "import time\n",
    "import json\n",
    "from collections import namedtuple\n",
    "import torch\n",
    "from torch import nn\n",
    "import torch.nn.functional as F\n",
    "import torchvision\n",
    "import torchvision.transforms as transforms\n",
    "import torchtext\n",
    "import torchtext.vocab as Vocab\n",
    "import numpy as np\n",
    "import pandas as pd\n",
    "from torch.utils.data import DataLoader, Dataset\n",
    "device = torch.device('cuda' if torch.cuda.is_available() else 'cpu')"
   ]
  },
  {
   "cell_type": "code",
   "execution_count": 2,
   "metadata": {},
   "outputs": [],
   "source": [
    "train_data = pd.read_csv('F:/data/train_2018Q1_model_2.csv')"
   ]
  },
  {
   "cell_type": "code",
   "execution_count": 3,
   "metadata": {},
   "outputs": [],
   "source": [
    "class MyData(Dataset):\n",
    "    def __init__(self, train_data):\n",
    "        self.value = train_data.iloc[:, 6:-1].values\n",
    "        max = np.max(self.value)\n",
    "        min = np.min(self.value) \n",
    "        scalar = max - min \n",
    "        self.datas = list(map(lambda x: x / scalar, self.value))\n",
    "        self.label = train_data.loc[:, 'label'].values.tolist()\n",
    "    def __len__(self):\n",
    "        return len(self.datas)\n",
    "    def __getitem__(self, idx):\n",
    "        data = self.datas[idx].reshape(1, -1)\n",
    "        return data, self.label[idx]\n",
    "\n",
    "\n",
    "train_iter = DataLoader(MyData(train_data), batch_size = 10)"
   ]
  },
  {
   "cell_type": "code",
   "execution_count": 4,
   "metadata": {
    "tags": []
   },
   "outputs": [
    {
     "output_type": "stream",
     "name": "stdout",
     "text": "torch.Size([10, 1, 13])\ntensor([[[1.0101, 1.0101, 1.0101, 0.7980, 1.0101, 0.2121, 1.0101, 1.0101,\n          1.0101, 1.0101, 0.8586, 1.0101, 0.6970]],\n\n        [[1.0101, 1.0101, 1.0101, 0.7980, 1.0101, 0.2121, 1.0101, 1.0101,\n          1.0101, 1.0101, 0.8586, 1.0101, 0.6970]],\n\n        [[1.0101, 1.0101, 1.0101, 0.8081, 1.0101, 0.2020, 1.0101, 1.0101,\n          1.0101, 1.0101, 0.8586, 1.0101, 0.6970]],\n\n        [[1.0101, 1.0101, 1.0101, 0.7980, 1.0101, 0.2121, 1.0101, 1.0101,\n          1.0101, 1.0101, 0.8586, 1.0101, 0.6970]],\n\n        [[1.0101, 1.0101, 1.0101, 0.7980, 1.0101, 0.2121, 1.0101, 1.0101,\n          1.0101, 1.0101, 0.8586, 1.0101, 0.6970]],\n\n        [[1.0101, 1.0101, 1.0101, 0.7980, 1.0101, 0.2121, 1.0101, 1.0101,\n          1.0101, 1.0101, 0.8586, 1.0101, 0.6970]],\n\n        [[1.0101, 1.0101, 1.0101, 0.8081, 1.0101, 0.2020, 1.0101, 1.0101,\n          1.0101, 1.0101, 0.8586, 1.0101, 0.6970]],\n\n        [[1.0101, 1.0101, 1.0101, 0.8081, 1.0101, 0.2020, 1.0101, 1.0101,\n          1.0101, 1.0101, 0.8586, 1.0101, 0.6970]],\n\n        [[1.0101, 1.0101, 1.0101, 0.7980, 1.0101, 0.2121, 1.0101, 1.0101,\n          1.0101, 1.0101, 0.8586, 1.0101, 0.6970]],\n\n        [[1.0101, 1.0101, 1.0101, 0.7980, 1.0101, 0.2121, 1.0101, 1.0101,\n          1.0101, 1.0101, 0.8586, 1.0101, 0.6970]]], dtype=torch.float64)\n"
    }
   ],
   "source": [
    "for X, y in train_iter:\n",
    "    print(X.shape)\n",
    "    print(X)\n",
    "    break"
   ]
  },
  {
   "cell_type": "code",
   "execution_count": 5,
   "metadata": {},
   "outputs": [],
   "source": [
    "import collections\n",
    "import math\n",
    "import os\n",
    "import random\n",
    "import sys\n",
    "import tarfile\n",
    "import time\n",
    "import json\n",
    "from collections import namedtuple\n",
    "import torch\n",
    "from torch import nn\n",
    "import torch.nn.functional as F\n",
    "import torchvision\n",
    "import torchvision.transforms as transforms\n",
    "import torchtext\n",
    "import torchtext.vocab as Vocab\n",
    "import numpy as np\n",
    "import pandas as pd\n",
    "from torch.utils.data import DataLoader, Dataset, WeightedRandomSampler\n",
    "from torch.optim import lr_scheduler\n",
    "device = torch.device('cuda' if torch.cuda.is_available() else 'cpu')\n",
    "\n",
    "\n",
    "\n",
    "def mySample(data):\n",
    "    num = 0\n",
    "    total = len(train_set)\n",
    "    sample_list = []\n",
    "\n",
    "    for X, y in train_set:\n",
    "        num = num + y\n",
    "    \n",
    "\n",
    "    class_sample_count = np.array([total - num, num])\n",
    "    weight = 1. / class_sample_count\n",
    "\n",
    "    for X, y in train_set:\n",
    "        sample_list.append(weight[int(y)])\n",
    "\n",
    "    sample_weight = torch.FloatTensor(sample_list)\n",
    "    sampler = WeightedRandomSampler(sample_weight, total)\n",
    "    return sampler\n",
    "\n",
    "class MyData(Dataset):\n",
    "    def __init__(self, traindata, numstep, length):\n",
    "        self.serial_number = traindata['serial_number'].value_counts()\n",
    "        self.value = traindata.iloc[:, length:-1].values\n",
    "        max = np.max(self.value)\n",
    "        min = np.min(self.value)\n",
    "        scalar = max - min \n",
    "        self.datas = list(map(lambda x: x / scalar, self.value))\n",
    "        self.datalabel = train_data.loc[:, 'label'].values.tolist()\n",
    "        self.input = []\n",
    "        self.label = []\n",
    "\n",
    "        for diskname in self.serial_number.index.sort_values():\n",
    "            traindata_name = traindata[traindata.serial_number == diskname]\n",
    "            self.datalabel = traindata_name.loc[:, 'label'].values.tolist()\n",
    "            for i in range(len(traindata_name) - numstep):\n",
    "                self.input.append(torch.Tensor(self.datas[i: i + numstep]))\n",
    "                if(torch.Tensor(self.datalabel[i: i + numstep]).sum() != 0):\n",
    "                    self.label.append(torch.ones(1))\n",
    "                else:\n",
    "                    self.label.append(torch.zeros(1))\n",
    "    def __len__(self):\n",
    "        return len(self.input)\n",
    "    def __getitem__(self, idx):\n",
    "        #data = self.datas[idx].reshape(1, -1)\n",
    "        return self.input[idx], self.label[idx]\n",
    "\n",
    "train_data = pd.read_csv('F:/data/train_2018Q1_model_2.csv')\n",
    "train_set = MyData(train_data, 7, 6)\n",
    "sampler = mySample(train_set)\n",
    "train_iter = DataLoader(MyData(train_data, 7, 6), batch_size = 10, drop_last=True)\n"
   ]
  },
  {
   "cell_type": "code",
   "execution_count": 6,
   "metadata": {},
   "outputs": [],
   "source": [
    "class myLSTM(nn.Module):\n",
    "\n",
    "    def __init__(self):\n",
    "        super(myLSTM, self).__init__()\n",
    "\n",
    "        self.lstmlayer = nn.LSTM(input_size=13, hidden_size=128, num_layers=1, batch_first=True)\n",
    "        \n",
    "    def forward(self, X):\n",
    "        X, (H, C) = self.lstmlayer(X)\n",
    "        return X"
   ]
  },
  {
   "cell_type": "code",
   "execution_count": 7,
   "metadata": {
    "tags": []
   },
   "outputs": [
    {
     "output_type": "stream",
     "name": "stdout",
     "text": "torch.Size([10, 7, 13])\ntorch.Size([10, 1])\ntorch.Size([10])\n"
    }
   ],
   "source": [
    "for X, y in train_iter:\n",
    "    print(X.shape)\n",
    "    print(y.shape)\n",
    "    print(y.reshape(-1).shape)\n",
    "    break"
   ]
  },
  {
   "cell_type": "code",
   "execution_count": 5,
   "metadata": {},
   "outputs": [
    {
     "output_type": "execute_result",
     "data": {
      "text/plain": "torch.Size([10, 2])"
     },
     "metadata": {},
     "execution_count": 5
    }
   ],
   "source": [
    "net = myLSTM()\n",
    "y_hat = net(X.float())\n",
    "y_hat.shape"
   ]
  },
  {
   "cell_type": "code",
   "execution_count": 18,
   "metadata": {},
   "outputs": [],
   "source": [
    "input = torch.randn(3, 5, requires_grad=True)\n",
    "target = torch.randint(5, (3,), dtype=torch.int64)"
   ]
  },
  {
   "cell_type": "code",
   "execution_count": 19,
   "metadata": {},
   "outputs": [
    {
     "output_type": "execute_result",
     "data": {
      "text/plain": "torch.Size([3])"
     },
     "metadata": {},
     "execution_count": 19
    }
   ],
   "source": [
    "target.shape"
   ]
  },
  {
   "cell_type": "code",
   "execution_count": 20,
   "metadata": {},
   "outputs": [
    {
     "output_type": "execute_result",
     "data": {
      "text/plain": "torch.Size([3, 5])"
     },
     "metadata": {},
     "execution_count": 20
    }
   ],
   "source": [
    "input.shape"
   ]
  },
  {
   "cell_type": "code",
   "execution_count": 9,
   "metadata": {},
   "outputs": [],
   "source": [
    "net = myLSTM()"
   ]
  },
  {
   "cell_type": "code",
   "execution_count": 11,
   "metadata": {},
   "outputs": [
    {
     "output_type": "execute_result",
     "data": {
      "text/plain": "torch.Size([10, 7, 128])"
     },
     "metadata": {},
     "execution_count": 11
    }
   ],
   "source": [
    "net(X).shape"
   ]
  },
  {
   "cell_type": "code",
   "execution_count": null,
   "metadata": {},
   "outputs": [],
   "source": []
  }
 ]
}