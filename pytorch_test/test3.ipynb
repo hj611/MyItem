{
 "metadata": {
  "language_info": {
   "codemirror_mode": {
    "name": "ipython",
    "version": 3
   },
   "file_extension": ".py",
   "mimetype": "text/x-python",
   "name": "python",
   "nbconvert_exporter": "python",
   "pygments_lexer": "ipython3",
   "version": "3.8.3-final"
  },
  "orig_nbformat": 2,
  "kernelspec": {
   "name": "python3",
   "display_name": "Python 3"
  }
 },
 "nbformat": 4,
 "nbformat_minor": 2,
 "cells": [
  {
   "cell_type": "code",
   "execution_count": 1,
   "metadata": {
    "tags": []
   },
   "outputs": [
    {
     "output_type": "stream",
     "name": "stderr",
     "text": "Using TensorFlow backend.\n"
    }
   ],
   "source": [
    "from keras.layers import Dense, LSTM\n",
    "# from keras.layers import Input, Dropout, Activation\n",
    "# from keras.layers import Convolution2D, MaxPooling2D, Reshape\n",
    "from keras.layers import Convolution1D, MaxPooling1D, Flatten, Lambda, GRU\n",
    "from keras.models import Sequential\n",
    "from keras.layers.wrappers import TimeDistributed #输入至少为3D张量\n",
    "# from matplotlib import pyplot as plt\n",
    "# import random\n",
    "import argparse\n",
    "import pandas as pd\n",
    "import time\n",
    "from keras.preprocessing.sequence import TimeseriesGenerator\n",
    "import numpy as np\n",
    "from sklearn.model_selection import KFold\n",
    "import keras.backend as K\n",
    "from evaluation import calMetrix \n",
    "from keras.regularizers import l2"
   ]
  },
  {
   "cell_type": "code",
   "execution_count": 2,
   "metadata": {},
   "outputs": [],
   "source": [
    "data = pd.read_csv('E:/LSTM_5_1/train_2018Q1_model_2.csv')"
   ]
  },
  {
   "cell_type": "code",
   "execution_count": 3,
   "metadata": {},
   "outputs": [],
   "source": [
    "def DataLoader(data, numstep, length):\n",
    "\n",
    "    serial_number = data['serial_number'].value_counts()\n",
    "\n",
    "    input = []\n",
    "    label = []\n",
    "\n",
    "    for diskname in serial_number.index.sort_values():\n",
    "        \n",
    "        data_diskname = data[data.serial_number == diskname]\n",
    "\n",
    "\n",
    "        value = data_diskname.iloc[:, length:-1].values\n",
    "        max = np.max(value)\n",
    "        min = np.min(value)\n",
    "        scalar = max - min \n",
    "        data_norm = list(map(lambda x: x / scalar, value))\n",
    "\n",
    "        data_label = data_diskname.loc[:, 'label'].values.tolist()\n",
    "\n",
    "        for i in range(len(data_norm) - numstep - 1):\n",
    "            input.append(np.array(data_norm[i: i + numstep]))\n",
    "            if(data_label[i + numstep] == 1):\n",
    "                label.append(1)\n",
    "            elif(data_label[i + numstep] == 0):\n",
    "                label.append(0)\n",
    "\n",
    "    return np.array(input, dtype='float32'), np.array(label, dtype='int32')"
   ]
  },
  {
   "cell_type": "code",
   "execution_count": 4,
   "metadata": {},
   "outputs": [],
   "source": [
    "x, y = DataLoader(data, 7, 6)"
   ]
  },
  {
   "cell_type": "code",
   "execution_count": 5,
   "metadata": {},
   "outputs": [],
   "source": [
    "def read_data(X, y):\n",
    "    seed = 15\n",
    "    np.random.seed(seed)\n",
    "    n_splits = 5\n",
    "    kfold = KFold(n_splits=n_splits, shuffle=True, random_state=seed)\n",
    "\n",
    "    print('KFold = %d :'%n_splits)\n",
    "    for train_index, test_index in kfold.split(X, y):\n",
    "        train_X, test_X = X[train_index], X[test_index]\n",
    "        train_y, test_y = y[train_index], y[test_index]\n",
    "        yield train_X, train_y, test_X, test_y"
   ]
  },
  {
   "cell_type": "code",
   "execution_count": 41,
   "metadata": {},
   "outputs": [],
   "source": [
    "nb_epoch = 10\n",
    "# number_of_batch = 100\n",
    "batch_size = 10\n",
    "# frame_row = 28\n",
    "# frame_col = 2\n",
    "# channels = 1\n",
    "output_dim = 1\n",
    "\n",
    "def classifyRes(arr):\n",
    "    arr = arr.reshape(arr.size,)\n",
    "    for i in range(arr.size):\n",
    "        arr[i] = 1 if arr[i] > 0.5 else 0\n",
    "    return arr\n",
    "\n",
    "def model_fit(train_X, train_y, test_X, test_y):\n",
    "    # define model\n",
    "    model = Sequential()\n",
    "    model.add(Lambda(lambda x: K.expand_dims(x, -1)))\n",
    "    model.add(TimeDistributed(Convolution1D(1, 5, input_dim = (7, 13), border_mode = \"same\", W_regularizer = l2(0.01)), input_shape=train_X.shape[1:]))\n",
    "    model.add(TimeDistributed(MaxPooling1D(10, border_mode = \"same\")))\n",
    "    model.add(TimeDistributed(Convolution1D(1, 5, border_mode = \"same\", W_regularizer = l2(0.01))))\n",
    "    model.add(TimeDistributed(MaxPooling1D(10, border_mode = \"same\")))\n",
    "    model.add(Lambda(lambda x: K.squeeze(x, -1)))\n",
    "    model.add(GRU(300, return_sequences = True, W_regularizer = l2(0.01), U_regularizer = l2(0.01)))\n",
    "    model.add(TimeDistributed(Dense(1, activation='sigmoid')))\n",
    " \n",
    "    model.compile(loss='mean_squared_error',\n",
    "                  optimizer='adam',\n",
    "                  metrics=['accuracy'])\n",
    "    model.build(train_X.shape)\n",
    "    model.summary()\n",
    "    model.fit(train_X, train_y,batch_size=batch_size, nb_epoch=nb_epoch, verbose=0, validation_data=(test_X, test_y))\n",
    "\n",
    "    test_y = test_y.reshape(test_y.size, 1)\n",
    "    predict_y = model.predict(test_X)\n",
    "    predict_y = predict_y.reshape(predict_y.size, 1)\n",
    "    predict_y = classifyRes(predict_y)\n",
    "    #calMetrix(__file__, predict_y, test_y)\n",
    "    t0 = time.strftime('%Y%m%d%H%M%S', time.localtime(time.time()))"
   ]
  },
  {
   "cell_type": "code",
   "execution_count": 42,
   "metadata": {
    "tags": []
   },
   "outputs": [
    {
     "output_type": "stream",
     "name": "stdout",
     "text": "KFold = 5 :\nModel: \"sequential_22\"\n_________________________________________________________________\nLayer (type)                 Output Shape              Param #   \n=================================================================\nlambda_32 (Lambda)           (17060, 7, 13, 1)         0         \n_________________________________________________________________\ntime_distributed_80 (TimeDis (17060, 7, 13, 1)         6         \n_________________________________________________________________\ntime_distributed_81 (TimeDis (17060, 7, 2, 1)          0         \n_________________________________________________________________\ntime_distributed_82 (TimeDis (17060, 7, 2, 1)          6         \n_________________________________________________________________\ntime_distributed_83 (TimeDis (17060, 7, 1, 1)          0         \n_________________________________________________________________\nlambda_33 (Lambda)           (17060, 7, 1)             0         \n_________________________________________________________________\ngru_13 (GRU)                 (17060, 7, 300)           271800    \n_________________________________________________________________\ntime_distributed_84 (TimeDis (17060, 7, 1)             301       \n=================================================================\nTotal params: 272,113\nTrainable params: 272,113\nNon-trainable params: 0\n_________________________________________________________________\n"
    },
    {
     "output_type": "error",
     "ename": "ValueError",
     "evalue": "Error when checking target: expected time_distributed_84 to have 3 dimensions, but got array with shape (17060, 1)",
     "traceback": [
      "\u001b[1;31m---------------------------------------------------------------------------\u001b[0m",
      "\u001b[1;31mValueError\u001b[0m                                Traceback (most recent call last)",
      "\u001b[1;32m<ipython-input-42-4c399f3a5d8a>\u001b[0m in \u001b[0;36m<module>\u001b[1;34m\u001b[0m\n\u001b[0;32m      1\u001b[0m \u001b[1;32mfor\u001b[0m \u001b[0mtrain_X\u001b[0m\u001b[1;33m,\u001b[0m \u001b[0mtrain_y\u001b[0m\u001b[1;33m,\u001b[0m \u001b[0mtest_X\u001b[0m\u001b[1;33m,\u001b[0m \u001b[0mtest_y\u001b[0m \u001b[1;32min\u001b[0m \u001b[0mread_data\u001b[0m\u001b[1;33m(\u001b[0m\u001b[0mx\u001b[0m\u001b[1;33m,\u001b[0m \u001b[0my\u001b[0m\u001b[1;33m)\u001b[0m\u001b[1;33m:\u001b[0m\u001b[1;33m\u001b[0m\u001b[1;33m\u001b[0m\u001b[0m\n\u001b[1;32m----> 2\u001b[1;33m     \u001b[0mmodel_fit\u001b[0m\u001b[1;33m(\u001b[0m\u001b[0mtrain_X\u001b[0m\u001b[1;33m,\u001b[0m \u001b[0mtrain_y\u001b[0m\u001b[1;33m,\u001b[0m \u001b[0mtest_X\u001b[0m\u001b[1;33m,\u001b[0m \u001b[0mtest_y\u001b[0m\u001b[1;33m)\u001b[0m\u001b[1;33m\u001b[0m\u001b[1;33m\u001b[0m\u001b[0m\n\u001b[0m",
      "\u001b[1;32m<ipython-input-41-1d403aac2cc4>\u001b[0m in \u001b[0;36mmodel_fit\u001b[1;34m(train_X, train_y, test_X, test_y)\u001b[0m\n\u001b[0;32m     30\u001b[0m     \u001b[0mmodel\u001b[0m\u001b[1;33m.\u001b[0m\u001b[0mbuild\u001b[0m\u001b[1;33m(\u001b[0m\u001b[0mtrain_X\u001b[0m\u001b[1;33m.\u001b[0m\u001b[0mshape\u001b[0m\u001b[1;33m)\u001b[0m\u001b[1;33m\u001b[0m\u001b[1;33m\u001b[0m\u001b[0m\n\u001b[0;32m     31\u001b[0m     \u001b[0mmodel\u001b[0m\u001b[1;33m.\u001b[0m\u001b[0msummary\u001b[0m\u001b[1;33m(\u001b[0m\u001b[1;33m)\u001b[0m\u001b[1;33m\u001b[0m\u001b[1;33m\u001b[0m\u001b[0m\n\u001b[1;32m---> 32\u001b[1;33m     \u001b[0mmodel\u001b[0m\u001b[1;33m.\u001b[0m\u001b[0mfit\u001b[0m\u001b[1;33m(\u001b[0m\u001b[0mtrain_X\u001b[0m\u001b[1;33m,\u001b[0m \u001b[0mtrain_y\u001b[0m\u001b[1;33m,\u001b[0m\u001b[0mbatch_size\u001b[0m\u001b[1;33m=\u001b[0m\u001b[0mbatch_size\u001b[0m\u001b[1;33m,\u001b[0m \u001b[0mnb_epoch\u001b[0m\u001b[1;33m=\u001b[0m\u001b[0mnb_epoch\u001b[0m\u001b[1;33m,\u001b[0m \u001b[0mverbose\u001b[0m\u001b[1;33m=\u001b[0m\u001b[1;36m0\u001b[0m\u001b[1;33m,\u001b[0m \u001b[0mvalidation_data\u001b[0m\u001b[1;33m=\u001b[0m\u001b[1;33m(\u001b[0m\u001b[0mtest_X\u001b[0m\u001b[1;33m,\u001b[0m \u001b[0mtest_y\u001b[0m\u001b[1;33m)\u001b[0m\u001b[1;33m)\u001b[0m\u001b[1;33m\u001b[0m\u001b[1;33m\u001b[0m\u001b[0m\n\u001b[0m\u001b[0;32m     33\u001b[0m \u001b[1;33m\u001b[0m\u001b[0m\n\u001b[0;32m     34\u001b[0m     \u001b[0mtest_y\u001b[0m \u001b[1;33m=\u001b[0m \u001b[0mtest_y\u001b[0m\u001b[1;33m.\u001b[0m\u001b[0mreshape\u001b[0m\u001b[1;33m(\u001b[0m\u001b[0mtest_y\u001b[0m\u001b[1;33m.\u001b[0m\u001b[0msize\u001b[0m\u001b[1;33m,\u001b[0m \u001b[1;36m1\u001b[0m\u001b[1;33m)\u001b[0m\u001b[1;33m\u001b[0m\u001b[1;33m\u001b[0m\u001b[0m\n",
      "\u001b[1;32mD:\\Anaconda3\\envs\\tensorflow\\lib\\site-packages\\keras\\engine\\training.py\u001b[0m in \u001b[0;36mfit\u001b[1;34m(self, x, y, batch_size, epochs, verbose, callbacks, validation_split, validation_data, shuffle, class_weight, sample_weight, initial_epoch, steps_per_epoch, validation_steps, validation_freq, max_queue_size, workers, use_multiprocessing, **kwargs)\u001b[0m\n\u001b[0;32m   1148\u001b[0m \u001b[1;33m\u001b[0m\u001b[0m\n\u001b[0;32m   1149\u001b[0m         \u001b[1;31m# Case 2: Symbolic tensors or Numpy array-like.\u001b[0m\u001b[1;33m\u001b[0m\u001b[1;33m\u001b[0m\u001b[1;33m\u001b[0m\u001b[0m\n\u001b[1;32m-> 1150\u001b[1;33m         x, y, sample_weights = self._standardize_user_data(\n\u001b[0m\u001b[0;32m   1151\u001b[0m             \u001b[0mx\u001b[0m\u001b[1;33m,\u001b[0m \u001b[0my\u001b[0m\u001b[1;33m,\u001b[0m\u001b[1;33m\u001b[0m\u001b[1;33m\u001b[0m\u001b[0m\n\u001b[0;32m   1152\u001b[0m             \u001b[0msample_weight\u001b[0m\u001b[1;33m=\u001b[0m\u001b[0msample_weight\u001b[0m\u001b[1;33m,\u001b[0m\u001b[1;33m\u001b[0m\u001b[1;33m\u001b[0m\u001b[0m\n",
      "\u001b[1;32mD:\\Anaconda3\\envs\\tensorflow\\lib\\site-packages\\keras\\engine\\training.py\u001b[0m in \u001b[0;36m_standardize_user_data\u001b[1;34m(self, x, y, sample_weight, class_weight, check_array_lengths, batch_size)\u001b[0m\n\u001b[0;32m    614\u001b[0m \u001b[1;33m\u001b[0m\u001b[0m\n\u001b[0;32m    615\u001b[0m             \u001b[1;31m# Standardize the outputs.\u001b[0m\u001b[1;33m\u001b[0m\u001b[1;33m\u001b[0m\u001b[1;33m\u001b[0m\u001b[0m\n\u001b[1;32m--> 616\u001b[1;33m             y = training_utils.standardize_input_data(\n\u001b[0m\u001b[0;32m    617\u001b[0m                 \u001b[0my\u001b[0m\u001b[1;33m,\u001b[0m\u001b[1;33m\u001b[0m\u001b[1;33m\u001b[0m\u001b[0m\n\u001b[0;32m    618\u001b[0m                 \u001b[0mfeed_output_names\u001b[0m\u001b[1;33m,\u001b[0m\u001b[1;33m\u001b[0m\u001b[1;33m\u001b[0m\u001b[0m\n",
      "\u001b[1;32mD:\\Anaconda3\\envs\\tensorflow\\lib\\site-packages\\keras\\engine\\training_utils.py\u001b[0m in \u001b[0;36mstandardize_input_data\u001b[1;34m(data, names, shapes, check_batch_axis, exception_prefix)\u001b[0m\n\u001b[0;32m    129\u001b[0m                 \u001b[0mshape\u001b[0m \u001b[1;33m=\u001b[0m \u001b[0mshapes\u001b[0m\u001b[1;33m[\u001b[0m\u001b[0mi\u001b[0m\u001b[1;33m]\u001b[0m\u001b[1;33m\u001b[0m\u001b[1;33m\u001b[0m\u001b[0m\n\u001b[0;32m    130\u001b[0m                 \u001b[1;32mif\u001b[0m \u001b[0mdata\u001b[0m\u001b[1;33m[\u001b[0m\u001b[0mi\u001b[0m\u001b[1;33m]\u001b[0m\u001b[1;33m.\u001b[0m\u001b[0mndim\u001b[0m \u001b[1;33m!=\u001b[0m \u001b[0mlen\u001b[0m\u001b[1;33m(\u001b[0m\u001b[0mshape\u001b[0m\u001b[1;33m)\u001b[0m\u001b[1;33m:\u001b[0m\u001b[1;33m\u001b[0m\u001b[1;33m\u001b[0m\u001b[0m\n\u001b[1;32m--> 131\u001b[1;33m                     raise ValueError(\n\u001b[0m\u001b[0;32m    132\u001b[0m                         \u001b[1;34m'Error when checking '\u001b[0m \u001b[1;33m+\u001b[0m \u001b[0mexception_prefix\u001b[0m \u001b[1;33m+\u001b[0m\u001b[1;33m\u001b[0m\u001b[1;33m\u001b[0m\u001b[0m\n\u001b[0;32m    133\u001b[0m                         \u001b[1;34m': expected '\u001b[0m \u001b[1;33m+\u001b[0m \u001b[0mnames\u001b[0m\u001b[1;33m[\u001b[0m\u001b[0mi\u001b[0m\u001b[1;33m]\u001b[0m \u001b[1;33m+\u001b[0m \u001b[1;34m' to have '\u001b[0m \u001b[1;33m+\u001b[0m\u001b[1;33m\u001b[0m\u001b[1;33m\u001b[0m\u001b[0m\n",
      "\u001b[1;31mValueError\u001b[0m: Error when checking target: expected time_distributed_84 to have 3 dimensions, but got array with shape (17060, 1)"
     ]
    }
   ],
   "source": [
    "for train_X, train_y, test_X, test_y in read_data(x, y):\n",
    "    model_fit(train_X, train_y, test_X, test_y)"
   ]
  },
  {
   "cell_type": "code",
   "execution_count": 45,
   "metadata": {
    "tags": []
   },
   "outputs": [
    {
     "output_type": "stream",
     "name": "stdout",
     "text": "Model: \"sequential_25\"\n_________________________________________________________________\nLayer (type)                 Output Shape              Param #   \n=================================================================\nlambda_37 (Lambda)           (21325, 7, 13, 1)         0         \n_________________________________________________________________\ntime_distributed_91 (TimeDis (21325, 7, 13, 128)       640       \n_________________________________________________________________\ntime_distributed_92 (TimeDis (21325, 7, 6, 128)        0         \n_________________________________________________________________\ntime_distributed_93 (TimeDis (21325, 7, 768)           0         \n_________________________________________________________________\nlstm_layer0 (LSTM)           (21325, 7, 128)           459264    \n_________________________________________________________________\nlstm_layer1 (LSTM)           (21325, 128)              131584    \n_________________________________________________________________\ndense_30 (Dense)             (21325, 1)                129       \n=================================================================\nTotal params: 591,617\nTrainable params: 591,617\nNon-trainable params: 0\n_________________________________________________________________\n"
    }
   ],
   "source": [
    "model = Sequential()\n",
    "#model.add(TimeDistributed(cnn))\n",
    "model.add(Lambda(lambda x: K.expand_dims(x, -1)))\n",
    "model.add(TimeDistributed(Convolution1D(128, 4, border_mode='same'), input_shape=train_X.shape[1:]))\n",
    "model.add(TimeDistributed(MaxPooling1D(pool_size=2)))\n",
    "model.add(TimeDistributed(Flatten()))\n",
    "#model.add(Lambda(lambda x: K.squeeze(x, -1)))\n",
    "model.add(LSTM(128, return_sequences=True, name=\"lstm_layer0\")) #output = batch * step * output_size\n",
    "model.add(LSTM(128, return_sequences=False, name=\"lstm_layer1\")) #output = batch * output_size(last step of every batch)\n",
    "# model.add(LSTM(100, return_sequences=True, name=\"lstm_layer2\"))\n",
    "model.add(Dense(output_dim, activation='sigmoid'))\n",
    "# model.add(GlobalAveragePooling1D(name=\"global_avg\"))\n",
    " \n",
    "model.compile(loss='binary_crossentropy',\n",
    "                  optimizer='adam',\n",
    "                  metrics=['accuracy'])\n",
    "\n",
    "model.build(x.shape)\n",
    "model.summary()"
   ]
  },
  {
   "cell_type": "code",
   "execution_count": null,
   "metadata": {},
   "outputs": [],
   "source": []
  }
 ]
}